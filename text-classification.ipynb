{
  "nbformat": 4,
  "nbformat_minor": 0,
  "metadata": {
    "colab": {
      "name": "journal_research.ipynb",
      "provenance": [],
      "collapsed_sections": [
        "J9AN-s-ozFIv"
      ],
      "toc_visible": true,
      "authorship_tag": "ABX9TyNC5NDBavWXGV2pkvWo2Tby",
      "include_colab_link": true
    },
    "kernelspec": {
      "name": "python3",
      "display_name": "Python 3"
    },
    "language_info": {
      "name": "python"
    }
  },
  "cells": [
    {
      "cell_type": "markdown",
      "metadata": {
        "id": "view-in-github",
        "colab_type": "text"
      },
      "source": [
        "<a href=\"https://colab.research.google.com/github/shavirazh/text-classification-using-CNN-with-Word2vec-Glove-FastText/blob/main/text-classification.ipynb\" target=\"_parent\"><img src=\"https://colab.research.google.com/assets/colab-badge.svg\" alt=\"Open In Colab\"/></a>"
      ]
    },
    {
      "cell_type": "markdown",
      "source": [
        "# Import Library"
      ],
      "metadata": {
        "id": "AeBS699ko4KP"
      }
    },
    {
      "cell_type": "code",
      "source": [
        "import pandas as pd\n",
        "import numpy as np\n",
        "import matplotlib.pyplot as plt\n",
        "import seaborn as sns\n",
        "import re\n",
        "import nltk\n",
        "from nltk.corpus import stopwords\n",
        "from nltk.stem import WordNetLemmatizer\n",
        "import string\n",
        "import gensim\n",
        "from wordcloud import WordCloud, STOPWORDS\n",
        "from gensim.models import KeyedVectors\n",
        "import gensim.models.keyedvectors as word2vec\n",
        "from sklearn.model_selection import train_test_split\n",
        "from tensorflow.keras.preprocessing.text import Tokenizer\n",
        "from tensorflow.keras.preprocessing.sequence import pad_sequences\n",
        "from tensorflow.keras.utils import to_categorical\n",
        "from tensorflow.keras.models import Sequential\n",
        "from tensorflow.keras.layers import Dense, Embedding, Activation, Dropout\n",
        "from tensorflow.keras.layers import Conv1D, MaxPooling1D, GlobalMaxPooling1D\n",
        "from tensorflow.keras.models import Model\n",
        "from tensorflow.keras.layers import Reshape, Flatten, Concatenate\n",
        "from tensorflow.keras.layers import BatchNormalization\n",
        "from tensorflow.keras.optimizers import RMSprop\n",
        "from tensorflow.keras.callbacks import ModelCheckpoint\n",
        "from tensorflow.keras.optimizers import Adam\n",
        "from tensorflow.keras import regularizers\n",
        "from tensorflow.keras.callbacks import EarlyStopping\n",
        "from keras.wrappers.scikit_learn import KerasClassifier\n",
        "from sklearn.model_selection import GridSearchCV, RandomizedSearchCV\n",
        "from sklearn.metrics import confusion_matrix, classification_report, accuracy_score, roc_auc_score, roc_curve\n",
        "from keras.models import model_from_json\n",
        "import pickle\n",
        "import json\n",
        "import logging\n",
        "\n",
        "logging.basicConfig(format='%(asctime)s : %(levelname) s : %(message)s', level=logging.INFO)\n",
        "\n",
        "print('ALL LIBRARY IMPORTED.')\n",
        "\n",
        "from google.colab import drive\n",
        "drive.mount('/content/drive')"
      ],
      "metadata": {
        "colab": {
          "base_uri": "https://localhost:8080/"
        },
        "id": "8Y_qqSjyo6e9",
        "outputId": "b034fd89-1f50-4533-fcc8-308c267d9c7c"
      },
      "execution_count": null,
      "outputs": [
        {
          "output_type": "stream",
          "name": "stdout",
          "text": [
            "ALL LIBRARY IMPORTED.\n",
            "Drive already mounted at /content/drive; to attempt to forcibly remount, call drive.mount(\"/content/drive\", force_remount=True).\n"
          ]
        }
      ]
    },
    {
      "cell_type": "markdown",
      "source": [
        "# Load & Preprocess Data"
      ],
      "metadata": {
        "id": "9uYyDdCkpBJP"
      }
    },
    {
      "cell_type": "code",
      "source": [
        "df = pd.read_csv('drive/MyDrive/dataset/tweets_data.csv')\n",
        "print('Data loaded.\\n')"
      ],
      "metadata": {
        "colab": {
          "base_uri": "https://localhost:8080/"
        },
        "id": "uPZ_NYxmo_iG",
        "outputId": "72a90c72-f329-4ec9-8ed3-f6fb59bd2094"
      },
      "execution_count": null,
      "outputs": [
        {
          "output_type": "stream",
          "name": "stdout",
          "text": [
            "Data loaded.\n",
            "\n"
          ]
        }
      ]
    },
    {
      "cell_type": "code",
      "source": [
        "df.drop('Unnamed: 0', axis=1, inplace=True)\n",
        "df.dropna(inplace=True)"
      ],
      "metadata": {
        "id": "A8gc-zuqpEt6"
      },
      "execution_count": null,
      "outputs": []
    },
    {
      "cell_type": "markdown",
      "source": [
        "## Take random 10.000 data from each labels, total 20.000 data"
      ],
      "metadata": {
        "id": "oxWMRq-psTsB"
      }
    },
    {
      "cell_type": "code",
      "source": [
        "df_1 = df[df['label'] == 1]\n",
        "df_0 = df[df['label'] == 0]\n",
        "\n",
        "df_1 = df_1.sample(n=10000)\n",
        "df_0 = df_0.sample(n=10000)"
      ],
      "metadata": {
        "id": "paRlkTr7pHM2"
      },
      "execution_count": null,
      "outputs": []
    },
    {
      "cell_type": "code",
      "source": [
        "df = pd.concat([df_1, df_0], ignore_index = True)\n",
        "df.info()"
      ],
      "metadata": {
        "colab": {
          "base_uri": "https://localhost:8080/"
        },
        "id": "YpWmyJiApTos",
        "outputId": "e17a36b4-3c3c-4b6f-d3a8-5f0577e25dcc"
      },
      "execution_count": null,
      "outputs": [
        {
          "output_type": "stream",
          "name": "stdout",
          "text": [
            "<class 'pandas.core.frame.DataFrame'>\n",
            "RangeIndex: 20000 entries, 0 to 19999\n",
            "Data columns (total 2 columns):\n",
            " #   Column  Non-Null Count  Dtype \n",
            "---  ------  --------------  ----- \n",
            " 0   label   20000 non-null  int64 \n",
            " 1   tweet   20000 non-null  object\n",
            "dtypes: int64(1), object(1)\n",
            "memory usage: 312.6+ KB\n"
          ]
        }
      ]
    },
    {
      "cell_type": "code",
      "source": [
        "df['label'].value_counts()"
      ],
      "metadata": {
        "colab": {
          "base_uri": "https://localhost:8080/"
        },
        "id": "4LfBnIPKpXhh",
        "outputId": "5c9d2cf9-e620-4a59-ac08-4b750576b1bd"
      },
      "execution_count": null,
      "outputs": [
        {
          "output_type": "execute_result",
          "data": {
            "text/plain": [
              "1    10000\n",
              "0    10000\n",
              "Name: label, dtype: int64"
            ]
          },
          "metadata": {},
          "execution_count": 11
        }
      ]
    },
    {
      "cell_type": "markdown",
      "source": [
        "# Build Corpus"
      ],
      "metadata": {
        "id": "3yO1-6HfphC8"
      }
    },
    {
      "cell_type": "code",
      "source": [
        "# Frequent words removal\n",
        "freq = ['rt','im','ð','ðð','ððð','ðððð','ððððð','amp','u','â','retweet']\n",
        "df['tweet_punc_remv'] = df['tweet'].apply(lambda x: \" \".join(x for x in x.split() if x not in freq))\n",
        "df.drop('tweet', axis=1, inplace=True)\n",
        "df = df.rename(columns={'tweet_punc_remv':'tweet'})\n",
        "\n",
        "# Membuat korpus\n",
        "corpus = df['tweet'].apply(gensim.utils.simple_preprocess)\n",
        "\n",
        "# Memberi indeks pada teks\n",
        "token = Tokenizer()\n",
        "token.fit_on_texts(corpus)\n",
        "token.index_word\n",
        "token.texts_to_sequences(corpus)\n",
        "\n",
        "#Jumlah kata dalam korpus\n",
        "vocal = len(token.index_word)+1\n",
        "print('There are {} words.'.format(vocal))"
      ],
      "metadata": {
        "colab": {
          "base_uri": "https://localhost:8080/"
        },
        "id": "EbEN0T5rpmzJ",
        "outputId": "0881f92b-94f1-4055-a82d-a1e1c170e694"
      },
      "execution_count": null,
      "outputs": [
        {
          "output_type": "stream",
          "name": "stdout",
          "text": [
            "There are 24474 words.\n"
          ]
        }
      ]
    },
    {
      "cell_type": "markdown",
      "source": [
        "# Defining X and Y & Pad sequences"
      ],
      "metadata": {
        "id": "MruYyMusrKJv"
      }
    },
    {
      "cell_type": "code",
      "source": [
        "maxword = 30\n",
        "X = token.texts_to_sequences(corpus)\n",
        "X = pad_sequences(X, maxlen = maxword, padding='post')\n",
        "y = df['label'].values.tolist()\n",
        "print('X and y defined')"
      ],
      "metadata": {
        "colab": {
          "base_uri": "https://localhost:8080/"
        },
        "id": "qFqzyqHHq807",
        "outputId": "597e2a7f-5046-4157-a0dd-42523c60183e"
      },
      "execution_count": null,
      "outputs": [
        {
          "output_type": "stream",
          "name": "stdout",
          "text": [
            "X and y defined\n"
          ]
        }
      ]
    },
    {
      "cell_type": "markdown",
      "source": [
        "# Splitting data"
      ],
      "metadata": {
        "id": "jsJbWyZnrbHm"
      }
    },
    {
      "cell_type": "code",
      "source": [
        "X_train, X_test, y_train, y_test = train_test_split(X, y, test_size= 0.25, random_state = 42)\n",
        "print('Training and testing data defined.')"
      ],
      "metadata": {
        "colab": {
          "base_uri": "https://localhost:8080/"
        },
        "id": "nQqrH1UHrcHu",
        "outputId": "6aa76fc1-08a1-4b89-e4b7-54f53a59fac3"
      },
      "execution_count": null,
      "outputs": [
        {
          "output_type": "stream",
          "name": "stdout",
          "text": [
            "Training and testing data defined.\n"
          ]
        }
      ]
    },
    {
      "cell_type": "code",
      "source": [
        "X_train = np.array(X_train)\n",
        "y_train = np.array(y_train)\n",
        "X_test = np.array(X_test)\n",
        "y_test = np.array(y_test)\n",
        "print('Done')"
      ],
      "metadata": {
        "colab": {
          "base_uri": "https://localhost:8080/"
        },
        "id": "w_6wL0wgu2Qr",
        "outputId": "0ae08672-f43a-4215-b9c6-db9bb4f13e6d"
      },
      "execution_count": null,
      "outputs": [
        {
          "output_type": "stream",
          "name": "stdout",
          "text": [
            "Done\n"
          ]
        }
      ]
    },
    {
      "cell_type": "markdown",
      "source": [
        "# Word2vec"
      ],
      "metadata": {
        "id": "pqr64QC5rr2-"
      }
    },
    {
      "cell_type": "markdown",
      "source": [
        "## Embedding layer"
      ],
      "metadata": {
        "id": "QvilidIvr92P"
      }
    },
    {
      "cell_type": "code",
      "source": [
        "pretrainedpath = 'drive/MyDrive/dataset/w2vModel.bin'\n",
        "w2vmodel = KeyedVectors.load_word2vec_format(pretrainedpath, binary=True)\n",
        "print('Model word2vec loaded.')"
      ],
      "metadata": {
        "colab": {
          "base_uri": "https://localhost:8080/"
        },
        "id": "m1AESSYbr8DH",
        "outputId": "e77eef40-a3a0-4da9-ef6d-9f66439c49b5"
      },
      "execution_count": null,
      "outputs": [
        {
          "output_type": "stream",
          "name": "stderr",
          "text": [
            "2022-07-20 11:41:16,055 : INFO : loading projection weights from drive/MyDrive/dataset/w2vModel.bin\n",
            "2022-07-20 11:41:18,710 : INFO : loaded (150000, 300) matrix from drive/MyDrive/dataset/w2vModel.bin\n"
          ]
        },
        {
          "output_type": "stream",
          "name": "stdout",
          "text": [
            "Model word2vec loaded.\n"
          ]
        }
      ]
    },
    {
      "cell_type": "code",
      "source": [
        "embedding_layer = Embedding(input_dim=150000, output_dim=300, weights=[w2vmodel.vectors], \n",
        "                            input_length=X.shape[1])\n",
        "print('Embedding layer defined.')"
      ],
      "metadata": {
        "colab": {
          "base_uri": "https://localhost:8080/"
        },
        "id": "LaJ9SVAesBoZ",
        "outputId": "0edaa716-7207-404a-bdf7-f91c1e1549fc"
      },
      "execution_count": null,
      "outputs": [
        {
          "output_type": "stream",
          "name": "stdout",
          "text": [
            "Embedding layer defined.\n"
          ]
        }
      ]
    },
    {
      "cell_type": "markdown",
      "source": [
        "## CNN Model"
      ],
      "metadata": {
        "id": "pAE3uWVrswJO"
      }
    },
    {
      "cell_type": "code",
      "source": [
        "model = Sequential()\n",
        "model.add(embedding_layer)\n",
        "model.add(BatchNormalization())\n",
        "model.add(Dropout(0.4))\n",
        "model.add(Conv1D(filters=128, kernel_size=5, padding='same', activation='relu', kernel_regularizer=regularizers.l2(l=0.01),\n",
        "                  kernel_initializer='he_normal'))\n",
        "model.add(BatchNormalization())\n",
        "model.add(Dropout(0.4))\n",
        "model.add(Conv1D(filters=128, kernel_size=3, padding='same', activation='relu', kernel_regularizer=regularizers.l2(l=0.01),\n",
        "                  kernel_initializer='he_normal'))\n",
        "model.add(MaxPooling1D(pool_size=3))\n",
        "model.add(BatchNormalization())\n",
        "model.add(Dropout(0.4))\n",
        "model.add(Flatten())\n",
        "model.add(BatchNormalization())\n",
        "model.add(Dropout(0.4))\n",
        "model.add(Dense(64, activation='relu'))\n",
        "model.add(BatchNormalization())\n",
        "model.add(Dropout(0.4))\n",
        "model.add(Dense(32, activation = 'relu'))\n",
        "model.add(BatchNormalization())\n",
        "model.add(Dropout(0.4))\n",
        "model.add(Dense(1, activation='sigmoid'))\n",
        "\n",
        "adam = Adam(lr=0.0001, beta_1=0.9, beta_2=0.999, epsilon=1e-08, decay=0.0)\n",
        "model.compile(loss='binary_crossentropy', optimizer='adam', metrics=['accuracy'])\n",
        "model.summary()"
      ],
      "metadata": {
        "colab": {
          "base_uri": "https://localhost:8080/"
        },
        "id": "Jqw8lx-hsDgY",
        "outputId": "c2e9bb45-eecb-427f-acf2-b9c677ab9de3"
      },
      "execution_count": null,
      "outputs": [
        {
          "output_type": "stream",
          "name": "stdout",
          "text": [
            "Model: \"sequential\"\n",
            "_________________________________________________________________\n",
            " Layer (type)                Output Shape              Param #   \n",
            "=================================================================\n",
            " embedding (Embedding)       (None, 30, 300)           45000000  \n",
            "                                                                 \n",
            " batch_normalization (BatchN  (None, 30, 300)          1200      \n",
            " ormalization)                                                   \n",
            "                                                                 \n",
            " dropout (Dropout)           (None, 30, 300)           0         \n",
            "                                                                 \n",
            " conv1d (Conv1D)             (None, 30, 128)           192128    \n",
            "                                                                 \n",
            " batch_normalization_1 (Batc  (None, 30, 128)          512       \n",
            " hNormalization)                                                 \n",
            "                                                                 \n",
            " dropout_1 (Dropout)         (None, 30, 128)           0         \n",
            "                                                                 \n",
            " conv1d_1 (Conv1D)           (None, 30, 128)           49280     \n",
            "                                                                 \n",
            " max_pooling1d (MaxPooling1D  (None, 10, 128)          0         \n",
            " )                                                               \n",
            "                                                                 \n",
            " batch_normalization_2 (Batc  (None, 10, 128)          512       \n",
            " hNormalization)                                                 \n",
            "                                                                 \n",
            " dropout_2 (Dropout)         (None, 10, 128)           0         \n",
            "                                                                 \n",
            " flatten (Flatten)           (None, 1280)              0         \n",
            "                                                                 \n",
            " batch_normalization_3 (Batc  (None, 1280)             5120      \n",
            " hNormalization)                                                 \n",
            "                                                                 \n",
            " dropout_3 (Dropout)         (None, 1280)              0         \n",
            "                                                                 \n",
            " dense (Dense)               (None, 64)                81984     \n",
            "                                                                 \n",
            " batch_normalization_4 (Batc  (None, 64)               256       \n",
            " hNormalization)                                                 \n",
            "                                                                 \n",
            " dropout_4 (Dropout)         (None, 64)                0         \n",
            "                                                                 \n",
            " dense_1 (Dense)             (None, 32)                2080      \n",
            "                                                                 \n",
            " batch_normalization_5 (Batc  (None, 32)               128       \n",
            " hNormalization)                                                 \n",
            "                                                                 \n",
            " dropout_5 (Dropout)         (None, 32)                0         \n",
            "                                                                 \n",
            " dense_2 (Dense)             (None, 1)                 33        \n",
            "                                                                 \n"
          ]
        },
        {
          "output_type": "stream",
          "name": "stderr",
          "text": [
            "/usr/local/lib/python3.7/dist-packages/keras/optimizer_v2/adam.py:105: UserWarning: The `lr` argument is deprecated, use `learning_rate` instead.\n",
            "  super(Adam, self).__init__(name, **kwargs)\n"
          ]
        },
        {
          "output_type": "stream",
          "name": "stdout",
          "text": [
            "=================================================================\n",
            "Total params: 45,333,233\n",
            "Trainable params: 45,329,369\n",
            "Non-trainable params: 3,864\n",
            "_________________________________________________________________\n"
          ]
        }
      ]
    },
    {
      "cell_type": "markdown",
      "source": [
        "## Hyperparameter tuning "
      ],
      "metadata": {
        "id": "9ydh9KOXv63O"
      }
    },
    {
      "cell_type": "code",
      "source": [
        "w2vHistory_2032_3 = model.fit(X_train, y_train, \n",
        "                          epochs=20, \n",
        "                          validation_split=0.2, \n",
        "                          batch_size=32,\n",
        "                          validation_data=(X_test, y_test))"
      ],
      "metadata": {
        "colab": {
          "base_uri": "https://localhost:8080/"
        },
        "outputId": "22e1d042-9ca1-41d7-8e57-fa6404645648",
        "id": "wvhn8u_ERABO"
      },
      "execution_count": null,
      "outputs": [
        {
          "output_type": "stream",
          "name": "stdout",
          "text": [
            "Epoch 1/20\n",
            "375/375 [==============================] - 96s 252ms/step - loss: 3.3490 - accuracy: 0.8828 - val_loss: 1.5086 - val_accuracy: 0.9190\n",
            "Epoch 2/20\n",
            "375/375 [==============================] - 91s 243ms/step - loss: 0.6938 - accuracy: 0.9788 - val_loss: 0.5764 - val_accuracy: 0.9310\n",
            "Epoch 3/20\n",
            "375/375 [==============================] - 90s 240ms/step - loss: 0.2883 - accuracy: 0.9814 - val_loss: 0.5129 - val_accuracy: 0.9317\n",
            "Epoch 4/20\n",
            "375/375 [==============================] - 92s 244ms/step - loss: 0.2706 - accuracy: 0.9834 - val_loss: 0.5588 - val_accuracy: 0.9337\n",
            "Epoch 5/20\n",
            "375/375 [==============================] - 91s 243ms/step - loss: 0.2916 - accuracy: 0.9824 - val_loss: 0.5412 - val_accuracy: 0.9300\n",
            "Epoch 6/20\n",
            "375/375 [==============================] - 90s 240ms/step - loss: 0.2659 - accuracy: 0.9821 - val_loss: 0.4543 - val_accuracy: 0.9343\n",
            "Epoch 7/20\n",
            "375/375 [==============================] - 89s 237ms/step - loss: 0.2476 - accuracy: 0.9837 - val_loss: 0.5136 - val_accuracy: 0.9263\n",
            "Epoch 8/20\n",
            "375/375 [==============================] - 90s 239ms/step - loss: 0.2682 - accuracy: 0.9832 - val_loss: 0.5406 - val_accuracy: 0.9187\n",
            "Epoch 9/20\n",
            "375/375 [==============================] - 92s 246ms/step - loss: 0.2346 - accuracy: 0.9865 - val_loss: 0.5072 - val_accuracy: 0.9243\n",
            "Epoch 10/20\n",
            "375/375 [==============================] - 95s 253ms/step - loss: 0.2224 - accuracy: 0.9875 - val_loss: 0.5054 - val_accuracy: 0.9297\n",
            "Epoch 11/20\n",
            "375/375 [==============================] - 97s 259ms/step - loss: 0.2081 - accuracy: 0.9888 - val_loss: 0.5501 - val_accuracy: 0.9287\n",
            "Epoch 12/20\n",
            "375/375 [==============================] - 95s 253ms/step - loss: 0.2397 - accuracy: 0.9855 - val_loss: 0.4988 - val_accuracy: 0.9330\n",
            "Epoch 13/20\n",
            "375/375 [==============================] - 95s 254ms/step - loss: 0.2491 - accuracy: 0.9858 - val_loss: 0.5720 - val_accuracy: 0.9193\n",
            "Epoch 14/20\n",
            "375/375 [==============================] - 94s 251ms/step - loss: 0.2147 - accuracy: 0.9896 - val_loss: 0.5176 - val_accuracy: 0.9297\n",
            "Epoch 15/20\n",
            "375/375 [==============================] - 94s 251ms/step - loss: 0.2343 - accuracy: 0.9867 - val_loss: 0.5028 - val_accuracy: 0.9300\n",
            "Epoch 16/20\n",
            "375/375 [==============================] - 94s 252ms/step - loss: 0.1968 - accuracy: 0.9883 - val_loss: 0.4990 - val_accuracy: 0.9293\n",
            "Epoch 17/20\n",
            "375/375 [==============================] - 93s 249ms/step - loss: 0.1907 - accuracy: 0.9885 - val_loss: 0.5012 - val_accuracy: 0.9253\n",
            "Epoch 18/20\n",
            "375/375 [==============================] - 93s 249ms/step - loss: 0.2014 - accuracy: 0.9901 - val_loss: 0.5003 - val_accuracy: 0.9260\n",
            "Epoch 19/20\n",
            "375/375 [==============================] - 94s 250ms/step - loss: 0.2084 - accuracy: 0.9891 - val_loss: 0.5675 - val_accuracy: 0.9297\n",
            "Epoch 20/20\n",
            "375/375 [==============================] - 97s 259ms/step - loss: 0.2123 - accuracy: 0.9885 - val_loss: 0.6262 - val_accuracy: 0.9217\n"
          ]
        }
      ]
    },
    {
      "cell_type": "code",
      "source": [
        "plt.plot(w2vHistory_2032_3.history['accuracy'])\n",
        "plt.plot(w2vHistory_2032_3.history['val_accuracy'])\n",
        "plt.title('model accuracy')\n",
        "plt.ylabel('accuracy')\n",
        "plt.xlabel('epoch')\n",
        "plt.yticks((0.5,0.6,0.7,0.8,0.9,1,1.1,1.2,1.3))\n",
        "plt.legend(['train', 'val'], loc='upper left')\n",
        "plt.show()"
      ],
      "metadata": {
        "colab": {
          "base_uri": "https://localhost:8080/",
          "height": 295
        },
        "outputId": "d061dba5-01d2-4628-f1c3-3ac6881a2410",
        "id": "39RZIabDRABQ"
      },
      "execution_count": null,
      "outputs": [
        {
          "output_type": "display_data",
          "data": {
            "text/plain": [
              "<Figure size 432x288 with 1 Axes>"
            ],
            "image/png": "[encoded data removed]"
          },
          "metadata": {
            "needs_background": "light"
          }
        }
      ]
    },
    {
      "cell_type": "code",
      "source": [
        "plt.plot(w2vHistory_2032_3.history['loss'])\n",
        "plt.plot(w2vHistory_2032_3.history['val_loss'])\n",
        "plt.title('model loss')\n",
        "plt.ylabel('loss')\n",
        "plt.xlabel('epoch')\n",
        "plt.legend(['train', 'val'], loc='upper left')\n",
        "plt.show()"
      ],
      "metadata": {
        "colab": {
          "base_uri": "https://localhost:8080/",
          "height": 295
        },
        "outputId": "ffbe8a03-1749-4e46-ba08-1b25be06498a",
        "id": "cy64A3HvRABR"
      },
      "execution_count": null,
      "outputs": [
        {
          "output_type": "display_data",
          "data": {
            "text/plain": [
              "<Figure size 432x288 with 1 Axes>"
            ],
            "image/png": "[encoded data removed]"
          },
          "metadata": {
            "needs_background": "light"
          }
        }
      ]
    },
    {
      "cell_type": "code",
      "source": [
        "loss, acc = model.evaluate(X_test, y_test, batch_size=32)\n",
        "print('Model loss: {}'.format(loss))\n",
        "print('Model acc: {}'.format(acc))"
      ],
      "metadata": {
        "colab": {
          "base_uri": "https://localhost:8080/"
        },
        "outputId": "40531e91-5e20-48bf-d9fa-4dbb404adc64",
        "id": "5X8Al_YeRABS"
      },
      "execution_count": null,
      "outputs": [
        {
          "output_type": "stream",
          "name": "stdout",
          "text": [
            "157/157 [==============================] - 1s 9ms/step - loss: 0.6013 - accuracy: 0.9270\n",
            "Model loss: 0.6013344526290894\n",
            "Model acc: 0.9269999861717224\n"
          ]
        }
      ]
    },
    {
      "cell_type": "markdown",
      "source": [
        "### Epochs 20, batch size 32"
      ],
      "metadata": {
        "id": "qzreY5geuymW"
      }
    },
    {
      "cell_type": "code",
      "source": [
        "w2vHistory_2032 = model.fit(X_train, y_train, \n",
        "                          epochs=20, \n",
        "                          validation_split=0.2, \n",
        "                          batch_size=32,\n",
        "                          validation_data=(X_test, y_test))"
      ],
      "metadata": {
        "colab": {
          "base_uri": "https://localhost:8080/"
        },
        "id": "uIWpsLOsvMBS",
        "outputId": "90c0a233-5aa1-4c7f-c2fa-d7831e45af8c"
      },
      "execution_count": null,
      "outputs": [
        {
          "output_type": "stream",
          "name": "stdout",
          "text": [
            "Epoch 1/20\n",
            "375/375 [==============================] - 110s 290ms/step - loss: 4.2562 - accuracy: 0.6272 - val_loss: 4.2849 - val_accuracy: 0.4923\n",
            "Epoch 2/20\n",
            "375/375 [==============================] - 88s 234ms/step - loss: 1.7681 - accuracy: 0.8404 - val_loss: 1.6870 - val_accuracy: 0.6487\n",
            "Epoch 3/20\n",
            "375/375 [==============================] - 87s 232ms/step - loss: 0.8194 - accuracy: 0.9087 - val_loss: 0.8546 - val_accuracy: 0.8177\n",
            "Epoch 4/20\n",
            "375/375 [==============================] - 88s 234ms/step - loss: 0.5358 - accuracy: 0.9373 - val_loss: 0.5923 - val_accuracy: 0.9030\n",
            "Epoch 5/20\n",
            "375/375 [==============================] - 87s 232ms/step - loss: 0.4536 - accuracy: 0.9538 - val_loss: 0.5351 - val_accuracy: 0.9230\n",
            "Epoch 6/20\n",
            "375/375 [==============================] - 88s 234ms/step - loss: 0.4070 - accuracy: 0.9604 - val_loss: 0.5289 - val_accuracy: 0.9190\n",
            "Epoch 7/20\n",
            "375/375 [==============================] - 90s 239ms/step - loss: 0.3887 - accuracy: 0.9641 - val_loss: 0.5316 - val_accuracy: 0.9203\n",
            "Epoch 8/20\n",
            "375/375 [==============================] - 90s 239ms/step - loss: 0.3651 - accuracy: 0.9674 - val_loss: 0.5218 - val_accuracy: 0.9167\n",
            "Epoch 9/20\n",
            "375/375 [==============================] - 90s 239ms/step - loss: 0.3559 - accuracy: 0.9716 - val_loss: 0.5387 - val_accuracy: 0.9193\n",
            "Epoch 10/20\n",
            "375/375 [==============================] - 89s 239ms/step - loss: 0.3530 - accuracy: 0.9757 - val_loss: 0.5273 - val_accuracy: 0.9247\n",
            "Epoch 11/20\n",
            "375/375 [==============================] - 90s 239ms/step - loss: 0.3494 - accuracy: 0.9752 - val_loss: 0.5139 - val_accuracy: 0.9283\n",
            "Epoch 12/20\n",
            "375/375 [==============================] - 93s 248ms/step - loss: 0.3116 - accuracy: 0.9812 - val_loss: 0.5642 - val_accuracy: 0.9260\n",
            "Epoch 13/20\n",
            "375/375 [==============================] - 92s 246ms/step - loss: 0.3406 - accuracy: 0.9798 - val_loss: 0.5462 - val_accuracy: 0.9313\n",
            "Epoch 14/20\n",
            "375/375 [==============================] - 93s 247ms/step - loss: 0.3217 - accuracy: 0.9812 - val_loss: 0.5550 - val_accuracy: 0.9263\n",
            "Epoch 15/20\n",
            "375/375 [==============================] - 92s 246ms/step - loss: 0.3232 - accuracy: 0.9818 - val_loss: 0.5455 - val_accuracy: 0.9267\n",
            "Epoch 16/20\n",
            "375/375 [==============================] - 92s 246ms/step - loss: 0.3129 - accuracy: 0.9833 - val_loss: 0.5045 - val_accuracy: 0.9260\n",
            "Epoch 17/20\n",
            "375/375 [==============================] - 92s 245ms/step - loss: 0.2876 - accuracy: 0.9833 - val_loss: 0.5415 - val_accuracy: 0.9220\n",
            "Epoch 18/20\n",
            "375/375 [==============================] - 91s 244ms/step - loss: 0.3076 - accuracy: 0.9827 - val_loss: 0.5240 - val_accuracy: 0.9163\n",
            "Epoch 19/20\n",
            "375/375 [==============================] - 92s 246ms/step - loss: 0.2956 - accuracy: 0.9844 - val_loss: 0.5103 - val_accuracy: 0.9320\n",
            "Epoch 20/20\n",
            "375/375 [==============================] - 95s 253ms/step - loss: 0.2848 - accuracy: 0.9847 - val_loss: 0.5490 - val_accuracy: 0.9283\n"
          ]
        }
      ]
    },
    {
      "cell_type": "code",
      "source": [
        "plt.plot(w2vHistory_2032.history['accuracy'])\n",
        "plt.plot(w2vHistory_2032.history['val_accuracy'])\n",
        "plt.title('model accuracy')\n",
        "plt.ylabel('accuracy')\n",
        "plt.xlabel('epoch')\n",
        "plt.legend(['train', 'val'], loc='upper left')\n",
        "plt.show()"
      ],
      "metadata": {
        "colab": {
          "base_uri": "https://localhost:8080/",
          "height": 295
        },
        "id": "PtsIk_fEvcBb",
        "outputId": "572c4d3c-8a3d-49ea-c0ac-f2c5dc93e7b4"
      },
      "execution_count": null,
      "outputs": [
        {
          "output_type": "display_data",
          "data": {
            "text/plain": [
              "<Figure size 432x288 with 1 Axes>"
            ],
            "image/png": "[encoded data removed]"
          },
          "metadata": {
            "needs_background": "light"
          }
        }
      ]
    },
    {
      "cell_type": "code",
      "source": [
        "plt.plot(w2vHistory_2032.history['loss'])\n",
        "plt.plot(w2vHistory_2032.history['val_loss'])\n",
        "plt.title('model loss')\n",
        "plt.ylabel('loss')\n",
        "plt.xlabel('epoch')\n",
        "plt.legend(['train', 'val'], loc='upper left')\n",
        "plt.show()"
      ],
      "metadata": {
        "colab": {
          "base_uri": "https://localhost:8080/",
          "height": 295
        },
        "id": "gEYuy3nBvnxF",
        "outputId": "d3e0c85d-f1ad-467b-824f-4e55e540b2dc"
      },
      "execution_count": null,
      "outputs": [
        {
          "output_type": "display_data",
          "data": {
            "text/plain": [
              "<Figure size 432x288 with 1 Axes>"
            ],
            "image/png": "[encoded data removed]"
          },
          "metadata": {
            "needs_background": "light"
          }
        }
      ]
    },
    {
      "cell_type": "code",
      "source": [
        "loss, acc = model.evaluate(X_test, y_test, batch_size=32)\n",
        "print('Model loss: {}'.format(loss))\n",
        "print('Model acc: {}'.format(acc))"
      ],
      "metadata": {
        "colab": {
          "base_uri": "https://localhost:8080/"
        },
        "id": "IYTeA0o8vmoT",
        "outputId": "8974125c-4c32-4c7f-dcf8-30f7bd45417d"
      },
      "execution_count": null,
      "outputs": [
        {
          "output_type": "stream",
          "name": "stdout",
          "text": [
            "157/157 [==============================] - 2s 12ms/step - loss: 0.5649 - accuracy: 0.9274\n",
            "Model loss: 0.564949095249176\n",
            "Model acc: 0.9273999929428101\n"
          ]
        }
      ]
    },
    {
      "cell_type": "markdown",
      "source": [
        "### Epochs 20, batch size 64"
      ],
      "metadata": {
        "id": "M_GIP7_PwS7l"
      }
    },
    {
      "cell_type": "code",
      "source": [
        "w2vHistory_2064 = model.fit(X_train, y_train, \n",
        "                          epochs=20, \n",
        "                          validation_split=0.2, \n",
        "                          batch_size=64,\n",
        "                          validation_data=(X_test, y_test))"
      ],
      "metadata": {
        "colab": {
          "base_uri": "https://localhost:8080/"
        },
        "outputId": "a4f502d5-68de-46ac-db4c-759eb5a4aa22",
        "id": "qEmKWvmkwS7n"
      },
      "execution_count": null,
      "outputs": [
        {
          "metadata": {
            "tags": null
          },
          "name": "stdout",
          "output_type": "stream",
          "text": [
            "Epoch 1/20\n",
            "188/188 [==============================] - 59s 302ms/step - loss: 4.7054 - accuracy: 0.5751 - val_loss: 3.8744 - val_accuracy: 0.4923\n",
            "Epoch 2/20\n",
            "188/188 [==============================] - 53s 283ms/step - loss: 2.5201 - accuracy: 0.7441 - val_loss: 3.8050 - val_accuracy: 0.4923\n",
            "Epoch 3/20\n",
            "188/188 [==============================] - 54s 285ms/step - loss: 1.2594 - accuracy: 0.8801 - val_loss: 1.9141 - val_accuracy: 0.5523\n",
            "Epoch 4/20\n",
            "188/188 [==============================] - 53s 283ms/step - loss: 0.6814 - accuracy: 0.9308 - val_loss: 0.9134 - val_accuracy: 0.7687\n",
            "Epoch 5/20\n",
            "188/188 [==============================] - 53s 282ms/step - loss: 0.4892 - accuracy: 0.9466 - val_loss: 0.6934 - val_accuracy: 0.8533\n",
            "Epoch 6/20\n",
            "188/188 [==============================] - 53s 281ms/step - loss: 0.4082 - accuracy: 0.9564 - val_loss: 0.5586 - val_accuracy: 0.9003\n",
            "Epoch 7/20\n",
            "188/188 [==============================] - 53s 280ms/step - loss: 0.3467 - accuracy: 0.9695 - val_loss: 0.5124 - val_accuracy: 0.9087\n",
            "Epoch 8/20\n",
            "188/188 [==============================] - 52s 277ms/step - loss: 0.3160 - accuracy: 0.9737 - val_loss: 0.5381 - val_accuracy: 0.9053\n",
            "Epoch 9/20\n",
            "188/188 [==============================] - 52s 279ms/step - loss: 0.2912 - accuracy: 0.9773 - val_loss: 0.5169 - val_accuracy: 0.9077\n",
            "Epoch 10/20\n",
            "188/188 [==============================] - 53s 283ms/step - loss: 0.2899 - accuracy: 0.9790 - val_loss: 0.5037 - val_accuracy: 0.9127\n",
            "Epoch 11/20\n",
            "188/188 [==============================] - 53s 282ms/step - loss: 0.2777 - accuracy: 0.9785 - val_loss: 0.5563 - val_accuracy: 0.9173\n",
            "Epoch 12/20\n",
            "188/188 [==============================] - 55s 293ms/step - loss: 0.2755 - accuracy: 0.9812 - val_loss: 0.5243 - val_accuracy: 0.9137\n",
            "Epoch 13/20\n",
            "188/188 [==============================] - 52s 278ms/step - loss: 0.2826 - accuracy: 0.9780 - val_loss: 0.4979 - val_accuracy: 0.9253\n",
            "Epoch 14/20\n",
            "188/188 [==============================] - 52s 279ms/step - loss: 0.2751 - accuracy: 0.9818 - val_loss: 0.5420 - val_accuracy: 0.9050\n",
            "Epoch 15/20\n",
            "188/188 [==============================] - 54s 285ms/step - loss: 0.2310 - accuracy: 0.9850 - val_loss: 0.4944 - val_accuracy: 0.9170\n",
            "Epoch 16/20\n",
            "188/188 [==============================] - 53s 282ms/step - loss: 0.2000 - accuracy: 0.9887 - val_loss: 0.5518 - val_accuracy: 0.9087\n",
            "Epoch 17/20\n",
            "188/188 [==============================] - 53s 281ms/step - loss: 0.2425 - accuracy: 0.9857 - val_loss: 0.5337 - val_accuracy: 0.9277\n",
            "Epoch 18/20\n",
            "188/188 [==============================] - 52s 278ms/step - loss: 0.2508 - accuracy: 0.9862 - val_loss: 0.5292 - val_accuracy: 0.9180\n",
            "Epoch 19/20\n",
            "188/188 [==============================] - 53s 280ms/step - loss: 0.2293 - accuracy: 0.9871 - val_loss: 0.5252 - val_accuracy: 0.9203\n",
            "Epoch 20/20\n",
            "188/188 [==============================] - 53s 280ms/step - loss: 0.2055 - accuracy: 0.9889 - val_loss: 0.4867 - val_accuracy: 0.9187\n"
          ]
        }
      ]
    },
    {
      "cell_type": "code",
      "source": [
        "plt.plot(w2vHistory_2064.history['accuracy'])\n",
        "plt.plot(w2vHistory_2064.history['val_accuracy'])\n",
        "plt.title('model accuracy')\n",
        "plt.ylabel('accuracy')\n",
        "plt.xlabel('epoch')\n",
        "#plt.yticks((0.5,0.6,0.7,0.8,0.9,1.0))\n",
        "plt.legend(['train', 'val'], loc='lower right')\n",
        "plt.show()"
      ],
      "metadata": {
        "colab": {
          "base_uri": "https://localhost:8080/",
          "height": 295
        },
        "id": "ud5VEdmMwS7p",
        "outputId": "daee0cb3-44ef-4e21-b42a-6fa2f7a944f7"
      },
      "execution_count": null,
      "outputs": [
        {
          "output_type": "display_data",
          "data": {
            "text/plain": [
              "<Figure size 432x288 with 1 Axes>"
            ],
            "image/png": "[encoded data removed]"
          },
          "metadata": {
            "needs_background": "light"
          }
        }
      ]
    },
    {
      "cell_type": "code",
      "source": [
        "plt.plot(w2vHistory_2064.history['loss'])\n",
        "plt.plot(w2vHistory_2064.history['val_loss'])\n",
        "plt.title('model loss')\n",
        "plt.ylabel('loss')\n",
        "plt.xlabel('epoch')\n",
        "plt.legend(['train', 'val'], loc='upper left')\n",
        "plt.show()"
      ],
      "metadata": {
        "colab": {
          "base_uri": "https://localhost:8080/",
          "height": 295
        },
        "id": "tjHVHQUGwS7q",
        "outputId": "ca60f2d9-64c0-4414-bf2a-0a4cb985cfc8"
      },
      "execution_count": null,
      "outputs": [
        {
          "output_type": "display_data",
          "data": {
            "text/plain": [
              "<Figure size 432x288 with 1 Axes>"
            ],
            "image/png": "[encoded data removed]"
          },
          "metadata": {
            "needs_background": "light"
          }
        }
      ]
    },
    {
      "cell_type": "code",
      "source": [
        "loss, acc = model.evaluate(X_test, y_test, batch_size=64)\n",
        "print('Model loss: {}'.format(loss))\n",
        "print('Model acc: {}'.format(acc))"
      ],
      "metadata": {
        "colab": {
          "base_uri": "https://localhost:8080/"
        },
        "id": "E6-5JSu1wS7s",
        "outputId": "f92a8a6c-225b-467e-f239-309aade1e8b9"
      },
      "execution_count": null,
      "outputs": [
        {
          "output_type": "stream",
          "name": "stdout",
          "text": [
            "79/79 [==============================] - 1s 18ms/step - loss: 0.4408 - accuracy: 0.9296\n",
            "Model loss: 0.44075870513916016\n",
            "Model acc: 0.9296000003814697\n"
          ]
        }
      ]
    },
    {
      "cell_type": "markdown",
      "source": [
        "### Epochs 20, batch size 128"
      ],
      "metadata": {
        "id": "sEAnqzSywo_I"
      }
    },
    {
      "cell_type": "code",
      "source": [
        "w2vHistory_20128 = model.fit(X_train, y_train, \n",
        "                          epochs=20, \n",
        "                          validation_split=0.2, \n",
        "                          batch_size=64,\n",
        "                          validation_data=(X_test, y_test))"
      ],
      "metadata": {
        "id": "NQ7Q6bCiwo_K",
        "colab": {
          "base_uri": "https://localhost:8080/"
        },
        "outputId": "1b376fa9-0150-419d-eb30-5c6521bf4883"
      },
      "execution_count": null,
      "outputs": [
        {
          "output_type": "stream",
          "name": "stdout",
          "text": [
            "Epoch 1/20\n",
            "188/188 [==============================] - 57s 293ms/step - loss: 4.5579 - accuracy: 0.5957 - val_loss: 3.9841 - val_accuracy: 0.4923\n",
            "Epoch 2/20\n",
            "188/188 [==============================] - 55s 293ms/step - loss: 2.3084 - accuracy: 0.7808 - val_loss: 3.5187 - val_accuracy: 0.4927\n",
            "Epoch 3/20\n",
            "188/188 [==============================] - 55s 294ms/step - loss: 1.1264 - accuracy: 0.8867 - val_loss: 1.4891 - val_accuracy: 0.6143\n",
            "Epoch 4/20\n",
            "188/188 [==============================] - 56s 296ms/step - loss: 0.6080 - accuracy: 0.9365 - val_loss: 0.8213 - val_accuracy: 0.8030\n",
            "Epoch 5/20\n",
            "188/188 [==============================] - 55s 294ms/step - loss: 0.4425 - accuracy: 0.9532 - val_loss: 0.5402 - val_accuracy: 0.8980\n",
            "Epoch 6/20\n",
            "188/188 [==============================] - 54s 290ms/step - loss: 0.3675 - accuracy: 0.9640 - val_loss: 0.5063 - val_accuracy: 0.9127\n",
            "Epoch 7/20\n",
            "188/188 [==============================] - 55s 291ms/step - loss: 0.3402 - accuracy: 0.9665 - val_loss: 0.5062 - val_accuracy: 0.9273\n",
            "Epoch 8/20\n",
            "188/188 [==============================] - 54s 290ms/step - loss: 0.3160 - accuracy: 0.9738 - val_loss: 0.4776 - val_accuracy: 0.9193\n",
            "Epoch 9/20\n",
            "188/188 [==============================] - 55s 290ms/step - loss: 0.2802 - accuracy: 0.9767 - val_loss: 0.4987 - val_accuracy: 0.9157\n",
            "Epoch 10/20\n",
            "188/188 [==============================] - 55s 292ms/step - loss: 0.2711 - accuracy: 0.9784 - val_loss: 0.4927 - val_accuracy: 0.9220\n",
            "Epoch 11/20\n",
            "188/188 [==============================] - 54s 287ms/step - loss: 0.2867 - accuracy: 0.9796 - val_loss: 0.5119 - val_accuracy: 0.9260\n",
            "Epoch 12/20\n",
            "188/188 [==============================] - 53s 281ms/step - loss: 0.2601 - accuracy: 0.9849 - val_loss: 0.5015 - val_accuracy: 0.9227\n",
            "Epoch 13/20\n",
            "188/188 [==============================] - 54s 285ms/step - loss: 0.2367 - accuracy: 0.9849 - val_loss: 0.4917 - val_accuracy: 0.9207\n",
            "Epoch 14/20\n",
            "188/188 [==============================] - 53s 283ms/step - loss: 0.2413 - accuracy: 0.9823 - val_loss: 0.5203 - val_accuracy: 0.9280\n",
            "Epoch 15/20\n",
            "188/188 [==============================] - 57s 302ms/step - loss: 0.2242 - accuracy: 0.9860 - val_loss: 0.4897 - val_accuracy: 0.9217\n",
            "Epoch 16/20\n",
            "188/188 [==============================] - 54s 287ms/step - loss: 0.2230 - accuracy: 0.9848 - val_loss: 0.5232 - val_accuracy: 0.9263\n",
            "Epoch 17/20\n",
            "188/188 [==============================] - 54s 288ms/step - loss: 0.2260 - accuracy: 0.9868 - val_loss: 0.4735 - val_accuracy: 0.9277\n",
            "Epoch 18/20\n",
            "188/188 [==============================] - 54s 289ms/step - loss: 0.2199 - accuracy: 0.9862 - val_loss: 0.5305 - val_accuracy: 0.9243\n",
            "Epoch 19/20\n",
            "188/188 [==============================] - 55s 292ms/step - loss: 0.2276 - accuracy: 0.9867 - val_loss: 0.4861 - val_accuracy: 0.9277\n",
            "Epoch 20/20\n",
            "188/188 [==============================] - 55s 295ms/step - loss: 0.1915 - accuracy: 0.9892 - val_loss: 0.5098 - val_accuracy: 0.9267\n"
          ]
        }
      ]
    },
    {
      "cell_type": "code",
      "source": [
        "plt.plot(w2vHistory_20128.history['accuracy'])\n",
        "plt.plot(w2vHistory_20128.history['val_accuracy'])\n",
        "plt.title('model accuracy')\n",
        "plt.ylabel('accuracy')\n",
        "plt.xlabel('epoch')\n",
        "plt.legend(['train', 'val'], loc='upper left')\n",
        "plt.show()"
      ],
      "metadata": {
        "id": "4mUsWXWHwo_M",
        "colab": {
          "base_uri": "https://localhost:8080/",
          "height": 295
        },
        "outputId": "9b73d64e-4d22-43ae-ece3-76efe5e06051"
      },
      "execution_count": null,
      "outputs": [
        {
          "output_type": "display_data",
          "data": {
            "text/plain": [
              "<Figure size 432x288 with 1 Axes>"
            ],
            "image/png": "[encoded data removed]"
          },
          "metadata": {
            "needs_background": "light"
          }
        }
      ]
    },
    {
      "cell_type": "code",
      "source": [
        "plt.plot(w2vHistory_20128.history['loss'])\n",
        "plt.plot(w2vHistory_20128.history['val_loss'])\n",
        "plt.title('model loss')\n",
        "plt.ylabel('loss')\n",
        "plt.xlabel('epoch')\n",
        "plt.legend(['train', 'val'], loc='upper left')\n",
        "plt.show()"
      ],
      "metadata": {
        "id": "31gOIDFYwo_N",
        "colab": {
          "base_uri": "https://localhost:8080/",
          "height": 295
        },
        "outputId": "1bb87446-4ff6-43b1-fda6-8731264b1113"
      },
      "execution_count": null,
      "outputs": [
        {
          "output_type": "display_data",
          "data": {
            "text/plain": [
              "<Figure size 432x288 with 1 Axes>"
            ],
            "image/png": "[encoded data removed]"
          },
          "metadata": {
            "needs_background": "light"
          }
        }
      ]
    },
    {
      "cell_type": "code",
      "source": [
        "loss, acc = model.evaluate(X_test, y_test, batch_size=128)\n",
        "print('Model loss: {}'.format(loss))\n",
        "print('Model acc: {}'.format(acc))"
      ],
      "metadata": {
        "id": "Tq5i6aFtwo_O",
        "colab": {
          "base_uri": "https://localhost:8080/"
        },
        "outputId": "a2bee169-b9b4-4440-fc43-a98ab4bb63f8"
      },
      "execution_count": null,
      "outputs": [
        {
          "output_type": "stream",
          "name": "stdout",
          "text": [
            "40/40 [==============================] - 2s 51ms/step - loss: 0.5080 - accuracy: 0.9266\n",
            "Model loss: 0.50798499584198\n",
            "Model acc: 0.9265999794006348\n"
          ]
        }
      ]
    },
    {
      "cell_type": "markdown",
      "source": [
        "### Epochs 30, batch size 32"
      ],
      "metadata": {
        "id": "oBHP2Z0aw3MU"
      }
    },
    {
      "cell_type": "code",
      "source": [
        "w2vHistory_3032 = model.fit(X_train, y_train, \n",
        "                          epochs=30, \n",
        "                          validation_split=0.2, \n",
        "                          batch_size=32,\n",
        "                          validation_data=(X_test, y_test))"
      ],
      "metadata": {
        "id": "pWnPEtE0w3MW",
        "colab": {
          "base_uri": "https://localhost:8080/"
        },
        "outputId": "2e4d2da3-7a83-4a99-e800-065f298f8d9d"
      },
      "execution_count": null,
      "outputs": [
        {
          "output_type": "stream",
          "name": "stdout",
          "text": [
            "Epoch 1/30\n",
            "375/375 [==============================] - 190s 499ms/step - loss: 4.1198 - accuracy: 0.6197 - val_loss: 3.7382 - val_accuracy: 0.4923\n",
            "Epoch 2/30\n",
            "375/375 [==============================] - 188s 502ms/step - loss: 1.6044 - accuracy: 0.8365 - val_loss: 1.3147 - val_accuracy: 0.6983\n",
            "Epoch 3/30\n",
            "375/375 [==============================] - 188s 501ms/step - loss: 0.7376 - accuracy: 0.9128 - val_loss: 0.6832 - val_accuracy: 0.8877\n",
            "Epoch 4/30\n",
            "375/375 [==============================] - 187s 500ms/step - loss: 0.5501 - accuracy: 0.9377 - val_loss: 0.6088 - val_accuracy: 0.9033\n",
            "Epoch 5/30\n",
            "375/375 [==============================] - 191s 509ms/step - loss: 0.4696 - accuracy: 0.9512 - val_loss: 0.5941 - val_accuracy: 0.8977\n",
            "Epoch 6/30\n",
            "375/375 [==============================] - 189s 503ms/step - loss: 0.4331 - accuracy: 0.9578 - val_loss: 0.5576 - val_accuracy: 0.9327\n",
            "Epoch 7/30\n",
            "375/375 [==============================] - 191s 509ms/step - loss: 0.3959 - accuracy: 0.9649 - val_loss: 0.5191 - val_accuracy: 0.9283\n",
            "Epoch 8/30\n",
            "375/375 [==============================] - 188s 502ms/step - loss: 0.3775 - accuracy: 0.9693 - val_loss: 0.5087 - val_accuracy: 0.9337\n",
            "Epoch 9/30\n",
            "375/375 [==============================] - 186s 496ms/step - loss: 0.3643 - accuracy: 0.9701 - val_loss: 0.4932 - val_accuracy: 0.9297\n",
            "Epoch 10/30\n",
            "375/375 [==============================] - 186s 496ms/step - loss: 0.3549 - accuracy: 0.9722 - val_loss: 0.5059 - val_accuracy: 0.9327\n",
            "Epoch 11/30\n",
            "375/375 [==============================] - 191s 509ms/step - loss: 0.3544 - accuracy: 0.9743 - val_loss: 0.5059 - val_accuracy: 0.9337\n",
            "Epoch 12/30\n",
            "375/375 [==============================] - 194s 518ms/step - loss: 0.3403 - accuracy: 0.9751 - val_loss: 0.6512 - val_accuracy: 0.8600\n",
            "Epoch 13/30\n",
            "375/375 [==============================] - 200s 534ms/step - loss: 0.3276 - accuracy: 0.9778 - val_loss: 0.4790 - val_accuracy: 0.9260\n",
            "Epoch 14/30\n",
            "375/375 [==============================] - 195s 520ms/step - loss: 0.3177 - accuracy: 0.9789 - val_loss: 0.4609 - val_accuracy: 0.9310\n",
            "Epoch 15/30\n",
            "375/375 [==============================] - 196s 524ms/step - loss: 0.2823 - accuracy: 0.9804 - val_loss: 0.5156 - val_accuracy: 0.9177\n",
            "Epoch 16/30\n",
            "375/375 [==============================] - 205s 548ms/step - loss: 0.3262 - accuracy: 0.9796 - val_loss: 0.4744 - val_accuracy: 0.9340\n",
            "Epoch 17/30\n",
            "375/375 [==============================] - 192s 511ms/step - loss: 0.2832 - accuracy: 0.9822 - val_loss: 0.5318 - val_accuracy: 0.9297\n",
            "Epoch 18/30\n",
            "375/375 [==============================] - 190s 507ms/step - loss: 0.2826 - accuracy: 0.9852 - val_loss: 0.5261 - val_accuracy: 0.9147\n",
            "Epoch 19/30\n",
            "375/375 [==============================] - 189s 503ms/step - loss: 0.2699 - accuracy: 0.9848 - val_loss: 0.5239 - val_accuracy: 0.9323\n",
            "Epoch 20/30\n",
            "375/375 [==============================] - 189s 504ms/step - loss: 0.2785 - accuracy: 0.9843 - val_loss: 0.4988 - val_accuracy: 0.9273\n",
            "Epoch 21/30\n",
            "375/375 [==============================] - 189s 504ms/step - loss: 0.2676 - accuracy: 0.9842 - val_loss: 0.5100 - val_accuracy: 0.9320\n",
            "Epoch 22/30\n",
            "375/375 [==============================] - 188s 501ms/step - loss: 0.2788 - accuracy: 0.9844 - val_loss: 0.4617 - val_accuracy: 0.9330\n",
            "Epoch 23/30\n",
            "375/375 [==============================] - 188s 501ms/step - loss: 0.2561 - accuracy: 0.9857 - val_loss: 0.4680 - val_accuracy: 0.9333\n",
            "Epoch 24/30\n",
            "375/375 [==============================] - 189s 505ms/step - loss: 0.2771 - accuracy: 0.9867 - val_loss: 0.5901 - val_accuracy: 0.9287\n",
            "Epoch 25/30\n",
            "375/375 [==============================] - 188s 500ms/step - loss: 0.2913 - accuracy: 0.9845 - val_loss: 0.4205 - val_accuracy: 0.9353\n",
            "Epoch 26/30\n",
            "375/375 [==============================] - 187s 498ms/step - loss: 0.2542 - accuracy: 0.9873 - val_loss: 0.4847 - val_accuracy: 0.9313\n",
            "Epoch 27/30\n",
            "375/375 [==============================] - 189s 503ms/step - loss: 0.2822 - accuracy: 0.9855 - val_loss: 0.4936 - val_accuracy: 0.9333\n",
            "Epoch 28/30\n",
            "375/375 [==============================] - 188s 502ms/step - loss: 0.2373 - accuracy: 0.9883 - val_loss: 0.5349 - val_accuracy: 0.9330\n",
            "Epoch 29/30\n",
            "375/375 [==============================] - 189s 504ms/step - loss: 0.2345 - accuracy: 0.9885 - val_loss: 0.5917 - val_accuracy: 0.9303\n",
            "Epoch 30/30\n",
            "375/375 [==============================] - 187s 500ms/step - loss: 0.2480 - accuracy: 0.9873 - val_loss: 0.4722 - val_accuracy: 0.9317\n"
          ]
        }
      ]
    },
    {
      "cell_type": "code",
      "source": [
        "plt.plot(w2vHistory_3032.history['accuracy'])\n",
        "plt.plot(w2vHistory_3032.history['val_accuracy'])\n",
        "plt.title('model accuracy')\n",
        "plt.ylabel('accuracy')\n",
        "plt.xlabel('epoch')\n",
        "plt.legend(['train', 'val'], loc='upper left')\n",
        "plt.show()"
      ],
      "metadata": {
        "id": "9Wqi2x_sw3MX",
        "colab": {
          "base_uri": "https://localhost:8080/",
          "height": 295
        },
        "outputId": "67b492eb-a224-44b6-be7f-874c99593dfe"
      },
      "execution_count": null,
      "outputs": [
        {
          "output_type": "display_data",
          "data": {
            "text/plain": [
              "<Figure size 432x288 with 1 Axes>"
            ],
            "image/png": "[encoded data removed]"
          },
          "metadata": {
            "needs_background": "light"
          }
        }
      ]
    },
    {
      "cell_type": "code",
      "source": [
        "plt.plot(w2vHistory_3032.history['loss'])\n",
        "plt.plot(w2vHistory_3032.history['val_loss'])\n",
        "plt.title('model loss')\n",
        "plt.ylabel('loss')\n",
        "plt.xlabel('epoch')\n",
        "plt.legend(['train', 'val'], loc='upper left')\n",
        "plt.show()"
      ],
      "metadata": {
        "id": "CcMlz_8uw3MY",
        "colab": {
          "base_uri": "https://localhost:8080/",
          "height": 295
        },
        "outputId": "369bde92-3229-42ee-85da-82e920849262"
      },
      "execution_count": null,
      "outputs": [
        {
          "output_type": "display_data",
          "data": {
            "text/plain": [
              "<Figure size 432x288 with 1 Axes>"
            ],
            "image/png": "[encoded data removed]"
          },
          "metadata": {
            "needs_background": "light"
          }
        }
      ]
    },
    {
      "cell_type": "code",
      "source": [
        "loss, acc = model.evaluate(X_test, y_test, batch_size=32)\n",
        "print('Model loss: {}'.format(loss))\n",
        "print('Model acc: {}'.format(acc))"
      ],
      "metadata": {
        "id": "lEL14Vqxw3MZ",
        "colab": {
          "base_uri": "https://localhost:8080/"
        },
        "outputId": "2c3e191e-d2c0-4278-925a-0ba5c078af12"
      },
      "execution_count": null,
      "outputs": [
        {
          "output_type": "stream",
          "name": "stdout",
          "text": [
            "157/157 [==============================] - 2s 14ms/step - loss: 0.5010 - accuracy: 0.9242\n",
            "Model loss: 0.501036524772644\n",
            "Model acc: 0.9241999983787537\n"
          ]
        }
      ]
    },
    {
      "cell_type": "markdown",
      "source": [
        "### Epochs 30, batch size 64"
      ],
      "metadata": {
        "id": "9DaXSnmwyHkd"
      }
    },
    {
      "cell_type": "code",
      "source": [
        "w2vHistory_3064 = model.fit(X_train, y_train, \n",
        "                          epochs=30, \n",
        "                          validation_split=0.2, \n",
        "                          batch_size=64,\n",
        "                          validation_data=(X_test, y_test))"
      ],
      "metadata": {
        "id": "P0ACU8ZIyHk7",
        "colab": {
          "base_uri": "https://localhost:8080/"
        },
        "outputId": "2d731523-cdd4-4099-b804-20e3672dd052"
      },
      "execution_count": null,
      "outputs": [
        {
          "output_type": "stream",
          "name": "stdout",
          "text": [
            "Epoch 1/30\n",
            "188/188 [==============================] - 109s 563ms/step - loss: 4.6048 - accuracy: 0.5788 - val_loss: 3.9433 - val_accuracy: 0.4923\n",
            "Epoch 2/30\n",
            "188/188 [==============================] - 105s 559ms/step - loss: 2.3173 - accuracy: 0.7684 - val_loss: 3.8940 - val_accuracy: 0.4923\n",
            "Epoch 3/30\n",
            "188/188 [==============================] - 106s 562ms/step - loss: 1.1100 - accuracy: 0.8878 - val_loss: 1.7687 - val_accuracy: 0.5550\n",
            "Epoch 4/30\n",
            "188/188 [==============================] - 106s 562ms/step - loss: 0.6322 - accuracy: 0.9297 - val_loss: 0.7417 - val_accuracy: 0.8427\n",
            "Epoch 5/30\n",
            "188/188 [==============================] - 107s 570ms/step - loss: 0.4624 - accuracy: 0.9502 - val_loss: 0.5589 - val_accuracy: 0.8877\n",
            "Epoch 6/30\n",
            "188/188 [==============================] - 106s 564ms/step - loss: 0.3936 - accuracy: 0.9589 - val_loss: 0.4995 - val_accuracy: 0.9117\n",
            "Epoch 7/30\n",
            "188/188 [==============================] - 106s 562ms/step - loss: 0.3548 - accuracy: 0.9668 - val_loss: 0.5058 - val_accuracy: 0.9083\n",
            "Epoch 8/30\n",
            "188/188 [==============================] - 106s 562ms/step - loss: 0.3262 - accuracy: 0.9726 - val_loss: 0.5065 - val_accuracy: 0.9180\n",
            "Epoch 9/30\n",
            "188/188 [==============================] - 105s 558ms/step - loss: 0.3224 - accuracy: 0.9739 - val_loss: 0.5309 - val_accuracy: 0.9040\n",
            "Epoch 10/30\n",
            "188/188 [==============================] - 106s 563ms/step - loss: 0.3049 - accuracy: 0.9755 - val_loss: 0.4832 - val_accuracy: 0.9210\n",
            "Epoch 11/30\n",
            "188/188 [==============================] - 105s 561ms/step - loss: 0.2755 - accuracy: 0.9802 - val_loss: 0.4537 - val_accuracy: 0.9210\n",
            "Epoch 12/30\n",
            "188/188 [==============================] - 104s 554ms/step - loss: 0.2769 - accuracy: 0.9779 - val_loss: 0.5458 - val_accuracy: 0.9100\n",
            "Epoch 13/30\n",
            "188/188 [==============================] - 104s 551ms/step - loss: 0.2599 - accuracy: 0.9820 - val_loss: 0.4663 - val_accuracy: 0.9230\n",
            "Epoch 14/30\n",
            "188/188 [==============================] - 105s 558ms/step - loss: 0.2390 - accuracy: 0.9820 - val_loss: 0.4511 - val_accuracy: 0.9203\n",
            "Epoch 15/30\n",
            "188/188 [==============================] - 105s 558ms/step - loss: 0.2347 - accuracy: 0.9838 - val_loss: 0.4453 - val_accuracy: 0.9207\n",
            "Epoch 16/30\n",
            "188/188 [==============================] - 105s 558ms/step - loss: 0.2292 - accuracy: 0.9851 - val_loss: 0.4728 - val_accuracy: 0.9233\n",
            "Epoch 17/30\n",
            "188/188 [==============================] - 105s 557ms/step - loss: 0.2325 - accuracy: 0.9864 - val_loss: 0.4742 - val_accuracy: 0.9143\n",
            "Epoch 18/30\n",
            "188/188 [==============================] - 108s 574ms/step - loss: 0.2377 - accuracy: 0.9847 - val_loss: 0.4752 - val_accuracy: 0.9253\n",
            "Epoch 19/30\n",
            "188/188 [==============================] - 105s 560ms/step - loss: 0.2101 - accuracy: 0.9887 - val_loss: 0.4876 - val_accuracy: 0.9257\n",
            "Epoch 20/30\n",
            "188/188 [==============================] - 105s 560ms/step - loss: 0.2410 - accuracy: 0.9868 - val_loss: 0.4868 - val_accuracy: 0.9270\n",
            "Epoch 21/30\n",
            "188/188 [==============================] - 105s 559ms/step - loss: 0.2246 - accuracy: 0.9877 - val_loss: 0.5208 - val_accuracy: 0.9133\n",
            "Epoch 22/30\n",
            "188/188 [==============================] - 104s 554ms/step - loss: 0.2228 - accuracy: 0.9897 - val_loss: 0.4934 - val_accuracy: 0.9200\n",
            "Epoch 23/30\n",
            "188/188 [==============================] - 104s 552ms/step - loss: 0.2198 - accuracy: 0.9876 - val_loss: 0.5250 - val_accuracy: 0.9250\n",
            "Epoch 24/30\n",
            "188/188 [==============================] - 104s 554ms/step - loss: 0.2089 - accuracy: 0.9904 - val_loss: 0.4029 - val_accuracy: 0.9220\n",
            "Epoch 25/30\n",
            "188/188 [==============================] - 104s 554ms/step - loss: 0.1765 - accuracy: 0.9906 - val_loss: 0.4443 - val_accuracy: 0.9147\n",
            "Epoch 26/30\n",
            "188/188 [==============================] - 104s 552ms/step - loss: 0.1918 - accuracy: 0.9891 - val_loss: 0.5233 - val_accuracy: 0.9280\n",
            "Epoch 27/30\n",
            "188/188 [==============================] - 104s 553ms/step - loss: 0.2072 - accuracy: 0.9902 - val_loss: 0.4894 - val_accuracy: 0.9237\n",
            "Epoch 28/30\n",
            "188/188 [==============================] - 104s 553ms/step - loss: 0.2058 - accuracy: 0.9895 - val_loss: 0.5342 - val_accuracy: 0.9240\n",
            "Epoch 29/30\n",
            "188/188 [==============================] - 104s 552ms/step - loss: 0.2012 - accuracy: 0.9902 - val_loss: 0.4827 - val_accuracy: 0.9233\n",
            "Epoch 30/30\n",
            "188/188 [==============================] - 104s 553ms/step - loss: 0.1804 - accuracy: 0.9915 - val_loss: 0.4452 - val_accuracy: 0.9250\n"
          ]
        }
      ]
    },
    {
      "cell_type": "code",
      "source": [
        "plt.plot(w2vHistory_3064.history['accuracy'])\n",
        "plt.plot(w2vHistory_3064.history['val_accuracy'])\n",
        "plt.title('model accuracy')\n",
        "plt.ylabel('accuracy')\n",
        "plt.xlabel('epoch')\n",
        "plt.legend(['train', 'val'], loc='upper left')\n",
        "plt.show()"
      ],
      "metadata": {
        "id": "tAiMbxidyHk9",
        "colab": {
          "base_uri": "https://localhost:8080/",
          "height": 295
        },
        "outputId": "7148b1f1-e9f8-4184-86b7-91d5caa38a34"
      },
      "execution_count": null,
      "outputs": [
        {
          "output_type": "display_data",
          "data": {
            "text/plain": [
              "<Figure size 432x288 with 1 Axes>"
            ],
            "image/png": "[encoded data removed]"
          },
          "metadata": {
            "needs_background": "light"
          }
        }
      ]
    },
    {
      "cell_type": "code",
      "source": [
        "plt.plot(w2vHistory_3064.history['loss'])\n",
        "plt.plot(w2vHistory_3064.history['val_loss'])\n",
        "plt.title('model loss')\n",
        "plt.ylabel('loss')\n",
        "plt.xlabel('epoch')\n",
        "plt.legend(['train', 'val'], loc='upper left')\n",
        "plt.show()"
      ],
      "metadata": {
        "id": "XF6djUWbyHk-",
        "colab": {
          "base_uri": "https://localhost:8080/",
          "height": 295
        },
        "outputId": "04b4225f-5857-4e7a-a591-e1c283882071"
      },
      "execution_count": null,
      "outputs": [
        {
          "output_type": "display_data",
          "data": {
            "text/plain": [
              "<Figure size 432x288 with 1 Axes>"
            ],
            "image/png": "[encoded data removed]"
          },
          "metadata": {
            "needs_background": "light"
          }
        }
      ]
    },
    {
      "cell_type": "code",
      "source": [
        "loss, acc = model.evaluate(X_test, y_test, batch_size=64)\n",
        "print('Model loss: {}'.format(loss))\n",
        "print('Model acc: {}'.format(acc))"
      ],
      "metadata": {
        "id": "82i5cIrFyHk_",
        "colab": {
          "base_uri": "https://localhost:8080/"
        },
        "outputId": "4950bc8c-0a46-4641-93c3-f1dd0e00b2d2"
      },
      "execution_count": null,
      "outputs": [
        {
          "output_type": "stream",
          "name": "stdout",
          "text": [
            "79/79 [==============================] - 2s 23ms/step - loss: 0.4929 - accuracy: 0.9198\n",
            "Model loss: 0.4928644597530365\n",
            "Model acc: 0.9197999835014343\n"
          ]
        }
      ]
    },
    {
      "cell_type": "markdown",
      "source": [
        "### Epochs 30, batch size 128"
      ],
      "metadata": {
        "id": "LvpMOmQKylJC"
      }
    },
    {
      "cell_type": "code",
      "source": [
        "w2vHistory_30128 = model.fit(X_train, y_train, \n",
        "                          epochs=30, \n",
        "                          validation_split=0.2, \n",
        "                          batch_size=128,\n",
        "                          validation_data=(X_test, y_test))"
      ],
      "metadata": {
        "id": "e8Kmvf5dylJE",
        "colab": {
          "base_uri": "https://localhost:8080/"
        },
        "outputId": "d1409d75-39e3-4bb8-d3cd-155165d3b3e2"
      },
      "execution_count": null,
      "outputs": [
        {
          "output_type": "stream",
          "name": "stdout",
          "text": [
            "Epoch 1/30\n",
            "94/94 [==============================] - 67s 671ms/step - loss: 5.0194 - accuracy: 0.5608 - val_loss: 4.4438 - val_accuracy: 0.4923\n",
            "Epoch 2/30\n",
            "94/94 [==============================] - 64s 685ms/step - loss: 3.1737 - accuracy: 0.6815 - val_loss: 4.6254 - val_accuracy: 0.4923\n",
            "Epoch 3/30\n",
            "94/94 [==============================] - 63s 675ms/step - loss: 1.8609 - accuracy: 0.8324 - val_loss: 4.4684 - val_accuracy: 0.4923\n",
            "Epoch 4/30\n",
            "94/94 [==============================] - 63s 670ms/step - loss: 1.0868 - accuracy: 0.9027 - val_loss: 3.5905 - val_accuracy: 0.4923\n",
            "Epoch 5/30\n",
            "94/94 [==============================] - 62s 659ms/step - loss: 0.6770 - accuracy: 0.9352 - val_loss: 2.6759 - val_accuracy: 0.4927\n",
            "Epoch 6/30\n",
            "94/94 [==============================] - 62s 659ms/step - loss: 0.4711 - accuracy: 0.9517 - val_loss: 1.6553 - val_accuracy: 0.5637\n",
            "Epoch 7/30\n",
            "94/94 [==============================] - 62s 658ms/step - loss: 0.3776 - accuracy: 0.9620 - val_loss: 0.8203 - val_accuracy: 0.7967\n",
            "Epoch 8/30\n",
            "94/94 [==============================] - 62s 658ms/step - loss: 0.3305 - accuracy: 0.9706 - val_loss: 0.6608 - val_accuracy: 0.8490\n",
            "Epoch 9/30\n",
            "94/94 [==============================] - 62s 660ms/step - loss: 0.2990 - accuracy: 0.9734 - val_loss: 0.6596 - val_accuracy: 0.8557\n",
            "Epoch 10/30\n",
            "94/94 [==============================] - 66s 702ms/step - loss: 0.2822 - accuracy: 0.9760 - val_loss: 0.5640 - val_accuracy: 0.8897\n",
            "Epoch 11/30\n",
            "94/94 [==============================] - 62s 662ms/step - loss: 0.2552 - accuracy: 0.9793 - val_loss: 0.5021 - val_accuracy: 0.8983\n",
            "Epoch 12/30\n",
            "94/94 [==============================] - 63s 665ms/step - loss: 0.2359 - accuracy: 0.9830 - val_loss: 0.4705 - val_accuracy: 0.9163\n",
            "Epoch 13/30\n",
            "94/94 [==============================] - 62s 663ms/step - loss: 0.2314 - accuracy: 0.9829 - val_loss: 0.5245 - val_accuracy: 0.9010\n",
            "Epoch 14/30\n",
            "94/94 [==============================] - 62s 664ms/step - loss: 0.2487 - accuracy: 0.9830 - val_loss: 0.4647 - val_accuracy: 0.9143\n",
            "Epoch 15/30\n",
            "94/94 [==============================] - 62s 665ms/step - loss: 0.2305 - accuracy: 0.9855 - val_loss: 0.5326 - val_accuracy: 0.9010\n",
            "Epoch 16/30\n",
            "94/94 [==============================] - 62s 662ms/step - loss: 0.2215 - accuracy: 0.9861 - val_loss: 0.4999 - val_accuracy: 0.9123\n",
            "Epoch 17/30\n",
            "94/94 [==============================] - 62s 663ms/step - loss: 0.2197 - accuracy: 0.9859 - val_loss: 0.4860 - val_accuracy: 0.9153\n",
            "Epoch 18/30\n",
            "94/94 [==============================] - 62s 663ms/step - loss: 0.2041 - accuracy: 0.9872 - val_loss: 0.5200 - val_accuracy: 0.9163\n",
            "Epoch 19/30\n",
            "94/94 [==============================] - 63s 665ms/step - loss: 0.1912 - accuracy: 0.9892 - val_loss: 0.5244 - val_accuracy: 0.9003\n",
            "Epoch 20/30\n",
            "94/94 [==============================] - 65s 694ms/step - loss: 0.1822 - accuracy: 0.9885 - val_loss: 0.4701 - val_accuracy: 0.9147\n",
            "Epoch 21/30\n",
            "94/94 [==============================] - 63s 670ms/step - loss: 0.1857 - accuracy: 0.9883 - val_loss: 0.4748 - val_accuracy: 0.9180\n",
            "Epoch 22/30\n",
            "94/94 [==============================] - 63s 669ms/step - loss: 0.1730 - accuracy: 0.9911 - val_loss: 0.4485 - val_accuracy: 0.9137\n",
            "Epoch 23/30\n",
            "94/94 [==============================] - 63s 674ms/step - loss: 0.1501 - accuracy: 0.9920 - val_loss: 0.4808 - val_accuracy: 0.9140\n",
            "Epoch 24/30\n",
            "94/94 [==============================] - 63s 670ms/step - loss: 0.1784 - accuracy: 0.9898 - val_loss: 0.4898 - val_accuracy: 0.9203\n",
            "Epoch 25/30\n",
            "94/94 [==============================] - 63s 671ms/step - loss: 0.1886 - accuracy: 0.9887 - val_loss: 0.4870 - val_accuracy: 0.9273\n",
            "Epoch 26/30\n",
            "94/94 [==============================] - 63s 670ms/step - loss: 0.1808 - accuracy: 0.9918 - val_loss: 0.4832 - val_accuracy: 0.9173\n",
            "Epoch 27/30\n",
            "94/94 [==============================] - 63s 675ms/step - loss: 0.1586 - accuracy: 0.9914 - val_loss: 0.4502 - val_accuracy: 0.9297\n",
            "Epoch 28/30\n",
            "94/94 [==============================] - 63s 672ms/step - loss: 0.1485 - accuracy: 0.9922 - val_loss: 0.4353 - val_accuracy: 0.9200\n",
            "Epoch 29/30\n",
            "94/94 [==============================] - 63s 673ms/step - loss: 0.1374 - accuracy: 0.9916 - val_loss: 0.4870 - val_accuracy: 0.9197\n",
            "Epoch 30/30\n",
            "94/94 [==============================] - 63s 672ms/step - loss: 0.1689 - accuracy: 0.9928 - val_loss: 0.4599 - val_accuracy: 0.9243\n"
          ]
        }
      ]
    },
    {
      "cell_type": "code",
      "source": [
        "plt.plot(w2vHistory_30128.history['accuracy'])\n",
        "plt.plot(w2vHistory_30128.history['val_accuracy'])\n",
        "plt.title('model accuracy')\n",
        "plt.ylabel('accuracy')\n",
        "plt.xlabel('epoch')\n",
        "plt.legend(['train', 'val'], loc='upper left')\n",
        "plt.show()"
      ],
      "metadata": {
        "id": "VBP6iVJEylJG",
        "colab": {
          "base_uri": "https://localhost:8080/",
          "height": 295
        },
        "outputId": "b565e710-83ad-4a74-feac-ac03283a9931"
      },
      "execution_count": null,
      "outputs": [
        {
          "output_type": "display_data",
          "data": {
            "text/plain": [
              "<Figure size 432x288 with 1 Axes>"
            ],
            "image/png": "[encoded data removed]"
          },
          "metadata": {
            "needs_background": "light"
          }
        }
      ]
    },
    {
      "cell_type": "code",
      "source": [
        "plt.plot(w2vHistory_30128.history['loss'])\n",
        "plt.plot(w2vHistory_30128.history['val_loss'])\n",
        "plt.title('model loss')\n",
        "plt.ylabel('loss')\n",
        "plt.xlabel('epoch')\n",
        "plt.legend(['train', 'val'], loc='upper left')\n",
        "plt.show()"
      ],
      "metadata": {
        "id": "dLzizDdtylJH",
        "colab": {
          "base_uri": "https://localhost:8080/",
          "height": 295
        },
        "outputId": "0db38ae5-219d-47b2-d66d-20a431447281"
      },
      "execution_count": null,
      "outputs": [
        {
          "output_type": "display_data",
          "data": {
            "text/plain": [
              "<Figure size 432x288 with 1 Axes>"
            ],
            "image/png": "[encoded data removed]"
          },
          "metadata": {
            "needs_background": "light"
          }
        }
      ]
    },
    {
      "cell_type": "code",
      "source": [
        "loss, acc = model.evaluate(X_test, y_test, batch_size=128)\n",
        "print('Model loss: {}'.format(loss))\n",
        "print('Model acc: {}'.format(acc))"
      ],
      "metadata": {
        "id": "8jjIIMCsylJI",
        "colab": {
          "base_uri": "https://localhost:8080/"
        },
        "outputId": "8fa6c360-c3d1-465d-ebf3-4cd2f2df427f"
      },
      "execution_count": null,
      "outputs": [
        {
          "output_type": "stream",
          "name": "stdout",
          "text": [
            "40/40 [==============================] - 2s 41ms/step - loss: 0.4622 - accuracy: 0.9244\n",
            "Model loss: 0.4622427225112915\n",
            "Model acc: 0.9243999719619751\n"
          ]
        }
      ]
    },
    {
      "cell_type": "markdown",
      "source": [
        "### Fixed model (epochs 20 batch size 64)"
      ],
      "metadata": {
        "id": "yfghR-75GZ3O"
      }
    },
    {
      "cell_type": "code",
      "source": [
        "model = Sequential()\n",
        "model.add(embedding_layer)\n",
        "model.add(BatchNormalization())\n",
        "model.add(Dropout(0.4))\n",
        "model.add(Conv1D(filters=128, kernel_size=5, padding='same', activation='relu', kernel_regularizer=regularizers.l2(l=0.01),\n",
        "                  kernel_initializer='he_normal'))\n",
        "model.add(BatchNormalization())\n",
        "model.add(Dropout(0.4))\n",
        "model.add(Conv1D(filters=128, kernel_size=3, padding='same', activation='relu', kernel_regularizer=regularizers.l2(l=0.01),\n",
        "                  kernel_initializer='he_normal'))\n",
        "model.add(MaxPooling1D(pool_size=3))\n",
        "model.add(BatchNormalization())\n",
        "model.add(Dropout(0.4))\n",
        "model.add(Flatten())\n",
        "model.add(BatchNormalization())\n",
        "model.add(Dropout(0.4))\n",
        "model.add(Dense(64, activation='relu'))\n",
        "model.add(BatchNormalization())\n",
        "model.add(Dropout(0.4))\n",
        "model.add(Dense(32, activation = 'relu'))\n",
        "model.add(BatchNormalization())\n",
        "model.add(Dropout(0.4))\n",
        "model.add(Dense(1, activation='sigmoid'))\n",
        "\n",
        "adam = Adam(lr=0.0001, beta_1=0.9, beta_2=0.999, epsilon=1e-08, decay=0.0)\n",
        "model.compile(loss='binary_crossentropy', optimizer='adam', metrics=['accuracy'])\n",
        "model.summary()"
      ],
      "metadata": {
        "id": "H7iR5CYLGhwf",
        "colab": {
          "base_uri": "https://localhost:8080/"
        },
        "outputId": "d4840f4f-1821-4522-c80a-1e89a87b3b0a"
      },
      "execution_count": null,
      "outputs": [
        {
          "output_type": "stream",
          "name": "stdout",
          "text": [
            "Model: \"sequential_1\"\n",
            "_________________________________________________________________\n",
            " Layer (type)                Output Shape              Param #   \n",
            "=================================================================\n",
            " embedding (Embedding)       (None, 30, 300)           45000000  \n",
            "                                                                 \n",
            " batch_normalization_6 (Batc  (None, 30, 300)          1200      \n",
            " hNormalization)                                                 \n",
            "                                                                 \n",
            " dropout_6 (Dropout)         (None, 30, 300)           0         \n",
            "                                                                 \n",
            " conv1d_2 (Conv1D)           (None, 30, 128)           192128    \n",
            "                                                                 \n",
            " batch_normalization_7 (Batc  (None, 30, 128)          512       \n",
            " hNormalization)                                                 \n",
            "                                                                 \n",
            " dropout_7 (Dropout)         (None, 30, 128)           0         \n",
            "                                                                 \n",
            " conv1d_3 (Conv1D)           (None, 30, 128)           49280     \n",
            "                                                                 \n",
            " max_pooling1d_1 (MaxPooling  (None, 10, 128)          0         \n",
            " 1D)                                                             \n",
            "                                                                 \n",
            " batch_normalization_8 (Batc  (None, 10, 128)          512       \n",
            " hNormalization)                                                 \n",
            "                                                                 \n",
            " dropout_8 (Dropout)         (None, 10, 128)           0         \n",
            "                                                                 \n",
            " flatten_1 (Flatten)         (None, 1280)              0         \n",
            "                                                                 \n",
            " batch_normalization_9 (Batc  (None, 1280)             5120      \n",
            " hNormalization)                                                 \n",
            "                                                                 \n",
            " dropout_9 (Dropout)         (None, 1280)              0         \n",
            "                                                                 \n",
            " dense_3 (Dense)             (None, 64)                81984     \n",
            "                                                                 \n",
            " batch_normalization_10 (Bat  (None, 64)               256       \n",
            " chNormalization)                                                \n",
            "                                                                 \n",
            " dropout_10 (Dropout)        (None, 64)                0         \n",
            "                                                                 \n",
            " dense_4 (Dense)             (None, 32)                2080      \n",
            "                                                                 \n",
            " batch_normalization_11 (Bat  (None, 32)               128       \n",
            " chNormalization)                                                \n",
            "                                                                 \n",
            " dropout_11 (Dropout)        (None, 32)                0         \n",
            "                                                                 \n",
            " dense_5 (Dense)             (None, 1)                 33        \n",
            "                                                                 \n",
            "=================================================================\n",
            "Total params: 45,333,233\n",
            "Trainable params: 45,329,369\n",
            "Non-trainable params: 3,864\n",
            "_________________________________________________________________\n"
          ]
        },
        {
          "output_type": "stream",
          "name": "stderr",
          "text": [
            "/usr/local/lib/python3.7/dist-packages/keras/optimizer_v2/adam.py:105: UserWarning: The `lr` argument is deprecated, use `learning_rate` instead.\n",
            "  super(Adam, self).__init__(name, **kwargs)\n"
          ]
        }
      ]
    },
    {
      "cell_type": "code",
      "source": [
        "cnnModelW2v = model.fit(X_train, y_train,\n",
        "                        epochs=20,\n",
        "                        batch_size=64,\n",
        "                        validation_data=(X_test, y_test))"
      ],
      "metadata": {
        "id": "lJZdzNO2GmEn",
        "colab": {
          "base_uri": "https://localhost:8080/"
        },
        "outputId": "2444e364-95d6-4b68-8029-ea6775603b57"
      },
      "execution_count": null,
      "outputs": [
        {
          "output_type": "stream",
          "name": "stdout",
          "text": [
            "Epoch 1/20\n",
            "235/235 [==============================] - 140s 581ms/step - loss: 3.6019 - accuracy: 0.8619 - val_loss: 1.8684 - val_accuracy: 0.8634\n",
            "Epoch 2/20\n",
            "235/235 [==============================] - 134s 570ms/step - loss: 0.8868 - accuracy: 0.9713 - val_loss: 0.5784 - val_accuracy: 0.9342\n",
            "Epoch 3/20\n",
            "235/235 [==============================] - 132s 563ms/step - loss: 0.3566 - accuracy: 0.9784 - val_loss: 0.4339 - val_accuracy: 0.9374\n",
            "Epoch 4/20\n",
            "235/235 [==============================] - 132s 564ms/step - loss: 0.2644 - accuracy: 0.9793 - val_loss: 0.4428 - val_accuracy: 0.9326\n",
            "Epoch 5/20\n",
            "235/235 [==============================] - 133s 565ms/step - loss: 0.2511 - accuracy: 0.9833 - val_loss: 0.4861 - val_accuracy: 0.9332\n",
            "Epoch 6/20\n",
            "235/235 [==============================] - 133s 565ms/step - loss: 0.2514 - accuracy: 0.9825 - val_loss: 0.4280 - val_accuracy: 0.9330\n",
            "Epoch 7/20\n",
            "235/235 [==============================] - 136s 579ms/step - loss: 0.2011 - accuracy: 0.9872 - val_loss: 0.4641 - val_accuracy: 0.9352\n",
            "Epoch 8/20\n",
            "235/235 [==============================] - 132s 563ms/step - loss: 0.2235 - accuracy: 0.9861 - val_loss: 0.4448 - val_accuracy: 0.9332\n",
            "Epoch 9/20\n",
            "235/235 [==============================] - 132s 564ms/step - loss: 0.2074 - accuracy: 0.9863 - val_loss: 0.4723 - val_accuracy: 0.9336\n",
            "Epoch 10/20\n",
            "235/235 [==============================] - 133s 564ms/step - loss: 0.2148 - accuracy: 0.9857 - val_loss: 0.4608 - val_accuracy: 0.9292\n",
            "Epoch 11/20\n",
            "235/235 [==============================] - 133s 566ms/step - loss: 0.1860 - accuracy: 0.9886 - val_loss: 0.4648 - val_accuracy: 0.9316\n",
            "Epoch 12/20\n",
            "235/235 [==============================] - 133s 565ms/step - loss: 0.2133 - accuracy: 0.9892 - val_loss: 0.4520 - val_accuracy: 0.9314\n",
            "Epoch 13/20\n",
            "235/235 [==============================] - 133s 564ms/step - loss: 0.2013 - accuracy: 0.9897 - val_loss: 0.4910 - val_accuracy: 0.9298\n",
            "Epoch 14/20\n",
            "235/235 [==============================] - 132s 562ms/step - loss: 0.2112 - accuracy: 0.9882 - val_loss: 0.4798 - val_accuracy: 0.9344\n",
            "Epoch 15/20\n",
            "235/235 [==============================] - 132s 562ms/step - loss: 0.1928 - accuracy: 0.9899 - val_loss: 0.4851 - val_accuracy: 0.9264\n",
            "Epoch 16/20\n",
            "235/235 [==============================] - 132s 564ms/step - loss: 0.1964 - accuracy: 0.9890 - val_loss: 0.4759 - val_accuracy: 0.9254\n",
            "Epoch 17/20\n",
            "235/235 [==============================] - 132s 563ms/step - loss: 0.1826 - accuracy: 0.9889 - val_loss: 0.4464 - val_accuracy: 0.9302\n",
            "Epoch 18/20\n",
            "235/235 [==============================] - 132s 563ms/step - loss: 0.1828 - accuracy: 0.9903 - val_loss: 0.4375 - val_accuracy: 0.9292\n",
            "Epoch 19/20\n",
            "235/235 [==============================] - 132s 563ms/step - loss: 0.1824 - accuracy: 0.9899 - val_loss: 0.4581 - val_accuracy: 0.9286\n",
            "Epoch 20/20\n",
            "235/235 [==============================] - 132s 562ms/step - loss: 0.1766 - accuracy: 0.9903 - val_loss: 0.5233 - val_accuracy: 0.9206\n"
          ]
        }
      ]
    },
    {
      "cell_type": "code",
      "source": [
        "plt.plot(cnnModelW2v.history['accuracy'])\n",
        "plt.plot(cnnModelW2v.history['val_accuracy'])\n",
        "plt.title('model accuracy')\n",
        "plt.ylabel('accuracy')\n",
        "plt.xlabel('epoch')\n",
        "plt.legend(['train', 'val'], loc='upper left')\n",
        "plt.show()"
      ],
      "metadata": {
        "colab": {
          "base_uri": "https://localhost:8080/",
          "height": 295
        },
        "id": "ii5Dpc2ktkFV",
        "outputId": "3d95b9ac-42ab-4e70-b2ce-73960620bdbb"
      },
      "execution_count": null,
      "outputs": [
        {
          "output_type": "display_data",
          "data": {
            "text/plain": [
              "<Figure size 432x288 with 1 Axes>"
            ],
            "image/png": "[encoded data removed]"
          },
          "metadata": {
            "needs_background": "light"
          }
        }
      ]
    },
    {
      "cell_type": "code",
      "source": [
        "plt.plot(cnnModelW2v.history['loss'])\n",
        "plt.plot(cnnModelW2v.history['val_loss'])\n",
        "plt.title('model loss')\n",
        "plt.ylabel('loss')\n",
        "plt.xlabel('epoch')\n",
        "plt.legend(['train', 'val'], loc='upper left')\n",
        "plt.show()"
      ],
      "metadata": {
        "colab": {
          "base_uri": "https://localhost:8080/",
          "height": 295
        },
        "id": "PvYNHu_2tszC",
        "outputId": "08d16578-66f7-4b71-9f57-7707c1784725"
      },
      "execution_count": null,
      "outputs": [
        {
          "output_type": "display_data",
          "data": {
            "text/plain": [
              "<Figure size 432x288 with 1 Axes>"
            ],
            "image/png": "[encoded data removed]"
          },
          "metadata": {
            "needs_background": "light"
          }
        }
      ]
    },
    {
      "cell_type": "code",
      "source": [
        "loss, acc = model.evaluate(X_test, y_test, batch_size=64)\n",
        "print('Model loss: {}'.format(loss))\n",
        "print('Model acc: {}'.format(acc))"
      ],
      "metadata": {
        "colab": {
          "base_uri": "https://localhost:8080/"
        },
        "id": "dP24ROEIt1Zr",
        "outputId": "d6651076-8a5e-45de-8bc4-a25d70baecd5"
      },
      "execution_count": null,
      "outputs": [
        {
          "output_type": "stream",
          "name": "stdout",
          "text": [
            "79/79 [==============================] - 2s 27ms/step - loss: 0.5233 - accuracy: 0.9206\n",
            "Model loss: 0.5233425498008728\n",
            "Model acc: 0.9205999970436096\n"
          ]
        }
      ]
    },
    {
      "cell_type": "markdown",
      "source": [
        "# Glove"
      ],
      "metadata": {
        "id": "uUShfvBWzFHk"
      }
    },
    {
      "cell_type": "markdown",
      "source": [
        "## Embedding layer"
      ],
      "metadata": {
        "id": "fQx8I6KMzFHn"
      }
    },
    {
      "cell_type": "code",
      "source": [
        "import os"
      ],
      "metadata": {
        "id": "cr90DZ0Tze40"
      },
      "execution_count": null,
      "outputs": []
    },
    {
      "cell_type": "code",
      "source": [
        "!wget http://nlp.stanford.edu/data/glove.6B.zip"
      ],
      "metadata": {
        "id": "ge945wJGzFHo",
        "colab": {
          "base_uri": "https://localhost:8080/"
        },
        "outputId": "fd01be41-0385-4ff1-b297-9da0c9ad1ef0"
      },
      "execution_count": null,
      "outputs": [
        {
          "output_type": "stream",
          "name": "stdout",
          "text": [
            "--2022-07-22 05:31:22--  http://nlp.stanford.edu/data/glove.6B.zip\n",
            "Resolving nlp.stanford.edu (nlp.stanford.edu)... 171.64.67.140\n",
            "Connecting to nlp.stanford.edu (nlp.stanford.edu)|171.64.67.140|:80... connected.\n",
            "HTTP request sent, awaiting response... 302 Found\n",
            "Location: https://nlp.stanford.edu/data/glove.6B.zip [following]\n",
            "--2022-07-22 05:31:22--  https://nlp.stanford.edu/data/glove.6B.zip\n",
            "Connecting to nlp.stanford.edu (nlp.stanford.edu)|171.64.67.140|:443... connected.\n",
            "HTTP request sent, awaiting response... 301 Moved Permanently\n",
            "Location: https://downloads.cs.stanford.edu/nlp/data/glove.6B.zip [following]\n",
            "--2022-07-22 05:31:22--  https://downloads.cs.stanford.edu/nlp/data/glove.6B.zip\n",
            "Resolving downloads.cs.stanford.edu (downloads.cs.stanford.edu)... 171.64.64.22\n",
            "Connecting to downloads.cs.stanford.edu (downloads.cs.stanford.edu)|171.64.64.22|:443... connected.\n",
            "HTTP request sent, awaiting response... 200 OK\n",
            "Length: 862182613 (822M) [application/zip]\n",
            "Saving to: ‘glove.6B.zip’\n",
            "\n",
            "glove.6B.zip        100%[===================>] 822.24M  5.10MB/s    in 2m 41s  \n",
            "\n",
            "2022-07-22 05:34:03 (5.12 MB/s) - ‘glove.6B.zip’ saved [862182613/862182613]\n",
            "\n"
          ]
        }
      ]
    },
    {
      "cell_type": "code",
      "source": [
        "!unzip -q glove.6B.zip"
      ],
      "metadata": {
        "id": "ynOMH8JHzLlI"
      },
      "execution_count": null,
      "outputs": []
    },
    {
      "cell_type": "code",
      "source": [
        "from gensim.scripts.glove2word2vec import glove2word2vec\n",
        "glove_input_file = 'glove.6B.300d.txt'\n",
        "word2vec_output_file = 'word2vec.txt'\n",
        "# The first step is to convert the GloVe file format to the word2vec file format. \n",
        "# The only difference is the addition of a small header line. This can be done by calling the \n",
        "# glove2word2vec() function.\n",
        "glove2word2vec(glove_input_file, word2vec_output_file)"
      ],
      "metadata": {
        "id": "g3Bj7S2KzOmR",
        "colab": {
          "base_uri": "https://localhost:8080/"
        },
        "outputId": "210a6c58-f8e2-45f9-ee9e-e2a4eac3da6d"
      },
      "execution_count": null,
      "outputs": [
        {
          "output_type": "stream",
          "name": "stderr",
          "text": [
            "2022-07-22 07:11:02,075 : INFO : converting 400000 vectors from glove.6B.300d.txt to word2vec.txt\n"
          ]
        },
        {
          "output_type": "execute_result",
          "data": {
            "text/plain": [
              "(400000, 300)"
            ]
          },
          "metadata": {},
          "execution_count": 11
        }
      ]
    },
    {
      "cell_type": "code",
      "source": [
        "from gensim.models import KeyedVectors\n",
        "glove = KeyedVectors.load_word2vec_format(word2vec_output_file, binary=False, limit=150000)"
      ],
      "metadata": {
        "id": "chT46OT4zRgo",
        "colab": {
          "base_uri": "https://localhost:8080/"
        },
        "outputId": "abf0c5a4-8506-429f-fefd-c5ec008c4050"
      },
      "execution_count": null,
      "outputs": [
        {
          "output_type": "stream",
          "name": "stderr",
          "text": [
            "2022-07-22 07:11:36,023 : INFO : loading projection weights from word2vec.txt\n",
            "2022-07-22 07:12:01,288 : INFO : loaded (150000, 300) matrix from word2vec.txt\n"
          ]
        }
      ]
    },
    {
      "cell_type": "code",
      "source": [
        "embedding_layer = Embedding(input_dim=150000, output_dim=300, weights=[glove.vectors], \n",
        "                            input_length=X.shape[1])\n",
        "print('Embedding layer defined.')"
      ],
      "metadata": {
        "colab": {
          "base_uri": "https://localhost:8080/"
        },
        "outputId": "2b3e45ff-bad2-4d0e-9d90-95ea58455efe",
        "id": "4Wh8xsK6zFIK"
      },
      "execution_count": null,
      "outputs": [
        {
          "output_type": "stream",
          "name": "stdout",
          "text": [
            "Embedding layer defined.\n"
          ]
        }
      ]
    },
    {
      "cell_type": "markdown",
      "source": [
        "## CNN Model"
      ],
      "metadata": {
        "id": "6pyul9hmzFIM"
      }
    },
    {
      "cell_type": "code",
      "source": [
        "model2 = Sequential()\n",
        "model2.add(embedding_layer)\n",
        "model2.add(BatchNormalization())\n",
        "model2.add(Dropout(0.4))\n",
        "model2.add(Conv1D(filters=128, kernel_size=5, padding='same', activation='relu', kernel_regularizer=regularizers.l2(l=0.01),\n",
        "                  kernel_initializer='he_normal'))\n",
        "model2.add(BatchNormalization())\n",
        "model2.add(Dropout(0.4))\n",
        "model2.add(Conv1D(filters=128, kernel_size=3, padding='same', activation='relu', kernel_regularizer=regularizers.l2(l=0.01),\n",
        "                  kernel_initializer='he_normal'))\n",
        "model2.add(MaxPooling1D(pool_size=3))\n",
        "model2.add(BatchNormalization())\n",
        "model2.add(Dropout(0.4))\n",
        "model2.add(Flatten())\n",
        "model2.add(BatchNormalization())\n",
        "model2.add(Dropout(0.4))\n",
        "model2.add(Dense(64, activation='relu'))\n",
        "model2.add(BatchNormalization())\n",
        "model2.add(Dropout(0.4))\n",
        "model2.add(Dense(32, activation = 'relu'))\n",
        "model2.add(BatchNormalization())\n",
        "model2.add(Dropout(0.4))\n",
        "model2.add(Dense(1, activation='sigmoid'))\n",
        "\n",
        "adam = Adam(lr=0.0001, beta_1=0.9, beta_2=0.999, epsilon=1e-08, decay=0.0)\n",
        "model2.compile(loss='binary_crossentropy', optimizer='adam', metrics=['accuracy'])\n",
        "model2.summary()"
      ],
      "metadata": {
        "id": "o6_45Kr-zFIM",
        "colab": {
          "base_uri": "https://localhost:8080/"
        },
        "outputId": "98100771-1291-4393-dc01-f1f08abe26c1"
      },
      "execution_count": null,
      "outputs": [
        {
          "output_type": "stream",
          "name": "stdout",
          "text": [
            "Model: \"sequential\"\n",
            "_________________________________________________________________\n",
            " Layer (type)                Output Shape              Param #   \n",
            "=================================================================\n",
            " embedding (Embedding)       (None, 30, 300)           45000000  \n",
            "                                                                 \n",
            " batch_normalization (BatchN  (None, 30, 300)          1200      \n",
            " ormalization)                                                   \n",
            "                                                                 \n",
            " dropout (Dropout)           (None, 30, 300)           0         \n",
            "                                                                 \n",
            " conv1d (Conv1D)             (None, 30, 128)           192128    \n",
            "                                                                 \n",
            " batch_normalization_1 (Batc  (None, 30, 128)          512       \n",
            " hNormalization)                                                 \n",
            "                                                                 \n",
            " dropout_1 (Dropout)         (None, 30, 128)           0         \n",
            "                                                                 \n",
            " conv1d_1 (Conv1D)           (None, 30, 128)           49280     \n",
            "                                                                 \n",
            " max_pooling1d (MaxPooling1D  (None, 10, 128)          0         \n",
            " )                                                               \n",
            "                                                                 \n",
            " batch_normalization_2 (Batc  (None, 10, 128)          512       \n",
            " hNormalization)                                                 \n",
            "                                                                 \n",
            " dropout_2 (Dropout)         (None, 10, 128)           0         \n",
            "                                                                 \n",
            " flatten (Flatten)           (None, 1280)              0         \n",
            "                                                                 \n",
            " batch_normalization_3 (Batc  (None, 1280)             5120      \n",
            " hNormalization)                                                 \n",
            "                                                                 \n",
            " dropout_3 (Dropout)         (None, 1280)              0         \n",
            "                                                                 \n",
            " dense (Dense)               (None, 64)                81984     \n",
            "                                                                 \n",
            " batch_normalization_4 (Batc  (None, 64)               256       \n",
            " hNormalization)                                                 \n",
            "                                                                 \n",
            " dropout_4 (Dropout)         (None, 64)                0         \n",
            "                                                                 \n",
            " dense_1 (Dense)             (None, 32)                2080      \n",
            "                                                                 \n",
            " batch_normalization_5 (Batc  (None, 32)               128       \n",
            " hNormalization)                                                 \n",
            "                                                                 \n",
            " dropout_5 (Dropout)         (None, 32)                0         \n",
            "                                                                 \n",
            " dense_2 (Dense)             (None, 1)                 33        \n",
            "                                                                 \n",
            "=================================================================\n",
            "Total params: 45,333,233\n",
            "Trainable params: 45,329,369\n",
            "Non-trainable params: 3,864\n",
            "_________________________________________________________________\n"
          ]
        },
        {
          "output_type": "stream",
          "name": "stderr",
          "text": [
            "/usr/local/lib/python3.7/dist-packages/keras/optimizer_v2/adam.py:105: UserWarning: The `lr` argument is deprecated, use `learning_rate` instead.\n",
            "  super(Adam, self).__init__(name, **kwargs)\n"
          ]
        }
      ]
    },
    {
      "cell_type": "markdown",
      "source": [
        "## Hyperparameter tuning "
      ],
      "metadata": {
        "id": "G8Flkf2QzFIP"
      }
    },
    {
      "cell_type": "markdown",
      "source": [
        "### Epochs 20, batch size 32"
      ],
      "metadata": {
        "id": "bF30LqJ-zFIR"
      }
    },
    {
      "cell_type": "code",
      "source": [
        "glvHistory_2032 = model2.fit(X_train, y_train, \n",
        "                          epochs=20, \n",
        "                          validation_split=0.2, \n",
        "                          batch_size=32,\n",
        "                          validation_data=(X_test, y_test))"
      ],
      "metadata": {
        "id": "OFI9mE1zzFIS",
        "colab": {
          "base_uri": "https://localhost:8080/"
        },
        "outputId": "47b22bfa-9188-49d1-abd2-4f5038320815"
      },
      "execution_count": null,
      "outputs": [
        {
          "output_type": "stream",
          "name": "stdout",
          "text": [
            "Epoch 1/20\n",
            "375/375 [==============================] - 183s 482ms/step - loss: 4.2300 - accuracy: 0.6118 - val_loss: 3.2172 - val_accuracy: 0.4930\n",
            "Epoch 2/20\n",
            "375/375 [==============================] - 181s 482ms/step - loss: 1.6890 - accuracy: 0.8179 - val_loss: 1.0487 - val_accuracy: 0.8570\n",
            "Epoch 3/20\n",
            "375/375 [==============================] - 178s 475ms/step - loss: 0.7825 - accuracy: 0.8907 - val_loss: 0.6052 - val_accuracy: 0.9120\n",
            "Epoch 4/20\n",
            "375/375 [==============================] - 179s 477ms/step - loss: 0.5137 - accuracy: 0.9155 - val_loss: 0.4578 - val_accuracy: 0.9247\n",
            "Epoch 5/20\n",
            "375/375 [==============================] - 183s 488ms/step - loss: 0.4152 - accuracy: 0.9380 - val_loss: 0.4776 - val_accuracy: 0.9247\n",
            "Epoch 6/20\n",
            "375/375 [==============================] - 179s 477ms/step - loss: 0.4013 - accuracy: 0.9456 - val_loss: 0.4770 - val_accuracy: 0.9280\n",
            "Epoch 7/20\n",
            "375/375 [==============================] - 179s 477ms/step - loss: 0.3785 - accuracy: 0.9542 - val_loss: 0.4467 - val_accuracy: 0.9293\n",
            "Epoch 8/20\n",
            "375/375 [==============================] - 179s 478ms/step - loss: 0.3707 - accuracy: 0.9550 - val_loss: 0.4306 - val_accuracy: 0.9307\n",
            "Epoch 9/20\n",
            "375/375 [==============================] - 181s 483ms/step - loss: 0.3344 - accuracy: 0.9634 - val_loss: 0.4400 - val_accuracy: 0.9340\n",
            "Epoch 10/20\n",
            "375/375 [==============================] - 180s 480ms/step - loss: 0.3392 - accuracy: 0.9635 - val_loss: 0.4594 - val_accuracy: 0.9357\n",
            "Epoch 11/20\n",
            "375/375 [==============================] - 179s 478ms/step - loss: 0.3671 - accuracy: 0.9647 - val_loss: 0.4999 - val_accuracy: 0.9223\n",
            "Epoch 12/20\n",
            "375/375 [==============================] - 178s 475ms/step - loss: 0.3592 - accuracy: 0.9680 - val_loss: 0.4852 - val_accuracy: 0.9293\n",
            "Epoch 13/20\n",
            "375/375 [==============================] - 177s 473ms/step - loss: 0.3461 - accuracy: 0.9712 - val_loss: 0.4772 - val_accuracy: 0.9310\n",
            "Epoch 14/20\n",
            "375/375 [==============================] - 178s 474ms/step - loss: 0.3195 - accuracy: 0.9738 - val_loss: 0.4669 - val_accuracy: 0.9293\n",
            "Epoch 15/20\n",
            "375/375 [==============================] - 178s 474ms/step - loss: 0.3173 - accuracy: 0.9780 - val_loss: 0.5069 - val_accuracy: 0.9283\n",
            "Epoch 16/20\n",
            "375/375 [==============================] - 178s 476ms/step - loss: 0.3323 - accuracy: 0.9762 - val_loss: 0.4973 - val_accuracy: 0.9300\n",
            "Epoch 17/20\n",
            "375/375 [==============================] - 179s 477ms/step - loss: 0.3170 - accuracy: 0.9792 - val_loss: 0.4564 - val_accuracy: 0.9297\n",
            "Epoch 18/20\n",
            "375/375 [==============================] - 179s 477ms/step - loss: 0.3192 - accuracy: 0.9807 - val_loss: 0.5525 - val_accuracy: 0.9243\n",
            "Epoch 19/20\n",
            "375/375 [==============================] - 179s 477ms/step - loss: 0.3047 - accuracy: 0.9807 - val_loss: 0.5567 - val_accuracy: 0.9213\n",
            "Epoch 20/20\n",
            "375/375 [==============================] - 179s 477ms/step - loss: 0.3195 - accuracy: 0.9807 - val_loss: 0.5130 - val_accuracy: 0.9270\n"
          ]
        }
      ]
    },
    {
      "cell_type": "code",
      "source": [
        "plt.plot(glvHistory_2032.history['accuracy'])\n",
        "plt.plot(glvHistory_2032.history['val_accuracy'])\n",
        "plt.title('model accuracy')\n",
        "plt.ylabel('accuracy')\n",
        "plt.xlabel('epoch')\n",
        "plt.legend(['train', 'val'], loc='upper left')\n",
        "plt.show()"
      ],
      "metadata": {
        "colab": {
          "base_uri": "https://localhost:8080/",
          "height": 295
        },
        "id": "YkkSURTMGT2T",
        "outputId": "db790bf7-43af-48f9-f385-fbd742b02746"
      },
      "execution_count": null,
      "outputs": [
        {
          "output_type": "display_data",
          "data": {
            "text/plain": [
              "<Figure size 432x288 with 1 Axes>"
            ],
            "image/png": "[encoded data removed]"
          },
          "metadata": {
            "needs_background": "light"
          }
        }
      ]
    },
    {
      "cell_type": "code",
      "source": [
        "plt.plot(glvHistory_2032.history['loss'])\n",
        "plt.plot(glvHistory_2032.history['val_loss'])\n",
        "plt.title('model loss')\n",
        "plt.ylabel('loss')\n",
        "plt.xlabel('epoch')\n",
        "plt.legend(['train', 'val'], loc='upper left')\n",
        "plt.show()"
      ],
      "metadata": {
        "id": "GbjKeGR7zFIV",
        "colab": {
          "base_uri": "https://localhost:8080/",
          "height": 295
        },
        "outputId": "165d9a76-3377-45df-da26-80bffc7efb80"
      },
      "execution_count": null,
      "outputs": [
        {
          "output_type": "display_data",
          "data": {
            "text/plain": [
              "<Figure size 432x288 with 1 Axes>"
            ],
            "image/png": "[encoded data removed]"
          },
          "metadata": {
            "needs_background": "light"
          }
        }
      ]
    },
    {
      "cell_type": "code",
      "source": [
        "loss, acc = model2.evaluate(X_test, y_test, batch_size=32)\n",
        "print('Model loss: {}'.format(loss))\n",
        "print('Model acc: {}'.format(acc))"
      ],
      "metadata": {
        "id": "3V3B2jB4zFIW",
        "colab": {
          "base_uri": "https://localhost:8080/"
        },
        "outputId": "56eff948-3ce2-4abf-9fcc-91253195c58b"
      },
      "execution_count": null,
      "outputs": [
        {
          "output_type": "stream",
          "name": "stdout",
          "text": [
            "157/157 [==============================] - 2s 13ms/step - loss: 0.5016 - accuracy: 0.9298\n",
            "Model loss: 0.5016443133354187\n",
            "Model acc: 0.9297999739646912\n"
          ]
        }
      ]
    },
    {
      "cell_type": "markdown",
      "source": [
        "### Epochs 20, batch size 64"
      ],
      "metadata": {
        "id": "WrDWoJzNzFIX"
      }
    },
    {
      "cell_type": "code",
      "source": [
        "glvHistory_2064 = model2.fit(X_train, y_train, \n",
        "                          epochs=20, \n",
        "                          validation_split=0.2, \n",
        "                          batch_size=64,\n",
        "                          validation_data=(X_test, y_test))"
      ],
      "metadata": {
        "id": "dhUqHCfPzFIY",
        "colab": {
          "base_uri": "https://localhost:8080/"
        },
        "outputId": "b92d25b4-363e-4d15-f8c9-2c081e487b30"
      },
      "execution_count": null,
      "outputs": [
        {
          "output_type": "stream",
          "name": "stdout",
          "text": [
            "Epoch 1/20\n",
            "188/188 [==============================] - 117s 584ms/step - loss: 4.7694 - accuracy: 0.5499 - val_loss: 4.0044 - val_accuracy: 0.4923\n",
            "Epoch 2/20\n",
            "188/188 [==============================] - 103s 547ms/step - loss: 2.5886 - accuracy: 0.7190 - val_loss: 3.0974 - val_accuracy: 0.4987\n",
            "Epoch 3/20\n",
            "188/188 [==============================] - 102s 544ms/step - loss: 1.3752 - accuracy: 0.8377 - val_loss: 1.3725 - val_accuracy: 0.6947\n",
            "Epoch 4/20\n",
            "188/188 [==============================] - 101s 536ms/step - loss: 0.7868 - accuracy: 0.8939 - val_loss: 0.7038 - val_accuracy: 0.8663\n",
            "Epoch 5/20\n",
            "188/188 [==============================] - 105s 558ms/step - loss: 0.5312 - accuracy: 0.9197 - val_loss: 0.5850 - val_accuracy: 0.8667\n",
            "Epoch 6/20\n",
            "188/188 [==============================] - 102s 542ms/step - loss: 0.4209 - accuracy: 0.9371 - val_loss: 0.4822 - val_accuracy: 0.8993\n",
            "Epoch 7/20\n",
            "188/188 [==============================] - 102s 545ms/step - loss: 0.3547 - accuracy: 0.9467 - val_loss: 0.4503 - val_accuracy: 0.9170\n",
            "Epoch 8/20\n",
            "188/188 [==============================] - 102s 545ms/step - loss: 0.3334 - accuracy: 0.9572 - val_loss: 0.4869 - val_accuracy: 0.9027\n",
            "Epoch 9/20\n",
            "188/188 [==============================] - 102s 542ms/step - loss: 0.3067 - accuracy: 0.9596 - val_loss: 0.4202 - val_accuracy: 0.9197\n",
            "Epoch 10/20\n",
            "188/188 [==============================] - 102s 544ms/step - loss: 0.2695 - accuracy: 0.9677 - val_loss: 0.4429 - val_accuracy: 0.9170\n",
            "Epoch 11/20\n",
            "188/188 [==============================] - 106s 562ms/step - loss: 0.2747 - accuracy: 0.9706 - val_loss: 0.4641 - val_accuracy: 0.9203\n",
            "Epoch 12/20\n",
            "188/188 [==============================] - 102s 543ms/step - loss: 0.2750 - accuracy: 0.9723 - val_loss: 0.4718 - val_accuracy: 0.9083\n",
            "Epoch 13/20\n",
            "188/188 [==============================] - 102s 541ms/step - loss: 0.2886 - accuracy: 0.9688 - val_loss: 0.4562 - val_accuracy: 0.9127\n",
            "Epoch 14/20\n",
            "188/188 [==============================] - 102s 540ms/step - loss: 0.2545 - accuracy: 0.9763 - val_loss: 0.4555 - val_accuracy: 0.9237\n",
            "Epoch 15/20\n",
            "188/188 [==============================] - 102s 540ms/step - loss: 0.2586 - accuracy: 0.9757 - val_loss: 0.4763 - val_accuracy: 0.9240\n",
            "Epoch 16/20\n",
            "188/188 [==============================] - 101s 539ms/step - loss: 0.2523 - accuracy: 0.9795 - val_loss: 0.5115 - val_accuracy: 0.9207\n",
            "Epoch 17/20\n",
            "188/188 [==============================] - 101s 538ms/step - loss: 0.2512 - accuracy: 0.9799 - val_loss: 0.4674 - val_accuracy: 0.9240\n",
            "Epoch 18/20\n",
            "188/188 [==============================] - 101s 538ms/step - loss: 0.2289 - accuracy: 0.9814 - val_loss: 0.4704 - val_accuracy: 0.9213\n",
            "Epoch 19/20\n",
            "188/188 [==============================] - 101s 540ms/step - loss: 0.2405 - accuracy: 0.9822 - val_loss: 0.5120 - val_accuracy: 0.9073\n",
            "Epoch 20/20\n",
            "188/188 [==============================] - 101s 540ms/step - loss: 0.2323 - accuracy: 0.9827 - val_loss: 0.4465 - val_accuracy: 0.9253\n"
          ]
        }
      ]
    },
    {
      "cell_type": "code",
      "source": [
        "plt.plot(glvHistory_2064.history['accuracy'])\n",
        "plt.plot(glvHistory_2064.history['val_accuracy'])\n",
        "plt.title('model accuracy')\n",
        "plt.ylabel('accuracy')\n",
        "plt.xlabel('epoch')\n",
        "plt.legend(['train', 'val'], loc='upper left')\n",
        "plt.show()"
      ],
      "metadata": {
        "id": "T_JhzOjMzFIZ",
        "colab": {
          "base_uri": "https://localhost:8080/",
          "height": 295
        },
        "outputId": "a766ca00-f387-4166-b450-e964b2d1d6c9"
      },
      "execution_count": null,
      "outputs": [
        {
          "output_type": "display_data",
          "data": {
            "text/plain": [
              "<Figure size 432x288 with 1 Axes>"
            ],
            "image/png": "[encoded data removed]"
          },
          "metadata": {
            "needs_background": "light"
          }
        }
      ]
    },
    {
      "cell_type": "code",
      "source": [
        "plt.plot(glvHistory_2064.history['loss'])\n",
        "plt.plot(glvHistory_2064.history['val_loss'])\n",
        "plt.title('model loss')\n",
        "plt.ylabel('loss')\n",
        "plt.xlabel('epoch')\n",
        "plt.legend(['train', 'val'], loc='upper left')\n",
        "plt.show()"
      ],
      "metadata": {
        "id": "7wy62mKHzFIa",
        "colab": {
          "base_uri": "https://localhost:8080/",
          "height": 295
        },
        "outputId": "816dccdf-ea8b-4b4c-88a0-663481eb7c29"
      },
      "execution_count": null,
      "outputs": [
        {
          "output_type": "display_data",
          "data": {
            "text/plain": [
              "<Figure size 432x288 with 1 Axes>"
            ],
            "image/png": "[encoded data removed]"
          },
          "metadata": {
            "needs_background": "light"
          }
        }
      ]
    },
    {
      "cell_type": "code",
      "source": [
        "loss, acc = model2.evaluate(X_test, y_test, batch_size=64)\n",
        "print('Model loss: {}'.format(loss))\n",
        "print('Model acc: {}'.format(acc))"
      ],
      "metadata": {
        "id": "2Zuu_cOLzFIb",
        "colab": {
          "base_uri": "https://localhost:8080/"
        },
        "outputId": "4a4214b3-0b4f-40d8-e13d-6fddde105d2d"
      },
      "execution_count": null,
      "outputs": [
        {
          "output_type": "stream",
          "name": "stdout",
          "text": [
            "79/79 [==============================] - 2s 21ms/step - loss: 0.4579 - accuracy: 0.9224\n",
            "Model loss: 0.45791566371917725\n",
            "Model acc: 0.9223999977111816\n"
          ]
        }
      ]
    },
    {
      "cell_type": "markdown",
      "source": [
        "### Epochs 20, batch size 128"
      ],
      "metadata": {
        "id": "a6py2iyYzFIc"
      }
    },
    {
      "cell_type": "code",
      "source": [
        "glvHistory_20128 = model2.fit(X_train, y_train, \n",
        "                          epochs=20, \n",
        "                          validation_split=0.2, \n",
        "                          batch_size=128,\n",
        "                          validation_data=(X_test, y_test))"
      ],
      "metadata": {
        "id": "VDI3_6CwzFId",
        "colab": {
          "base_uri": "https://localhost:8080/"
        },
        "outputId": "d69296d7-843e-4dcb-924e-515b05a63b37"
      },
      "execution_count": null,
      "outputs": [
        {
          "output_type": "stream",
          "name": "stdout",
          "text": [
            "Epoch 1/20\n",
            "94/94 [==============================] - 66s 651ms/step - loss: 5.0472 - accuracy: 0.5515 - val_loss: 4.2623 - val_accuracy: 0.4923\n",
            "Epoch 2/20\n",
            "94/94 [==============================] - 60s 635ms/step - loss: 3.2968 - accuracy: 0.6633 - val_loss: 3.8889 - val_accuracy: 0.4923\n",
            "Epoch 3/20\n",
            "94/94 [==============================] - 59s 631ms/step - loss: 2.0605 - accuracy: 0.7928 - val_loss: 3.4248 - val_accuracy: 0.4923\n",
            "Epoch 4/20\n",
            "94/94 [==============================] - 59s 631ms/step - loss: 1.2719 - accuracy: 0.8708 - val_loss: 2.3061 - val_accuracy: 0.4950\n",
            "Epoch 5/20\n",
            "94/94 [==============================] - 61s 645ms/step - loss: 0.8178 - accuracy: 0.9067 - val_loss: 1.4193 - val_accuracy: 0.6007\n",
            "Epoch 6/20\n",
            "94/94 [==============================] - 59s 632ms/step - loss: 0.5745 - accuracy: 0.9282 - val_loss: 1.0082 - val_accuracy: 0.6900\n",
            "Epoch 7/20\n",
            "94/94 [==============================] - 60s 634ms/step - loss: 0.4468 - accuracy: 0.9384 - val_loss: 0.6018 - val_accuracy: 0.8540\n",
            "Epoch 8/20\n",
            "94/94 [==============================] - 63s 672ms/step - loss: 0.3602 - accuracy: 0.9523 - val_loss: 0.5510 - val_accuracy: 0.8660\n",
            "Epoch 9/20\n",
            "94/94 [==============================] - 60s 637ms/step - loss: 0.3267 - accuracy: 0.9586 - val_loss: 0.4646 - val_accuracy: 0.9060\n",
            "Epoch 10/20\n",
            "94/94 [==============================] - 59s 631ms/step - loss: 0.2852 - accuracy: 0.9657 - val_loss: 0.4357 - val_accuracy: 0.9110\n",
            "Epoch 11/20\n",
            "94/94 [==============================] - 59s 631ms/step - loss: 0.2612 - accuracy: 0.9701 - val_loss: 0.4483 - val_accuracy: 0.9133\n",
            "Epoch 12/20\n",
            "94/94 [==============================] - 59s 630ms/step - loss: 0.2446 - accuracy: 0.9709 - val_loss: 0.4468 - val_accuracy: 0.9160\n",
            "Epoch 13/20\n",
            "94/94 [==============================] - 62s 656ms/step - loss: 0.2264 - accuracy: 0.9741 - val_loss: 0.4383 - val_accuracy: 0.9167\n",
            "Epoch 14/20\n",
            "94/94 [==============================] - 60s 638ms/step - loss: 0.2320 - accuracy: 0.9767 - val_loss: 0.4276 - val_accuracy: 0.9200\n",
            "Epoch 15/20\n",
            "94/94 [==============================] - 60s 637ms/step - loss: 0.2311 - accuracy: 0.9768 - val_loss: 0.4670 - val_accuracy: 0.9157\n",
            "Epoch 16/20\n",
            "94/94 [==============================] - 60s 640ms/step - loss: 0.2026 - accuracy: 0.9802 - val_loss: 0.4210 - val_accuracy: 0.9170\n",
            "Epoch 17/20\n",
            "94/94 [==============================] - 60s 640ms/step - loss: 0.1909 - accuracy: 0.9810 - val_loss: 0.4136 - val_accuracy: 0.9233\n",
            "Epoch 18/20\n",
            "94/94 [==============================] - 60s 639ms/step - loss: 0.1926 - accuracy: 0.9838 - val_loss: 0.4663 - val_accuracy: 0.9160\n",
            "Epoch 19/20\n",
            "94/94 [==============================] - 60s 639ms/step - loss: 0.1894 - accuracy: 0.9832 - val_loss: 0.4727 - val_accuracy: 0.9217\n",
            "Epoch 20/20\n",
            "94/94 [==============================] - 60s 643ms/step - loss: 0.1804 - accuracy: 0.9864 - val_loss: 0.4302 - val_accuracy: 0.9160\n"
          ]
        }
      ]
    },
    {
      "cell_type": "code",
      "source": [
        "plt.plot(glvHistory_20128.history['accuracy'])\n",
        "plt.plot(glvHistory_20128.history['val_accuracy'])\n",
        "plt.title('model accuracy')\n",
        "plt.ylabel('accuracy')\n",
        "plt.xlabel('epoch')\n",
        "plt.legend(['train', 'val'], loc='upper left')\n",
        "plt.show()"
      ],
      "metadata": {
        "id": "00jKqybNzFIf",
        "colab": {
          "base_uri": "https://localhost:8080/",
          "height": 295
        },
        "outputId": "66079cdc-8dac-4e5a-efe4-93592348bd9d"
      },
      "execution_count": null,
      "outputs": [
        {
          "output_type": "display_data",
          "data": {
            "text/plain": [
              "<Figure size 432x288 with 1 Axes>"
            ],
            "image/png": "[encoded data removed]"
          },
          "metadata": {
            "needs_background": "light"
          }
        }
      ]
    },
    {
      "cell_type": "code",
      "source": [
        "plt.plot(glvHistory_20128.history['loss'])\n",
        "plt.plot(glvHistory_20128.history['val_loss'])\n",
        "plt.title('model loss')\n",
        "plt.ylabel('loss')\n",
        "plt.xlabel('epoch')\n",
        "plt.legend(['train', 'val'], loc='upper left')\n",
        "plt.show()"
      ],
      "metadata": {
        "id": "HyQ7UPKbzFIg",
        "colab": {
          "base_uri": "https://localhost:8080/",
          "height": 295
        },
        "outputId": "82e32914-15f0-40b7-f236-b594ed967227"
      },
      "execution_count": null,
      "outputs": [
        {
          "output_type": "display_data",
          "data": {
            "text/plain": [
              "<Figure size 432x288 with 1 Axes>"
            ],
            "image/png": "[encoded data removed]"
          },
          "metadata": {
            "needs_background": "light"
          }
        }
      ]
    },
    {
      "cell_type": "code",
      "source": [
        "loss, acc = model2.evaluate(X_test, y_test, batch_size=128)\n",
        "print('Model loss: {}'.format(loss))\n",
        "print('Model acc: {}'.format(acc))"
      ],
      "metadata": {
        "id": "oIXaD5lYzFIi",
        "colab": {
          "base_uri": "https://localhost:8080/"
        },
        "outputId": "cd3cca45-9a5d-4d0e-9518-06ec7b6fb32c"
      },
      "execution_count": null,
      "outputs": [
        {
          "output_type": "stream",
          "name": "stdout",
          "text": [
            "40/40 [==============================] - 2s 38ms/step - loss: 0.4130 - accuracy: 0.9200\n",
            "Model loss: 0.4129597544670105\n",
            "Model acc: 0.9200000166893005\n"
          ]
        }
      ]
    },
    {
      "cell_type": "markdown",
      "source": [
        "### Epochs 30, batch size 32"
      ],
      "metadata": {
        "id": "LKl5vLCjzFIj"
      }
    },
    {
      "cell_type": "code",
      "source": [
        "glvHistory_3032 = model2.fit(X_train, y_train, \n",
        "                          epochs=30, \n",
        "                          validation_split=0.2, \n",
        "                          batch_size=32,\n",
        "                          validation_data=(X_test, y_test))"
      ],
      "metadata": {
        "id": "dXfvXKhCzFIk",
        "colab": {
          "base_uri": "https://localhost:8080/"
        },
        "outputId": "1f92a5e2-230f-474a-8f82-52865738477c"
      },
      "execution_count": null,
      "outputs": [
        {
          "output_type": "stream",
          "name": "stdout",
          "text": [
            "Epoch 1/30\n",
            "375/375 [==============================] - 188s 494ms/step - loss: 4.3379 - accuracy: 0.5784 - val_loss: 3.2196 - val_accuracy: 0.4927\n",
            "Epoch 2/30\n",
            "375/375 [==============================] - 186s 496ms/step - loss: 1.8494 - accuracy: 0.7838 - val_loss: 1.3223 - val_accuracy: 0.7267\n",
            "Epoch 3/30\n",
            "375/375 [==============================] - 184s 492ms/step - loss: 0.8559 - accuracy: 0.8771 - val_loss: 0.6424 - val_accuracy: 0.9077\n",
            "Epoch 4/30\n",
            "375/375 [==============================] - 182s 485ms/step - loss: 0.5504 - accuracy: 0.9138 - val_loss: 0.4739 - val_accuracy: 0.9177\n",
            "Epoch 5/30\n",
            "375/375 [==============================] - 182s 486ms/step - loss: 0.4297 - accuracy: 0.9296 - val_loss: 0.4364 - val_accuracy: 0.9303\n",
            "Epoch 6/30\n",
            "375/375 [==============================] - 188s 502ms/step - loss: 0.3982 - accuracy: 0.9433 - val_loss: 0.4835 - val_accuracy: 0.9203\n",
            "Epoch 7/30\n",
            "375/375 [==============================] - 182s 485ms/step - loss: 0.3658 - accuracy: 0.9514 - val_loss: 0.4730 - val_accuracy: 0.9290\n",
            "Epoch 8/30\n",
            "375/375 [==============================] - 184s 490ms/step - loss: 0.3888 - accuracy: 0.9518 - val_loss: 0.4185 - val_accuracy: 0.9383\n",
            "Epoch 9/30\n",
            "375/375 [==============================] - 183s 487ms/step - loss: 0.3579 - accuracy: 0.9611 - val_loss: 0.4291 - val_accuracy: 0.9317\n",
            "Epoch 10/30\n",
            "375/375 [==============================] - 184s 491ms/step - loss: 0.3360 - accuracy: 0.9663 - val_loss: 0.4998 - val_accuracy: 0.9280\n",
            "Epoch 11/30\n",
            "375/375 [==============================] - 184s 490ms/step - loss: 0.3485 - accuracy: 0.9653 - val_loss: 0.4350 - val_accuracy: 0.9393\n",
            "Epoch 12/30\n",
            "375/375 [==============================] - 184s 491ms/step - loss: 0.3322 - accuracy: 0.9697 - val_loss: 0.4281 - val_accuracy: 0.9387\n",
            "Epoch 13/30\n",
            "375/375 [==============================] - 185s 493ms/step - loss: 0.3332 - accuracy: 0.9722 - val_loss: 0.4574 - val_accuracy: 0.9347\n",
            "Epoch 14/30\n",
            "375/375 [==============================] - 184s 491ms/step - loss: 0.3355 - accuracy: 0.9726 - val_loss: 0.5197 - val_accuracy: 0.9327\n",
            "Epoch 15/30\n",
            "375/375 [==============================] - 184s 491ms/step - loss: 0.3212 - accuracy: 0.9739 - val_loss: 0.5260 - val_accuracy: 0.9337\n",
            "Epoch 16/30\n",
            "375/375 [==============================] - 185s 493ms/step - loss: 0.3285 - accuracy: 0.9752 - val_loss: 0.5107 - val_accuracy: 0.9337\n",
            "Epoch 17/30\n",
            "375/375 [==============================] - 184s 490ms/step - loss: 0.3183 - accuracy: 0.9793 - val_loss: 0.5316 - val_accuracy: 0.9333\n",
            "Epoch 18/30\n",
            "375/375 [==============================] - 184s 490ms/step - loss: 0.3086 - accuracy: 0.9801 - val_loss: 0.4918 - val_accuracy: 0.9310\n",
            "Epoch 19/30\n",
            "375/375 [==============================] - 184s 492ms/step - loss: 0.3037 - accuracy: 0.9770 - val_loss: 0.4771 - val_accuracy: 0.9333\n",
            "Epoch 20/30\n",
            "375/375 [==============================] - 183s 489ms/step - loss: 0.2939 - accuracy: 0.9797 - val_loss: 0.4726 - val_accuracy: 0.9333\n",
            "Epoch 21/30\n",
            "375/375 [==============================] - 183s 488ms/step - loss: 0.3085 - accuracy: 0.9813 - val_loss: 0.6000 - val_accuracy: 0.9337\n",
            "Epoch 22/30\n",
            "375/375 [==============================] - 183s 489ms/step - loss: 0.3164 - accuracy: 0.9817 - val_loss: 0.5334 - val_accuracy: 0.9387\n",
            "Epoch 23/30\n",
            "375/375 [==============================] - 182s 486ms/step - loss: 0.3115 - accuracy: 0.9803 - val_loss: 0.4865 - val_accuracy: 0.9360\n",
            "Epoch 24/30\n",
            "375/375 [==============================] - 182s 484ms/step - loss: 0.2642 - accuracy: 0.9836 - val_loss: 0.4965 - val_accuracy: 0.9283\n",
            "Epoch 25/30\n",
            "375/375 [==============================] - 185s 493ms/step - loss: 0.2733 - accuracy: 0.9846 - val_loss: 0.4702 - val_accuracy: 0.9363\n",
            "Epoch 26/30\n",
            "375/375 [==============================] - 183s 487ms/step - loss: 0.2898 - accuracy: 0.9839 - val_loss: 0.4832 - val_accuracy: 0.9370\n",
            "Epoch 27/30\n",
            "375/375 [==============================] - 185s 492ms/step - loss: 0.2766 - accuracy: 0.9849 - val_loss: 0.5141 - val_accuracy: 0.9353\n",
            "Epoch 28/30\n",
            "375/375 [==============================] - 183s 488ms/step - loss: 0.2626 - accuracy: 0.9858 - val_loss: 0.4663 - val_accuracy: 0.9347\n",
            "Epoch 29/30\n",
            "375/375 [==============================] - 183s 488ms/step - loss: 0.2622 - accuracy: 0.9864 - val_loss: 0.5070 - val_accuracy: 0.9343\n",
            "Epoch 30/30\n",
            "375/375 [==============================] - 183s 489ms/step - loss: 0.2664 - accuracy: 0.9867 - val_loss: 0.4907 - val_accuracy: 0.9327\n"
          ]
        }
      ]
    },
    {
      "cell_type": "code",
      "source": [
        "plt.plot(glvHistory_3032.history['accuracy'])\n",
        "plt.plot(glvHistory_3032.history['val_accuracy'])\n",
        "plt.title('model accuracy')\n",
        "plt.ylabel('accuracy')\n",
        "plt.xlabel('epoch')\n",
        "plt.legend(['train', 'val'], loc='upper left')\n",
        "plt.show()"
      ],
      "metadata": {
        "id": "R3wi0ZKCzFIl",
        "colab": {
          "base_uri": "https://localhost:8080/",
          "height": 295
        },
        "outputId": "98420033-4a5f-4e05-d5f6-945647c1ebb2"
      },
      "execution_count": null,
      "outputs": [
        {
          "output_type": "display_data",
          "data": {
            "text/plain": [
              "<Figure size 432x288 with 1 Axes>"
            ],
            "image/png": "[encoded data removed]"
          },
          "metadata": {
            "needs_background": "light"
          }
        }
      ]
    },
    {
      "cell_type": "code",
      "source": [
        "plt.plot(glvHistory_3032.history['loss'])\n",
        "plt.plot(glvHistory_3032.history['val_loss'])\n",
        "plt.title('model loss')\n",
        "plt.ylabel('loss')\n",
        "plt.xlabel('epoch')\n",
        "plt.legend(['train', 'val'], loc='upper left')\n",
        "plt.show()"
      ],
      "metadata": {
        "id": "A_6k7jxjzFIn",
        "colab": {
          "base_uri": "https://localhost:8080/",
          "height": 295
        },
        "outputId": "6bf0938c-3b4f-4a70-9eff-9517b77ae8b2"
      },
      "execution_count": null,
      "outputs": [
        {
          "output_type": "display_data",
          "data": {
            "text/plain": [
              "<Figure size 432x288 with 1 Axes>"
            ],
            "image/png": "[encoded data removed]"
          },
          "metadata": {
            "needs_background": "light"
          }
        }
      ]
    },
    {
      "cell_type": "code",
      "source": [
        "loss, acc = model2.evaluate(X_test, y_test, batch_size=32)\n",
        "print('Model loss: {}'.format(loss))\n",
        "print('Model acc: {}'.format(acc))"
      ],
      "metadata": {
        "id": "U8wAQ9IOzFIo",
        "colab": {
          "base_uri": "https://localhost:8080/"
        },
        "outputId": "c1efbfad-f14c-46e2-a5a8-e5e04e8bc4a2"
      },
      "execution_count": null,
      "outputs": [
        {
          "output_type": "stream",
          "name": "stdout",
          "text": [
            "157/157 [==============================] - 3s 22ms/step - loss: 0.5213 - accuracy: 0.9258\n",
            "Model loss: 0.5213233232498169\n",
            "Model acc: 0.9258000254631042\n"
          ]
        }
      ]
    },
    {
      "cell_type": "markdown",
      "source": [
        "### Epochs 30, batch size 64"
      ],
      "metadata": {
        "id": "-V5ppWGRzFIq"
      }
    },
    {
      "cell_type": "code",
      "source": [
        "aaaa"
      ],
      "metadata": {
        "id": "zYZJ5fXchm3R"
      },
      "execution_count": null,
      "outputs": []
    },
    {
      "cell_type": "code",
      "source": [
        "glvHistory_3064 = model2.fit(X_train, y_train, \n",
        "                          epochs=30, \n",
        "                          validation_split=0.2, \n",
        "                          batch_size=64,\n",
        "                          validation_data=(X_test, y_test))"
      ],
      "metadata": {
        "id": "8AkY7q09zFIr",
        "colab": {
          "base_uri": "https://localhost:8080/"
        },
        "outputId": "07ec0308-14dc-4425-edca-7456f409527e"
      },
      "execution_count": null,
      "outputs": [
        {
          "output_type": "stream",
          "name": "stdout",
          "text": [
            "Epoch 1/30\n",
            "188/188 [==============================] - 105s 541ms/step - loss: 4.7030 - accuracy: 0.5588 - val_loss: 3.9628 - val_accuracy: 0.4923\n",
            "Epoch 2/30\n",
            "188/188 [==============================] - 99s 527ms/step - loss: 2.4671 - accuracy: 0.7568 - val_loss: 2.4058 - val_accuracy: 0.5190\n",
            "Epoch 3/30\n",
            "188/188 [==============================] - 99s 529ms/step - loss: 1.2679 - accuracy: 0.8577 - val_loss: 1.1456 - val_accuracy: 0.7520\n",
            "Epoch 4/30\n",
            "188/188 [==============================] - 99s 527ms/step - loss: 0.7386 - accuracy: 0.9004 - val_loss: 0.7019 - val_accuracy: 0.8457\n",
            "Epoch 5/30\n",
            "188/188 [==============================] - 98s 519ms/step - loss: 0.5039 - accuracy: 0.9264 - val_loss: 0.4989 - val_accuracy: 0.9147\n",
            "Epoch 6/30\n",
            "188/188 [==============================] - 98s 524ms/step - loss: 0.4008 - accuracy: 0.9413 - val_loss: 0.4284 - val_accuracy: 0.9237\n",
            "Epoch 7/30\n",
            "188/188 [==============================] - 96s 513ms/step - loss: 0.3374 - accuracy: 0.9541 - val_loss: 0.4305 - val_accuracy: 0.9263\n",
            "Epoch 8/30\n",
            "188/188 [==============================] - 97s 516ms/step - loss: 0.3131 - accuracy: 0.9573 - val_loss: 0.4193 - val_accuracy: 0.9260\n",
            "Epoch 9/30\n",
            "188/188 [==============================] - 101s 535ms/step - loss: 0.2850 - accuracy: 0.9652 - val_loss: 0.4352 - val_accuracy: 0.9307\n",
            "Epoch 10/30\n",
            "188/188 [==============================] - 100s 534ms/step - loss: 0.2792 - accuracy: 0.9709 - val_loss: 0.4103 - val_accuracy: 0.9313\n",
            "Epoch 11/30\n",
            "188/188 [==============================] - 101s 535ms/step - loss: 0.2853 - accuracy: 0.9676 - val_loss: 0.4552 - val_accuracy: 0.9267\n",
            "Epoch 12/30\n",
            "188/188 [==============================] - 102s 541ms/step - loss: 0.2507 - accuracy: 0.9737 - val_loss: 0.4212 - val_accuracy: 0.9310\n",
            "Epoch 13/30\n",
            "188/188 [==============================] - 102s 542ms/step - loss: 0.2661 - accuracy: 0.9767 - val_loss: 0.4704 - val_accuracy: 0.9247\n",
            "Epoch 14/30\n",
            "188/188 [==============================] - 101s 536ms/step - loss: 0.2503 - accuracy: 0.9781 - val_loss: 0.4369 - val_accuracy: 0.9263\n",
            "Epoch 15/30\n",
            "188/188 [==============================] - 101s 537ms/step - loss: 0.2554 - accuracy: 0.9771 - val_loss: 0.4307 - val_accuracy: 0.9313\n",
            "Epoch 16/30\n",
            "188/188 [==============================] - 103s 547ms/step - loss: 0.2490 - accuracy: 0.9791 - val_loss: 0.4858 - val_accuracy: 0.9330\n",
            "Epoch 17/30\n",
            "188/188 [==============================] - 104s 552ms/step - loss: 0.2402 - accuracy: 0.9832 - val_loss: 0.4670 - val_accuracy: 0.9323\n",
            "Epoch 18/30\n",
            "188/188 [==============================] - 104s 553ms/step - loss: 0.2234 - accuracy: 0.9841 - val_loss: 0.4926 - val_accuracy: 0.9193\n",
            "Epoch 19/30\n",
            "188/188 [==============================] - 102s 545ms/step - loss: 0.2401 - accuracy: 0.9825 - val_loss: 0.5020 - val_accuracy: 0.9253\n",
            "Epoch 20/30\n",
            "188/188 [==============================] - 106s 566ms/step - loss: 0.2554 - accuracy: 0.9816 - val_loss: 0.4419 - val_accuracy: 0.9293\n",
            "Epoch 21/30\n",
            "188/188 [==============================] - 103s 549ms/step - loss: 0.2346 - accuracy: 0.9835 - val_loss: 0.4477 - val_accuracy: 0.9287\n",
            "Epoch 22/30\n",
            "188/188 [==============================] - 103s 550ms/step - loss: 0.2277 - accuracy: 0.9829 - val_loss: 0.4643 - val_accuracy: 0.9263\n",
            "Epoch 23/30\n",
            "188/188 [==============================] - 108s 573ms/step - loss: 0.2093 - accuracy: 0.9849 - val_loss: 0.4625 - val_accuracy: 0.9303\n",
            "Epoch 24/30\n",
            "188/188 [==============================] - 108s 575ms/step - loss: 0.2308 - accuracy: 0.9846 - val_loss: 0.4576 - val_accuracy: 0.9270\n",
            "Epoch 25/30\n",
            "188/188 [==============================] - 109s 579ms/step - loss: 0.2018 - accuracy: 0.9881 - val_loss: 0.4562 - val_accuracy: 0.9197\n",
            "Epoch 26/30\n",
            "188/188 [==============================] - 106s 562ms/step - loss: 0.1943 - accuracy: 0.9883 - val_loss: 0.4570 - val_accuracy: 0.9320\n",
            "Epoch 27/30\n",
            "188/188 [==============================] - 106s 566ms/step - loss: 0.2283 - accuracy: 0.9858 - val_loss: 0.4865 - val_accuracy: 0.9303\n",
            "Epoch 28/30\n",
            "188/188 [==============================] - 107s 569ms/step - loss: 0.2108 - accuracy: 0.9872 - val_loss: 0.5005 - val_accuracy: 0.9317\n",
            "Epoch 29/30\n",
            "188/188 [==============================] - 107s 572ms/step - loss: 0.2266 - accuracy: 0.9871 - val_loss: 0.5009 - val_accuracy: 0.9280\n",
            "Epoch 30/30\n",
            "188/188 [==============================] - 108s 576ms/step - loss: 0.2079 - accuracy: 0.9883 - val_loss: 0.4757 - val_accuracy: 0.9323\n"
          ]
        }
      ]
    },
    {
      "cell_type": "code",
      "source": [
        "plt.plot(glvHistory_3064.history['accuracy'])\n",
        "plt.plot(glvHistory_3064.history['val_accuracy'])\n",
        "plt.title('model accuracy')\n",
        "plt.ylabel('accuracy')\n",
        "plt.xlabel('epoch')\n",
        "plt.legend(['train', 'val'], loc='upper left')\n",
        "plt.show()"
      ],
      "metadata": {
        "id": "PQbI5UcmzFIs",
        "colab": {
          "base_uri": "https://localhost:8080/",
          "height": 295
        },
        "outputId": "6d0255ae-9f81-49dc-fa14-18a76a5faf1e"
      },
      "execution_count": null,
      "outputs": [
        {
          "output_type": "display_data",
          "data": {
            "text/plain": [
              "<Figure size 432x288 with 1 Axes>"
            ],
            "image/png": "[encoded data removed]"
          },
          "metadata": {
            "needs_background": "light"
          }
        }
      ]
    },
    {
      "cell_type": "code",
      "source": [
        "plt.plot(glvHistory_3064.history['loss'])\n",
        "plt.plot(glvHistory_3064.history['val_loss'])\n",
        "plt.title('model loss')\n",
        "plt.ylabel('loss')\n",
        "plt.xlabel('epoch')\n",
        "plt.legend(['train', 'val'], loc='upper left')\n",
        "plt.show()"
      ],
      "metadata": {
        "id": "lOwg8_fDzFIs",
        "colab": {
          "base_uri": "https://localhost:8080/",
          "height": 295
        },
        "outputId": "6d0dcbb5-7650-414d-bd38-775190db4299"
      },
      "execution_count": null,
      "outputs": [
        {
          "output_type": "display_data",
          "data": {
            "text/plain": [
              "<Figure size 432x288 with 1 Axes>"
            ],
            "image/png": "[encoded data removed]"
          },
          "metadata": {
            "needs_background": "light"
          }
        }
      ]
    },
    {
      "cell_type": "code",
      "source": [
        "loss, acc = model2.evaluate(X_test, y_test, batch_size=64)\n",
        "print('Model loss: {}'.format(loss))\n",
        "print('Model acc: {}'.format(acc))"
      ],
      "metadata": {
        "id": "wrMDtLetzFIu",
        "colab": {
          "base_uri": "https://localhost:8080/"
        },
        "outputId": "ff0583af-fa1c-4d97-fa1a-73e632369707"
      },
      "execution_count": null,
      "outputs": [
        {
          "output_type": "stream",
          "name": "stdout",
          "text": [
            "79/79 [==============================] - 2s 23ms/step - loss: 0.4807 - accuracy: 0.9296\n",
            "Model loss: 0.4807102680206299\n",
            "Model acc: 0.9296000003814697\n"
          ]
        }
      ]
    },
    {
      "cell_type": "markdown",
      "source": [
        "### Epochs 30, batch size 128"
      ],
      "metadata": {
        "id": "J9AN-s-ozFIv"
      }
    },
    {
      "cell_type": "code",
      "source": [
        "glvHistory_30128 = model2.fit(X_train, y_train, \n",
        "                          epochs=30, \n",
        "                          validation_split=0.2, \n",
        "                          batch_size=128,\n",
        "                          validation_data=(X_test, y_test))"
      ],
      "metadata": {
        "id": "4HT4ywf-zFIv",
        "colab": {
          "base_uri": "https://localhost:8080/"
        },
        "outputId": "2092802b-9128-4134-e31e-818a2217afb6"
      },
      "execution_count": null,
      "outputs": [
        {
          "output_type": "stream",
          "name": "stdout",
          "text": [
            "Epoch 1/30\n",
            "94/94 [==============================] - 63s 641ms/step - loss: 4.9679 - accuracy: 0.5461 - val_loss: 3.9936 - val_accuracy: 0.4923\n",
            "Epoch 2/30\n",
            "94/94 [==============================] - 60s 635ms/step - loss: 3.1444 - accuracy: 0.6585 - val_loss: 3.1189 - val_accuracy: 0.4923\n",
            "Epoch 3/30\n",
            "94/94 [==============================] - 56s 595ms/step - loss: 1.9030 - accuracy: 0.7921 - val_loss: 2.4361 - val_accuracy: 0.4950\n",
            "Epoch 4/30\n",
            "94/94 [==============================] - 58s 613ms/step - loss: 1.1636 - accuracy: 0.8624 - val_loss: 1.5759 - val_accuracy: 0.5473\n",
            "Epoch 5/30\n",
            "94/94 [==============================] - 56s 599ms/step - loss: 0.7533 - accuracy: 0.9020 - val_loss: 1.0147 - val_accuracy: 0.7220\n",
            "Epoch 6/30\n",
            "94/94 [==============================] - 57s 611ms/step - loss: 0.5410 - accuracy: 0.9228 - val_loss: 0.5887 - val_accuracy: 0.8770\n",
            "Epoch 7/30\n",
            "94/94 [==============================] - 57s 605ms/step - loss: 0.4298 - accuracy: 0.9384 - val_loss: 0.5104 - val_accuracy: 0.8870\n",
            "Epoch 8/30\n",
            "94/94 [==============================] - 62s 660ms/step - loss: 0.3561 - accuracy: 0.9479 - val_loss: 0.4092 - val_accuracy: 0.9287\n",
            "Epoch 9/30\n",
            "94/94 [==============================] - 58s 617ms/step - loss: 0.3068 - accuracy: 0.9591 - val_loss: 0.4118 - val_accuracy: 0.9180\n",
            "Epoch 10/30\n",
            "94/94 [==============================] - 59s 630ms/step - loss: 0.2825 - accuracy: 0.9635 - val_loss: 0.4372 - val_accuracy: 0.9237\n",
            "Epoch 11/30\n",
            "94/94 [==============================] - 59s 627ms/step - loss: 0.2611 - accuracy: 0.9671 - val_loss: 0.3811 - val_accuracy: 0.9230\n",
            "Epoch 12/30\n",
            "94/94 [==============================] - 59s 633ms/step - loss: 0.2546 - accuracy: 0.9693 - val_loss: 0.4147 - val_accuracy: 0.9210\n",
            "Epoch 13/30\n",
            "94/94 [==============================] - 59s 622ms/step - loss: 0.2530 - accuracy: 0.9711 - val_loss: 0.4476 - val_accuracy: 0.9097\n",
            "Epoch 14/30\n",
            "94/94 [==============================] - 62s 655ms/step - loss: 0.2230 - accuracy: 0.9789 - val_loss: 0.4023 - val_accuracy: 0.9213\n",
            "Epoch 15/30\n",
            "94/94 [==============================] - 63s 662ms/step - loss: 0.2195 - accuracy: 0.9791 - val_loss: 0.4139 - val_accuracy: 0.9280\n",
            "Epoch 16/30\n",
            "94/94 [==============================] - 61s 648ms/step - loss: 0.2049 - accuracy: 0.9796 - val_loss: 0.3934 - val_accuracy: 0.9240\n",
            "Epoch 17/30\n",
            "94/94 [==============================] - 61s 649ms/step - loss: 0.2066 - accuracy: 0.9798 - val_loss: 0.4329 - val_accuracy: 0.9203\n",
            "Epoch 18/30\n",
            "94/94 [==============================] - 61s 646ms/step - loss: 0.2045 - accuracy: 0.9803 - val_loss: 0.4364 - val_accuracy: 0.9307\n",
            "Epoch 19/30\n",
            "94/94 [==============================] - 62s 657ms/step - loss: 0.2011 - accuracy: 0.9813 - val_loss: 0.4066 - val_accuracy: 0.9247\n",
            "Epoch 20/30\n",
            "94/94 [==============================] - 61s 646ms/step - loss: 0.1882 - accuracy: 0.9855 - val_loss: 0.4309 - val_accuracy: 0.9280\n",
            "Epoch 21/30\n",
            "94/94 [==============================] - 62s 665ms/step - loss: 0.1982 - accuracy: 0.9814 - val_loss: 0.4375 - val_accuracy: 0.9277\n",
            "Epoch 22/30\n",
            "94/94 [==============================] - 61s 650ms/step - loss: 0.1839 - accuracy: 0.9872 - val_loss: 0.4066 - val_accuracy: 0.9260\n",
            "Epoch 23/30\n",
            "94/94 [==============================] - 62s 663ms/step - loss: 0.1772 - accuracy: 0.9861 - val_loss: 0.4756 - val_accuracy: 0.9257\n",
            "Epoch 24/30\n",
            "94/94 [==============================] - 62s 659ms/step - loss: 0.1922 - accuracy: 0.9840 - val_loss: 0.4299 - val_accuracy: 0.9243\n",
            "Epoch 25/30\n",
            "94/94 [==============================] - 67s 713ms/step - loss: 0.1729 - accuracy: 0.9867 - val_loss: 0.4609 - val_accuracy: 0.9127\n",
            "Epoch 26/30\n",
            "94/94 [==============================] - 62s 665ms/step - loss: 0.1787 - accuracy: 0.9871 - val_loss: 0.4160 - val_accuracy: 0.9230\n",
            "Epoch 27/30\n",
            "94/94 [==============================] - 64s 677ms/step - loss: 0.1721 - accuracy: 0.9873 - val_loss: 0.4828 - val_accuracy: 0.9273\n",
            "Epoch 28/30\n",
            "94/94 [==============================] - 62s 664ms/step - loss: 0.1869 - accuracy: 0.9862 - val_loss: 0.4766 - val_accuracy: 0.9223\n",
            "Epoch 29/30\n",
            "94/94 [==============================] - 64s 678ms/step - loss: 0.1807 - accuracy: 0.9885 - val_loss: 0.4627 - val_accuracy: 0.9240\n",
            "Epoch 30/30\n",
            "94/94 [==============================] - 62s 659ms/step - loss: 0.1721 - accuracy: 0.9887 - val_loss: 0.4177 - val_accuracy: 0.9210\n"
          ]
        }
      ]
    },
    {
      "cell_type": "code",
      "source": [
        "plt.plot(glvHistory_30128.history['accuracy'])\n",
        "plt.plot(glvHistory_30128.history['val_accuracy'])\n",
        "plt.title('model accuracy')\n",
        "plt.ylabel('accuracy')\n",
        "plt.xlabel('epoch')\n",
        "plt.legend(['train', 'val'], loc='upper left')\n",
        "plt.show()"
      ],
      "metadata": {
        "id": "mXjs3B2_zFIw",
        "colab": {
          "base_uri": "https://localhost:8080/",
          "height": 295
        },
        "outputId": "5a374e5a-1214-4ce8-ed02-e9be4b6fd3a9"
      },
      "execution_count": null,
      "outputs": [
        {
          "output_type": "display_data",
          "data": {
            "text/plain": [
              "<Figure size 432x288 with 1 Axes>"
            ],
            "image/png": "[encoded data removed]"
          },
          "metadata": {
            "needs_background": "light"
          }
        }
      ]
    },
    {
      "cell_type": "code",
      "source": [
        "plt.plot(glvHistory_30128.history['loss'])\n",
        "plt.plot(glvHistory_30128.history['val_loss'])\n",
        "plt.title('model loss')\n",
        "plt.ylabel('loss')\n",
        "plt.xlabel('epoch')\n",
        "plt.legend(['train', 'val'], loc='upper left')\n",
        "plt.show()"
      ],
      "metadata": {
        "id": "4F8zyGV7zFIx",
        "colab": {
          "base_uri": "https://localhost:8080/",
          "height": 295
        },
        "outputId": "8d871285-4927-43f7-95c3-de56ddcf9ef9"
      },
      "execution_count": null,
      "outputs": [
        {
          "output_type": "display_data",
          "data": {
            "text/plain": [
              "<Figure size 432x288 with 1 Axes>"
            ],
            "image/png": "[encoded data removed]"
          },
          "metadata": {
            "needs_background": "light"
          }
        }
      ]
    },
    {
      "cell_type": "code",
      "source": [
        "loss, acc = model2.evaluate(X_test, y_test, batch_size=128)\n",
        "print('Model loss: {}'.format(loss))\n",
        "print('Model acc: {}'.format(acc))"
      ],
      "metadata": {
        "id": "1CJv4weCzFIy",
        "colab": {
          "base_uri": "https://localhost:8080/"
        },
        "outputId": "84c53208-986f-4bb2-ea0b-5abdc8f1ce84"
      },
      "execution_count": null,
      "outputs": [
        {
          "output_type": "stream",
          "name": "stdout",
          "text": [
            "40/40 [==============================] - 2s 41ms/step - loss: 0.3823 - accuracy: 0.9306\n",
            "Model loss: 0.3823109269142151\n",
            "Model acc: 0.9305999875068665\n"
          ]
        }
      ]
    },
    {
      "cell_type": "markdown",
      "source": [
        "### Fixed model (epochs 30 batch size 128)"
      ],
      "metadata": {
        "id": "X3mxcL1ovs4W"
      }
    },
    {
      "cell_type": "code",
      "source": [
        "model = Sequential()\n",
        "model.add(embedding_layer)\n",
        "model.add(BatchNormalization())\n",
        "model.add(Dropout(0.4))\n",
        "model.add(Conv1D(filters=128, kernel_size=5, padding='same', activation='relu', kernel_regularizer=regularizers.l2(l=0.01),\n",
        "                  kernel_initializer='he_normal'))\n",
        "model.add(BatchNormalization())\n",
        "model.add(Dropout(0.4))\n",
        "model.add(Conv1D(filters=128, kernel_size=3, padding='same', activation='relu', kernel_regularizer=regularizers.l2(l=0.01),\n",
        "                  kernel_initializer='he_normal'))\n",
        "model.add(MaxPooling1D(pool_size=3))\n",
        "model.add(BatchNormalization())\n",
        "model.add(Dropout(0.4))\n",
        "model.add(Flatten())\n",
        "model.add(BatchNormalization())\n",
        "model.add(Dropout(0.4))\n",
        "model.add(Dense(64, activation='relu'))\n",
        "model.add(BatchNormalization())\n",
        "model.add(Dropout(0.4))\n",
        "model.add(Dense(32, activation = 'relu'))\n",
        "model.add(BatchNormalization())\n",
        "model.add(Dropout(0.4))\n",
        "model.add(Dense(1, activation='sigmoid'))\n",
        "\n",
        "adam = Adam(lr=0.0001, beta_1=0.9, beta_2=0.999, epsilon=1e-08, decay=0.0)\n",
        "model.compile(loss='binary_crossentropy', optimizer='adam', metrics=['accuracy'])\n",
        "model.summary()"
      ],
      "metadata": {
        "colab": {
          "base_uri": "https://localhost:8080/"
        },
        "outputId": "be03d9f4-ebd1-41d8-c742-2384634f3a6b",
        "id": "DeQ8YPqAvs4a"
      },
      "execution_count": null,
      "outputs": [
        {
          "output_type": "stream",
          "name": "stdout",
          "text": [
            "Model: \"sequential\"\n",
            "_________________________________________________________________\n",
            " Layer (type)                Output Shape              Param #   \n",
            "=================================================================\n",
            " embedding (Embedding)       (None, 30, 300)           45000000  \n",
            "                                                                 \n",
            " batch_normalization (BatchN  (None, 30, 300)          1200      \n",
            " ormalization)                                                   \n",
            "                                                                 \n",
            " dropout (Dropout)           (None, 30, 300)           0         \n",
            "                                                                 \n",
            " conv1d (Conv1D)             (None, 30, 128)           192128    \n",
            "                                                                 \n",
            " batch_normalization_1 (Batc  (None, 30, 128)          512       \n",
            " hNormalization)                                                 \n",
            "                                                                 \n",
            " dropout_1 (Dropout)         (None, 30, 128)           0         \n",
            "                                                                 \n",
            " conv1d_1 (Conv1D)           (None, 30, 128)           49280     \n",
            "                                                                 \n",
            " max_pooling1d (MaxPooling1D  (None, 10, 128)          0         \n",
            " )                                                               \n",
            "                                                                 \n",
            " batch_normalization_2 (Batc  (None, 10, 128)          512       \n",
            " hNormalization)                                                 \n",
            "                                                                 \n",
            " dropout_2 (Dropout)         (None, 10, 128)           0         \n",
            "                                                                 \n",
            " flatten (Flatten)           (None, 1280)              0         \n",
            "                                                                 \n",
            " batch_normalization_3 (Batc  (None, 1280)             5120      \n",
            " hNormalization)                                                 \n",
            "                                                                 \n",
            " dropout_3 (Dropout)         (None, 1280)              0         \n",
            "                                                                 \n",
            " dense (Dense)               (None, 64)                81984     \n",
            "                                                                 \n",
            " batch_normalization_4 (Batc  (None, 64)               256       \n",
            " hNormalization)                                                 \n",
            "                                                                 \n",
            " dropout_4 (Dropout)         (None, 64)                0         \n",
            "                                                                 \n",
            " dense_1 (Dense)             (None, 32)                2080      \n",
            "                                                                 \n",
            " batch_normalization_5 (Batc  (None, 32)               128       \n",
            " hNormalization)                                                 \n",
            "                                                                 \n",
            " dropout_5 (Dropout)         (None, 32)                0         \n",
            "                                                                 \n",
            " dense_2 (Dense)             (None, 1)                 33        \n",
            "                                                                 \n",
            "=================================================================\n",
            "Total params: 45,333,233\n",
            "Trainable params: 45,329,369\n",
            "Non-trainable params: 3,864\n",
            "_________________________________________________________________\n"
          ]
        },
        {
          "output_type": "stream",
          "name": "stderr",
          "text": [
            "/usr/local/lib/python3.7/dist-packages/keras/optimizer_v2/adam.py:105: UserWarning: The `lr` argument is deprecated, use `learning_rate` instead.\n",
            "  super(Adam, self).__init__(name, **kwargs)\n"
          ]
        }
      ]
    },
    {
      "cell_type": "code",
      "source": [
        "cnnModelglv = model.fit(X_train, y_train,\n",
        "                        epochs=30,\n",
        "                        batch_size=128,\n",
        "                        validation_data=(X_test, y_test))"
      ],
      "metadata": {
        "colab": {
          "base_uri": "https://localhost:8080/"
        },
        "outputId": "ca08723f-adac-4414-d4f3-7ab33a5bf1df",
        "id": "k999Kfjcvs4d"
      },
      "execution_count": null,
      "outputs": [
        {
          "output_type": "stream",
          "name": "stdout",
          "text": [
            "Epoch 1/30\n",
            "118/118 [==============================] - 92s 735ms/step - loss: 4.7442 - accuracy: 0.5524 - val_loss: 3.6808 - val_accuracy: 0.5048\n",
            "Epoch 2/30\n",
            "118/118 [==============================] - 82s 697ms/step - loss: 2.7041 - accuracy: 0.6995 - val_loss: 2.9670 - val_accuracy: 0.5048\n",
            "Epoch 3/30\n",
            "118/118 [==============================] - 80s 679ms/step - loss: 1.4701 - accuracy: 0.8329 - val_loss: 1.9819 - val_accuracy: 0.5098\n",
            "Epoch 4/30\n",
            "118/118 [==============================] - 80s 678ms/step - loss: 0.8382 - accuracy: 0.8924 - val_loss: 0.8567 - val_accuracy: 0.7810\n",
            "Epoch 5/30\n",
            "118/118 [==============================] - 85s 722ms/step - loss: 0.5438 - accuracy: 0.9229 - val_loss: 0.5278 - val_accuracy: 0.8950\n",
            "Epoch 6/30\n",
            "118/118 [==============================] - 79s 671ms/step - loss: 0.4106 - accuracy: 0.9377 - val_loss: 0.4402 - val_accuracy: 0.9070\n",
            "Epoch 7/30\n",
            "118/118 [==============================] - 85s 717ms/step - loss: 0.3384 - accuracy: 0.9493 - val_loss: 0.4002 - val_accuracy: 0.9122\n",
            "Epoch 8/30\n",
            "118/118 [==============================] - 94s 794ms/step - loss: 0.2821 - accuracy: 0.9597 - val_loss: 0.3685 - val_accuracy: 0.9266\n",
            "Epoch 9/30\n",
            "118/118 [==============================] - 85s 724ms/step - loss: 0.2558 - accuracy: 0.9642 - val_loss: 0.4041 - val_accuracy: 0.9200\n",
            "Epoch 10/30\n",
            "118/118 [==============================] - 84s 710ms/step - loss: 0.2530 - accuracy: 0.9673 - val_loss: 0.3846 - val_accuracy: 0.9280\n",
            "Epoch 11/30\n",
            "118/118 [==============================] - 79s 674ms/step - loss: 0.2252 - accuracy: 0.9733 - val_loss: 0.3654 - val_accuracy: 0.9264\n",
            "Epoch 12/30\n",
            "118/118 [==============================] - 84s 712ms/step - loss: 0.2238 - accuracy: 0.9729 - val_loss: 0.3861 - val_accuracy: 0.9268\n",
            "Epoch 13/30\n",
            "118/118 [==============================] - 80s 679ms/step - loss: 0.2315 - accuracy: 0.9749 - val_loss: 0.3932 - val_accuracy: 0.9228\n",
            "Epoch 14/30\n",
            "118/118 [==============================] - 79s 673ms/step - loss: 0.2281 - accuracy: 0.9771 - val_loss: 0.4005 - val_accuracy: 0.9202\n",
            "Epoch 15/30\n",
            "118/118 [==============================] - 80s 679ms/step - loss: 0.1991 - accuracy: 0.9802 - val_loss: 0.4528 - val_accuracy: 0.9214\n",
            "Epoch 16/30\n",
            "118/118 [==============================] - 79s 670ms/step - loss: 0.1940 - accuracy: 0.9818 - val_loss: 0.4163 - val_accuracy: 0.9254\n",
            "Epoch 17/30\n",
            "118/118 [==============================] - 80s 674ms/step - loss: 0.1863 - accuracy: 0.9829 - val_loss: 0.4247 - val_accuracy: 0.9244\n",
            "Epoch 18/30\n",
            "118/118 [==============================] - 78s 659ms/step - loss: 0.2072 - accuracy: 0.9830 - val_loss: 0.4234 - val_accuracy: 0.9258\n",
            "Epoch 19/30\n",
            "118/118 [==============================] - 74s 625ms/step - loss: 0.2156 - accuracy: 0.9809 - val_loss: 0.4257 - val_accuracy: 0.9262\n",
            "Epoch 20/30\n",
            "118/118 [==============================] - 76s 644ms/step - loss: 0.2151 - accuracy: 0.9835 - val_loss: 0.4287 - val_accuracy: 0.9252\n",
            "Epoch 21/30\n",
            "118/118 [==============================] - 75s 634ms/step - loss: 0.1706 - accuracy: 0.9865 - val_loss: 0.4161 - val_accuracy: 0.9222\n",
            "Epoch 22/30\n",
            "118/118 [==============================] - 77s 651ms/step - loss: 0.1830 - accuracy: 0.9858 - val_loss: 0.4022 - val_accuracy: 0.9260\n",
            "Epoch 23/30\n",
            "118/118 [==============================] - 76s 645ms/step - loss: 0.1901 - accuracy: 0.9845 - val_loss: 0.4340 - val_accuracy: 0.9240\n",
            "Epoch 24/30\n",
            "118/118 [==============================] - 74s 630ms/step - loss: 0.1675 - accuracy: 0.9873 - val_loss: 0.4407 - val_accuracy: 0.9248\n",
            "Epoch 25/30\n",
            "118/118 [==============================] - 79s 672ms/step - loss: 0.1691 - accuracy: 0.9880 - val_loss: 0.4421 - val_accuracy: 0.9250\n",
            "Epoch 26/30\n",
            "118/118 [==============================] - 80s 681ms/step - loss: 0.1686 - accuracy: 0.9866 - val_loss: 0.4474 - val_accuracy: 0.9284\n",
            "Epoch 27/30\n",
            "118/118 [==============================] - 82s 692ms/step - loss: 0.1761 - accuracy: 0.9882 - val_loss: 0.4188 - val_accuracy: 0.9264\n",
            "Epoch 28/30\n",
            "118/118 [==============================] - 81s 690ms/step - loss: 0.1749 - accuracy: 0.9877 - val_loss: 0.4464 - val_accuracy: 0.9252\n",
            "Epoch 29/30\n",
            "118/118 [==============================] - 79s 664ms/step - loss: 0.1708 - accuracy: 0.9897 - val_loss: 0.4579 - val_accuracy: 0.9254\n",
            "Epoch 30/30\n",
            "118/118 [==============================] - 78s 664ms/step - loss: 0.1658 - accuracy: 0.9896 - val_loss: 0.4534 - val_accuracy: 0.9268\n"
          ]
        }
      ]
    },
    {
      "cell_type": "code",
      "source": [
        "plt.plot(cnnModelglv.history['accuracy'])\n",
        "plt.plot(cnnModelglv.history['val_accuracy'])\n",
        "plt.title('model accuracy')\n",
        "plt.ylabel('accuracy')\n",
        "plt.xlabel('epoch')\n",
        "plt.legend(['train', 'val'], loc='upper left')\n",
        "plt.show()"
      ],
      "metadata": {
        "colab": {
          "base_uri": "https://localhost:8080/",
          "height": 295
        },
        "outputId": "0a2d533c-a5bf-449d-fc1c-3ac787c321c7",
        "id": "v1jOR1Uzvs4e"
      },
      "execution_count": null,
      "outputs": [
        {
          "output_type": "display_data",
          "data": {
            "text/plain": [
              "<Figure size 432x288 with 1 Axes>"
            ],
            "image/png": "[encoded data removed]"
          },
          "metadata": {
            "needs_background": "light"
          }
        }
      ]
    },
    {
      "cell_type": "code",
      "source": [
        "plt.plot(cnnModelglv.history['loss'])\n",
        "plt.plot(cnnModelglv.history['val_loss'])\n",
        "plt.title('model loss')\n",
        "plt.ylabel('loss')\n",
        "plt.xlabel('epoch')\n",
        "plt.legend(['train', 'val'], loc='upper left')\n",
        "plt.show()"
      ],
      "metadata": {
        "colab": {
          "base_uri": "https://localhost:8080/",
          "height": 295
        },
        "outputId": "f22f3d73-7484-4141-f272-5df7a5ee4293",
        "id": "obrKh9Cjvs4g"
      },
      "execution_count": null,
      "outputs": [
        {
          "output_type": "display_data",
          "data": {
            "text/plain": [
              "<Figure size 432x288 with 1 Axes>"
            ],
            "image/png": "[encoded data removed]"
          },
          "metadata": {
            "needs_background": "light"
          }
        }
      ]
    },
    {
      "cell_type": "code",
      "source": [
        "loss, acc = model.evaluate(X_test, y_test, batch_size=128)\n",
        "print('Model loss: {}'.format(loss))\n",
        "print('Model acc: {}'.format(acc))"
      ],
      "metadata": {
        "colab": {
          "base_uri": "https://localhost:8080/"
        },
        "outputId": "187f9c3a-e5b0-4d84-973e-f07a25852835",
        "id": "iicxzeEBvs4h"
      },
      "execution_count": null,
      "outputs": [
        {
          "output_type": "stream",
          "name": "stdout",
          "text": [
            "40/40 [==============================] - 3s 78ms/step - loss: 0.4534 - accuracy: 0.9268\n",
            "Model loss: 0.4533730447292328\n",
            "Model acc: 0.926800012588501\n"
          ]
        }
      ]
    },
    {
      "cell_type": "markdown",
      "source": [
        "# FastText"
      ],
      "metadata": {
        "id": "2ZpmoNRa1Tfy"
      }
    },
    {
      "cell_type": "markdown",
      "source": [
        "## Embedding layer"
      ],
      "metadata": {
        "id": "J6cATIyL1TgQ"
      }
    },
    {
      "cell_type": "code",
      "source": [
        "pretrainedpath = 'MyDrive/dataset/fasttext_model.bin'\n",
        "fasttext_model = KeyedVectors.load_word2vec_format('drive/MyDrive/dataset/fasttext_model.bin', binary=True)\n",
        "print('Model fasttext loaded.')"
      ],
      "metadata": {
        "id": "YFuvY1Qs1TgT",
        "colab": {
          "base_uri": "https://localhost:8080/"
        },
        "outputId": "3a233d97-0001-4e25-f217-7c5fc69a3d52"
      },
      "execution_count": null,
      "outputs": [
        {
          "output_type": "stream",
          "name": "stderr",
          "text": [
            "2022-07-24 07:53:18,758 : INFO : loading projection weights from drive/MyDrive/dataset/fasttext_model.bin\n",
            "2022-07-24 07:53:24,566 : INFO : loaded (150000, 300) matrix from drive/MyDrive/dataset/fasttext_model.bin\n"
          ]
        },
        {
          "output_type": "stream",
          "name": "stdout",
          "text": [
            "Model fasttext loaded.\n"
          ]
        }
      ]
    },
    {
      "cell_type": "code",
      "source": [
        "embedding_layer = Embedding(input_dim=150000, output_dim=300, weights=[fasttext_model.vectors], \n",
        "                            input_length=X.shape[1])\n",
        "print('Embedding layer defined.')"
      ],
      "metadata": {
        "colab": {
          "base_uri": "https://localhost:8080/"
        },
        "outputId": "c9190996-c983-485b-d2f1-74374dec8faa",
        "id": "lM6TpOnA1TgV"
      },
      "execution_count": null,
      "outputs": [
        {
          "output_type": "stream",
          "name": "stdout",
          "text": [
            "Embedding layer defined.\n"
          ]
        }
      ]
    },
    {
      "cell_type": "markdown",
      "source": [
        "## CNN Model"
      ],
      "metadata": {
        "id": "RNpOtC8z1TgX"
      }
    },
    {
      "cell_type": "code",
      "source": [
        "model3 = Sequential()\n",
        "model3.add(embedding_layer)\n",
        "model3.add(BatchNormalization())\n",
        "model3.add(Dropout(0.4))\n",
        "model3.add(Conv1D(filters=128, kernel_size=5, padding='same', activation='relu', kernel_regularizer=regularizers.l2(l=0.01),\n",
        "                  kernel_initializer='he_normal'))\n",
        "model3.add(BatchNormalization())\n",
        "model3.add(Dropout(0.4))\n",
        "model3.add(Conv1D(filters=128, kernel_size=3, padding='same', activation='relu', kernel_regularizer=regularizers.l2(l=0.01),\n",
        "                  kernel_initializer='he_normal'))\n",
        "model3.add(MaxPooling1D(pool_size=3))\n",
        "model3.add(BatchNormalization())\n",
        "model3.add(Dropout(0.4))\n",
        "model3.add(Flatten())\n",
        "model3.add(BatchNormalization())\n",
        "model3.add(Dropout(0.4))\n",
        "model3.add(Dense(64, activation='relu'))\n",
        "model3.add(BatchNormalization())\n",
        "model3.add(Dropout(0.4))\n",
        "model3.add(Dense(32, activation = 'relu'))\n",
        "model3.add(BatchNormalization())\n",
        "model3.add(Dropout(0.4))\n",
        "model3.add(Dense(1, activation='sigmoid'))\n",
        "\n",
        "adam = Adam(lr=0.0001, beta_1=0.9, beta_2=0.999, epsilon=1e-08, decay=0.0)\n",
        "model3.compile(loss='binary_crossentropy', optimizer='adam', metrics=['accuracy'])\n",
        "model3.summary()"
      ],
      "metadata": {
        "id": "aLcNGLHK1TgY",
        "colab": {
          "base_uri": "https://localhost:8080/"
        },
        "outputId": "95c363e4-041d-4438-8400-616db3a2c2b0"
      },
      "execution_count": null,
      "outputs": [
        {
          "output_type": "stream",
          "name": "stdout",
          "text": [
            "Model: \"sequential\"\n",
            "_________________________________________________________________\n",
            " Layer (type)                Output Shape              Param #   \n",
            "=================================================================\n",
            " embedding (Embedding)       (None, 30, 300)           45000000  \n",
            "                                                                 \n",
            " batch_normalization (BatchN  (None, 30, 300)          1200      \n",
            " ormalization)                                                   \n",
            "                                                                 \n",
            " dropout (Dropout)           (None, 30, 300)           0         \n",
            "                                                                 \n",
            " conv1d (Conv1D)             (None, 30, 128)           192128    \n",
            "                                                                 \n",
            " batch_normalization_1 (Batc  (None, 30, 128)          512       \n",
            " hNormalization)                                                 \n",
            "                                                                 \n",
            " dropout_1 (Dropout)         (None, 30, 128)           0         \n",
            "                                                                 \n",
            " conv1d_1 (Conv1D)           (None, 30, 128)           49280     \n",
            "                                                                 \n",
            " max_pooling1d (MaxPooling1D  (None, 10, 128)          0         \n",
            " )                                                               \n",
            "                                                                 \n",
            " batch_normalization_2 (Batc  (None, 10, 128)          512       \n",
            " hNormalization)                                                 \n",
            "                                                                 \n",
            " dropout_2 (Dropout)         (None, 10, 128)           0         \n",
            "                                                                 \n",
            " flatten (Flatten)           (None, 1280)              0         \n",
            "                                                                 \n",
            " batch_normalization_3 (Batc  (None, 1280)             5120      \n",
            " hNormalization)                                                 \n",
            "                                                                 \n",
            " dropout_3 (Dropout)         (None, 1280)              0         \n",
            "                                                                 \n",
            " dense (Dense)               (None, 64)                81984     \n",
            "                                                                 \n",
            " batch_normalization_4 (Batc  (None, 64)               256       \n",
            " hNormalization)                                                 \n",
            "                                                                 \n",
            " dropout_4 (Dropout)         (None, 64)                0         \n",
            "                                                                 \n",
            " dense_1 (Dense)             (None, 32)                2080      \n",
            "                                                                 \n",
            " batch_normalization_5 (Batc  (None, 32)               128       \n",
            " hNormalization)                                                 \n",
            "                                                                 \n",
            " dropout_5 (Dropout)         (None, 32)                0         \n",
            "                                                                 \n",
            " dense_2 (Dense)             (None, 1)                 33        \n",
            "                                                                 \n",
            "=================================================================\n",
            "Total params: 45,333,233\n",
            "Trainable params: 45,329,369\n",
            "Non-trainable params: 3,864\n",
            "_________________________________________________________________\n"
          ]
        },
        {
          "output_type": "stream",
          "name": "stderr",
          "text": [
            "/usr/local/lib/python3.7/dist-packages/keras/optimizer_v2/adam.py:105: UserWarning: The `lr` argument is deprecated, use `learning_rate` instead.\n",
            "  super(Adam, self).__init__(name, **kwargs)\n"
          ]
        }
      ]
    },
    {
      "cell_type": "markdown",
      "source": [
        "## Hyperparameter tuning "
      ],
      "metadata": {
        "id": "rzSIulUa1TgZ"
      }
    },
    {
      "cell_type": "markdown",
      "source": [
        "### Epochs 20, batch size 32"
      ],
      "metadata": {
        "id": "zQCukqNn1Tga"
      }
    },
    {
      "cell_type": "code",
      "source": [
        "ftHistory_2032 = model3.fit(X_train, y_train, \n",
        "                          epochs=20, \n",
        "                          validation_split=0.2, \n",
        "                          batch_size=32,\n",
        "                          validation_data=(X_test, y_test))"
      ],
      "metadata": {
        "id": "lDwkb8kz1Tga",
        "colab": {
          "base_uri": "https://localhost:8080/"
        },
        "outputId": "22dec1b2-0040-43c8-9ced-71cb5c3d5315"
      },
      "execution_count": null,
      "outputs": [
        {
          "output_type": "stream",
          "name": "stdout",
          "text": [
            "Epoch 1/20\n",
            "375/375 [==============================] - 206s 537ms/step - loss: 4.1265 - accuracy: 0.5373 - val_loss: 2.5370 - val_accuracy: 0.4923\n",
            "Epoch 2/20\n",
            "375/375 [==============================] - 197s 526ms/step - loss: 1.4387 - accuracy: 0.8493 - val_loss: 0.7963 - val_accuracy: 0.9190\n",
            "Epoch 3/20\n",
            "375/375 [==============================] - 196s 523ms/step - loss: 0.5297 - accuracy: 0.9388 - val_loss: 0.4963 - val_accuracy: 0.9200\n",
            "Epoch 4/20\n",
            "375/375 [==============================] - 196s 522ms/step - loss: 0.3095 - accuracy: 0.9608 - val_loss: 0.4212 - val_accuracy: 0.9273\n",
            "Epoch 5/20\n",
            "375/375 [==============================] - 197s 527ms/step - loss: 0.2489 - accuracy: 0.9707 - val_loss: 0.4357 - val_accuracy: 0.9227\n",
            "Epoch 6/20\n",
            "375/375 [==============================] - 197s 525ms/step - loss: 0.2592 - accuracy: 0.9708 - val_loss: 0.4483 - val_accuracy: 0.9267\n",
            "Epoch 7/20\n",
            "375/375 [==============================] - 195s 520ms/step - loss: 0.2389 - accuracy: 0.9739 - val_loss: 0.4437 - val_accuracy: 0.9310\n",
            "Epoch 8/20\n",
            "375/375 [==============================] - 194s 518ms/step - loss: 0.2300 - accuracy: 0.9760 - val_loss: 0.4285 - val_accuracy: 0.9180\n",
            "Epoch 9/20\n",
            "375/375 [==============================] - 195s 521ms/step - loss: 0.2467 - accuracy: 0.9795 - val_loss: 0.4653 - val_accuracy: 0.9313\n",
            "Epoch 10/20\n",
            "375/375 [==============================] - 200s 533ms/step - loss: 0.2288 - accuracy: 0.9793 - val_loss: 0.4524 - val_accuracy: 0.9310\n",
            "Epoch 11/20\n",
            "375/375 [==============================] - 193s 514ms/step - loss: 0.2283 - accuracy: 0.9793 - val_loss: 0.4244 - val_accuracy: 0.9310\n",
            "Epoch 12/20\n",
            "375/375 [==============================] - 196s 522ms/step - loss: 0.2169 - accuracy: 0.9810 - val_loss: 0.4352 - val_accuracy: 0.9257\n",
            "Epoch 13/20\n",
            "375/375 [==============================] - 196s 522ms/step - loss: 0.2234 - accuracy: 0.9808 - val_loss: 0.4490 - val_accuracy: 0.9287\n",
            "Epoch 14/20\n",
            "375/375 [==============================] - 194s 519ms/step - loss: 0.2258 - accuracy: 0.9820 - val_loss: 0.7856 - val_accuracy: 0.8153\n",
            "Epoch 15/20\n",
            "375/375 [==============================] - 195s 521ms/step - loss: 0.2127 - accuracy: 0.9839 - val_loss: 0.4691 - val_accuracy: 0.9263\n",
            "Epoch 16/20\n",
            "375/375 [==============================] - 193s 514ms/step - loss: 0.2216 - accuracy: 0.9826 - val_loss: 0.4773 - val_accuracy: 0.9300\n",
            "Epoch 17/20\n",
            "375/375 [==============================] - 196s 522ms/step - loss: 0.2396 - accuracy: 0.9825 - val_loss: 0.5085 - val_accuracy: 0.9287\n",
            "Epoch 18/20\n",
            "375/375 [==============================] - 192s 512ms/step - loss: 0.2285 - accuracy: 0.9832 - val_loss: 0.4887 - val_accuracy: 0.9237\n",
            "Epoch 19/20\n",
            "375/375 [==============================] - 195s 519ms/step - loss: 0.2351 - accuracy: 0.9834 - val_loss: 0.4487 - val_accuracy: 0.9240\n",
            "Epoch 20/20\n",
            "375/375 [==============================] - 190s 505ms/step - loss: 0.2002 - accuracy: 0.9872 - val_loss: 0.4922 - val_accuracy: 0.9280\n"
          ]
        }
      ]
    },
    {
      "cell_type": "code",
      "source": [
        "plt.plot(ftHistory_2032.history['accuracy'])\n",
        "plt.plot(ftHistory_2032.history['val_accuracy'])\n",
        "plt.title('model accuracy')\n",
        "plt.ylabel('accuracy')\n",
        "plt.xlabel('epoch')\n",
        "plt.legend(['train', 'val'], loc='upper left')\n",
        "plt.show()"
      ],
      "metadata": {
        "id": "mEOyXT6L1Tgb",
        "colab": {
          "base_uri": "https://localhost:8080/",
          "height": 295
        },
        "outputId": "7e57917b-f95c-4124-cf64-924904400167"
      },
      "execution_count": null,
      "outputs": [
        {
          "output_type": "display_data",
          "data": {
            "text/plain": [
              "<Figure size 432x288 with 1 Axes>"
            ],
            "image/png": "[encoded data removed]"
          },
          "metadata": {
            "needs_background": "light"
          }
        }
      ]
    },
    {
      "cell_type": "code",
      "source": [
        "plt.plot(ftHistory_2032.history['loss'])\n",
        "plt.plot(ftHistory_2032.history['val_loss'])\n",
        "plt.title('model loss')\n",
        "plt.ylabel('loss')\n",
        "plt.xlabel('epoch')\n",
        "plt.legend(['train', 'val'], loc='upper left')\n",
        "plt.show()"
      ],
      "metadata": {
        "id": "LTAZKmPp1Tgc",
        "colab": {
          "base_uri": "https://localhost:8080/",
          "height": 295
        },
        "outputId": "92c179dc-c579-43f0-934d-f2d3b0af48e8"
      },
      "execution_count": null,
      "outputs": [
        {
          "output_type": "display_data",
          "data": {
            "text/plain": [
              "<Figure size 432x288 with 1 Axes>"
            ],
            "image/png": "[encoded data removed]"
          },
          "metadata": {
            "needs_background": "light"
          }
        }
      ]
    },
    {
      "cell_type": "code",
      "source": [
        "loss, acc = model3.evaluate(X_test, y_test, batch_size=32)\n",
        "print('Model loss: {}'.format(loss))\n",
        "print('Model acc: {}'.format(acc))"
      ],
      "metadata": {
        "id": "aUGaALSi1Tgd",
        "colab": {
          "base_uri": "https://localhost:8080/"
        },
        "outputId": "929f6f8b-306e-4154-9e53-8d6a8f20409b"
      },
      "execution_count": null,
      "outputs": [
        {
          "output_type": "stream",
          "name": "stdout",
          "text": [
            "157/157 [==============================] - 2s 14ms/step - loss: 0.5386 - accuracy: 0.9200\n",
            "Model loss: 0.5385560989379883\n",
            "Model acc: 0.9200000166893005\n"
          ]
        }
      ]
    },
    {
      "cell_type": "markdown",
      "source": [
        "### Epochs 20, batch size 64"
      ],
      "metadata": {
        "id": "DiYg5aw71Tge"
      }
    },
    {
      "cell_type": "code",
      "source": [
        "ftHistory_2064 = model3.fit(X_train, y_train, \n",
        "                          epochs=20, \n",
        "                          validation_split=0.2, \n",
        "                          batch_size=64,\n",
        "                          validation_data=(X_test, y_test))"
      ],
      "metadata": {
        "id": "mFRh2E3m1Tge",
        "colab": {
          "base_uri": "https://localhost:8080/"
        },
        "outputId": "0ccd3aa0-386c-4316-cec6-62770e0ca82c"
      },
      "execution_count": null,
      "outputs": [
        {
          "output_type": "stream",
          "name": "stdout",
          "text": [
            "Epoch 1/20\n",
            "188/188 [==============================] - 108s 560ms/step - loss: 4.6082 - accuracy: 0.5591 - val_loss: 3.2764 - val_accuracy: 0.5077\n",
            "Epoch 2/20\n",
            "188/188 [==============================] - 105s 556ms/step - loss: 2.0639 - accuracy: 0.8628 - val_loss: 2.0539 - val_accuracy: 0.5143\n",
            "Epoch 3/20\n",
            "188/188 [==============================] - 103s 549ms/step - loss: 0.8561 - accuracy: 0.9461 - val_loss: 0.7683 - val_accuracy: 0.8730\n",
            "Epoch 4/20\n",
            "188/188 [==============================] - 103s 548ms/step - loss: 0.3918 - accuracy: 0.9712 - val_loss: 0.4308 - val_accuracy: 0.9313\n",
            "Epoch 5/20\n",
            "188/188 [==============================] - 104s 555ms/step - loss: 0.2403 - accuracy: 0.9763 - val_loss: 0.4096 - val_accuracy: 0.9150\n",
            "Epoch 6/20\n",
            "188/188 [==============================] - 103s 549ms/step - loss: 0.1868 - accuracy: 0.9800 - val_loss: 0.3768 - val_accuracy: 0.9297\n",
            "Epoch 7/20\n",
            "188/188 [==============================] - 103s 549ms/step - loss: 0.1656 - accuracy: 0.9819 - val_loss: 0.3739 - val_accuracy: 0.9333\n",
            "Epoch 8/20\n",
            "188/188 [==============================] - 103s 547ms/step - loss: 0.1566 - accuracy: 0.9818 - val_loss: 0.4002 - val_accuracy: 0.9280\n",
            "Epoch 9/20\n",
            "188/188 [==============================] - 103s 549ms/step - loss: 0.1485 - accuracy: 0.9861 - val_loss: 0.3965 - val_accuracy: 0.9287\n",
            "Epoch 10/20\n",
            "188/188 [==============================] - 103s 548ms/step - loss: 0.1529 - accuracy: 0.9857 - val_loss: 0.3736 - val_accuracy: 0.9347\n",
            "Epoch 11/20\n",
            "188/188 [==============================] - 103s 546ms/step - loss: 0.1379 - accuracy: 0.9872 - val_loss: 0.4178 - val_accuracy: 0.9327\n",
            "Epoch 12/20\n",
            "188/188 [==============================] - 103s 547ms/step - loss: 0.1655 - accuracy: 0.9843 - val_loss: 0.4105 - val_accuracy: 0.9307\n",
            "Epoch 13/20\n",
            "188/188 [==============================] - 103s 547ms/step - loss: 0.1391 - accuracy: 0.9892 - val_loss: 0.3627 - val_accuracy: 0.9343\n",
            "Epoch 14/20\n",
            "188/188 [==============================] - 103s 550ms/step - loss: 0.1417 - accuracy: 0.9881 - val_loss: 0.4128 - val_accuracy: 0.9303\n",
            "Epoch 15/20\n",
            "188/188 [==============================] - 104s 553ms/step - loss: 0.1523 - accuracy: 0.9871 - val_loss: 0.4290 - val_accuracy: 0.9337\n",
            "Epoch 16/20\n",
            "188/188 [==============================] - 104s 553ms/step - loss: 0.1585 - accuracy: 0.9893 - val_loss: 0.4467 - val_accuracy: 0.9323\n",
            "Epoch 17/20\n",
            "188/188 [==============================] - 104s 553ms/step - loss: 0.1493 - accuracy: 0.9905 - val_loss: 0.4039 - val_accuracy: 0.9353\n",
            "Epoch 18/20\n",
            "188/188 [==============================] - 104s 551ms/step - loss: 0.1373 - accuracy: 0.9899 - val_loss: 0.4480 - val_accuracy: 0.9283\n",
            "Epoch 19/20\n",
            "188/188 [==============================] - 103s 549ms/step - loss: 0.1273 - accuracy: 0.9908 - val_loss: 0.4681 - val_accuracy: 0.9240\n",
            "Epoch 20/20\n",
            "188/188 [==============================] - 103s 548ms/step - loss: 0.1536 - accuracy: 0.9893 - val_loss: 0.4466 - val_accuracy: 0.9340\n"
          ]
        }
      ]
    },
    {
      "cell_type": "code",
      "source": [
        "plt.plot(ftHistory_2064.history['accuracy'])\n",
        "plt.plot(ftHistory_2064.history['val_accuracy'])\n",
        "plt.title('model accuracy')\n",
        "plt.ylabel('accuracy')\n",
        "plt.xlabel('epoch')\n",
        "plt.legend(['train', 'val'], loc='upper left')\n",
        "plt.show()"
      ],
      "metadata": {
        "id": "Gbu01-t81Tgf",
        "colab": {
          "base_uri": "https://localhost:8080/",
          "height": 295
        },
        "outputId": "10d89553-abcc-4a46-efdb-2ae13feb7caa"
      },
      "execution_count": null,
      "outputs": [
        {
          "output_type": "display_data",
          "data": {
            "text/plain": [
              "<Figure size 432x288 with 1 Axes>"
            ],
            "image/png": "[encoded data removed]"
          },
          "metadata": {
            "needs_background": "light"
          }
        }
      ]
    },
    {
      "cell_type": "code",
      "source": [
        "plt.plot(ftHistory_2064.history['loss'])\n",
        "plt.plot(ftHistory_2064.history['val_loss'])\n",
        "plt.title('model loss')\n",
        "plt.ylabel('loss')\n",
        "plt.xlabel('epoch')\n",
        "plt.legend(['train', 'val'], loc='upper left')\n",
        "plt.show()"
      ],
      "metadata": {
        "id": "71k5RoMH1Tgg",
        "colab": {
          "base_uri": "https://localhost:8080/",
          "height": 295
        },
        "outputId": "89b79f7a-980e-4bd2-f62a-3560ab757592"
      },
      "execution_count": null,
      "outputs": [
        {
          "output_type": "display_data",
          "data": {
            "text/plain": [
              "<Figure size 432x288 with 1 Axes>"
            ],
            "image/png": "[encoded data removed]"
          },
          "metadata": {
            "needs_background": "light"
          }
        }
      ]
    },
    {
      "cell_type": "code",
      "source": [
        "loss, acc = model3.evaluate(X_test, y_test)\n",
        "print('Model loss: {}'.format(loss))\n",
        "print('Model acc: {}'.format(acc))"
      ],
      "metadata": {
        "id": "-qWx9WIo1Tgh",
        "colab": {
          "base_uri": "https://localhost:8080/"
        },
        "outputId": "5a8a9b3f-f361-4269-f478-05dd2975113e"
      },
      "execution_count": null,
      "outputs": [
        {
          "output_type": "stream",
          "name": "stdout",
          "text": [
            "157/157 [==============================] - 2s 13ms/step - loss: 0.5206 - accuracy: 0.9250\n",
            "Model loss: 0.5206463932991028\n",
            "Model acc: 0.925000011920929\n"
          ]
        }
      ]
    },
    {
      "cell_type": "markdown",
      "source": [
        "### Epochs 20, batch size 128"
      ],
      "metadata": {
        "id": "mGiyNYln1Tgi"
      }
    },
    {
      "cell_type": "code",
      "source": [
        "ftHistory_20128 = model3.fit(X_train, y_train, \n",
        "                          epochs=20, \n",
        "                          validation_split=0.2, \n",
        "                          batch_size=128,\n",
        "                          validation_data=(X_test, y_test))"
      ],
      "metadata": {
        "id": "OlJlTFLp1Tgj",
        "colab": {
          "base_uri": "https://localhost:8080/"
        },
        "outputId": "6c855441-1383-49de-95a4-9a52be9dabe3"
      },
      "execution_count": null,
      "outputs": [
        {
          "output_type": "stream",
          "name": "stdout",
          "text": [
            "Epoch 1/20\n",
            "94/94 [==============================] - 92s 863ms/step - loss: 4.6345 - accuracy: 0.8036 - val_loss: 4.2114 - val_accuracy: 0.5077\n",
            "Epoch 2/20\n",
            "94/94 [==============================] - 63s 668ms/step - loss: 2.3187 - accuracy: 0.9793 - val_loss: 3.2532 - val_accuracy: 0.5077\n",
            "Epoch 3/20\n",
            "94/94 [==============================] - 64s 683ms/step - loss: 1.0532 - accuracy: 0.9859 - val_loss: 2.7684 - val_accuracy: 0.5077\n",
            "Epoch 4/20\n",
            "94/94 [==============================] - 62s 656ms/step - loss: 0.4920 - accuracy: 0.9898 - val_loss: 1.7255 - val_accuracy: 0.5343\n",
            "Epoch 5/20\n",
            "94/94 [==============================] - 62s 655ms/step - loss: 0.2596 - accuracy: 0.9898 - val_loss: 0.6534 - val_accuracy: 0.8487\n",
            "Epoch 6/20\n",
            "94/94 [==============================] - 61s 653ms/step - loss: 0.1846 - accuracy: 0.9885 - val_loss: 0.4121 - val_accuracy: 0.9277\n",
            "Epoch 7/20\n",
            "94/94 [==============================] - 62s 663ms/step - loss: 0.1503 - accuracy: 0.9888 - val_loss: 0.4349 - val_accuracy: 0.9333\n",
            "Epoch 8/20\n",
            "94/94 [==============================] - 62s 661ms/step - loss: 0.1252 - accuracy: 0.9907 - val_loss: 0.4013 - val_accuracy: 0.9307\n",
            "Epoch 9/20\n",
            "94/94 [==============================] - 62s 662ms/step - loss: 0.1043 - accuracy: 0.9922 - val_loss: 0.3943 - val_accuracy: 0.9357\n",
            "Epoch 10/20\n",
            "94/94 [==============================] - 62s 664ms/step - loss: 0.1179 - accuracy: 0.9914 - val_loss: 0.4837 - val_accuracy: 0.9340\n",
            "Epoch 11/20\n",
            "94/94 [==============================] - 62s 663ms/step - loss: 0.1127 - accuracy: 0.9925 - val_loss: 0.4628 - val_accuracy: 0.9350\n",
            "Epoch 12/20\n",
            "94/94 [==============================] - 63s 667ms/step - loss: 0.1151 - accuracy: 0.9914 - val_loss: 0.4715 - val_accuracy: 0.9127\n",
            "Epoch 13/20\n",
            "94/94 [==============================] - 63s 668ms/step - loss: 0.1161 - accuracy: 0.9898 - val_loss: 0.4660 - val_accuracy: 0.9303\n",
            "Epoch 14/20\n",
            "94/94 [==============================] - 63s 665ms/step - loss: 0.1145 - accuracy: 0.9910 - val_loss: 0.4298 - val_accuracy: 0.9350\n",
            "Epoch 15/20\n",
            "94/94 [==============================] - 63s 668ms/step - loss: 0.0970 - accuracy: 0.9926 - val_loss: 0.3723 - val_accuracy: 0.9373\n",
            "Epoch 16/20\n",
            "94/94 [==============================] - 63s 667ms/step - loss: 0.0995 - accuracy: 0.9918 - val_loss: 0.4210 - val_accuracy: 0.9353\n",
            "Epoch 17/20\n",
            "94/94 [==============================] - 63s 667ms/step - loss: 0.0917 - accuracy: 0.9937 - val_loss: 0.4146 - val_accuracy: 0.9350\n",
            "Epoch 18/20\n",
            "94/94 [==============================] - 63s 672ms/step - loss: 0.1070 - accuracy: 0.9932 - val_loss: 0.4244 - val_accuracy: 0.9353\n",
            "Epoch 19/20\n",
            "94/94 [==============================] - 63s 668ms/step - loss: 0.0856 - accuracy: 0.9947 - val_loss: 0.4232 - val_accuracy: 0.9310\n",
            "Epoch 20/20\n",
            "94/94 [==============================] - 62s 665ms/step - loss: 0.0900 - accuracy: 0.9945 - val_loss: 0.4944 - val_accuracy: 0.9333\n"
          ]
        }
      ]
    },
    {
      "cell_type": "code",
      "source": [
        "plt.plot(ftHistory_20128.history['accuracy'])\n",
        "plt.plot(ftHistory_20128.history['val_accuracy'])\n",
        "plt.title('model accuracy')\n",
        "plt.ylabel('accuracy')\n",
        "plt.xlabel('epoch')\n",
        "plt.legend(['train', 'val'], loc='upper left')\n",
        "plt.show()"
      ],
      "metadata": {
        "id": "2atUoBqM1Tgj",
        "colab": {
          "base_uri": "https://localhost:8080/",
          "height": 295
        },
        "outputId": "6322bbdd-7fb3-4d9b-83f2-4f2b3ef6f024"
      },
      "execution_count": null,
      "outputs": [
        {
          "output_type": "display_data",
          "data": {
            "text/plain": [
              "<Figure size 432x288 with 1 Axes>"
            ],
            "image/png": "[encoded data removed]"
          },
          "metadata": {
            "needs_background": "light"
          }
        }
      ]
    },
    {
      "cell_type": "code",
      "source": [
        "plt.plot(ftHistory_20128.history['loss'])\n",
        "plt.plot(ftHistory_20128.history['val_loss'])\n",
        "plt.title('model loss')\n",
        "plt.ylabel('loss')\n",
        "plt.xlabel('epoch')\n",
        "plt.legend(['train', 'val'], loc='upper left')\n",
        "plt.show()"
      ],
      "metadata": {
        "id": "l9cdan111Tgk",
        "colab": {
          "base_uri": "https://localhost:8080/",
          "height": 295
        },
        "outputId": "b43bf800-a07e-4e1c-9781-a0b7cfdc7b54"
      },
      "execution_count": null,
      "outputs": [
        {
          "output_type": "display_data",
          "data": {
            "text/plain": [
              "<Figure size 432x288 with 1 Axes>"
            ],
            "image/png": "[encoded data removed]"
          },
          "metadata": {
            "needs_background": "light"
          }
        }
      ]
    },
    {
      "cell_type": "code",
      "source": [
        "loss, acc = model3.evaluate(X_test, y_test)\n",
        "print('Model loss: {}'.format(loss))\n",
        "print('Model acc: {}'.format(acc))"
      ],
      "metadata": {
        "id": "nsCA9jC21Tgl",
        "colab": {
          "base_uri": "https://localhost:8080/"
        },
        "outputId": "53e3ea54-b8b8-44d5-caae-70d2f89f7c83"
      },
      "execution_count": null,
      "outputs": [
        {
          "output_type": "stream",
          "name": "stdout",
          "text": [
            "157/157 [==============================] - 5s 31ms/step - loss: 0.4900 - accuracy: 0.9220\n",
            "Model loss: 0.4900365173816681\n",
            "Model acc: 0.921999990940094\n"
          ]
        }
      ]
    },
    {
      "cell_type": "markdown",
      "source": [
        "### Epochs 30, batch size 32"
      ],
      "metadata": {
        "id": "WMhUgCKZ1Tgm"
      }
    },
    {
      "cell_type": "code",
      "source": [
        "ftHistory_3032 = model3.fit(X_train, y_train, \n",
        "                          epochs=30, \n",
        "                          validation_split=0.2, \n",
        "                          batch_size=32,\n",
        "                          validation_data=(X_test, y_test))"
      ],
      "metadata": {
        "id": "B4LNUlAB1Tgn",
        "colab": {
          "base_uri": "https://localhost:8080/"
        },
        "outputId": "744b2574-3494-483e-9f75-4501c1d35556"
      },
      "execution_count": null,
      "outputs": [
        {
          "output_type": "stream",
          "name": "stdout",
          "text": [
            "Epoch 1/30\n",
            "375/375 [==============================] - 191s 504ms/step - loss: 4.2431 - accuracy: 0.5857 - val_loss: 2.7716 - val_accuracy: 0.4923\n",
            "Epoch 2/30\n",
            "375/375 [==============================] - 184s 492ms/step - loss: 1.5022 - accuracy: 0.8855 - val_loss: 0.8820 - val_accuracy: 0.9183\n",
            "Epoch 3/30\n",
            "375/375 [==============================] - 184s 492ms/step - loss: 0.5591 - accuracy: 0.9439 - val_loss: 0.5028 - val_accuracy: 0.9270\n",
            "Epoch 4/30\n",
            "375/375 [==============================] - 185s 494ms/step - loss: 0.3280 - accuracy: 0.9575 - val_loss: 0.4127 - val_accuracy: 0.9217\n",
            "Epoch 5/30\n",
            "375/375 [==============================] - 189s 505ms/step - loss: 0.2656 - accuracy: 0.9658 - val_loss: 0.4223 - val_accuracy: 0.9187\n",
            "Epoch 6/30\n",
            "375/375 [==============================] - 186s 497ms/step - loss: 0.2471 - accuracy: 0.9674 - val_loss: 0.4437 - val_accuracy: 0.9303\n",
            "Epoch 7/30\n",
            "375/375 [==============================] - 186s 497ms/step - loss: 0.2565 - accuracy: 0.9728 - val_loss: 0.4516 - val_accuracy: 0.9170\n",
            "Epoch 8/30\n",
            "375/375 [==============================] - 187s 497ms/step - loss: 0.2414 - accuracy: 0.9762 - val_loss: 0.4429 - val_accuracy: 0.9220\n",
            "Epoch 9/30\n",
            "375/375 [==============================] - 187s 499ms/step - loss: 0.2246 - accuracy: 0.9784 - val_loss: 0.4796 - val_accuracy: 0.9247\n",
            "Epoch 10/30\n",
            "375/375 [==============================] - 187s 499ms/step - loss: 0.2439 - accuracy: 0.9765 - val_loss: 0.4334 - val_accuracy: 0.9243\n",
            "Epoch 11/30\n",
            "375/375 [==============================] - 187s 499ms/step - loss: 0.2382 - accuracy: 0.9775 - val_loss: 0.4859 - val_accuracy: 0.9280\n",
            "Epoch 12/30\n",
            "375/375 [==============================] - 187s 497ms/step - loss: 0.2203 - accuracy: 0.9821 - val_loss: 0.5226 - val_accuracy: 0.9270\n",
            "Epoch 13/30\n",
            "375/375 [==============================] - 186s 497ms/step - loss: 0.2499 - accuracy: 0.9813 - val_loss: 0.5046 - val_accuracy: 0.9253\n",
            "Epoch 14/30\n",
            "375/375 [==============================] - 186s 497ms/step - loss: 0.2500 - accuracy: 0.9818 - val_loss: 0.4709 - val_accuracy: 0.9247\n",
            "Epoch 15/30\n",
            "375/375 [==============================] - 187s 498ms/step - loss: 0.2040 - accuracy: 0.9859 - val_loss: 0.5433 - val_accuracy: 0.9210\n",
            "Epoch 16/30\n",
            "375/375 [==============================] - 187s 498ms/step - loss: 0.2552 - accuracy: 0.9818 - val_loss: 0.5001 - val_accuracy: 0.9240\n",
            "Epoch 17/30\n",
            "375/375 [==============================] - 187s 498ms/step - loss: 0.2115 - accuracy: 0.9851 - val_loss: 0.5577 - val_accuracy: 0.9203\n",
            "Epoch 18/30\n",
            "375/375 [==============================] - 186s 497ms/step - loss: 0.2016 - accuracy: 0.9851 - val_loss: 0.4501 - val_accuracy: 0.9123\n",
            "Epoch 19/30\n",
            "375/375 [==============================] - 187s 498ms/step - loss: 0.2005 - accuracy: 0.9862 - val_loss: 0.4856 - val_accuracy: 0.9240\n",
            "Epoch 20/30\n",
            "375/375 [==============================] - 187s 498ms/step - loss: 0.2205 - accuracy: 0.9856 - val_loss: 0.5168 - val_accuracy: 0.9270\n",
            "Epoch 21/30\n",
            "375/375 [==============================] - 187s 498ms/step - loss: 0.2066 - accuracy: 0.9860 - val_loss: 0.4907 - val_accuracy: 0.9267\n",
            "Epoch 22/30\n",
            "375/375 [==============================] - 187s 498ms/step - loss: 0.2291 - accuracy: 0.9840 - val_loss: 0.4690 - val_accuracy: 0.9317\n",
            "Epoch 23/30\n",
            "375/375 [==============================] - 186s 497ms/step - loss: 0.2212 - accuracy: 0.9856 - val_loss: 0.4566 - val_accuracy: 0.9243\n",
            "Epoch 24/30\n",
            "375/375 [==============================] - 187s 498ms/step - loss: 0.1980 - accuracy: 0.9880 - val_loss: 0.5054 - val_accuracy: 0.9213\n",
            "Epoch 25/30\n",
            "375/375 [==============================] - 187s 499ms/step - loss: 0.2257 - accuracy: 0.9861 - val_loss: 0.5219 - val_accuracy: 0.9243\n",
            "Epoch 26/30\n",
            "375/375 [==============================] - 187s 498ms/step - loss: 0.2120 - accuracy: 0.9885 - val_loss: 0.4927 - val_accuracy: 0.9277\n",
            "Epoch 27/30\n",
            "375/375 [==============================] - 188s 501ms/step - loss: 0.1809 - accuracy: 0.9893 - val_loss: 0.4998 - val_accuracy: 0.9243\n",
            "Epoch 28/30\n",
            "375/375 [==============================] - 187s 498ms/step - loss: 0.1891 - accuracy: 0.9878 - val_loss: 0.5243 - val_accuracy: 0.9290\n",
            "Epoch 29/30\n",
            "375/375 [==============================] - 187s 499ms/step - loss: 0.2053 - accuracy: 0.9876 - val_loss: 0.5702 - val_accuracy: 0.9250\n",
            "Epoch 30/30\n",
            "375/375 [==============================] - 187s 498ms/step - loss: 0.1803 - accuracy: 0.9887 - val_loss: 0.5717 - val_accuracy: 0.9217\n"
          ]
        }
      ]
    },
    {
      "cell_type": "code",
      "source": [
        "plt.plot(ftHistory_3032.history['accuracy'])\n",
        "plt.plot(ftHistory_3032.history['val_accuracy'])\n",
        "plt.title('model accuracy')\n",
        "plt.ylabel('accuracy')\n",
        "plt.xlabel('epoch')\n",
        "plt.legend(['train', 'val'], loc='upper left')\n",
        "plt.show()"
      ],
      "metadata": {
        "id": "MeLc0lTl1Tgn",
        "colab": {
          "base_uri": "https://localhost:8080/",
          "height": 295
        },
        "outputId": "277ce8f8-aac8-4dff-d51e-08872cad66f4"
      },
      "execution_count": null,
      "outputs": [
        {
          "output_type": "display_data",
          "data": {
            "text/plain": [
              "<Figure size 432x288 with 1 Axes>"
            ],
            "image/png": "[encoded data removed]"
          },
          "metadata": {
            "needs_background": "light"
          }
        }
      ]
    },
    {
      "cell_type": "code",
      "source": [
        "plt.plot(ftHistory_3032.history['loss'])\n",
        "plt.plot(ftHistory_3032.history['val_loss'])\n",
        "plt.title('model loss')\n",
        "plt.ylabel('loss')\n",
        "plt.xlabel('epoch')\n",
        "plt.legend(['train', 'val'], loc='upper left')\n",
        "plt.show()"
      ],
      "metadata": {
        "id": "TP7fln8q1Tgo",
        "colab": {
          "base_uri": "https://localhost:8080/",
          "height": 295
        },
        "outputId": "33f4820a-3caf-444a-ec8f-f68a573b7dfc"
      },
      "execution_count": null,
      "outputs": [
        {
          "output_type": "display_data",
          "data": {
            "text/plain": [
              "<Figure size 432x288 with 1 Axes>"
            ],
            "image/png": "[encoded data removed]"
          },
          "metadata": {
            "needs_background": "light"
          }
        }
      ]
    },
    {
      "cell_type": "code",
      "source": [
        "loss, acc = model3.evaluate(X_test, y_test)\n",
        "print('Model loss: {}'.format(loss))\n",
        "print('Model acc: {}'.format(acc))"
      ],
      "metadata": {
        "id": "7d0i23OL1Tgp",
        "colab": {
          "base_uri": "https://localhost:8080/"
        },
        "outputId": "17d8c7d4-7c58-4197-bec6-c62868eb5e0c"
      },
      "execution_count": null,
      "outputs": [
        {
          "output_type": "stream",
          "name": "stdout",
          "text": [
            "157/157 [==============================] - 5s 32ms/step - loss: 0.5829 - accuracy: 0.9214\n",
            "Model loss: 0.5828804969787598\n",
            "Model acc: 0.9214000105857849\n"
          ]
        }
      ]
    },
    {
      "cell_type": "markdown",
      "source": [
        "### Epochs 30, batch size 64"
      ],
      "metadata": {
        "id": "AKwrpBHY1Tgq"
      }
    },
    {
      "cell_type": "code",
      "source": [
        "ftHistory_3064 = model3.fit(X_train, y_train, \n",
        "                          epochs=30, \n",
        "                          validation_split=0.2, \n",
        "                          batch_size=64,\n",
        "                          validation_data=(X_test, y_test))"
      ],
      "metadata": {
        "id": "73_fokPD1Tgr",
        "colab": {
          "base_uri": "https://localhost:8080/"
        },
        "outputId": "0e73856e-4b98-4ee3-d7f2-0db561f9e346"
      },
      "execution_count": null,
      "outputs": [
        {
          "output_type": "stream",
          "name": "stdout",
          "text": [
            "Epoch 1/30\n",
            "188/188 [==============================] - 110s 570ms/step - loss: 4.7237 - accuracy: 0.5347 - val_loss: 3.3578 - val_accuracy: 0.5077\n",
            "Epoch 2/30\n",
            "188/188 [==============================] - 105s 561ms/step - loss: 2.2669 - accuracy: 0.8117 - val_loss: 1.7656 - val_accuracy: 0.5833\n",
            "Epoch 3/30\n",
            "188/188 [==============================] - 104s 553ms/step - loss: 0.9843 - accuracy: 0.9384 - val_loss: 0.8335 - val_accuracy: 0.8797\n",
            "Epoch 4/30\n",
            "188/188 [==============================] - 104s 552ms/step - loss: 0.4617 - accuracy: 0.9655 - val_loss: 0.4195 - val_accuracy: 0.9377\n",
            "Epoch 5/30\n",
            "188/188 [==============================] - 105s 559ms/step - loss: 0.2681 - accuracy: 0.9751 - val_loss: 0.4318 - val_accuracy: 0.9243\n",
            "Epoch 6/30\n",
            "188/188 [==============================] - 104s 553ms/step - loss: 0.2008 - accuracy: 0.9793 - val_loss: 0.3617 - val_accuracy: 0.9377\n",
            "Epoch 7/30\n",
            "188/188 [==============================] - 104s 553ms/step - loss: 0.1904 - accuracy: 0.9801 - val_loss: 0.3990 - val_accuracy: 0.9347\n",
            "Epoch 8/30\n",
            "188/188 [==============================] - 104s 553ms/step - loss: 0.1736 - accuracy: 0.9844 - val_loss: 0.3234 - val_accuracy: 0.9397\n",
            "Epoch 9/30\n",
            "188/188 [==============================] - 104s 553ms/step - loss: 0.1502 - accuracy: 0.9876 - val_loss: 0.3712 - val_accuracy: 0.9390\n",
            "Epoch 10/30\n",
            "188/188 [==============================] - 104s 552ms/step - loss: 0.1526 - accuracy: 0.9863 - val_loss: 0.3913 - val_accuracy: 0.9350\n",
            "Epoch 11/30\n",
            "188/188 [==============================] - 104s 553ms/step - loss: 0.1578 - accuracy: 0.9871 - val_loss: 0.4294 - val_accuracy: 0.9343\n",
            "Epoch 12/30\n",
            "188/188 [==============================] - 104s 553ms/step - loss: 0.1697 - accuracy: 0.9843 - val_loss: 0.3865 - val_accuracy: 0.9407\n",
            "Epoch 13/30\n",
            "188/188 [==============================] - 104s 555ms/step - loss: 0.1332 - accuracy: 0.9914 - val_loss: 0.3499 - val_accuracy: 0.9393\n",
            "Epoch 14/30\n",
            "188/188 [==============================] - 105s 556ms/step - loss: 0.1685 - accuracy: 0.9870 - val_loss: 0.4067 - val_accuracy: 0.9340\n",
            "Epoch 15/30\n",
            "188/188 [==============================] - 104s 554ms/step - loss: 0.1632 - accuracy: 0.9875 - val_loss: 0.4189 - val_accuracy: 0.9377\n",
            "Epoch 16/30\n",
            "188/188 [==============================] - 104s 554ms/step - loss: 0.1532 - accuracy: 0.9895 - val_loss: 0.3625 - val_accuracy: 0.9413\n",
            "Epoch 17/30\n",
            "188/188 [==============================] - 104s 554ms/step - loss: 0.1690 - accuracy: 0.9883 - val_loss: 0.4125 - val_accuracy: 0.9403\n",
            "Epoch 18/30\n",
            "188/188 [==============================] - 104s 554ms/step - loss: 0.1633 - accuracy: 0.9884 - val_loss: 0.4141 - val_accuracy: 0.9397\n",
            "Epoch 19/30\n",
            "188/188 [==============================] - 104s 552ms/step - loss: 0.1599 - accuracy: 0.9900 - val_loss: 0.4255 - val_accuracy: 0.9423\n",
            "Epoch 20/30\n",
            "188/188 [==============================] - 104s 553ms/step - loss: 0.1646 - accuracy: 0.9896 - val_loss: 0.4095 - val_accuracy: 0.9407\n",
            "Epoch 21/30\n",
            "188/188 [==============================] - 104s 555ms/step - loss: 0.1231 - accuracy: 0.9916 - val_loss: 0.3720 - val_accuracy: 0.9413\n",
            "Epoch 22/30\n",
            "188/188 [==============================] - 104s 555ms/step - loss: 0.1447 - accuracy: 0.9917 - val_loss: 0.4132 - val_accuracy: 0.9397\n",
            "Epoch 23/30\n",
            "188/188 [==============================] - 105s 557ms/step - loss: 0.1415 - accuracy: 0.9915 - val_loss: 0.4491 - val_accuracy: 0.9387\n",
            "Epoch 24/30\n",
            "188/188 [==============================] - 105s 558ms/step - loss: 0.1355 - accuracy: 0.9938 - val_loss: 0.3853 - val_accuracy: 0.9357\n",
            "Epoch 25/30\n",
            "188/188 [==============================] - 105s 557ms/step - loss: 0.1417 - accuracy: 0.9916 - val_loss: 0.4640 - val_accuracy: 0.9403\n",
            "Epoch 26/30\n",
            "188/188 [==============================] - 105s 558ms/step - loss: 0.1562 - accuracy: 0.9915 - val_loss: 0.3977 - val_accuracy: 0.9400\n",
            "Epoch 27/30\n",
            "188/188 [==============================] - 105s 557ms/step - loss: 0.1316 - accuracy: 0.9927 - val_loss: 0.4253 - val_accuracy: 0.9377\n",
            "Epoch 28/30\n",
            "188/188 [==============================] - 105s 560ms/step - loss: 0.1321 - accuracy: 0.9924 - val_loss: 0.3830 - val_accuracy: 0.9430\n",
            "Epoch 29/30\n",
            "188/188 [==============================] - 105s 557ms/step - loss: 0.1533 - accuracy: 0.9914 - val_loss: 0.4275 - val_accuracy: 0.9400\n",
            "Epoch 30/30\n",
            "188/188 [==============================] - 108s 574ms/step - loss: 0.1437 - accuracy: 0.9937 - val_loss: 0.4201 - val_accuracy: 0.9370\n"
          ]
        }
      ]
    },
    {
      "cell_type": "code",
      "source": [
        "plt.plot(ftHistory_3064.history['accuracy'])\n",
        "plt.plot(ftHistory_3064.history['val_accuracy'])\n",
        "plt.title('model accuracy')\n",
        "plt.ylabel('accuracy')\n",
        "plt.xlabel('epoch')\n",
        "plt.legend(['train', 'val'], loc='upper left')\n",
        "plt.show()"
      ],
      "metadata": {
        "id": "gHf2zTgC1Tgr",
        "colab": {
          "base_uri": "https://localhost:8080/",
          "height": 295
        },
        "outputId": "7b4e9b45-25b5-4367-fb3e-c1938a721f68"
      },
      "execution_count": null,
      "outputs": [
        {
          "output_type": "display_data",
          "data": {
            "text/plain": [
              "<Figure size 432x288 with 1 Axes>"
            ],
            "image/png": "[encoded data removed]"
          },
          "metadata": {
            "needs_background": "light"
          }
        }
      ]
    },
    {
      "cell_type": "code",
      "source": [
        "plt.plot(ftHistory_3064.history['loss'])\n",
        "plt.plot(ftHistory_3064.history['val_loss'])\n",
        "plt.title('model loss')\n",
        "plt.ylabel('loss')\n",
        "plt.xlabel('epoch')\n",
        "plt.legend(['train', 'val'], loc='upper left')\n",
        "plt.show()"
      ],
      "metadata": {
        "id": "_tKNZLBt1Tgs",
        "colab": {
          "base_uri": "https://localhost:8080/",
          "height": 295
        },
        "outputId": "049b5320-ed2e-4a4a-ddea-52c69a14e934"
      },
      "execution_count": null,
      "outputs": [
        {
          "output_type": "display_data",
          "data": {
            "text/plain": [
              "<Figure size 432x288 with 1 Axes>"
            ],
            "image/png": "[encoded data removed]"
          },
          "metadata": {
            "needs_background": "light"
          }
        }
      ]
    },
    {
      "cell_type": "code",
      "source": [
        "loss, acc = model3.evaluate(X_test, y_test)\n",
        "print('Model loss: {}'.format(loss))\n",
        "print('Model acc: {}'.format(acc))"
      ],
      "metadata": {
        "id": "wxQmhDkr1Tgu",
        "colab": {
          "base_uri": "https://localhost:8080/"
        },
        "outputId": "99c3a171-540e-4acd-c0a1-5eb5ffcb57da"
      },
      "execution_count": null,
      "outputs": [
        {
          "output_type": "stream",
          "name": "stdout",
          "text": [
            "157/157 [==============================] - 2s 13ms/step - loss: 0.4896 - accuracy: 0.9262\n",
            "Model loss: 0.4895704686641693\n",
            "Model acc: 0.9261999726295471\n"
          ]
        }
      ]
    },
    {
      "cell_type": "markdown",
      "source": [
        "### Epochs 30, batch size 128"
      ],
      "metadata": {
        "id": "j_OJnkx51Tgu"
      }
    },
    {
      "cell_type": "code",
      "source": [
        "ftHistory_30128 = model3.fit(X_train, y_train, \n",
        "                          epochs=30, \n",
        "                          validation_split=0.2, \n",
        "                          batch_size=128,\n",
        "                          validation_data=(X_test, y_test))"
      ],
      "metadata": {
        "id": "t0cBviy21Tgv",
        "colab": {
          "base_uri": "https://localhost:8080/"
        },
        "outputId": "c20d50e0-1988-415b-84b8-7593e9930ede"
      },
      "execution_count": null,
      "outputs": [
        {
          "output_type": "stream",
          "name": "stdout",
          "text": [
            "Epoch 1/30\n",
            "94/94 [==============================] - 68s 702ms/step - loss: 5.0934 - accuracy: 0.5268 - val_loss: 3.9672 - val_accuracy: 0.4923\n",
            "Epoch 2/30\n",
            "94/94 [==============================] - 62s 662ms/step - loss: 3.0788 - accuracy: 0.7080 - val_loss: 2.5191 - val_accuracy: 0.4923\n",
            "Epoch 3/30\n",
            "94/94 [==============================] - 62s 661ms/step - loss: 1.6168 - accuracy: 0.9177 - val_loss: 1.5950 - val_accuracy: 0.5597\n",
            "Epoch 4/30\n",
            "94/94 [==============================] - 62s 663ms/step - loss: 0.8493 - accuracy: 0.9631 - val_loss: 1.0905 - val_accuracy: 0.6317\n",
            "Epoch 5/30\n",
            "94/94 [==============================] - 62s 661ms/step - loss: 0.4620 - accuracy: 0.9760 - val_loss: 0.6918 - val_accuracy: 0.8043\n",
            "Epoch 6/30\n",
            "94/94 [==============================] - 62s 663ms/step - loss: 0.2863 - accuracy: 0.9797 - val_loss: 0.6446 - val_accuracy: 0.8203\n",
            "Epoch 7/30\n",
            "94/94 [==============================] - 62s 663ms/step - loss: 0.1888 - accuracy: 0.9836 - val_loss: 0.3462 - val_accuracy: 0.9267\n",
            "Epoch 8/30\n",
            "94/94 [==============================] - 62s 661ms/step - loss: 0.1503 - accuracy: 0.9859 - val_loss: 0.3536 - val_accuracy: 0.9263\n",
            "Epoch 9/30\n",
            "94/94 [==============================] - 62s 662ms/step - loss: 0.1367 - accuracy: 0.9866 - val_loss: 0.4134 - val_accuracy: 0.9300\n",
            "Epoch 10/30\n",
            "94/94 [==============================] - 62s 662ms/step - loss: 0.1239 - accuracy: 0.9898 - val_loss: 0.3847 - val_accuracy: 0.9270\n",
            "Epoch 11/30\n",
            "94/94 [==============================] - 62s 662ms/step - loss: 0.1110 - accuracy: 0.9895 - val_loss: 0.4922 - val_accuracy: 0.9243\n",
            "Epoch 12/30\n",
            "94/94 [==============================] - 63s 671ms/step - loss: 0.1110 - accuracy: 0.9901 - val_loss: 0.4595 - val_accuracy: 0.9203\n",
            "Epoch 13/30\n",
            "94/94 [==============================] - 62s 663ms/step - loss: 0.0906 - accuracy: 0.9929 - val_loss: 0.4515 - val_accuracy: 0.9210\n",
            "Epoch 14/30\n",
            "94/94 [==============================] - 62s 664ms/step - loss: 0.1118 - accuracy: 0.9918 - val_loss: 0.4723 - val_accuracy: 0.9220\n",
            "Epoch 15/30\n",
            "94/94 [==============================] - 62s 662ms/step - loss: 0.1010 - accuracy: 0.9917 - val_loss: 0.4654 - val_accuracy: 0.9253\n",
            "Epoch 16/30\n",
            "94/94 [==============================] - 62s 665ms/step - loss: 0.1055 - accuracy: 0.9927 - val_loss: 0.4903 - val_accuracy: 0.9163\n",
            "Epoch 17/30\n",
            "94/94 [==============================] - 62s 662ms/step - loss: 0.1149 - accuracy: 0.9899 - val_loss: 0.5630 - val_accuracy: 0.9180\n",
            "Epoch 18/30\n",
            "94/94 [==============================] - 67s 710ms/step - loss: 0.1036 - accuracy: 0.9942 - val_loss: 0.4511 - val_accuracy: 0.9200\n",
            "Epoch 19/30\n",
            "94/94 [==============================] - 63s 667ms/step - loss: 0.0918 - accuracy: 0.9941 - val_loss: 0.4742 - val_accuracy: 0.9223\n",
            "Epoch 20/30\n",
            "94/94 [==============================] - 63s 668ms/step - loss: 0.1109 - accuracy: 0.9922 - val_loss: 0.4752 - val_accuracy: 0.9210\n",
            "Epoch 21/30\n",
            "94/94 [==============================] - 63s 670ms/step - loss: 0.0944 - accuracy: 0.9937 - val_loss: 0.5088 - val_accuracy: 0.9237\n",
            "Epoch 22/30\n",
            "94/94 [==============================] - 63s 669ms/step - loss: 0.1135 - accuracy: 0.9936 - val_loss: 0.4730 - val_accuracy: 0.9247\n",
            "Epoch 23/30\n",
            "94/94 [==============================] - 63s 667ms/step - loss: 0.1134 - accuracy: 0.9939 - val_loss: 0.5164 - val_accuracy: 0.9187\n",
            "Epoch 24/30\n",
            "94/94 [==============================] - 63s 670ms/step - loss: 0.1066 - accuracy: 0.9932 - val_loss: 0.5437 - val_accuracy: 0.9237\n",
            "Epoch 25/30\n",
            "94/94 [==============================] - 63s 669ms/step - loss: 0.1031 - accuracy: 0.9939 - val_loss: 0.5204 - val_accuracy: 0.9217\n",
            "Epoch 26/30\n",
            "94/94 [==============================] - 63s 670ms/step - loss: 0.1034 - accuracy: 0.9944 - val_loss: 0.5213 - val_accuracy: 0.9163\n",
            "Epoch 27/30\n",
            "94/94 [==============================] - 63s 674ms/step - loss: 0.0857 - accuracy: 0.9955 - val_loss: 0.5363 - val_accuracy: 0.9230\n",
            "Epoch 28/30\n",
            "94/94 [==============================] - 63s 675ms/step - loss: 0.0966 - accuracy: 0.9941 - val_loss: 0.5539 - val_accuracy: 0.9253\n",
            "Epoch 29/30\n",
            "94/94 [==============================] - 64s 676ms/step - loss: 0.1168 - accuracy: 0.9937 - val_loss: 0.4855 - val_accuracy: 0.9280\n",
            "Epoch 30/30\n",
            "94/94 [==============================] - 65s 692ms/step - loss: 0.0978 - accuracy: 0.9950 - val_loss: 0.5131 - val_accuracy: 0.9237\n"
          ]
        }
      ]
    },
    {
      "cell_type": "code",
      "source": [
        "plt.plot(ftHistory_30128.history['accuracy'])\n",
        "plt.plot(ftHistory_30128.history['val_accuracy'])\n",
        "plt.title('model accuracy')\n",
        "plt.ylabel('accuracy')\n",
        "plt.xlabel('epoch')\n",
        "plt.legend(['train', 'val'], loc='upper left')\n",
        "plt.show()"
      ],
      "metadata": {
        "id": "jlI6QiI41Tgw",
        "colab": {
          "base_uri": "https://localhost:8080/",
          "height": 295
        },
        "outputId": "eebba2a8-a0cd-422c-81bd-65890d0f3c75"
      },
      "execution_count": null,
      "outputs": [
        {
          "output_type": "display_data",
          "data": {
            "text/plain": [
              "<Figure size 432x288 with 1 Axes>"
            ],
            "image/png": "[encoded data removed]"
          },
          "metadata": {
            "needs_background": "light"
          }
        }
      ]
    },
    {
      "cell_type": "code",
      "source": [
        "plt.plot(ftHistory_30128.history['loss'])\n",
        "plt.plot(ftHistory_30128.history['val_loss'])\n",
        "plt.title('model loss')\n",
        "plt.ylabel('loss')\n",
        "plt.xlabel('epoch')\n",
        "plt.legend(['train', 'val'], loc='upper left')\n",
        "plt.show()"
      ],
      "metadata": {
        "id": "fshrptOj1Tgx",
        "colab": {
          "base_uri": "https://localhost:8080/",
          "height": 295
        },
        "outputId": "14786fbd-64b1-452f-d353-4fe515dc1a9a"
      },
      "execution_count": null,
      "outputs": [
        {
          "output_type": "display_data",
          "data": {
            "text/plain": [
              "<Figure size 432x288 with 1 Axes>"
            ],
            "image/png": "[encoded data removed]"
          },
          "metadata": {
            "needs_background": "light"
          }
        }
      ]
    },
    {
      "cell_type": "code",
      "source": [
        "loss, acc = model3.evaluate(X_test, y_test)\n",
        "print('Model loss: {}'.format(loss))\n",
        "print('Model acc: {}'.format(acc))"
      ],
      "metadata": {
        "id": "5PAczzBp1Tgy",
        "colab": {
          "base_uri": "https://localhost:8080/"
        },
        "outputId": "8c9a2e95-f1ef-41cf-f2a0-16964d7caf4a"
      },
      "execution_count": null,
      "outputs": [
        {
          "output_type": "stream",
          "name": "stdout",
          "text": [
            "157/157 [==============================] - 2s 14ms/step - loss: 0.4679 - accuracy: 0.9294\n",
            "Model loss: 0.4679190516471863\n",
            "Model acc: 0.9294000267982483\n"
          ]
        }
      ]
    }
  ]
}