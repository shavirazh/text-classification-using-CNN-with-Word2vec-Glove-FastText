{
  "cells": [
    {
      "cell_type": "markdown",
      "metadata": {
        "id": "view-in-github",
        "colab_type": "text"
      },
      "source": [
        "<a href=\"https://colab.research.google.com/github/shavirazh/text-classification-using-CNN-with-Word2vec-Glove-FastText/blob/main/notebook-copy.ipynb\" target=\"_parent\"><img src=\"https://colab.research.google.com/assets/colab-badge.svg\" alt=\"Open In Colab\"/></a>"
      ]
    },
    {
      "cell_type": "markdown",
      "metadata": {
        "id": "l5JPqRv97-bt"
      },
      "source": [
        "# Import Library"
      ]
    },
    {
      "cell_type": "code",
      "execution_count": null,
      "metadata": {
        "colab": {
          "base_uri": "https://localhost:8080/"
        },
        "id": "dAwf8u_V8ABh",
        "outputId": "1878ba69-6f52-4a6f-aafd-745efd734f60"
      },
      "outputs": [
        {
          "output_type": "stream",
          "name": "stdout",
          "text": [
            "ALL LIBRARY IMPORTED.\n"
          ]
        }
      ],
      "source": [
        "import pandas as pd\n",
        "import numpy as np\n",
        "import matplotlib.pyplot as plt\n",
        "import seaborn as sns\n",
        "import re\n",
        "import nltk\n",
        "from nltk.corpus import stopwords\n",
        "from nltk.stem import WordNetLemmatizer\n",
        "import string\n",
        "import gensim\n",
        "from wordcloud import WordCloud, STOPWORDS\n",
        "from gensim.models import KeyedVectors\n",
        "import gensim.models.keyedvectors as word2vec\n",
        "from sklearn.model_selection import train_test_split\n",
        "from tensorflow.keras.preprocessing.text import Tokenizer\n",
        "from tensorflow.keras.preprocessing.sequence import pad_sequences\n",
        "from tensorflow.keras.utils import to_categorical\n",
        "from tensorflow.keras.models import Sequential\n",
        "from tensorflow.keras.layers import Dense, Embedding, Activation, Dropout\n",
        "from tensorflow.keras.layers import Conv1D, MaxPooling1D, GlobalMaxPooling1D\n",
        "from tensorflow.keras.models import Model\n",
        "from tensorflow.keras.layers import Reshape, Flatten, Concatenate\n",
        "from tensorflow.keras.layers import BatchNormalization\n",
        "from tensorflow.keras.optimizers import RMSprop\n",
        "from tensorflow.keras.callbacks import ModelCheckpoint\n",
        "from tensorflow.keras.optimizers import Adam\n",
        "from tensorflow.keras import regularizers\n",
        "from tensorflow.keras.callbacks import EarlyStopping\n",
        "from keras.wrappers.scikit_learn import KerasClassifier\n",
        "from sklearn.model_selection import GridSearchCV, RandomizedSearchCV\n",
        "from sklearn.metrics import confusion_matrix, classification_report, accuracy_score, roc_auc_score, roc_curve\n",
        "from keras.models import model_from_json\n",
        "import pickle\n",
        "import json\n",
        "import logging\n",
        "\n",
        "logging.basicConfig(format='%(asctime)s : %(levelname) s : %(message)s', level=logging.INFO)\n",
        "\n",
        "print('ALL LIBRARY IMPORTED.')"
      ]
    },
    {
      "cell_type": "code",
      "execution_count": null,
      "metadata": {
        "colab": {
          "base_uri": "https://localhost:8080/"
        },
        "id": "5KdSE9JF8Uc-",
        "outputId": "c04591e5-81be-45fe-c9d8-6ad539457ff1"
      },
      "outputs": [
        {
          "output_type": "stream",
          "name": "stdout",
          "text": [
            "Drive already mounted at /content/drive; to attempt to forcibly remount, call drive.mount(\"/content/drive\", force_remount=True).\n"
          ]
        }
      ],
      "source": [
        "from google.colab import drive\n",
        "drive.mount('/content/drive')"
      ]
    },
    {
      "cell_type": "markdown",
      "metadata": {
        "id": "moTRC1Ek90jc"
      },
      "source": [
        "# Load Data"
      ]
    },
    {
      "cell_type": "code",
      "execution_count": null,
      "metadata": {
        "colab": {
          "base_uri": "https://localhost:8080/"
        },
        "id": "Jj99LEI39bbG",
        "outputId": "631dea33-263f-47f8-913c-5e0f4383c037"
      },
      "outputs": [
        {
          "output_type": "stream",
          "name": "stdout",
          "text": [
            "Data loaded.\n",
            "\n"
          ]
        }
      ],
      "source": [
        "df = pd.read_csv('drive/MyDrive/dataset/tweets_data.csv')\n",
        "print('Data loaded.\\n')"
      ]
    },
    {
      "cell_type": "code",
      "execution_count": null,
      "metadata": {
        "colab": {
          "base_uri": "https://localhost:8080/",
          "height": 206
        },
        "id": "D0i6bXcr99F8",
        "outputId": "19ff3641-e41b-49bb-e58b-b0ac8ba7a2b8"
      },
      "outputs": [
        {
          "output_type": "execute_result",
          "data": {
            "text/plain": [
              "   Unnamed: 0                                              tweet  label\n",
              "0           0  father dysfunctional selfish drag kid dysfunct...      0\n",
              "1           1  thanks lyft credit cant use cause offer wheelc...      0\n",
              "2           2                                     bihday majesty      0\n",
              "3           3                  model love take time urð ðððð ððð      0\n",
              "4           4                      factsguide society motivation      0"
            ],
            "text/html": [
              "\n",
              "  <div id=\"df-d29db226-c5a2-4ca6-95d0-eeb5e17e8261\">\n",
              "    <div class=\"colab-df-container\">\n",
              "      <div>\n",
              "<style scoped>\n",
              "    .dataframe tbody tr th:only-of-type {\n",
              "        vertical-align: middle;\n",
              "    }\n",
              "\n",
              "    .dataframe tbody tr th {\n",
              "        vertical-align: top;\n",
              "    }\n",
              "\n",
              "    .dataframe thead th {\n",
              "        text-align: right;\n",
              "    }\n",
              "</style>\n",
              "<table border=\"1\" class=\"dataframe\">\n",
              "  <thead>\n",
              "    <tr style=\"text-align: right;\">\n",
              "      <th></th>\n",
              "      <th>Unnamed: 0</th>\n",
              "      <th>tweet</th>\n",
              "      <th>label</th>\n",
              "    </tr>\n",
              "  </thead>\n",
              "  <tbody>\n",
              "    <tr>\n",
              "      <th>0</th>\n",
              "      <td>0</td>\n",
              "      <td>father dysfunctional selfish drag kid dysfunct...</td>\n",
              "      <td>0</td>\n",
              "    </tr>\n",
              "    <tr>\n",
              "      <th>1</th>\n",
              "      <td>1</td>\n",
              "      <td>thanks lyft credit cant use cause offer wheelc...</td>\n",
              "      <td>0</td>\n",
              "    </tr>\n",
              "    <tr>\n",
              "      <th>2</th>\n",
              "      <td>2</td>\n",
              "      <td>bihday majesty</td>\n",
              "      <td>0</td>\n",
              "    </tr>\n",
              "    <tr>\n",
              "      <th>3</th>\n",
              "      <td>3</td>\n",
              "      <td>model love take time urð ðððð ððð</td>\n",
              "      <td>0</td>\n",
              "    </tr>\n",
              "    <tr>\n",
              "      <th>4</th>\n",
              "      <td>4</td>\n",
              "      <td>factsguide society motivation</td>\n",
              "      <td>0</td>\n",
              "    </tr>\n",
              "  </tbody>\n",
              "</table>\n",
              "</div>\n",
              "      <button class=\"colab-df-convert\" onclick=\"convertToInteractive('df-d29db226-c5a2-4ca6-95d0-eeb5e17e8261')\"\n",
              "              title=\"Convert this dataframe to an interactive table.\"\n",
              "              style=\"display:none;\">\n",
              "        \n",
              "  <svg xmlns=\"http://www.w3.org/2000/svg\" height=\"24px\"viewBox=\"0 0 24 24\"\n",
              "       width=\"24px\">\n",
              "    <path d=\"M0 0h24v24H0V0z\" fill=\"none\"/>\n",
              "    <path d=\"M18.56 5.44l.94 2.06.94-2.06 2.06-.94-2.06-.94-.94-2.06-.94 2.06-2.06.94zm-11 1L8.5 8.5l.94-2.06 2.06-.94-2.06-.94L8.5 2.5l-.94 2.06-2.06.94zm10 10l.94 2.06.94-2.06 2.06-.94-2.06-.94-.94-2.06-.94 2.06-2.06.94z\"/><path d=\"M17.41 7.96l-1.37-1.37c-.4-.4-.92-.59-1.43-.59-.52 0-1.04.2-1.43.59L10.3 9.45l-7.72 7.72c-.78.78-.78 2.05 0 2.83L4 21.41c.39.39.9.59 1.41.59.51 0 1.02-.2 1.41-.59l7.78-7.78 2.81-2.81c.8-.78.8-2.07 0-2.86zM5.41 20L4 18.59l7.72-7.72 1.47 1.35L5.41 20z\"/>\n",
              "  </svg>\n",
              "      </button>\n",
              "      \n",
              "  <style>\n",
              "    .colab-df-container {\n",
              "      display:flex;\n",
              "      flex-wrap:wrap;\n",
              "      gap: 12px;\n",
              "    }\n",
              "\n",
              "    .colab-df-convert {\n",
              "      background-color: #E8F0FE;\n",
              "      border: none;\n",
              "      border-radius: 50%;\n",
              "      cursor: pointer;\n",
              "      display: none;\n",
              "      fill: #1967D2;\n",
              "      height: 32px;\n",
              "      padding: 0 0 0 0;\n",
              "      width: 32px;\n",
              "    }\n",
              "\n",
              "    .colab-df-convert:hover {\n",
              "      background-color: #E2EBFA;\n",
              "      box-shadow: 0px 1px 2px rgba(60, 64, 67, 0.3), 0px 1px 3px 1px rgba(60, 64, 67, 0.15);\n",
              "      fill: #174EA6;\n",
              "    }\n",
              "\n",
              "    [theme=dark] .colab-df-convert {\n",
              "      background-color: #3B4455;\n",
              "      fill: #D2E3FC;\n",
              "    }\n",
              "\n",
              "    [theme=dark] .colab-df-convert:hover {\n",
              "      background-color: #434B5C;\n",
              "      box-shadow: 0px 1px 3px 1px rgba(0, 0, 0, 0.15);\n",
              "      filter: drop-shadow(0px 1px 2px rgba(0, 0, 0, 0.3));\n",
              "      fill: #FFFFFF;\n",
              "    }\n",
              "  </style>\n",
              "\n",
              "      <script>\n",
              "        const buttonEl =\n",
              "          document.querySelector('#df-d29db226-c5a2-4ca6-95d0-eeb5e17e8261 button.colab-df-convert');\n",
              "        buttonEl.style.display =\n",
              "          google.colab.kernel.accessAllowed ? 'block' : 'none';\n",
              "\n",
              "        async function convertToInteractive(key) {\n",
              "          const element = document.querySelector('#df-d29db226-c5a2-4ca6-95d0-eeb5e17e8261');\n",
              "          const dataTable =\n",
              "            await google.colab.kernel.invokeFunction('convertToInteractive',\n",
              "                                                     [key], {});\n",
              "          if (!dataTable) return;\n",
              "\n",
              "          const docLinkHtml = 'Like what you see? Visit the ' +\n",
              "            '<a target=\"_blank\" href=https://colab.research.google.com/notebooks/data_table.ipynb>data table notebook</a>'\n",
              "            + ' to learn more about interactive tables.';\n",
              "          element.innerHTML = '';\n",
              "          dataTable['output_type'] = 'display_data';\n",
              "          await google.colab.output.renderOutput(dataTable, element);\n",
              "          const docLink = document.createElement('div');\n",
              "          docLink.innerHTML = docLinkHtml;\n",
              "          element.appendChild(docLink);\n",
              "        }\n",
              "      </script>\n",
              "    </div>\n",
              "  </div>\n",
              "  "
            ]
          },
          "metadata": {},
          "execution_count": 4
        }
      ],
      "source": [
        "df.head()"
      ]
    },
    {
      "cell_type": "code",
      "execution_count": null,
      "metadata": {
        "id": "ByoXbeSt9-k9"
      },
      "outputs": [],
      "source": [
        "df.drop('Unnamed: 0', axis=1, inplace=True)"
      ]
    },
    {
      "cell_type": "code",
      "execution_count": null,
      "metadata": {
        "colab": {
          "base_uri": "https://localhost:8080/",
          "height": 206
        },
        "id": "4513fA56-DmB",
        "outputId": "5df8b119-17a8-4b4c-f7c9-7c6e5697f42f"
      },
      "outputs": [
        {
          "output_type": "execute_result",
          "data": {
            "text/plain": [
              "                                               tweet  label\n",
              "0  father dysfunctional selfish drag kid dysfunct...      0\n",
              "1  thanks lyft credit cant use cause offer wheelc...      0\n",
              "2                                     bihday majesty      0\n",
              "3                  model love take time urð ðððð ððð      0\n",
              "4                      factsguide society motivation      0"
            ],
            "text/html": [
              "\n",
              "  <div id=\"df-08024b2f-90a5-4a01-86b4-086455daff4d\">\n",
              "    <div class=\"colab-df-container\">\n",
              "      <div>\n",
              "<style scoped>\n",
              "    .dataframe tbody tr th:only-of-type {\n",
              "        vertical-align: middle;\n",
              "    }\n",
              "\n",
              "    .dataframe tbody tr th {\n",
              "        vertical-align: top;\n",
              "    }\n",
              "\n",
              "    .dataframe thead th {\n",
              "        text-align: right;\n",
              "    }\n",
              "</style>\n",
              "<table border=\"1\" class=\"dataframe\">\n",
              "  <thead>\n",
              "    <tr style=\"text-align: right;\">\n",
              "      <th></th>\n",
              "      <th>tweet</th>\n",
              "      <th>label</th>\n",
              "    </tr>\n",
              "  </thead>\n",
              "  <tbody>\n",
              "    <tr>\n",
              "      <th>0</th>\n",
              "      <td>father dysfunctional selfish drag kid dysfunct...</td>\n",
              "      <td>0</td>\n",
              "    </tr>\n",
              "    <tr>\n",
              "      <th>1</th>\n",
              "      <td>thanks lyft credit cant use cause offer wheelc...</td>\n",
              "      <td>0</td>\n",
              "    </tr>\n",
              "    <tr>\n",
              "      <th>2</th>\n",
              "      <td>bihday majesty</td>\n",
              "      <td>0</td>\n",
              "    </tr>\n",
              "    <tr>\n",
              "      <th>3</th>\n",
              "      <td>model love take time urð ðððð ððð</td>\n",
              "      <td>0</td>\n",
              "    </tr>\n",
              "    <tr>\n",
              "      <th>4</th>\n",
              "      <td>factsguide society motivation</td>\n",
              "      <td>0</td>\n",
              "    </tr>\n",
              "  </tbody>\n",
              "</table>\n",
              "</div>\n",
              "      <button class=\"colab-df-convert\" onclick=\"convertToInteractive('df-08024b2f-90a5-4a01-86b4-086455daff4d')\"\n",
              "              title=\"Convert this dataframe to an interactive table.\"\n",
              "              style=\"display:none;\">\n",
              "        \n",
              "  <svg xmlns=\"http://www.w3.org/2000/svg\" height=\"24px\"viewBox=\"0 0 24 24\"\n",
              "       width=\"24px\">\n",
              "    <path d=\"M0 0h24v24H0V0z\" fill=\"none\"/>\n",
              "    <path d=\"M18.56 5.44l.94 2.06.94-2.06 2.06-.94-2.06-.94-.94-2.06-.94 2.06-2.06.94zm-11 1L8.5 8.5l.94-2.06 2.06-.94-2.06-.94L8.5 2.5l-.94 2.06-2.06.94zm10 10l.94 2.06.94-2.06 2.06-.94-2.06-.94-.94-2.06-.94 2.06-2.06.94z\"/><path d=\"M17.41 7.96l-1.37-1.37c-.4-.4-.92-.59-1.43-.59-.52 0-1.04.2-1.43.59L10.3 9.45l-7.72 7.72c-.78.78-.78 2.05 0 2.83L4 21.41c.39.39.9.59 1.41.59.51 0 1.02-.2 1.41-.59l7.78-7.78 2.81-2.81c.8-.78.8-2.07 0-2.86zM5.41 20L4 18.59l7.72-7.72 1.47 1.35L5.41 20z\"/>\n",
              "  </svg>\n",
              "      </button>\n",
              "      \n",
              "  <style>\n",
              "    .colab-df-container {\n",
              "      display:flex;\n",
              "      flex-wrap:wrap;\n",
              "      gap: 12px;\n",
              "    }\n",
              "\n",
              "    .colab-df-convert {\n",
              "      background-color: #E8F0FE;\n",
              "      border: none;\n",
              "      border-radius: 50%;\n",
              "      cursor: pointer;\n",
              "      display: none;\n",
              "      fill: #1967D2;\n",
              "      height: 32px;\n",
              "      padding: 0 0 0 0;\n",
              "      width: 32px;\n",
              "    }\n",
              "\n",
              "    .colab-df-convert:hover {\n",
              "      background-color: #E2EBFA;\n",
              "      box-shadow: 0px 1px 2px rgba(60, 64, 67, 0.3), 0px 1px 3px 1px rgba(60, 64, 67, 0.15);\n",
              "      fill: #174EA6;\n",
              "    }\n",
              "\n",
              "    [theme=dark] .colab-df-convert {\n",
              "      background-color: #3B4455;\n",
              "      fill: #D2E3FC;\n",
              "    }\n",
              "\n",
              "    [theme=dark] .colab-df-convert:hover {\n",
              "      background-color: #434B5C;\n",
              "      box-shadow: 0px 1px 3px 1px rgba(0, 0, 0, 0.15);\n",
              "      filter: drop-shadow(0px 1px 2px rgba(0, 0, 0, 0.3));\n",
              "      fill: #FFFFFF;\n",
              "    }\n",
              "  </style>\n",
              "\n",
              "      <script>\n",
              "        const buttonEl =\n",
              "          document.querySelector('#df-08024b2f-90a5-4a01-86b4-086455daff4d button.colab-df-convert');\n",
              "        buttonEl.style.display =\n",
              "          google.colab.kernel.accessAllowed ? 'block' : 'none';\n",
              "\n",
              "        async function convertToInteractive(key) {\n",
              "          const element = document.querySelector('#df-08024b2f-90a5-4a01-86b4-086455daff4d');\n",
              "          const dataTable =\n",
              "            await google.colab.kernel.invokeFunction('convertToInteractive',\n",
              "                                                     [key], {});\n",
              "          if (!dataTable) return;\n",
              "\n",
              "          const docLinkHtml = 'Like what you see? Visit the ' +\n",
              "            '<a target=\"_blank\" href=https://colab.research.google.com/notebooks/data_table.ipynb>data table notebook</a>'\n",
              "            + ' to learn more about interactive tables.';\n",
              "          element.innerHTML = '';\n",
              "          dataTable['output_type'] = 'display_data';\n",
              "          await google.colab.output.renderOutput(dataTable, element);\n",
              "          const docLink = document.createElement('div');\n",
              "          docLink.innerHTML = docLinkHtml;\n",
              "          element.appendChild(docLink);\n",
              "        }\n",
              "      </script>\n",
              "    </div>\n",
              "  </div>\n",
              "  "
            ]
          },
          "metadata": {},
          "execution_count": 6
        }
      ],
      "source": [
        "df.head()"
      ]
    },
    {
      "cell_type": "markdown",
      "metadata": {
        "id": "CUnS72Z6-INn"
      },
      "source": [
        "Data ini telah dilakukan preprocessing. Tahap-tahap yang dilakukan antara lain: casefolding, stopwords removal, dll.\n",
        "Perlu diperhatikan untuk mengatasi slang words dan emoji removal."
      ]
    },
    {
      "cell_type": "code",
      "execution_count": null,
      "metadata": {
        "colab": {
          "base_uri": "https://localhost:8080/"
        },
        "id": "m32jU2uu_NoF",
        "outputId": "09a9df0b-d8a6-41e9-a527-3f673b1a9b67"
      },
      "outputs": [
        {
          "output_type": "execute_result",
          "data": {
            "text/plain": [
              "tweet    18\n",
              "label     0\n",
              "dtype: int64"
            ]
          },
          "metadata": {},
          "execution_count": 6
        }
      ],
      "source": [
        "df.isnull().sum()"
      ]
    },
    {
      "cell_type": "code",
      "execution_count": null,
      "metadata": {
        "id": "754Bm3nH_XhA"
      },
      "outputs": [],
      "source": [
        "df.dropna(inplace=True)"
      ]
    },
    {
      "cell_type": "code",
      "execution_count": null,
      "metadata": {
        "colab": {
          "base_uri": "https://localhost:8080/"
        },
        "id": "cL77Dh2S_yly",
        "outputId": "b32ca036-9a22-4ba1-ed0f-30c9d3ca20e4"
      },
      "outputs": [
        {
          "output_type": "stream",
          "name": "stdout",
          "text": [
            "<class 'pandas.core.frame.DataFrame'>\n",
            "Int64Index: 56727 entries, 0 to 56744\n",
            "Data columns (total 2 columns):\n",
            " #   Column  Non-Null Count  Dtype \n",
            "---  ------  --------------  ----- \n",
            " 0   tweet   56727 non-null  object\n",
            " 1   label   56727 non-null  int64 \n",
            "dtypes: int64(1), object(1)\n",
            "memory usage: 1.3+ MB\n"
          ]
        }
      ],
      "source": [
        "df.info()"
      ]
    },
    {
      "cell_type": "code",
      "execution_count": null,
      "metadata": {
        "colab": {
          "base_uri": "https://localhost:8080/",
          "height": 808
        },
        "id": "aFmMenrf3mRE",
        "outputId": "07629a54-05ed-44f8-b26f-47fb09a54902"
      },
      "outputs": [
        {
          "output_type": "stream",
          "name": "stderr",
          "text": [
            "/usr/local/lib/python3.7/dist-packages/seaborn/_decorators.py:43: FutureWarning: Pass the following variable as a keyword arg: x. From version 0.12, the only valid positional argument will be `data`, and passing other arguments without an explicit keyword will result in an error or misinterpretation.\n",
            "  FutureWarning\n"
          ]
        },
        {
          "output_type": "display_data",
          "data": {
            "text/plain": [
              "<Figure size 720x360 with 1 Axes>"
            ],
            "image/png": "[encoded data removed]"
          },
          "metadata": {
            "needs_background": "light"
          }
        },
        {
          "output_type": "error",
          "ename": "TypeError",
          "evalue": "ignored",
          "traceback": [
            "\u001b[0;31m---------------------------------------------------------------------------\u001b[0m",
            "\u001b[0;31mTypeError\u001b[0m                                 Traceback (most recent call last)",
            "\u001b[0;32m<ipython-input-8-c1bdb169158a>\u001b[0m in \u001b[0;36m<module>\u001b[0;34m()\u001b[0m\n\u001b[1;32m     15\u001b[0m                                   \u001b[0mmax_words\u001b[0m\u001b[0;34m=\u001b[0m\u001b[0;36m100\u001b[0m\u001b[0;34m,\u001b[0m\u001b[0;34m\u001b[0m\u001b[0;34m\u001b[0m\u001b[0m\n\u001b[1;32m     16\u001b[0m                                   \u001b[0mmax_font_size\u001b[0m\u001b[0;34m=\u001b[0m\u001b[0;36m50\u001b[0m\u001b[0;34m,\u001b[0m\u001b[0;34m\u001b[0m\u001b[0;34m\u001b[0m\u001b[0m\n\u001b[0;32m---> 17\u001b[0;31m                                   stopwords=stopwords).generate(inoffensive_tweets)\n\u001b[0m\u001b[1;32m     18\u001b[0m \u001b[0mplt\u001b[0m\u001b[0;34m.\u001b[0m\u001b[0mfigure\u001b[0m\u001b[0;34m(\u001b[0m\u001b[0mfigsize\u001b[0m\u001b[0;34m=\u001b[0m\u001b[0;34m(\u001b[0m\u001b[0;36m15\u001b[0m\u001b[0;34m,\u001b[0m\u001b[0;36m7\u001b[0m\u001b[0;34m)\u001b[0m\u001b[0;34m)\u001b[0m\u001b[0;34m\u001b[0m\u001b[0;34m\u001b[0m\u001b[0m\n\u001b[1;32m     19\u001b[0m \u001b[0mplt\u001b[0m\u001b[0;34m.\u001b[0m\u001b[0mimshow\u001b[0m\u001b[0;34m(\u001b[0m\u001b[0minoffensive_word_cloud\u001b[0m\u001b[0;34m,\u001b[0m \u001b[0minterpolation\u001b[0m\u001b[0;34m=\u001b[0m\u001b[0;34m'bilinear'\u001b[0m\u001b[0;34m)\u001b[0m\u001b[0;34m\u001b[0m\u001b[0;34m\u001b[0m\u001b[0m\n",
            "\u001b[0;32m/usr/local/lib/python3.7/dist-packages/wordcloud/wordcloud.py\u001b[0m in \u001b[0;36mgenerate\u001b[0;34m(self, text)\u001b[0m\n\u001b[1;32m    603\u001b[0m         \u001b[0mself\u001b[0m\u001b[0;34m\u001b[0m\u001b[0;34m\u001b[0m\u001b[0m\n\u001b[1;32m    604\u001b[0m         \"\"\"\n\u001b[0;32m--> 605\u001b[0;31m         \u001b[0;32mreturn\u001b[0m \u001b[0mself\u001b[0m\u001b[0;34m.\u001b[0m\u001b[0mgenerate_from_text\u001b[0m\u001b[0;34m(\u001b[0m\u001b[0mtext\u001b[0m\u001b[0;34m)\u001b[0m\u001b[0;34m\u001b[0m\u001b[0;34m\u001b[0m\u001b[0m\n\u001b[0m\u001b[1;32m    606\u001b[0m \u001b[0;34m\u001b[0m\u001b[0m\n\u001b[1;32m    607\u001b[0m     \u001b[0;32mdef\u001b[0m \u001b[0m_check_generated\u001b[0m\u001b[0;34m(\u001b[0m\u001b[0mself\u001b[0m\u001b[0;34m)\u001b[0m\u001b[0;34m:\u001b[0m\u001b[0;34m\u001b[0m\u001b[0;34m\u001b[0m\u001b[0m\n",
            "\u001b[0;32m/usr/local/lib/python3.7/dist-packages/wordcloud/wordcloud.py\u001b[0m in \u001b[0;36mgenerate_from_text\u001b[0;34m(self, text)\u001b[0m\n\u001b[1;32m    584\u001b[0m         \u001b[0mself\u001b[0m\u001b[0;34m\u001b[0m\u001b[0;34m\u001b[0m\u001b[0m\n\u001b[1;32m    585\u001b[0m         \"\"\"\n\u001b[0;32m--> 586\u001b[0;31m         \u001b[0mwords\u001b[0m \u001b[0;34m=\u001b[0m \u001b[0mself\u001b[0m\u001b[0;34m.\u001b[0m\u001b[0mprocess_text\u001b[0m\u001b[0;34m(\u001b[0m\u001b[0mtext\u001b[0m\u001b[0;34m)\u001b[0m\u001b[0;34m\u001b[0m\u001b[0;34m\u001b[0m\u001b[0m\n\u001b[0m\u001b[1;32m    587\u001b[0m         \u001b[0mself\u001b[0m\u001b[0;34m.\u001b[0m\u001b[0mgenerate_from_frequencies\u001b[0m\u001b[0;34m(\u001b[0m\u001b[0mwords\u001b[0m\u001b[0;34m)\u001b[0m\u001b[0;34m\u001b[0m\u001b[0;34m\u001b[0m\u001b[0m\n\u001b[1;32m    588\u001b[0m         \u001b[0;32mreturn\u001b[0m \u001b[0mself\u001b[0m\u001b[0;34m\u001b[0m\u001b[0;34m\u001b[0m\u001b[0m\n",
            "\u001b[0;32m/usr/local/lib/python3.7/dist-packages/wordcloud/wordcloud.py\u001b[0m in \u001b[0;36mprocess_text\u001b[0;34m(self, text)\u001b[0m\n\u001b[1;32m    545\u001b[0m         \"\"\"\n\u001b[1;32m    546\u001b[0m \u001b[0;34m\u001b[0m\u001b[0m\n\u001b[0;32m--> 547\u001b[0;31m         \u001b[0mstopwords\u001b[0m \u001b[0;34m=\u001b[0m \u001b[0mset\u001b[0m\u001b[0;34m(\u001b[0m\u001b[0;34m[\u001b[0m\u001b[0mi\u001b[0m\u001b[0;34m.\u001b[0m\u001b[0mlower\u001b[0m\u001b[0;34m(\u001b[0m\u001b[0;34m)\u001b[0m \u001b[0;32mfor\u001b[0m \u001b[0mi\u001b[0m \u001b[0;32min\u001b[0m \u001b[0mself\u001b[0m\u001b[0;34m.\u001b[0m\u001b[0mstopwords\u001b[0m\u001b[0;34m]\u001b[0m\u001b[0;34m)\u001b[0m\u001b[0;34m\u001b[0m\u001b[0;34m\u001b[0m\u001b[0m\n\u001b[0m\u001b[1;32m    548\u001b[0m \u001b[0;34m\u001b[0m\u001b[0m\n\u001b[1;32m    549\u001b[0m         flags = (re.UNICODE if sys.version < '3' and type(text) is unicode  # noqa: F821\n",
            "\u001b[0;31mTypeError\u001b[0m: 'LazyCorpusLoader' object is not iterable"
          ]
        }
      ],
      "source": [
        "# Jumlah tweet masing-masing label / count plot label\n",
        "df_label = df['label'].replace({0: 'Inoffensive',\n",
        "                               1: 'Offensive'})\n",
        "\n",
        "plt.figure(figsize=(10,5))\n",
        "sns.countplot(df_label)\n",
        "plt.title('Countplot Each Label\\n', fontsize=15)\n",
        "plt.show()\n",
        "\n",
        "# Word cloud untuk tweet yang TIDAK mengandung ucapan penghinaan/kebencian\n",
        "inoffensive = df[df['label']==0]\n",
        "inoffensive_tweets = \" \".join(tweet for tweet in inoffensive.tweet)\n",
        "inoffensive_word_cloud = WordCloud(collocations = False, \n",
        "                                   background_color = 'white',\n",
        "                                  max_words=100,\n",
        "                                  max_font_size=50,\n",
        "                                  stopwords=stopwords).generate(inoffensive_tweets)\n",
        "plt.figure(figsize=(15,7))\n",
        "plt.imshow(inoffensive_word_cloud, interpolation='bilinear')\n",
        "plt.axis(\"off\")\n",
        "plt.show()\n",
        "\n",
        "# Word cloud untuk tweet yang mengandung ucapan penghinaan/kebencian\n",
        "offensive = df[df['label']==1]\n",
        "offensive_tweets = \" \".join(tweet for tweet in offensive.tweet)\n",
        "offensive_word_cloud = WordCloud(collocations = False, \n",
        "                                   background_color = 'white',\n",
        "                                  stopwords=stopwords,\n",
        "                                max_font_size=35).generate(offensive_tweets)\n",
        "plt.figure(figsize=(8,7))\n",
        "plt.imshow(offensive_word_cloud, interpolation='bilinear')\n",
        "plt.axis(\"off\")\n",
        "plt.show()\n",
        "\n",
        "# Jumlah missing values\n",
        "df.isnull().sum()"
      ]
    },
    {
      "cell_type": "markdown",
      "metadata": {
        "id": "ORfw0YmXKC4S"
      },
      "source": [
        "## Only take 20.000 tweets"
      ]
    },
    {
      "cell_type": "code",
      "execution_count": null,
      "metadata": {
        "id": "c7Jn2tYt6stC"
      },
      "outputs": [],
      "source": [
        "df_1 = df[df['label'] == 1]\n",
        "df_0 = df[df['label'] == 0]\n",
        "\n",
        "df_1 = df_1.sample(n=10000)\n",
        "df_0 = df_0.sample(n=10000)"
      ]
    },
    {
      "cell_type": "code",
      "execution_count": null,
      "metadata": {
        "colab": {
          "base_uri": "https://localhost:8080/"
        },
        "id": "iY7bVZSjKIug",
        "outputId": "a1f633ae-c51f-4c58-f150-db8d390a620e"
      },
      "outputs": [
        {
          "output_type": "stream",
          "name": "stdout",
          "text": [
            "<class 'pandas.core.frame.DataFrame'>\n",
            "RangeIndex: 20000 entries, 0 to 19999\n",
            "Data columns (total 2 columns):\n",
            " #   Column  Non-Null Count  Dtype \n",
            "---  ------  --------------  ----- \n",
            " 0   tweet   20000 non-null  object\n",
            " 1   label   20000 non-null  int64 \n",
            "dtypes: int64(1), object(1)\n",
            "memory usage: 312.6+ KB\n"
          ]
        }
      ],
      "source": [
        "df = pd.concat([df_1, df_0], ignore_index = True)\n",
        "df.info()"
      ]
    },
    {
      "cell_type": "code",
      "execution_count": null,
      "metadata": {
        "colab": {
          "base_uri": "https://localhost:8080/"
        },
        "id": "vWywD4rlKN2m",
        "outputId": "a79d8ad2-23a1-4234-a64c-a4a35c442b89"
      },
      "outputs": [
        {
          "output_type": "execute_result",
          "data": {
            "text/plain": [
              "1    10000\n",
              "0    10000\n",
              "Name: label, dtype: int64"
            ]
          },
          "metadata": {},
          "execution_count": 10
        }
      ],
      "source": [
        "df['label'].value_counts()"
      ]
    },
    {
      "cell_type": "markdown",
      "metadata": {
        "id": "680Q-Z0u63zq"
      },
      "source": [
        "# Preprocessing data"
      ]
    },
    {
      "cell_type": "code",
      "execution_count": null,
      "metadata": {
        "id": "WJXf1Xq_66xT"
      },
      "outputs": [],
      "source": [
        "# Menghapus missing values\n",
        "df.dropna(inplace=True)\n",
        "\n",
        "# Casefolding\n",
        "df['tweet_lower'] = df['tweet'].apply(lambda x: \" \".join(x.lower() for x in x.split()))\n",
        "df.drop('tweet', axis=1, inplace=True)\n",
        "\n",
        "# Stopwords removal\n",
        "stop = stopwords.words(\"english\")\n",
        "df['tweet_stopwords'] = df['tweet_lower'].apply(lambda x: \" \".join(x for x in x.split() if x not in stop))\n",
        "df.drop('tweet_lower', axis=1, inplace=True)\n",
        "\n",
        "# Punctuation marks removal\n",
        "df['tweet_punc'] = df['tweet_stopwords'].str.replace('(?:\\@|http?\\://|https?\\://|www)\\S+', '')\n",
        "df['tweet_punc'] = df['tweet_punc'].str.replace('[^\\w\\s]', '')\n",
        "df['tweet_punc'] = df['tweet_punc'].str.replace('[0-9]+', '')\n",
        "df.drop('tweet_stopwords', axis=1, inplace=True)\n",
        "\n",
        "# Frequent words removal\n",
        "freq = ['rt','im','ð','amp','u','â','retweet']\n",
        "df['tweet_comm_remv'] = df['tweet_punc'].apply(lambda x: \" \".join(x for x in x.split() if x not in freq))\n",
        "df.drop('tweet_punc', axis=1, inplace=True)\n",
        "\n",
        "# Rare words removal\n",
        "rare = pd.Series(' '.join(df['tweet_comm_remv']).split()).value_counts()[-100:]\n",
        "rare = list(rare.index)\n",
        "df['tweet_rare_remv'] = df['tweet_comm_remv'].apply(lambda x: \" \".join(x for x in x.split() if x not in rare))\n",
        "df.drop('tweet_comm_remv', axis=1, inplace=True)\n",
        "\n",
        "df = df.rename(columns = {'twet_comm_remv':'tweet'})"
      ]
    },
    {
      "cell_type": "markdown",
      "metadata": {
        "id": "enFJ3Zhw-nh0"
      },
      "source": [
        "# Build corpus"
      ]
    },
    {
      "cell_type": "code",
      "execution_count": null,
      "metadata": {
        "colab": {
          "base_uri": "https://localhost:8080/"
        },
        "id": "g117tzMVKCsl",
        "outputId": "91242476-ecf5-4bf5-e95c-038455b39e08"
      },
      "outputs": [
        {
          "output_type": "stream",
          "name": "stdout",
          "text": [
            "There are 24246 words.\n"
          ]
        }
      ],
      "source": [
        "# Membuat korpus\n",
        "corpus = df['tweet'].apply(gensim.utils.simple_preprocess)\n",
        "\n",
        "# Memberi indeks pada teks\n",
        "token = Tokenizer()\n",
        "token.fit_on_texts(corpus)\n",
        "token.index_word\n",
        "token.texts_to_sequences(corpus)\n",
        "\n",
        "#Jumlah kata dalam korpus\n",
        "vocal = len(token.index_word)+1\n",
        "print('There are {} words.'.format(vocal))"
      ]
    },
    {
      "cell_type": "code",
      "execution_count": null,
      "metadata": {
        "colab": {
          "base_uri": "https://localhost:8080/"
        },
        "id": "FsIw8xGd-otg",
        "outputId": "79104007-598d-41d8-c492-1b437a6d7231"
      },
      "outputs": [
        {
          "output_type": "execute_result",
          "data": {
            "text/plain": [
              "0                  [would, take, avitar, projecting, hate]\n",
              "1        [word, factory, race, denial, prevents, healin...\n",
              "2                                  [flexing, nigga, bitch]\n",
              "3                                             [dad, bitch]\n",
              "4                  [could, died, called, mom, bitch, lmao]\n",
              "                               ...                        \n",
              "19995    [help, run, first, webinar, comms, var, livetw...\n",
              "19996    [yesmind, counting, find, them, hospital, digi...\n",
              "19997    [nd, oldest, daughter, childrenâour, beautiful...\n",
              "19998    [lot, pakistani, twitter, folk, make, like, to...\n",
              "19999    [best, site, find, interracial, single, interr...\n",
              "Name: tweet, Length: 20000, dtype: object"
            ]
          },
          "metadata": {},
          "execution_count": 13
        }
      ],
      "source": [
        "corpus = df['tweet'].apply(gensim.utils.simple_preprocess)\n",
        "corpus"
      ]
    },
    {
      "cell_type": "code",
      "execution_count": null,
      "metadata": {
        "colab": {
          "base_uri": "https://localhost:8080/"
        },
        "id": "4Pxmz1p_-uz_",
        "outputId": "e44e17dd-d7be-49e6-b3d4-a5c840e91c58"
      },
      "outputs": [
        {
          "output_type": "stream",
          "name": "stdout",
          "text": [
            "Done.\n"
          ]
        }
      ],
      "source": [
        "token = Tokenizer()\n",
        "print('Done.')"
      ]
    },
    {
      "cell_type": "code",
      "execution_count": null,
      "metadata": {
        "colab": {
          "base_uri": "https://localhost:8080/"
        },
        "id": "XfDFKF_6_5lZ",
        "outputId": "7598eff8-0968-48fb-e5ab-0c197ccf99bc"
      },
      "outputs": [
        {
          "output_type": "stream",
          "name": "stdout",
          "text": [
            "Done.\n"
          ]
        }
      ],
      "source": [
        "token.fit_on_texts(corpus)\n",
        "print('Done.')"
      ]
    },
    {
      "cell_type": "code",
      "execution_count": null,
      "metadata": {
        "id": "Ck1sfMcoAAhW",
        "colab": {
          "base_uri": "https://localhost:8080/"
        },
        "outputId": "7a700ae0-c4d6-4e7a-a186-cde970385999"
      },
      "outputs": [
        {
          "output_type": "execute_result",
          "data": {
            "text/plain": [
              "{1: 'bitch',\n",
              " 2: 'hoe',\n",
              " 3: 'like',\n",
              " 4: 'love',\n",
              " 5: 'day',\n",
              " 6: 'pussy',\n",
              " 7: 'get',\n",
              " 8: 'nigga',\n",
              " 9: 'as',\n",
              " 10: 'got',\n",
              " 11: 'fuck',\n",
              " 12: 'shit',\n",
              " 13: 'happy',\n",
              " 14: 'time',\n",
              " 15: 'one',\n",
              " 16: 'aint',\n",
              " 17: 'lol',\n",
              " 18: 'cant',\n",
              " 19: 'know',\n",
              " 20: 'go',\n",
              " 21: 'life',\n",
              " 22: 'make',\n",
              " 23: 'girl',\n",
              " 24: 'want',\n",
              " 25: 'see',\n",
              " 26: 'people',\n",
              " 27: 'good',\n",
              " 28: 'new',\n",
              " 29: 'today',\n",
              " 30: 'need',\n",
              " 31: 'look',\n",
              " 32: 'trash',\n",
              " 33: 'think',\n",
              " 34: 'say',\n",
              " 35: 'me',\n",
              " 36: 'back',\n",
              " 37: 'take',\n",
              " 38: 'thats',\n",
              " 39: 'really',\n",
              " 40: 'you',\n",
              " 41: 'fucking',\n",
              " 42: 'come',\n",
              " 43: 'man',\n",
              " 44: 'bad',\n",
              " 45: 'yall',\n",
              " 46: 'never',\n",
              " 47: 'still',\n",
              " 48: 'friend',\n",
              " 49: 'yo',\n",
              " 50: 'work',\n",
              " 51: 'positive',\n",
              " 52: 'right',\n",
              " 53: 'thankful',\n",
              " 54: 'year',\n",
              " 55: 'hate',\n",
              " 56: 'even',\n",
              " 57: 'father',\n",
              " 58: 'let',\n",
              " 59: 'it',\n",
              " 60: 'way',\n",
              " 61: 'ððð',\n",
              " 62: 'bihday',\n",
              " 63: 'white',\n",
              " 64: 'would',\n",
              " 65: 'smile',\n",
              " 66: 'going',\n",
              " 67: 'thing',\n",
              " 68: 'best',\n",
              " 69: 'bird',\n",
              " 70: 'little',\n",
              " 71: 'woman',\n",
              " 72: 'feel',\n",
              " 73: 'always',\n",
              " 74: 'call',\n",
              " 75: 'faggot',\n",
              " 76: 'real',\n",
              " 77: 'ya',\n",
              " 78: 'much',\n",
              " 79: 'first',\n",
              " 80: 'ðð',\n",
              " 81: 'well',\n",
              " 82: 'ever',\n",
              " 83: 'said',\n",
              " 84: 'black',\n",
              " 85: 'great',\n",
              " 86: 'guy',\n",
              " 87: 'week',\n",
              " 88: 'stop',\n",
              " 89: 'weekend',\n",
              " 90: 'boy',\n",
              " 91: 'family',\n",
              " 92: 'give',\n",
              " 93: 'home',\n",
              " 94: 'tell',\n",
              " 95: 'wanna',\n",
              " 96: 'wait',\n",
              " 97: 'next',\n",
              " 98: 'fun',\n",
              " 99: 'last',\n",
              " 100: 'summer',\n",
              " 101: 'night',\n",
              " 102: 'world',\n",
              " 103: 'lmao',\n",
              " 104: 'getting',\n",
              " 105: 'dont',\n",
              " 106: 'healthy',\n",
              " 107: 'game',\n",
              " 108: 'morning',\n",
              " 109: 'tweet',\n",
              " 110: 'keep',\n",
              " 111: 'cute',\n",
              " 112: 'every',\n",
              " 113: 'gonna',\n",
              " 114: 'find',\n",
              " 115: 'up',\n",
              " 116: 'talk',\n",
              " 117: 'made',\n",
              " 118: 'ill',\n",
              " 119: 'friday',\n",
              " 120: 'kid',\n",
              " 121: 'better',\n",
              " 122: 'someone',\n",
              " 123: 'dick',\n",
              " 124: 'gotta',\n",
              " 125: 'beautiful',\n",
              " 126: 'bull',\n",
              " 127: 'music',\n",
              " 128: 'sad',\n",
              " 129: 'damn',\n",
              " 130: 'school',\n",
              " 131: 'show',\n",
              " 132: 'nigger',\n",
              " 133: 'around',\n",
              " 134: 'put',\n",
              " 135: 'tomorrow',\n",
              " 136: 'big',\n",
              " 137: 'cause',\n",
              " 138: 'bout',\n",
              " 139: 'old',\n",
              " 140: 'many',\n",
              " 141: 'money',\n",
              " 142: 'another',\n",
              " 143: 'face',\n",
              " 144: 'tonight',\n",
              " 145: 'twitter',\n",
              " 146: 'ur',\n",
              " 147: 'wit',\n",
              " 148: 'might',\n",
              " 149: 'wish',\n",
              " 150: 'looking',\n",
              " 151: 'ive',\n",
              " 152: 'live',\n",
              " 153: 'trump',\n",
              " 154: 'dad',\n",
              " 155: 'baby',\n",
              " 156: 'now',\n",
              " 157: 'talking',\n",
              " 158: 'ðððð',\n",
              " 159: 'da',\n",
              " 160: 'hit',\n",
              " 161: 'mean',\n",
              " 162: 'two',\n",
              " 163: 'dumb',\n",
              " 164: 'he',\n",
              " 165: 'niggah',\n",
              " 166: 'dat',\n",
              " 167: 'pay',\n",
              " 168: 'could',\n",
              " 169: 'free',\n",
              " 170: 'play',\n",
              " 171: 'hope',\n",
              " 172: 'something',\n",
              " 173: 'stupid',\n",
              " 174: 'affirmation',\n",
              " 175: 'here',\n",
              " 176: 'god',\n",
              " 177: 'please',\n",
              " 178: 'nothing',\n",
              " 179: 'retarded',\n",
              " 180: 'word',\n",
              " 181: 'cunt',\n",
              " 182: 'follow',\n",
              " 183: 'thank',\n",
              " 184: 'amazing',\n",
              " 185: 'watch',\n",
              " 186: 'orlando',\n",
              " 187: 'fag',\n",
              " 188: 'finally',\n",
              " 189: 'eat',\n",
              " 190: 'yeah',\n",
              " 191: 'thought',\n",
              " 192: 'happiness',\n",
              " 193: 'fuckin',\n",
              " 194: 'lot',\n",
              " 195: 'yes',\n",
              " 196: 'model',\n",
              " 197: 'lil',\n",
              " 198: 'done',\n",
              " 199: 'dog',\n",
              " 200: 'do',\n",
              " 201: 'fat',\n",
              " 202: 'gay',\n",
              " 203: 'funny',\n",
              " 204: 'everyone',\n",
              " 205: 'feeling',\n",
              " 206: 'tho',\n",
              " 207: 'oh',\n",
              " 208: 'ugly',\n",
              " 209: 'crazy',\n",
              " 210: 'place',\n",
              " 211: 'ready',\n",
              " 212: 'thanks',\n",
              " 213: 'ghetto',\n",
              " 214: 'via',\n",
              " 215: 'fathersday',\n",
              " 216: 'gone',\n",
              " 217: 'sunday',\n",
              " 218: 'long',\n",
              " 219: 'head',\n",
              " 220: 'side',\n",
              " 221: 'try',\n",
              " 222: 'there',\n",
              " 223: 'stay',\n",
              " 224: 'city',\n",
              " 225: 'song',\n",
              " 226: 'cool',\n",
              " 227: 'blog',\n",
              " 228: 'th',\n",
              " 229: 'video',\n",
              " 230: 'hot',\n",
              " 231: 'food',\n",
              " 232: 'believe',\n",
              " 233: 'care',\n",
              " 234: 'smh',\n",
              " 235: 'hair',\n",
              " 236: 'pic',\n",
              " 237: 'mad',\n",
              " 238: 'high',\n",
              " 239: 'america',\n",
              " 240: 'kill',\n",
              " 241: 'change',\n",
              " 242: 'already',\n",
              " 243: 'hard',\n",
              " 244: 'team',\n",
              " 245: 'called',\n",
              " 246: 'sleep',\n",
              " 247: 'job',\n",
              " 248: 'cuz',\n",
              " 249: 'coming',\n",
              " 250: 'yankee',\n",
              " 251: 'selfie',\n",
              " 252: 'urð',\n",
              " 253: 'help',\n",
              " 254: 'pretty',\n",
              " 255: 'away',\n",
              " 256: 'house',\n",
              " 257: 'this',\n",
              " 258: 'seen',\n",
              " 259: 'making',\n",
              " 260: 'whatever',\n",
              " 261: 'altwaystoheal',\n",
              " 262: 'car',\n",
              " 263: 'yellow',\n",
              " 264: 'hell',\n",
              " 265: 'men',\n",
              " 266: 'fucked',\n",
              " 267: 'hour',\n",
              " 268: 'peace',\n",
              " 269: 'use',\n",
              " 270: 'name',\n",
              " 271: 'gold',\n",
              " 272: 'beat',\n",
              " 273: 'playing',\n",
              " 274: 'nice',\n",
              " 275: 'charlie',\n",
              " 276: 'bear',\n",
              " 277: 'act',\n",
              " 278: 'haha',\n",
              " 279: 'mom',\n",
              " 280: 'climb',\n",
              " 281: 'tryna',\n",
              " 282: 'young',\n",
              " 283: 'cry',\n",
              " 284: 'quote',\n",
              " 285: 'left',\n",
              " 286: 'i_am',\n",
              " 287: 'sex',\n",
              " 288: 'wrong',\n",
              " 289: 'dude',\n",
              " 290: 'em',\n",
              " 291: 'hand',\n",
              " 292: 'turn',\n",
              " 293: 'fan',\n",
              " 294: 'that',\n",
              " 295: 'person',\n",
              " 296: 'win',\n",
              " 297: 'too',\n",
              " 298: 'watching',\n",
              " 299: 'sta',\n",
              " 300: 'may',\n",
              " 301: 'silver',\n",
              " 302: 'racist',\n",
              " 303: 'picture',\n",
              " 304: 'whats',\n",
              " 305: 'everything',\n",
              " 306: 'female',\n",
              " 307: 'phone',\n",
              " 308: 'shut',\n",
              " 309: 'soon',\n",
              " 310: 'son',\n",
              " 311: 'miss',\n",
              " 312: 'leave',\n",
              " 313: 'sure',\n",
              " 314: 'without',\n",
              " 315: 'mind',\n",
              " 316: 'ho',\n",
              " 317: 'buy',\n",
              " 318: 'excited',\n",
              " 319: 'wow',\n",
              " 320: 'id',\n",
              " 321: 'check',\n",
              " 322: 'angry',\n",
              " 323: 'yet',\n",
              " 324: 'sorry',\n",
              " 325: 'bro',\n",
              " 326: 'couple',\n",
              " 327: 'hey',\n",
              " 328: 'end',\n",
              " 329: 'were',\n",
              " 330: 'suck',\n",
              " 331: 'waiting',\n",
              " 332: 'polar',\n",
              " 333: 'wtf',\n",
              " 334: 'ima',\n",
              " 335: 'since',\n",
              " 336: 'month',\n",
              " 337: 'trying',\n",
              " 338: 'enjoy',\n",
              " 339: 'remember',\n",
              " 340: 'nicca',\n",
              " 341: 'photo',\n",
              " 342: 'out',\n",
              " 343: 'beach',\n",
              " 344: 'news',\n",
              " 345: 'broke',\n",
              " 346: 'fight',\n",
              " 347: 'movie',\n",
              " 348: 'libtard',\n",
              " 349: 'moment',\n",
              " 350: 'âï',\n",
              " 351: 'gon',\n",
              " 352: 'body',\n",
              " 353: 'cat',\n",
              " 354: 'cold',\n",
              " 355: 'open',\n",
              " 356: 'though',\n",
              " 357: 'book',\n",
              " 358: 'sun',\n",
              " 359: 'found',\n",
              " 360: 'anything',\n",
              " 361: 'trust',\n",
              " 362: 'must',\n",
              " 363: 'lost',\n",
              " 364: 'told',\n",
              " 365: 'fake',\n",
              " 366: 'ask',\n",
              " 367: 'dream',\n",
              " 368: 'went',\n",
              " 369: 'saturday',\n",
              " 370: 'no',\n",
              " 371: 'listen',\n",
              " 372: 'lt',\n",
              " 373: 'light',\n",
              " 374: 'forex',\n",
              " 375: 'swear',\n",
              " 376: 'theyre',\n",
              " 377: 'walk',\n",
              " 378: 'point',\n",
              " 379: 'omg',\n",
              " 380: 'st',\n",
              " 381: 'so',\n",
              " 382: 'ok',\n",
              " 383: 'nah',\n",
              " 384: 'attack',\n",
              " 385: 'problem',\n",
              " 386: 'child',\n",
              " 387: 'tear',\n",
              " 388: 'break',\n",
              " 389: 'minute',\n",
              " 390: 'fact',\n",
              " 391: 'again',\n",
              " 392: 'sexy',\n",
              " 393: 'story',\n",
              " 394: 'full',\n",
              " 395: 'also',\n",
              " 396: 'lady',\n",
              " 397: 'healing',\n",
              " 398: 'bruh',\n",
              " 399: 'run',\n",
              " 400: 'cut',\n",
              " 401: 'country',\n",
              " 402: 'hea',\n",
              " 403: 'everybody',\n",
              " 404: 'ppl',\n",
              " 405: 'read',\n",
              " 406: 'red',\n",
              " 407: 'single',\n",
              " 408: 'gun',\n",
              " 409: 'bring',\n",
              " 410: 'saying',\n",
              " 411: 'monkey',\n",
              " 412: 'proud',\n",
              " 413: 'monday',\n",
              " 414: 'start',\n",
              " 415: 'nude',\n",
              " 416: 'top',\n",
              " 417: 'reason',\n",
              " 418: 'enough',\n",
              " 419: 'true',\n",
              " 420: 'obama',\n",
              " 421: 'blue',\n",
              " 422: 'tired',\n",
              " 423: 'loyal',\n",
              " 424: 'eye',\n",
              " 425: 'niccas',\n",
              " 426: 'guess',\n",
              " 427: 'stand',\n",
              " 428: 'shooting',\n",
              " 429: 'awesome',\n",
              " 430: 'grateful',\n",
              " 431: 'used',\n",
              " 432: 'retard',\n",
              " 433: 'type',\n",
              " 434: 'american',\n",
              " 435: 'hear',\n",
              " 436: 'blessed',\n",
              " 437: 'saw',\n",
              " 438: 'holiday',\n",
              " 439: 'strong',\n",
              " 440: 'wedding',\n",
              " 441: 'liberal',\n",
              " 442: 'almost',\n",
              " 443: 'straight',\n",
              " 444: 'nobody',\n",
              " 445: 'racing',\n",
              " 446: 'came',\n",
              " 447: 'bet',\n",
              " 448: 'line',\n",
              " 449: 'whole',\n",
              " 450: 'on',\n",
              " 451: 'season',\n",
              " 452: 'dead',\n",
              " 453: 'instagood',\n",
              " 454: 'anyone',\n",
              " 455: 'rest',\n",
              " 456: 'all',\n",
              " 457: 'redneck',\n",
              " 458: 'colored',\n",
              " 459: 'kind',\n",
              " 460: 'living',\n",
              " 461: 'relationship',\n",
              " 462: 'porn',\n",
              " 463: 'text',\n",
              " 464: 'probably',\n",
              " 465: 'race',\n",
              " 466: 'la',\n",
              " 467: 'wife',\n",
              " 468: 'maybe',\n",
              " 469: 'sister',\n",
              " 470: 'else',\n",
              " 471: 'is',\n",
              " 472: 'half',\n",
              " 473: 'class',\n",
              " 474: 'cracker',\n",
              " 475: 'rather',\n",
              " 476: 'die',\n",
              " 477: 'far',\n",
              " 478: 'took',\n",
              " 479: 'business',\n",
              " 480: 'politics',\n",
              " 481: 'bc',\n",
              " 482: 'together',\n",
              " 483: 'rip',\n",
              " 484: 'lovely',\n",
              " 485: 'travel',\n",
              " 486: 'truth',\n",
              " 487: 'date',\n",
              " 488: 'perfect',\n",
              " 489: 'sound',\n",
              " 490: 'matter',\n",
              " 491: 'pop',\n",
              " 492: 'sometimes',\n",
              " 493: 'direct',\n",
              " 494: 'motivation',\n",
              " 495: 'move',\n",
              " 496: 'till',\n",
              " 497: 'sick',\n",
              " 498: 'calling',\n",
              " 499: 'off',\n",
              " 500: 'nasty',\n",
              " 501: 'pm',\n",
              " 502: 'who',\n",
              " 503: 'dance',\n",
              " 504: 'euro',\n",
              " 505: 'meet',\n",
              " 506: 'june',\n",
              " 507: 'pull',\n",
              " 508: 'medium',\n",
              " 509: 'gave',\n",
              " 510: 'outta',\n",
              " 511: 'af',\n",
              " 512: 'favorite',\n",
              " 513: 'killed',\n",
              " 514: 'them',\n",
              " 515: 'post',\n",
              " 516: 'dominate',\n",
              " 517: 'number',\n",
              " 518: 'working',\n",
              " 519: 'either',\n",
              " 520: 'club',\n",
              " 521: 'wanted',\n",
              " 522: 'slut',\n",
              " 523: 'health',\n",
              " 524: 'mindset',\n",
              " 525: 'basic',\n",
              " 526: 'dis',\n",
              " 527: 'bed',\n",
              " 528: 'alone',\n",
              " 529: 'mother',\n",
              " 530: 'bae',\n",
              " 531: 'actually',\n",
              " 532: 'instagram',\n",
              " 533: 'nig',\n",
              " 534: 'girlfriend',\n",
              " 535: 'what',\n",
              " 536: 'lie',\n",
              " 537: 'ball',\n",
              " 538: 'street',\n",
              " 539: 'anymore',\n",
              " 540: 'color',\n",
              " 541: 'set',\n",
              " 542: 'super',\n",
              " 543: 'forward',\n",
              " 544: 'drink',\n",
              " 545: 'later',\n",
              " 546: 'pa',\n",
              " 547: 'tf',\n",
              " 548: 'eating',\n",
              " 549: 'lmfao',\n",
              " 550: 'if',\n",
              " 551: 'wear',\n",
              " 552: 'joke',\n",
              " 553: 'send',\n",
              " 554: 'loved',\n",
              " 555: 'fall',\n",
              " 556: 'okay',\n",
              " 557: 'joy',\n",
              " 558: 'jus',\n",
              " 559: 'respect',\n",
              " 560: 'nd',\n",
              " 561: 'shot',\n",
              " 562: 'water',\n",
              " 563: 'brother',\n",
              " 564: 'lucky',\n",
              " 565: 'forever',\n",
              " 566: 'understand',\n",
              " 567: 'chick',\n",
              " 568: 'ago',\n",
              " 569: 'him',\n",
              " 570: 'wonder',\n",
              " 571: 'save',\n",
              " 572: 'treat',\n",
              " 573: 'dyke',\n",
              " 574: 'giving',\n",
              " 575: 'power',\n",
              " 576: 'boyfriend',\n",
              " 577: 'comment',\n",
              " 578: 'gorilla',\n",
              " 579: 'flower',\n",
              " 580: 'state',\n",
              " 581: 'rock',\n",
              " 582: 'acting',\n",
              " 583: 'daddy',\n",
              " 584: 'throw',\n",
              " 585: 'ride',\n",
              " 586: 'happened',\n",
              " 587: 'ticket',\n",
              " 588: 'fashion',\n",
              " 589: 'share',\n",
              " 590: 'london',\n",
              " 591: 'followme',\n",
              " 592: 'beer',\n",
              " 593: 'tbt',\n",
              " 594: 'are',\n",
              " 595: 'catch',\n",
              " 596: 'main',\n",
              " 597: 'party',\n",
              " 598: 'door',\n",
              " 599: 'queer',\n",
              " 600: 'chill',\n",
              " 601: 'be',\n",
              " 602: 'late',\n",
              " 603: 'mine',\n",
              " 604: 'seeing',\n",
              " 605: 'coon',\n",
              " 606: 'early',\n",
              " 607: 'folk',\n",
              " 608: 'thursday',\n",
              " 609: 'rich',\n",
              " 610: 'social',\n",
              " 611: 'ex',\n",
              " 612: 'idk',\n",
              " 613: 'to',\n",
              " 614: 'follower',\n",
              " 615: 'voice',\n",
              " 616: 'beauty',\n",
              " 617: 'daughter',\n",
              " 618: 'poetry',\n",
              " 619: 'photooftheday',\n",
              " 620: 'running',\n",
              " 621: 'literally',\n",
              " 622: 'room',\n",
              " 623: 'different',\n",
              " 624: 'heard',\n",
              " 625: 'sweet',\n",
              " 626: 'thinking',\n",
              " 627: 'in',\n",
              " 628: 'smoke',\n",
              " 629: 'green',\n",
              " 630: 'laugh',\n",
              " 631: 'become',\n",
              " 632: 'brown',\n",
              " 633: 'brownie',\n",
              " 634: 'stfu',\n",
              " 635: 'her',\n",
              " 636: 'soul',\n",
              " 637: 'nigguh',\n",
              " 638: 'lunch',\n",
              " 639: 'least',\n",
              " 640: 'death',\n",
              " 641: 'customer',\n",
              " 642: 'bing',\n",
              " 643: 'bong',\n",
              " 644: 'dem',\n",
              " 645: 'million',\n",
              " 646: 'mouth',\n",
              " 647: 'drop',\n",
              " 648: 'order',\n",
              " 649: 'dress',\n",
              " 650: 'wet',\n",
              " 651: 'the',\n",
              " 652: 'lifestyle',\n",
              " 653: 'depression',\n",
              " 654: 'film',\n",
              " 655: 'wake',\n",
              " 656: 'not',\n",
              " 657: 'allahsoil',\n",
              " 658: 'muslim',\n",
              " 659: 'control',\n",
              " 660: 'parent',\n",
              " 661: 'lose',\n",
              " 662: 'gt',\n",
              " 663: 'happen',\n",
              " 664: 'tried',\n",
              " 665: 'hold',\n",
              " 666: 'le',\n",
              " 667: 'behind',\n",
              " 668: 'goal',\n",
              " 669: 'close',\n",
              " 670: 'everyday',\n",
              " 671: 'yr',\n",
              " 672: 'view',\n",
              " 673: 'fear',\n",
              " 674: 'plan',\n",
              " 675: 'football',\n",
              " 676: 'shop',\n",
              " 677: 'sign',\n",
              " 678: 'course',\n",
              " 679: 'update',\n",
              " 680: 'others',\n",
              " 681: 'cop',\n",
              " 682: 'fine',\n",
              " 683: 'animal',\n",
              " 684: 'delete',\n",
              " 685: 'gift',\n",
              " 686: 'conference',\n",
              " 687: 'racism',\n",
              " 688: 'naked',\n",
              " 689: 'none',\n",
              " 690: 'instead',\n",
              " 691: 'tv',\n",
              " 692: 'lead',\n",
              " 693: 'stuff',\n",
              " 694: 'dinner',\n",
              " 695: 'sjw',\n",
              " 696: 'hr',\n",
              " 697: 'outside',\n",
              " 698: 'forget',\n",
              " 699: 'list',\n",
              " 700: 'deep',\n",
              " 701: 'ah',\n",
              " 702: 'buffalo',\n",
              " 703: 'low',\n",
              " 704: 'down',\n",
              " 705: 'speak',\n",
              " 706: 'poor',\n",
              " 707: 'weed',\n",
              " 708: 'account',\n",
              " 709: 'birthday',\n",
              " 710: 'finna',\n",
              " 711: 'self',\n",
              " 712: 'shoe',\n",
              " 713: 'answer',\n",
              " 714: 'human',\n",
              " 715: 'twat',\n",
              " 716: 'complete',\n",
              " 717: 'mood',\n",
              " 718: 'test',\n",
              " 719: 'yay',\n",
              " 720: 'environment',\n",
              " 721: 'drunk',\n",
              " 722: 'slap',\n",
              " 723: 'episode',\n",
              " 724: 'lying',\n",
              " 725: 'pregnant',\n",
              " 726: 'talkin',\n",
              " 727: 'knew',\n",
              " 728: 'taking',\n",
              " 729: 'vote',\n",
              " 730: 'seriously',\n",
              " 731: 'wearing',\n",
              " 732: 'confused',\n",
              " 733: 'star',\n",
              " 734: 'event',\n",
              " 735: 'simulator',\n",
              " 736: 'adapt',\n",
              " 737: 'somebody',\n",
              " 738: 'sum',\n",
              " 739: 'past',\n",
              " 740: 'gop',\n",
              " 741: 'front',\n",
              " 742: 'serious',\n",
              " 743: 'youre',\n",
              " 744: 'lookin',\n",
              " 745: 'glad',\n",
              " 746: 'gym',\n",
              " 747: 'attitude',\n",
              " 748: 'student',\n",
              " 749: 'ha',\n",
              " 750: 'trip',\n",
              " 751: 'fitness',\n",
              " 752: 'smell',\n",
              " 753: 'quit',\n",
              " 754: 'shoot',\n",
              " 755: 'scared',\n",
              " 756: 'weak',\n",
              " 757: 'imma',\n",
              " 758: 'president',\n",
              " 759: 'public',\n",
              " 760: 'bag',\n",
              " 761: 'attention',\n",
              " 762: 'daily',\n",
              " 763: 'mr',\n",
              " 764: 'welcome',\n",
              " 765: 'tip',\n",
              " 766: 'celebrate',\n",
              " 767: 'fly',\n",
              " 768: 'using',\n",
              " 769: 'hungry',\n",
              " 770: 'why',\n",
              " 771: 'weather',\n",
              " 772: 'hello',\n",
              " 773: 'pick',\n",
              " 774: 'more',\n",
              " 775: 'empty',\n",
              " 776: 'inspiration',\n",
              " 777: 'simulation',\n",
              " 778: 'sale',\n",
              " 779: 'lame',\n",
              " 780: 'yea',\n",
              " 781: 'pas',\n",
              " 782: 'gettin',\n",
              " 783: 'quick',\n",
              " 784: 'seems',\n",
              " 785: 'met',\n",
              " 786: 'finger',\n",
              " 787: 'special',\n",
              " 788: 'stuck',\n",
              " 789: 'ratchet',\n",
              " 790: 'garden',\n",
              " 791: 'walking',\n",
              " 792: 'cannot',\n",
              " 793: 'oreo',\n",
              " 794: 'hardcore',\n",
              " 795: 'tgif',\n",
              " 796: 'toptags',\n",
              " 797: 'taste',\n",
              " 798: 'broken',\n",
              " 799: 'reading',\n",
              " 800: 'heart',\n",
              " 801: 'dirty',\n",
              " 802: 'hurt',\n",
              " 803: 'usa',\n",
              " 804: 'small',\n",
              " 805: 'for',\n",
              " 806: 'police',\n",
              " 807: 'clean',\n",
              " 808: 'drive',\n",
              " 809: 'final',\n",
              " 810: 'service',\n",
              " 811: 'am',\n",
              " 812: 'learn',\n",
              " 813: 'rain',\n",
              " 814: 'bday',\n",
              " 815: 'yesterday',\n",
              " 816: 'flag',\n",
              " 817: 'second',\n",
              " 818: 'easy',\n",
              " 819: 'moving',\n",
              " 820: 'success',\n",
              " 821: 'clothes',\n",
              " 822: 'huge',\n",
              " 823: 'weird',\n",
              " 824: 'hella',\n",
              " 825: 'kiss',\n",
              " 826: 'sit',\n",
              " 827: 'question',\n",
              " 828: 'yu',\n",
              " 829: 'cheat',\n",
              " 830: 'bought',\n",
              " 831: 'history',\n",
              " 832: 'asian',\n",
              " 833: 'thru',\n",
              " 834: 'round',\n",
              " 835: 'grow',\n",
              " 836: 'anxiety',\n",
              " 837: 'idea',\n",
              " 838: 'foot',\n",
              " 839: 'goodmorning',\n",
              " 840: 'vacation',\n",
              " 841: 'group',\n",
              " 842: 'lgbt',\n",
              " 843: 'join',\n",
              " 844: 'coffee',\n",
              " 845: 'park',\n",
              " 846: 'missing',\n",
              " 847: 'visit',\n",
              " 848: 'target',\n",
              " 849: 'telling',\n",
              " 850: 'my',\n",
              " 851: 'cake',\n",
              " 852: 'finished',\n",
              " 853: 'cantwait',\n",
              " 854: 'sense',\n",
              " 855: 'min',\n",
              " 856: 'hahaha',\n",
              " 857: 'college',\n",
              " 858: 'dear',\n",
              " 859: 'player',\n",
              " 860: 'inside',\n",
              " 861: 'ion',\n",
              " 862: 'halloween',\n",
              " 863: 'especially',\n",
              " 864: 'piece',\n",
              " 865: 'wonderful',\n",
              " 866: 'three',\n",
              " 867: 'fire',\n",
              " 868: 'realize',\n",
              " 869: 'issue',\n",
              " 870: 'teacher',\n",
              " 871: 'pizza',\n",
              " 872: 'action',\n",
              " 873: 'sea',\n",
              " 874: 'facebook',\n",
              " 875: 'reach',\n",
              " 876: 'safe',\n",
              " 877: 'na',\n",
              " 878: 'shy',\n",
              " 879: 'useful',\n",
              " 880: 'victim',\n",
              " 881: 'booked',\n",
              " 882: 'vine',\n",
              " 883: 'booty',\n",
              " 884: 'nation',\n",
              " 885: 'played',\n",
              " 886: 'internet',\n",
              " 887: 'naw',\n",
              " 888: 'town',\n",
              " 889: 'brexit',\n",
              " 890: 'thirsty',\n",
              " 891: 'flight',\n",
              " 892: 'worst',\n",
              " 893: 'term',\n",
              " 894: 'king',\n",
              " 895: 'message',\n",
              " 896: 'at',\n",
              " 897: 'clearly',\n",
              " 898: 'fast',\n",
              " 899: 'about',\n",
              " 900: 'horny',\n",
              " 901: 'bill',\n",
              " 902: 'dark',\n",
              " 903: 'able',\n",
              " 904: 'cheer',\n",
              " 905: 'ððððð',\n",
              " 906: 'exciting',\n",
              " 907: 'died',\n",
              " 908: 'case',\n",
              " 909: 'apple',\n",
              " 910: 'whore',\n",
              " 911: 'bit',\n",
              " 912: 'dollar',\n",
              " 913: 'award',\n",
              " 914: 'kick',\n",
              " 915: 'level',\n",
              " 916: 'iphone',\n",
              " 917: 'bar',\n",
              " 918: 'bunch',\n",
              " 919: 'drug',\n",
              " 920: 'loving',\n",
              " 921: 'track',\n",
              " 922: 'grade',\n",
              " 923: 'pray',\n",
              " 924: 'bye',\n",
              " 925: 'seat',\n",
              " 926: 'queen',\n",
              " 927: 'woke',\n",
              " 928: 'pathetic',\n",
              " 929: 'community',\n",
              " 930: 'step',\n",
              " 931: 'florida',\n",
              " 932: 'mock',\n",
              " 933: 'wine',\n",
              " 934: 'sky',\n",
              " 935: 'organization',\n",
              " 936: 'reached',\n",
              " 937: 'evening',\n",
              " 938: 'hill',\n",
              " 939: 'unless',\n",
              " 940: 'natural',\n",
              " 941: 'dawg',\n",
              " 942: 'seem',\n",
              " 943: 'ig',\n",
              " 944: 'nail',\n",
              " 945: 'definitely',\n",
              " 946: 'leg',\n",
              " 947: 'niggaz',\n",
              " 948: 'wont',\n",
              " 949: 'latest',\n",
              " 950: 'skin',\n",
              " 951: 'ring',\n",
              " 952: 'church',\n",
              " 953: 'deserve',\n",
              " 954: 'lonely',\n",
              " 955: 'online',\n",
              " 956: 'bless',\n",
              " 957: 'expect',\n",
              " 958: 'pig',\n",
              " 959: 'ice',\n",
              " 960: 'idiot',\n",
              " 961: 'exactly',\n",
              " 962: 'republican',\n",
              " 963: 'official',\n",
              " 964: 'suppo',\n",
              " 965: 'political',\n",
              " 966: 'wishing',\n",
              " 967: 'conce',\n",
              " 968: 'adventure',\n",
              " 969: 'deletetweets',\n",
              " 970: 'dope',\n",
              " 971: 'teen',\n",
              " 972: 'cock',\n",
              " 973: 'hillary',\n",
              " 974: 'til',\n",
              " 975: 'jew',\n",
              " 976: 'meeting',\n",
              " 977: 'momma',\n",
              " 978: 'afraid',\n",
              " 979: 'judge',\n",
              " 980: 'box',\n",
              " 981: 'despite',\n",
              " 982: 'tranny',\n",
              " 983: 'started',\n",
              " 984: 'claim',\n",
              " 985: 'taken',\n",
              " 986: 'nothin',\n",
              " 987: 'loss',\n",
              " 988: 'with',\n",
              " 989: 'paid',\n",
              " 990: 'age',\n",
              " 991: 'rap',\n",
              " 992: 'mama',\n",
              " 993: 'education',\n",
              " 994: 'tea',\n",
              " 995: 'mf',\n",
              " 996: 'annoying',\n",
              " 997: 'blow',\n",
              " 998: 'fresh',\n",
              " 999: 'makeup',\n",
              " 1000: 'hood',\n",
              " ...}"
            ]
          },
          "metadata": {},
          "execution_count": 26
        }
      ],
      "source": [
        "token.index_word"
      ]
    },
    {
      "cell_type": "code",
      "execution_count": null,
      "metadata": {
        "id": "YNcPMMucACmM"
      },
      "outputs": [],
      "source": [
        "token.texts_to_sequences(corpus)"
      ]
    },
    {
      "cell_type": "code",
      "execution_count": null,
      "metadata": {
        "colab": {
          "base_uri": "https://localhost:8080/"
        },
        "id": "bCT1zwwaAKB8",
        "outputId": "91b7f7fa-9a39-4685-d4e2-177d434f1786"
      },
      "outputs": [
        {
          "output_type": "stream",
          "name": "stdout",
          "text": [
            "There are 24156 words.\n"
          ]
        }
      ],
      "source": [
        "vocal = len(token.index_word)+1\n",
        "print('There are {} words.'.format(vocal))"
      ]
    },
    {
      "cell_type": "markdown",
      "metadata": {
        "id": "fSJsAWivGe5V"
      },
      "source": [
        "# Pad sequences & defining x and y"
      ]
    },
    {
      "cell_type": "code",
      "execution_count": null,
      "metadata": {
        "colab": {
          "base_uri": "https://localhost:8080/"
        },
        "id": "tGlAqecxGpGI",
        "outputId": "2cf9f0bc-7b46-4bc2-bf2f-7d025969fdd3"
      },
      "outputs": [
        {
          "output_type": "stream",
          "name": "stdout",
          "text": [
            "Done.\n"
          ]
        }
      ],
      "source": [
        "maxword = 30\n",
        "print('Done.')"
      ]
    },
    {
      "cell_type": "code",
      "execution_count": null,
      "metadata": {
        "colab": {
          "base_uri": "https://localhost:8080/"
        },
        "id": "bspKZOxLGy9e",
        "outputId": "22d5291e-dafe-4508-ff63-91c9d37d4882"
      },
      "outputs": [
        {
          "output_type": "stream",
          "name": "stdout",
          "text": [
            "X defined.\n"
          ]
        }
      ],
      "source": [
        "X = token.texts_to_sequences(corpus)\n",
        "X = pad_sequences(X, maxlen = maxword, padding='post')\n",
        "print('X defined.')"
      ]
    },
    {
      "cell_type": "code",
      "execution_count": null,
      "metadata": {
        "colab": {
          "base_uri": "https://localhost:8080/"
        },
        "id": "Z6eDi1_PG0td",
        "outputId": "5873d46f-cb43-4436-a6e9-b008bdff037d"
      },
      "outputs": [
        {
          "output_type": "execute_result",
          "data": {
            "text/plain": [
              "(20000, 30)"
            ]
          },
          "metadata": {},
          "execution_count": 14
        }
      ],
      "source": [
        "X.shape"
      ]
    },
    {
      "cell_type": "code",
      "execution_count": null,
      "metadata": {
        "colab": {
          "base_uri": "https://localhost:8080/"
        },
        "id": "JUf0rqlMG2kd",
        "outputId": "9fbd16d5-0177-48d7-df73-ca3774969747"
      },
      "outputs": [
        {
          "output_type": "stream",
          "name": "stdout",
          "text": [
            "y defined.\n"
          ]
        }
      ],
      "source": [
        "y = df['label'].values.tolist()\n",
        "print('y defined.')"
      ]
    },
    {
      "cell_type": "markdown",
      "metadata": {
        "id": "HNS1TZvuG_mL"
      },
      "source": [
        "Pengujian splitting training & testing data berdasarkan skenario. \n",
        "60:40\n",
        "75:25\n",
        "80:20\n",
        "dll."
      ]
    },
    {
      "cell_type": "code",
      "execution_count": null,
      "metadata": {
        "colab": {
          "base_uri": "https://localhost:8080/"
        },
        "id": "cw07IgenG4Gl",
        "outputId": "4e0ea153-1472-4d97-dd07-4b8f3d9bf96a"
      },
      "outputs": [
        {
          "output_type": "stream",
          "name": "stdout",
          "text": [
            "Training and testing data defined.\n"
          ]
        }
      ],
      "source": [
        "X_train, X_test, y_train, y_test = train_test_split(X, y, test_size= 0.3, random_state = 42)\n",
        "print('Training and testing data defined.')"
      ]
    },
    {
      "cell_type": "code",
      "execution_count": null,
      "metadata": {
        "colab": {
          "base_uri": "https://localhost:8080/"
        },
        "id": "HoJsgQt5MkN9",
        "outputId": "52e59b38-016f-4546-ec45-6c5657ac2442"
      },
      "outputs": [
        {
          "output_type": "stream",
          "name": "stdout",
          "text": [
            "x defined\n",
            "y defined.\n",
            "Training and testing data defined.\n"
          ]
        }
      ],
      "source": [
        "# Mendefinisikan X dan Y\n",
        "X = token.texts_to_sequences(corpus)\n",
        "X = pad_sequences(X, maxlen = 30, padding='post')\n",
        "print('x defined')\n",
        "\n",
        "y = df['label'].values.tolist()\n",
        "print('y defined.')\n",
        "\n",
        "# Splitting data\n",
        "X_train, X_test, y_train, y_test = train_test_split(X, y, test_size= 0.3, random_state = 42)\n",
        "print('Training and testing data defined.')"
      ]
    },
    {
      "cell_type": "markdown",
      "metadata": {
        "id": "Eoe-0fa1INnz"
      },
      "source": [
        "# Define embedding layer"
      ]
    },
    {
      "cell_type": "markdown",
      "metadata": {
        "id": "nvzaicF600VA"
      },
      "source": [
        "## Word2vec"
      ]
    },
    {
      "cell_type": "code",
      "execution_count": null,
      "metadata": {
        "colab": {
          "base_uri": "https://localhost:8080/"
        },
        "id": "DnW2py9a16hI",
        "outputId": "2c34a3e1-bf25-45e7-baf4-59fdfd399e3a"
      },
      "outputs": [
        {
          "output_type": "stream",
          "name": "stderr",
          "text": [
            "2022-07-18 11:06:15,817 : INFO : loading projection weights from drive/MyDrive/dataset/w2vModel.bin\n",
            "2022-07-18 11:06:19,238 : INFO : loaded (150000, 300) matrix from drive/MyDrive/dataset/w2vModel.bin\n"
          ]
        },
        {
          "output_type": "stream",
          "name": "stdout",
          "text": [
            "Model word2vec loaded.\n"
          ]
        }
      ],
      "source": [
        "#w2vModel = gensim.models.keyedvectors.load_word2vec_format('GoogleNews-vectors-negative300.bin', binary=True, limit=150000)\n",
        "#w2vModel.save_word2vec_format('w2vModel.bin', binary=True)\n",
        "\n",
        "pretrainedpath = 'drive/MyDrive/dataset/w2vModel.bin'\n",
        "w2vmodel = KeyedVectors.load_word2vec_format(pretrainedpath, binary=True)\n",
        "print('Model word2vec loaded.')"
      ]
    },
    {
      "cell_type": "code",
      "execution_count": null,
      "metadata": {
        "colab": {
          "base_uri": "https://localhost:8080/"
        },
        "id": "XmEDSMrRIHHA",
        "outputId": "46112fb0-741c-459c-e905-9703253e1224"
      },
      "outputs": [
        {
          "output_type": "stream",
          "name": "stdout",
          "text": [
            "Embedding layer defined.\n"
          ]
        }
      ],
      "source": [
        "embedding_layer = Embedding(input_dim=150000, output_dim=300, weights=[w2vmodel.vectors], \n",
        "                            input_length=X.shape[1])\n",
        "print('Embedding layer defined.')"
      ]
    },
    {
      "cell_type": "markdown",
      "metadata": {
        "id": "MVaxFkEaJDV9"
      },
      "source": [
        "# Build CNN Model"
      ]
    },
    {
      "cell_type": "code",
      "source": [
        "model = Sequential()\n",
        "model.add(embedding_layer)\n",
        "model.add(BatchNormalization())\n",
        "model.add(Dropout(0.4))\n",
        "model.add(Conv1D(filters=128, kernel_size=7, padding='same', activation='relu', kernel_regularizer=regularizers.l2(l=0.01),\n",
        "                 kernel_initializer='he_normal'))\n",
        "model.add(BatchNormalization())\n",
        "model.add(Dropout(0.4))\n",
        "model.add(Conv1D(filters=128, kernel_size=3, padding='same', activation='relu', kernel_regularizer=regularizers.l2(l=0.01),\n",
        "                 kernel_initializer='he_normal'))\n",
        "model.add(MaxPooling1D(pool_size=3))\n",
        "model.add(BatchNormalization())\n",
        "model.add(Dropout(0.4))\n",
        "model.add(Flatten())\n",
        "model.add(BatchNormalization())\n",
        "model.add(Dropout(0.4))\n",
        "model.add(Dense(128, activation='relu'))\n",
        "model.add(BatchNormalization())\n",
        "model.add(Dropout(0.4))\n",
        "model.add(Dense(32, activation = 'relu'))\n",
        "model.add(BatchNormalization())\n",
        "model.add(Dropout(0.5))\n",
        "model.add(Dense(1, activation='sigmoid'))\n",
        "\n",
        "adam = Adam(lr=0.0001, beta_1=0.9, beta_2=0.999, epsilon=1e-08, decay=0.0)\n",
        "model.compile(loss='binary_crossentropy', optimizer='adam', metrics=['accuracy'])\n",
        "model.summary()"
      ],
      "metadata": {
        "colab": {
          "base_uri": "https://localhost:8080/"
        },
        "id": "Iv5kJLYq4rpB",
        "outputId": "e21055a1-5fa1-433c-ff4f-cfcd675aea84"
      },
      "execution_count": null,
      "outputs": [
        {
          "output_type": "stream",
          "name": "stdout",
          "text": [
            "Model: \"sequential_14\"\n",
            "_________________________________________________________________\n",
            " Layer (type)                Output Shape              Param #   \n",
            "=================================================================\n",
            " embedding (Embedding)       (None, 30, 300)           45000000  \n",
            "                                                                 \n",
            " batch_normalization_41 (Bat  (None, 30, 300)          1200      \n",
            " chNormalization)                                                \n",
            "                                                                 \n",
            " dropout_43 (Dropout)        (None, 30, 300)           0         \n",
            "                                                                 \n",
            " conv1d_23 (Conv1D)          (None, 30, 128)           268928    \n",
            "                                                                 \n",
            " batch_normalization_42 (Bat  (None, 30, 128)          512       \n",
            " chNormalization)                                                \n",
            "                                                                 \n",
            " dropout_44 (Dropout)        (None, 30, 128)           0         \n",
            "                                                                 \n",
            " conv1d_24 (Conv1D)          (None, 30, 128)           49280     \n",
            "                                                                 \n",
            " max_pooling1d_16 (MaxPoolin  (None, 10, 128)          0         \n",
            " g1D)                                                            \n",
            "                                                                 \n",
            " batch_normalization_43 (Bat  (None, 10, 128)          512       \n",
            " chNormalization)                                                \n",
            "                                                                 \n",
            " dropout_45 (Dropout)        (None, 10, 128)           0         \n",
            "                                                                 \n",
            " flatten_13 (Flatten)        (None, 1280)              0         \n",
            "                                                                 \n",
            " batch_normalization_44 (Bat  (None, 1280)             5120      \n",
            " chNormalization)                                                \n",
            "                                                                 \n",
            " dropout_46 (Dropout)        (None, 1280)              0         \n",
            "                                                                 \n",
            " dense_29 (Dense)            (None, 128)               163968    \n",
            "                                                                 \n",
            " batch_normalization_45 (Bat  (None, 128)              512       \n",
            " chNormalization)                                                \n",
            "                                                                 \n",
            " dropout_47 (Dropout)        (None, 128)               0         \n",
            "                                                                 \n",
            " dense_30 (Dense)            (None, 32)                4128      \n",
            "                                                                 \n",
            " batch_normalization_46 (Bat  (None, 32)               128       \n",
            " chNormalization)                                                \n",
            "                                                                 \n",
            " dropout_48 (Dropout)        (None, 32)                0         \n",
            "                                                                 \n",
            " dense_31 (Dense)            (None, 1)                 33        \n",
            "                                                                 \n",
            "=================================================================\n",
            "Total params: 45,494,321\n",
            "Trainable params: 45,490,329\n",
            "Non-trainable params: 3,992\n",
            "_________________________________________________________________\n"
          ]
        },
        {
          "output_type": "stream",
          "name": "stderr",
          "text": [
            "/usr/local/lib/python3.7/dist-packages/keras/optimizer_v2/adam.py:105: UserWarning: The `lr` argument is deprecated, use `learning_rate` instead.\n",
            "  super(Adam, self).__init__(name, **kwargs)\n"
          ]
        }
      ]
    },
    {
      "cell_type": "code",
      "execution_count": null,
      "metadata": {
        "id": "ift6o6Tbratd"
      },
      "outputs": [],
      "source": [
        "from tensorflow.keras.layers import BatchNormalization"
      ]
    },
    {
      "cell_type": "code",
      "execution_count": null,
      "metadata": {
        "colab": {
          "base_uri": "https://localhost:8080/"
        },
        "id": "ShFXM3mcJFRG",
        "outputId": "c24b7f75-3c32-493b-f3f0-9f15bb402ec9"
      },
      "outputs": [
        {
          "output_type": "stream",
          "name": "stdout",
          "text": [
            "Embedding layer defined.\n",
            "training CNN ...\n",
            "Model: \"sequential_4\"\n",
            "_________________________________________________________________\n",
            " Layer (type)                Output Shape              Param #   \n",
            "=================================================================\n",
            " embedding_5 (Embedding)     (None, 30, 300)           45000000  \n",
            "                                                                 \n",
            " batch_normalization_3 (Batc  (None, 30, 300)          1200      \n",
            " hNormalization)                                                 \n",
            "                                                                 \n",
            " conv1d_3 (Conv1D)           (None, 30, 128)           268928    \n",
            "                                                                 \n",
            " max_pooling1d_1 (MaxPooling  (None, 10, 128)          0         \n",
            " 1D)                                                             \n",
            "                                                                 \n",
            " dropout_6 (Dropout)         (None, 10, 128)           0         \n",
            "                                                                 \n",
            " flatten_1 (Flatten)         (None, 1280)              0         \n",
            "                                                                 \n",
            " dense_3 (Dense)             (None, 256)               327936    \n",
            "                                                                 \n",
            " dense_4 (Dense)             (None, 1)                 257       \n",
            "                                                                 \n",
            "=================================================================\n",
            "Total params: 45,598,321\n",
            "Trainable params: 45,597,721\n",
            "Non-trainable params: 600\n",
            "_________________________________________________________________\n"
          ]
        },
        {
          "output_type": "stream",
          "name": "stderr",
          "text": [
            "/usr/local/lib/python3.7/dist-packages/keras/optimizer_v2/adam.py:105: UserWarning: The `lr` argument is deprecated, use `learning_rate` instead.\n",
            "  super(Adam, self).__init__(name, **kwargs)\n"
          ]
        }
      ],
      "source": [
        "embedding_layer = Embedding(input_dim=150000, output_dim=300, weights=[w2vmodel.vectors], \n",
        "                            input_length=X.shape[1])\n",
        "print('Embedding layer defined.')\n",
        "\n",
        "print(\"training CNN ...\")\n",
        "model = Sequential()\n",
        "\n",
        "'''EMBEDDING LAYER'''\n",
        "model.add(embedding_layer)\n",
        "\n",
        "'''CONVOLUTIONAL & POOLING LAYER'''\n",
        "model.add(BatchNormalization())\n",
        "#model.add(Dropout(0.3))\n",
        "model.add(Conv1D(128,7, activation='relu', padding='same'))\n",
        "#model.add(GlobalMaxPooling1D())\n",
        "model.add(MaxPooling1D(pool_size=3))\n",
        "#model.add(BatchNormalization())\n",
        "model.add(Dropout(0.5))\n",
        "model.add(Flatten())\n",
        "\n",
        "'''DENSE LAYER/FULLY CONNECTED LAYER(?)'''\n",
        "model.add(Dense(256, activation='relu'))\n",
        "#model.add(Dense(2, activation='softmax'))\n",
        "model.add(Dense(1, activation='softmax')) # output\n",
        "\n",
        "'''OPTIMIZER FUNCTION '''\n",
        "adam = Adam(lr=0.0001, beta_1=0.9, beta_2=0.999, epsilon=1e-08, decay=0.0)\n",
        "#model.compile(loss='sparse_categorical_crossentropy', optimizer=adam, metrics=['accuracy'])\n",
        "#model.compile(optimizer='adam',loss='categorical_crossentropy', metrics=['accuracy'])\n",
        "model.compile(optimizer='adam',loss='binary_crossentropy', metrics=['accuracy'])\n",
        "model.summary()"
      ]
    },
    {
      "cell_type": "code",
      "execution_count": null,
      "metadata": {
        "id": "3cAdSXoKz5M9"
      },
      "outputs": [],
      "source": [
        "from tensorflow.keras.losses import SparseCategoricalCrossentropy"
      ]
    },
    {
      "cell_type": "markdown",
      "metadata": {
        "id": "frmPXGOQJR1m"
      },
      "source": [
        "# Fitting CNN Model"
      ]
    },
    {
      "cell_type": "code",
      "execution_count": null,
      "metadata": {
        "colab": {
          "base_uri": "https://localhost:8080/"
        },
        "id": "1OCMiz1iJT37",
        "outputId": "b4743e7f-9d7f-4447-d827-97f11b37bbb2"
      },
      "outputs": [
        {
          "output_type": "stream",
          "name": "stdout",
          "text": [
            "Done.\n"
          ]
        }
      ],
      "source": [
        "X_train = np.array(X_train)\n",
        "y_train = np.array(y_train)\n",
        "X_test = np.array(X_test)\n",
        "y_test = np.array(y_test)\n",
        "\n",
        "print('Done.')"
      ]
    },
    {
      "cell_type": "code",
      "execution_count": null,
      "metadata": {
        "colab": {
          "base_uri": "https://localhost:8080/"
        },
        "id": "E-VLiwbAJVD2",
        "outputId": "2c093bd7-b0d5-4823-d48a-7aa00543067e"
      },
      "outputs": [
        {
          "output_type": "stream",
          "name": "stdout",
          "text": [
            "Jumlah training set: 14000\n",
            "Jumlah testing set: 6000\n"
          ]
        }
      ],
      "source": [
        "print('Jumlah training set:', len(X_train))\n",
        "print('Jumlah testing set:', len(X_test))"
      ]
    },
    {
      "cell_type": "code",
      "execution_count": null,
      "metadata": {
        "colab": {
          "base_uri": "https://localhost:8080/"
        },
        "id": "GeIX8CUtJXT3",
        "outputId": "e835025c-4bb1-49bb-bb2d-c2622f4f8af4"
      },
      "outputs": [
        {
          "output_type": "stream",
          "name": "stdout",
          "text": [
            "Training True: 6983 (49.88%)\n",
            "Training False: 7017 (50.12%)\n",
            "\n",
            "Testing True: 3017 (50.28%)\n",
            "Testing False: 2983 (49.72%)\n"
          ]
        }
      ],
      "source": [
        "print(\"Training True: {0} ({1:2.2f}%)\".format(len(y_train[y_train[:] == 1]), (len(y_train[y_train[:] == 1])/len(y_train)*100.0)))\n",
        "print(\"Training False: {0} ({1:2.2f}%)\\n\".format(len(y_train[y_train[:] == 0]), (len(y_train[y_train[:] == 0])/len(y_train)*100.0)))\n",
        "\n",
        "print(\"Testing True: {0} ({1:2.2f}%)\".format(len(y_test[y_test[:] == 1]), (len(y_test[y_test[:] == 1])/len(y_test)*100.0)))\n",
        "print(\"Testing False: {0} ({1:2.2f}%)\".format(len(y_test[y_test[:] == 0]), (len(y_test[y_test[:] == 0])/len(y_test)*100.0)))"
      ]
    },
    {
      "cell_type": "code",
      "execution_count": null,
      "metadata": {
        "colab": {
          "base_uri": "https://localhost:8080/",
          "height": 380
        },
        "id": "VhuIuqMJJa0Q",
        "outputId": "7e64f80c-153d-4fc4-b86c-5de9557fb511"
      },
      "outputs": [
        {
          "output_type": "stream",
          "name": "stdout",
          "text": [
            "Epoch 1/5\n",
            " 92/175 [==============>...............] - ETA: 44s - loss: 0.2658 - accuracy: 0.8920"
          ]
        },
        {
          "output_type": "error",
          "ename": "KeyboardInterrupt",
          "evalue": "ignored",
          "traceback": [
            "\u001b[0;31m---------------------------------------------------------------------------\u001b[0m",
            "\u001b[0;31mKeyboardInterrupt\u001b[0m                         Traceback (most recent call last)",
            "\u001b[0;32m<ipython-input-26-bc65b1c2b7a7>\u001b[0m in \u001b[0;36m<module>\u001b[0;34m()\u001b[0m\n\u001b[1;32m      1\u001b[0m \u001b[0mbatch_size\u001b[0m \u001b[0;34m=\u001b[0m \u001b[0;36m64\u001b[0m\u001b[0;34m\u001b[0m\u001b[0;34m\u001b[0m\u001b[0m\n\u001b[0;32m----> 2\u001b[0;31m \u001b[0mmodel\u001b[0m\u001b[0;34m.\u001b[0m\u001b[0mfit\u001b[0m\u001b[0;34m(\u001b[0m\u001b[0mX_train\u001b[0m\u001b[0;34m,\u001b[0m \u001b[0my_train\u001b[0m\u001b[0;34m,\u001b[0m \u001b[0mepochs\u001b[0m\u001b[0;34m=\u001b[0m\u001b[0;36m5\u001b[0m\u001b[0;34m,\u001b[0m \u001b[0mvalidation_split\u001b[0m\u001b[0;34m=\u001b[0m\u001b[0;36m0.2\u001b[0m\u001b[0;34m,\u001b[0m \u001b[0mbatch_size\u001b[0m\u001b[0;34m=\u001b[0m\u001b[0mbatch_size\u001b[0m\u001b[0;34m)\u001b[0m\u001b[0;34m\u001b[0m\u001b[0;34m\u001b[0m\u001b[0m\n\u001b[0m",
            "\u001b[0;32m/usr/local/lib/python3.7/dist-packages/keras/utils/traceback_utils.py\u001b[0m in \u001b[0;36merror_handler\u001b[0;34m(*args, **kwargs)\u001b[0m\n\u001b[1;32m     62\u001b[0m     \u001b[0mfiltered_tb\u001b[0m \u001b[0;34m=\u001b[0m \u001b[0;32mNone\u001b[0m\u001b[0;34m\u001b[0m\u001b[0;34m\u001b[0m\u001b[0m\n\u001b[1;32m     63\u001b[0m     \u001b[0;32mtry\u001b[0m\u001b[0;34m:\u001b[0m\u001b[0;34m\u001b[0m\u001b[0;34m\u001b[0m\u001b[0m\n\u001b[0;32m---> 64\u001b[0;31m       \u001b[0;32mreturn\u001b[0m \u001b[0mfn\u001b[0m\u001b[0;34m(\u001b[0m\u001b[0;34m*\u001b[0m\u001b[0margs\u001b[0m\u001b[0;34m,\u001b[0m \u001b[0;34m**\u001b[0m\u001b[0mkwargs\u001b[0m\u001b[0;34m)\u001b[0m\u001b[0;34m\u001b[0m\u001b[0;34m\u001b[0m\u001b[0m\n\u001b[0m\u001b[1;32m     65\u001b[0m     \u001b[0;32mexcept\u001b[0m \u001b[0mException\u001b[0m \u001b[0;32mas\u001b[0m \u001b[0me\u001b[0m\u001b[0;34m:\u001b[0m  \u001b[0;31m# pylint: disable=broad-except\u001b[0m\u001b[0;34m\u001b[0m\u001b[0;34m\u001b[0m\u001b[0m\n\u001b[1;32m     66\u001b[0m       \u001b[0mfiltered_tb\u001b[0m \u001b[0;34m=\u001b[0m \u001b[0m_process_traceback_frames\u001b[0m\u001b[0;34m(\u001b[0m\u001b[0me\u001b[0m\u001b[0;34m.\u001b[0m\u001b[0m__traceback__\u001b[0m\u001b[0;34m)\u001b[0m\u001b[0;34m\u001b[0m\u001b[0;34m\u001b[0m\u001b[0m\n",
            "\u001b[0;32m/usr/local/lib/python3.7/dist-packages/keras/engine/training.py\u001b[0m in \u001b[0;36mfit\u001b[0;34m(self, x, y, batch_size, epochs, verbose, callbacks, validation_split, validation_data, shuffle, class_weight, sample_weight, initial_epoch, steps_per_epoch, validation_steps, validation_batch_size, validation_freq, max_queue_size, workers, use_multiprocessing)\u001b[0m\n\u001b[1;32m   1382\u001b[0m                 _r=1):\n\u001b[1;32m   1383\u001b[0m               \u001b[0mcallbacks\u001b[0m\u001b[0;34m.\u001b[0m\u001b[0mon_train_batch_begin\u001b[0m\u001b[0;34m(\u001b[0m\u001b[0mstep\u001b[0m\u001b[0;34m)\u001b[0m\u001b[0;34m\u001b[0m\u001b[0;34m\u001b[0m\u001b[0m\n\u001b[0;32m-> 1384\u001b[0;31m               \u001b[0mtmp_logs\u001b[0m \u001b[0;34m=\u001b[0m \u001b[0mself\u001b[0m\u001b[0;34m.\u001b[0m\u001b[0mtrain_function\u001b[0m\u001b[0;34m(\u001b[0m\u001b[0miterator\u001b[0m\u001b[0;34m)\u001b[0m\u001b[0;34m\u001b[0m\u001b[0;34m\u001b[0m\u001b[0m\n\u001b[0m\u001b[1;32m   1385\u001b[0m               \u001b[0;32mif\u001b[0m \u001b[0mdata_handler\u001b[0m\u001b[0;34m.\u001b[0m\u001b[0mshould_sync\u001b[0m\u001b[0;34m:\u001b[0m\u001b[0;34m\u001b[0m\u001b[0;34m\u001b[0m\u001b[0m\n\u001b[1;32m   1386\u001b[0m                 \u001b[0mcontext\u001b[0m\u001b[0;34m.\u001b[0m\u001b[0masync_wait\u001b[0m\u001b[0;34m(\u001b[0m\u001b[0;34m)\u001b[0m\u001b[0;34m\u001b[0m\u001b[0;34m\u001b[0m\u001b[0m\n",
            "\u001b[0;32m/usr/local/lib/python3.7/dist-packages/tensorflow/python/util/traceback_utils.py\u001b[0m in \u001b[0;36merror_handler\u001b[0;34m(*args, **kwargs)\u001b[0m\n\u001b[1;32m    148\u001b[0m     \u001b[0mfiltered_tb\u001b[0m \u001b[0;34m=\u001b[0m \u001b[0;32mNone\u001b[0m\u001b[0;34m\u001b[0m\u001b[0;34m\u001b[0m\u001b[0m\n\u001b[1;32m    149\u001b[0m     \u001b[0;32mtry\u001b[0m\u001b[0;34m:\u001b[0m\u001b[0;34m\u001b[0m\u001b[0;34m\u001b[0m\u001b[0m\n\u001b[0;32m--> 150\u001b[0;31m       \u001b[0;32mreturn\u001b[0m \u001b[0mfn\u001b[0m\u001b[0;34m(\u001b[0m\u001b[0;34m*\u001b[0m\u001b[0margs\u001b[0m\u001b[0;34m,\u001b[0m \u001b[0;34m**\u001b[0m\u001b[0mkwargs\u001b[0m\u001b[0;34m)\u001b[0m\u001b[0;34m\u001b[0m\u001b[0;34m\u001b[0m\u001b[0m\n\u001b[0m\u001b[1;32m    151\u001b[0m     \u001b[0;32mexcept\u001b[0m \u001b[0mException\u001b[0m \u001b[0;32mas\u001b[0m \u001b[0me\u001b[0m\u001b[0;34m:\u001b[0m\u001b[0;34m\u001b[0m\u001b[0;34m\u001b[0m\u001b[0m\n\u001b[1;32m    152\u001b[0m       \u001b[0mfiltered_tb\u001b[0m \u001b[0;34m=\u001b[0m \u001b[0m_process_traceback_frames\u001b[0m\u001b[0;34m(\u001b[0m\u001b[0me\u001b[0m\u001b[0;34m.\u001b[0m\u001b[0m__traceback__\u001b[0m\u001b[0;34m)\u001b[0m\u001b[0;34m\u001b[0m\u001b[0;34m\u001b[0m\u001b[0m\n",
            "\u001b[0;32m/usr/local/lib/python3.7/dist-packages/tensorflow/python/eager/def_function.py\u001b[0m in \u001b[0;36m__call__\u001b[0;34m(self, *args, **kwds)\u001b[0m\n\u001b[1;32m    913\u001b[0m \u001b[0;34m\u001b[0m\u001b[0m\n\u001b[1;32m    914\u001b[0m       \u001b[0;32mwith\u001b[0m \u001b[0mOptionalXlaContext\u001b[0m\u001b[0;34m(\u001b[0m\u001b[0mself\u001b[0m\u001b[0;34m.\u001b[0m\u001b[0m_jit_compile\u001b[0m\u001b[0;34m)\u001b[0m\u001b[0;34m:\u001b[0m\u001b[0;34m\u001b[0m\u001b[0;34m\u001b[0m\u001b[0m\n\u001b[0;32m--> 915\u001b[0;31m         \u001b[0mresult\u001b[0m \u001b[0;34m=\u001b[0m \u001b[0mself\u001b[0m\u001b[0;34m.\u001b[0m\u001b[0m_call\u001b[0m\u001b[0;34m(\u001b[0m\u001b[0;34m*\u001b[0m\u001b[0margs\u001b[0m\u001b[0;34m,\u001b[0m \u001b[0;34m**\u001b[0m\u001b[0mkwds\u001b[0m\u001b[0;34m)\u001b[0m\u001b[0;34m\u001b[0m\u001b[0;34m\u001b[0m\u001b[0m\n\u001b[0m\u001b[1;32m    916\u001b[0m \u001b[0;34m\u001b[0m\u001b[0m\n\u001b[1;32m    917\u001b[0m       \u001b[0mnew_tracing_count\u001b[0m \u001b[0;34m=\u001b[0m \u001b[0mself\u001b[0m\u001b[0;34m.\u001b[0m\u001b[0mexperimental_get_tracing_count\u001b[0m\u001b[0;34m(\u001b[0m\u001b[0;34m)\u001b[0m\u001b[0;34m\u001b[0m\u001b[0;34m\u001b[0m\u001b[0m\n",
            "\u001b[0;32m/usr/local/lib/python3.7/dist-packages/tensorflow/python/eager/def_function.py\u001b[0m in \u001b[0;36m_call\u001b[0;34m(self, *args, **kwds)\u001b[0m\n\u001b[1;32m    945\u001b[0m       \u001b[0;31m# In this case we have created variables on the first call, so we run the\u001b[0m\u001b[0;34m\u001b[0m\u001b[0;34m\u001b[0m\u001b[0;34m\u001b[0m\u001b[0m\n\u001b[1;32m    946\u001b[0m       \u001b[0;31m# defunned version which is guaranteed to never create variables.\u001b[0m\u001b[0;34m\u001b[0m\u001b[0;34m\u001b[0m\u001b[0;34m\u001b[0m\u001b[0m\n\u001b[0;32m--> 947\u001b[0;31m       \u001b[0;32mreturn\u001b[0m \u001b[0mself\u001b[0m\u001b[0;34m.\u001b[0m\u001b[0m_stateless_fn\u001b[0m\u001b[0;34m(\u001b[0m\u001b[0;34m*\u001b[0m\u001b[0margs\u001b[0m\u001b[0;34m,\u001b[0m \u001b[0;34m**\u001b[0m\u001b[0mkwds\u001b[0m\u001b[0;34m)\u001b[0m  \u001b[0;31m# pylint: disable=not-callable\u001b[0m\u001b[0;34m\u001b[0m\u001b[0;34m\u001b[0m\u001b[0m\n\u001b[0m\u001b[1;32m    948\u001b[0m     \u001b[0;32melif\u001b[0m \u001b[0mself\u001b[0m\u001b[0;34m.\u001b[0m\u001b[0m_stateful_fn\u001b[0m \u001b[0;32mis\u001b[0m \u001b[0;32mnot\u001b[0m \u001b[0;32mNone\u001b[0m\u001b[0;34m:\u001b[0m\u001b[0;34m\u001b[0m\u001b[0;34m\u001b[0m\u001b[0m\n\u001b[1;32m    949\u001b[0m       \u001b[0;31m# Release the lock early so that multiple threads can perform the call\u001b[0m\u001b[0;34m\u001b[0m\u001b[0;34m\u001b[0m\u001b[0;34m\u001b[0m\u001b[0m\n",
            "\u001b[0;32m/usr/local/lib/python3.7/dist-packages/tensorflow/python/eager/function.py\u001b[0m in \u001b[0;36m__call__\u001b[0;34m(self, *args, **kwargs)\u001b[0m\n\u001b[1;32m   2955\u001b[0m        filtered_flat_args) = self._maybe_define_function(args, kwargs)\n\u001b[1;32m   2956\u001b[0m     return graph_function._call_flat(\n\u001b[0;32m-> 2957\u001b[0;31m         filtered_flat_args, captured_inputs=graph_function.captured_inputs)  # pylint: disable=protected-access\n\u001b[0m\u001b[1;32m   2958\u001b[0m \u001b[0;34m\u001b[0m\u001b[0m\n\u001b[1;32m   2959\u001b[0m   \u001b[0;34m@\u001b[0m\u001b[0mproperty\u001b[0m\u001b[0;34m\u001b[0m\u001b[0;34m\u001b[0m\u001b[0m\n",
            "\u001b[0;32m/usr/local/lib/python3.7/dist-packages/tensorflow/python/eager/function.py\u001b[0m in \u001b[0;36m_call_flat\u001b[0;34m(self, args, captured_inputs, cancellation_manager)\u001b[0m\n\u001b[1;32m   1852\u001b[0m       \u001b[0;31m# No tape is watching; skip to running the function.\u001b[0m\u001b[0;34m\u001b[0m\u001b[0;34m\u001b[0m\u001b[0;34m\u001b[0m\u001b[0m\n\u001b[1;32m   1853\u001b[0m       return self._build_call_outputs(self._inference_function.call(\n\u001b[0;32m-> 1854\u001b[0;31m           ctx, args, cancellation_manager=cancellation_manager))\n\u001b[0m\u001b[1;32m   1855\u001b[0m     forward_backward = self._select_forward_and_backward_functions(\n\u001b[1;32m   1856\u001b[0m         \u001b[0margs\u001b[0m\u001b[0;34m,\u001b[0m\u001b[0;34m\u001b[0m\u001b[0;34m\u001b[0m\u001b[0m\n",
            "\u001b[0;32m/usr/local/lib/python3.7/dist-packages/tensorflow/python/eager/function.py\u001b[0m in \u001b[0;36mcall\u001b[0;34m(self, ctx, args, cancellation_manager)\u001b[0m\n\u001b[1;32m    502\u001b[0m               \u001b[0minputs\u001b[0m\u001b[0;34m=\u001b[0m\u001b[0margs\u001b[0m\u001b[0;34m,\u001b[0m\u001b[0;34m\u001b[0m\u001b[0;34m\u001b[0m\u001b[0m\n\u001b[1;32m    503\u001b[0m               \u001b[0mattrs\u001b[0m\u001b[0;34m=\u001b[0m\u001b[0mattrs\u001b[0m\u001b[0;34m,\u001b[0m\u001b[0;34m\u001b[0m\u001b[0;34m\u001b[0m\u001b[0m\n\u001b[0;32m--> 504\u001b[0;31m               ctx=ctx)\n\u001b[0m\u001b[1;32m    505\u001b[0m         \u001b[0;32melse\u001b[0m\u001b[0;34m:\u001b[0m\u001b[0;34m\u001b[0m\u001b[0;34m\u001b[0m\u001b[0m\n\u001b[1;32m    506\u001b[0m           outputs = execute.execute_with_cancellation(\n",
            "\u001b[0;32m/usr/local/lib/python3.7/dist-packages/tensorflow/python/eager/execute.py\u001b[0m in \u001b[0;36mquick_execute\u001b[0;34m(op_name, num_outputs, inputs, attrs, ctx, name)\u001b[0m\n\u001b[1;32m     53\u001b[0m     \u001b[0mctx\u001b[0m\u001b[0;34m.\u001b[0m\u001b[0mensure_initialized\u001b[0m\u001b[0;34m(\u001b[0m\u001b[0;34m)\u001b[0m\u001b[0;34m\u001b[0m\u001b[0;34m\u001b[0m\u001b[0m\n\u001b[1;32m     54\u001b[0m     tensors = pywrap_tfe.TFE_Py_Execute(ctx._handle, device_name, op_name,\n\u001b[0;32m---> 55\u001b[0;31m                                         inputs, attrs, num_outputs)\n\u001b[0m\u001b[1;32m     56\u001b[0m   \u001b[0;32mexcept\u001b[0m \u001b[0mcore\u001b[0m\u001b[0;34m.\u001b[0m\u001b[0m_NotOkStatusException\u001b[0m \u001b[0;32mas\u001b[0m \u001b[0me\u001b[0m\u001b[0;34m:\u001b[0m\u001b[0;34m\u001b[0m\u001b[0;34m\u001b[0m\u001b[0m\n\u001b[1;32m     57\u001b[0m     \u001b[0;32mif\u001b[0m \u001b[0mname\u001b[0m \u001b[0;32mis\u001b[0m \u001b[0;32mnot\u001b[0m \u001b[0;32mNone\u001b[0m\u001b[0;34m:\u001b[0m\u001b[0;34m\u001b[0m\u001b[0;34m\u001b[0m\u001b[0m\n",
            "\u001b[0;31mKeyboardInterrupt\u001b[0m: "
          ]
        }
      ],
      "source": [
        "batch_size = 64\n",
        "model.fit(X_train, y_train, epochs=5, validation_split=0.2, batch_size=batch_size)"
      ]
    },
    {
      "cell_type": "code",
      "source": [
        "dataset = pd.read_csv(r'https://github.com/dipanjanS/nlp_workshop_dhs18/raw/master/Unit%2011%20-%20Sentiment%20Analysis%20-%20Unsupervised%20Learning/movie_reviews.csv.bz2', compression='bz2')\n",
        "dataset['sentiment'].value_counts()"
      ],
      "metadata": {
        "colab": {
          "base_uri": "https://localhost:8080/"
        },
        "id": "DlOC91GW4WZu",
        "outputId": "0b9f876f-5132-4f43-bf4f-42850492d793"
      },
      "execution_count": null,
      "outputs": [
        {
          "output_type": "execute_result",
          "data": {
            "text/plain": [
              "positive    25000\n",
              "negative    25000\n",
              "Name: sentiment, dtype: int64"
            ]
          },
          "metadata": {},
          "execution_count": 24
        }
      ]
    },
    {
      "cell_type": "markdown",
      "metadata": {
        "id": "KHtuRSwML4QS"
      },
      "source": [
        "# Model evaluation"
      ]
    },
    {
      "cell_type": "code",
      "execution_count": null,
      "metadata": {
        "colab": {
          "base_uri": "https://localhost:8080/"
        },
        "id": "BUuQWnzfL5XQ",
        "outputId": "7042f95c-b04e-40fe-c0c0-775b840dcec4"
      },
      "outputs": [
        {
          "name": "stdout",
          "output_type": "stream",
          "text": [
            "188/188 [==============================] - 2s 8ms/step - loss: 0.2193 - accuracy: 0.9203\n",
            "Model loss: 0.21932008862495422\n",
            "Model acc: 0.9203333258628845\n"
          ]
        }
      ],
      "source": [
        "loss, acc = model.evaluate(X_test, y_test, batch_size=batch_size)\n",
        "print('Model loss: {}'.format(loss))\n",
        "print('Model acc: {}'.format(acc))"
      ]
    },
    {
      "cell_type": "code",
      "execution_count": null,
      "metadata": {
        "colab": {
          "base_uri": "https://localhost:8080/"
        },
        "id": "EialDM-WL79Q",
        "outputId": "f56d2bc4-07b4-4807-c41e-716de56ed1c6"
      },
      "outputs": [
        {
          "name": "stdout",
          "output_type": "stream",
          "text": [
            "Prediction done.\n"
          ]
        }
      ],
      "source": [
        "y_pred = model.predict(X_test)\n",
        "print('Prediction done.')"
      ]
    },
    {
      "cell_type": "code",
      "execution_count": null,
      "metadata": {
        "id": "YBxwEC6FMA9c"
      },
      "outputs": [],
      "source": [
        "labels = [0,1]"
      ]
    },
    {
      "cell_type": "code",
      "execution_count": null,
      "metadata": {
        "id": "NTZRLd6wMDdw"
      },
      "outputs": [],
      "source": [
        "labels = [0,1]\n",
        "prediction_labels=[]\n",
        "for p in y_pred:\n",
        "    prediction_labels.append(labels[np.argmax(p)])"
      ]
    },
    {
      "cell_type": "code",
      "execution_count": null,
      "metadata": {
        "colab": {
          "base_uri": "https://localhost:8080/"
        },
        "id": "JFEofM6RMFAX",
        "outputId": "f3ed9d28-546a-48e1-af10-8889419788fe"
      },
      "outputs": [
        {
          "data": {
            "text/plain": [
              "0.9203333333333333"
            ]
          },
          "execution_count": 39,
          "metadata": {},
          "output_type": "execute_result"
        }
      ],
      "source": [
        "sum(y_test==prediction_labels)/len(prediction_labels)"
      ]
    },
    {
      "cell_type": "code",
      "execution_count": null,
      "metadata": {
        "id": "ngr8jtRJMIV-"
      },
      "outputs": [],
      "source": [
        "y_pred = prediction_labels"
      ]
    },
    {
      "cell_type": "code",
      "execution_count": null,
      "metadata": {
        "colab": {
          "base_uri": "https://localhost:8080/"
        },
        "id": "gVa8L64TMKzy",
        "outputId": "122e596f-822d-4264-ee85-1ead52b00628"
      },
      "outputs": [
        {
          "name": "stdout",
          "output_type": "stream",
          "text": [
            "[[2879  104]\n",
            " [ 374 2643]]\n"
          ]
        }
      ],
      "source": [
        "cm = confusion_matrix(y_test, y_pred)\n",
        "print(cm)"
      ]
    },
    {
      "cell_type": "code",
      "execution_count": null,
      "metadata": {
        "colab": {
          "base_uri": "https://localhost:8080/"
        },
        "id": "OIZxyL4DMMUs",
        "outputId": "6dbc5b29-34e6-4b0b-d706-c2f13b346c15"
      },
      "outputs": [
        {
          "name": "stdout",
          "output_type": "stream",
          "text": [
            "              precision    recall  f1-score   support\n",
            "\n",
            "           0       0.89      0.97      0.92      2983\n",
            "           1       0.96      0.88      0.92      3017\n",
            "\n",
            "    accuracy                           0.92      6000\n",
            "   macro avg       0.92      0.92      0.92      6000\n",
            "weighted avg       0.92      0.92      0.92      6000\n",
            "\n"
          ]
        }
      ],
      "source": [
        "print(classification_report(y_test, y_pred))"
      ]
    },
    {
      "cell_type": "code",
      "execution_count": null,
      "metadata": {
        "id": "wYiWEB7ca3It"
      },
      "outputs": [],
      "source": [
        "cm = confusion_matrix(y_test, y_pred)\n",
        "print(cm)\n",
        "print(classification_report(y_test, y_pred))\n",
        "plt.figure(figsize=(5,4))\n",
        "sns.heatmap(cm, annot=True,fmt=\".0f\", cmap=\"PuRd\", annot_kws={\"fontsize\":12})\n",
        "plt.title(\"Sentiment Classification\\nAccuracy:{:.3f}\".format(accuracy_score(y_test, y_pred)), fontsize=14)\n",
        "plt.xlabel(\"Predicted\", fontsize=12)\n",
        "plt.ylabel(\"Actual\", fontsize=12)\n",
        "plt.show()\n",
        "print(\"Classification Report:\\n\", classification_report(y_test, y_pred))"
      ]
    },
    {
      "cell_type": "code",
      "execution_count": null,
      "metadata": {
        "colab": {
          "base_uri": "https://localhost:8080/",
          "height": 490
        },
        "id": "kpcJ6VAoMO3B",
        "outputId": "0a974621-d15d-4f57-9075-45a1e9eb1b5a"
      },
      "outputs": [
        {
          "data": {
            "image/png": "[encoded data removed]",
            "text/plain": [
              "<Figure size 360x288 with 2 Axes>"
            ]
          },
          "metadata": {},
          "output_type": "display_data"
        },
        {
          "name": "stdout",
          "output_type": "stream",
          "text": [
            "Classification Report:\n",
            "               precision    recall  f1-score   support\n",
            "\n",
            "           0       0.91      0.95      0.93      2983\n",
            "           1       0.94      0.91      0.93      3017\n",
            "\n",
            "    accuracy                           0.93      6000\n",
            "   macro avg       0.93      0.93      0.93      6000\n",
            "weighted avg       0.93      0.93      0.93      6000\n",
            "\n"
          ]
        }
      ],
      "source": [
        "plt.figure(figsize=(5,4))\n",
        "sns.heatmap(cm, annot=True,fmt=\".0f\", cmap=\"PuRd\", annot_kws={\"fontsize\":12})\n",
        "plt.title(\"Sentiment Classification\\nAccuracy:{:.3f}\".format(accuracy_score(y_test, y_pred)), fontsize=14)\n",
        "plt.xlabel(\"Predicted\", fontsize=12)\n",
        "plt.ylabel(\"Actual\", fontsize=12)\n",
        "plt.show()\n",
        "print(\"Classification Report:\\n\", classification_report(y_test, y_pred))"
      ]
    },
    {
      "cell_type": "code",
      "execution_count": null,
      "metadata": {
        "id": "Qvyl0YW8MRxR"
      },
      "outputs": [],
      "source": [
        "y_pred_train = model.predict(X_train)"
      ]
    },
    {
      "cell_type": "code",
      "execution_count": null,
      "metadata": {
        "id": "BXR-YAxIMdm-"
      },
      "outputs": [],
      "source": [
        "labels_ = [0,1]\n",
        "\n",
        "prediction_labels_=[]\n",
        "for p in y_pred_train:\n",
        "    prediction_labels_.append(labels[np.argmax(p)])\n",
        "    \n",
        "y_pred_train = prediction_labels_"
      ]
    },
    {
      "cell_type": "code",
      "execution_count": null,
      "metadata": {
        "colab": {
          "base_uri": "https://localhost:8080/",
          "height": 490
        },
        "id": "x2RRsPClMfZV",
        "outputId": "1dc93ce6-a7bc-4d18-b176-b32ac9956ee5"
      },
      "outputs": [
        {
          "data": {
            "image/png": "[encoded data removed]",
            "text/plain": [
              "<Figure size 360x288 with 2 Axes>"
            ]
          },
          "metadata": {},
          "output_type": "display_data"
        },
        {
          "name": "stdout",
          "output_type": "stream",
          "text": [
            "Classification Report:\n",
            "               precision    recall  f1-score   support\n",
            "\n",
            "           0       0.98      0.99      0.98      7017\n",
            "           1       0.99      0.98      0.98      6983\n",
            "\n",
            "    accuracy                           0.98     14000\n",
            "   macro avg       0.98      0.98      0.98     14000\n",
            "weighted avg       0.98      0.98      0.98     14000\n",
            "\n"
          ]
        }
      ],
      "source": [
        "cm_ = confusion_matrix(y_train, y_pred_train)\n",
        "plt.figure(figsize=(5,4))\n",
        "sns.heatmap(cm_, annot=True,fmt=\".0f\", cmap=\"PuRd\", annot_kws={\"fontsize\":12})\n",
        "plt.title(\"Sentiment Classification\\nAccuracy:{:.3f}\".format(accuracy_score(y_train, y_pred_train)), fontsize=14)\n",
        "plt.xlabel(\"Predicted\", fontsize=12)\n",
        "plt.ylabel(\"Actual\", fontsize=12)\n",
        "plt.show()\n",
        "print(\"Classification Report:\\n\", classification_report(y_train, y_pred_train))"
      ]
    },
    {
      "cell_type": "code",
      "execution_count": null,
      "metadata": {
        "id": "QXWx-YG4Mj9R"
      },
      "outputs": [],
      "source": [
        "def predict_text(txt):\n",
        "    \n",
        "    txt = gensim.utils.simple_preprocess(txt)\n",
        "    txt = token.texts_to_sequences(txt)\n",
        "    txt = list(filter(None, txt))\n",
        "    txt = np.reshape(txt, len(txt))\n",
        "    txt = np.array([txt.tolist()])\n",
        "    txt = pad_sequences(txt, maxlen = maxword, padding='post')\n",
        "    \n",
        "    predict = model.predict(txt)\n",
        "    predict = np.argmax(predict)\n",
        "    \n",
        "    if predict == 0:\n",
        "        predict_text = ('Your text classification is {}, which means your text DOESN`T contains offensive/harmful word(s).'.format(predict))\n",
        "    if predict == 1:\n",
        "        predict_text = ('Your text classification is {}, which means your text contains offensive/harmful word(s).'.format(predict))\n",
        "    \n",
        "    return predict_text"
      ]
    },
    {
      "cell_type": "code",
      "execution_count": null,
      "metadata": {
        "colab": {
          "base_uri": "https://localhost:8080/",
          "height": 52
        },
        "id": "3qDSx_6zMoZF",
        "outputId": "5abdf529-8832-495a-8aa5-ad1eb0f27e1b"
      },
      "outputs": [
        {
          "name": "stdout",
          "output_type": "stream",
          "text": [
            "Input textasian woman freak\n"
          ]
        },
        {
          "data": {
            "application/vnd.google.colaboratory.intrinsic+json": {
              "type": "string"
            },
            "text/plain": [
              "'Your text classification is 1, which means your text contains offensive/harmful word(s).'"
            ]
          },
          "execution_count": 47,
          "metadata": {},
          "output_type": "execute_result"
        }
      ],
      "source": [
        "txt = input('Input text')\n",
        "\n",
        "predict_text(txt)"
      ]
    },
    {
      "cell_type": "markdown",
      "metadata": {
        "id": "MrUlnrKVNqYH"
      },
      "source": [
        "# Hyperparameter tuning"
      ]
    },
    {
      "cell_type": "code",
      "source": [
        "# Early Stopping\n",
        "monitor = EarlyStopping(monitor = 'val_loss', patience = 5, verbose = 0)\n",
        "\n",
        "# Memdefinisikan Model\n",
        "model_cnn = KerasClassifier(build_fn=model,\n",
        "                            callbacks=[monitor],\n",
        "                            verbose=1)\n",
        "\n",
        "# define the grid search parameters\n",
        "params_cnn = {'epochs': [30,50],\n",
        "              'batch_size': [32,64,128]}\n",
        "\n",
        "ht_cnn = GridSearchCV(model_cnn,\n",
        "                      param_grid= params_cnn,\n",
        "                      scoring = 'accuracy')\n",
        "\n",
        "hyt_cnn = ht_cnn.fit(X_train, y_train, validation_data=(X_test, y_test));\n",
        "print(\"\\nThe best parameter is {}\".format(hyt_cnn.best_params_))\n",
        "print(\"\\nThe best_accuracy is {}\".format(hyt_cnn.best_score_))"
      ],
      "metadata": {
        "colab": {
          "base_uri": "https://localhost:8080/",
          "height": 1000
        },
        "id": "sS4OC9vIrkIV",
        "outputId": "7462569b-8312-4af7-cca5-7b93f2325e70"
      },
      "execution_count": null,
      "outputs": [
        {
          "output_type": "stream",
          "name": "stderr",
          "text": [
            "/usr/local/lib/python3.7/dist-packages/ipykernel_launcher.py:7: DeprecationWarning: KerasClassifier is deprecated, use Sci-Keras (https://github.com/adriangb/scikeras) instead. See https://www.adriangb.com/scikeras/stable/migration.html for help migrating.\n",
            "  import sys\n"
          ]
        },
        {
          "output_type": "stream",
          "name": "stdout",
          "text": [
            "INFO:tensorflow:Assets written to: ram://a94edd63-823b-44a1-b0e1-5b2704b936c9/assets\n"
          ]
        },
        {
          "output_type": "stream",
          "name": "stderr",
          "text": [
            "2022-06-30 03:39:07,335 : INFO : Assets written to: ram://a94edd63-823b-44a1-b0e1-5b2704b936c9/assets\n"
          ]
        },
        {
          "output_type": "stream",
          "name": "stdout",
          "text": [
            "INFO:tensorflow:Assets written to: ram://b6264d4d-c9fd-41fb-88af-5b8d8258471a/assets\n"
          ]
        },
        {
          "output_type": "stream",
          "name": "stderr",
          "text": [
            "2022-06-30 03:39:11,635 : INFO : Assets written to: ram://b6264d4d-c9fd-41fb-88af-5b8d8258471a/assets\n"
          ]
        },
        {
          "output_type": "stream",
          "name": "stdout",
          "text": [
            "INFO:tensorflow:Assets written to: ram://6106f6e1-9439-48d3-9e8f-a4dfd87c6542/assets\n"
          ]
        },
        {
          "output_type": "stream",
          "name": "stderr",
          "text": [
            "2022-06-30 03:39:16,594 : INFO : Assets written to: ram://6106f6e1-9439-48d3-9e8f-a4dfd87c6542/assets\n"
          ]
        },
        {
          "output_type": "stream",
          "name": "stdout",
          "text": [
            "INFO:tensorflow:Assets written to: ram://32456ad6-1820-4114-acfa-34f16b258ea1/assets\n"
          ]
        },
        {
          "output_type": "stream",
          "name": "stderr",
          "text": [
            "2022-06-30 03:39:21,285 : INFO : Assets written to: ram://32456ad6-1820-4114-acfa-34f16b258ea1/assets\n"
          ]
        },
        {
          "output_type": "stream",
          "name": "stdout",
          "text": [
            "INFO:tensorflow:Assets written to: ram://d2c878a3-90be-40cc-9af4-1c6208d3da31/assets\n"
          ]
        },
        {
          "output_type": "stream",
          "name": "stderr",
          "text": [
            "2022-06-30 03:39:25,401 : INFO : Assets written to: ram://d2c878a3-90be-40cc-9af4-1c6208d3da31/assets\n"
          ]
        },
        {
          "output_type": "stream",
          "name": "stdout",
          "text": [
            "INFO:tensorflow:Assets written to: ram://192db4e5-51df-4e06-ae4c-0e09b5f8b287/assets\n"
          ]
        },
        {
          "output_type": "stream",
          "name": "stderr",
          "text": [
            "2022-06-30 03:39:29,520 : INFO : Assets written to: ram://192db4e5-51df-4e06-ae4c-0e09b5f8b287/assets\n"
          ]
        },
        {
          "output_type": "stream",
          "name": "stdout",
          "text": [
            "INFO:tensorflow:Assets written to: ram://09a4bcd6-358a-4c52-b04e-5b408146e9eb/assets\n"
          ]
        },
        {
          "output_type": "stream",
          "name": "stderr",
          "text": [
            "2022-06-30 03:39:33,606 : INFO : Assets written to: ram://09a4bcd6-358a-4c52-b04e-5b408146e9eb/assets\n"
          ]
        },
        {
          "output_type": "stream",
          "name": "stdout",
          "text": [
            "INFO:tensorflow:Assets written to: ram://a4b10c1c-12e8-412f-8d03-84e16bffffa9/assets\n"
          ]
        },
        {
          "output_type": "stream",
          "name": "stderr",
          "text": [
            "2022-06-30 03:39:38,394 : INFO : Assets written to: ram://a4b10c1c-12e8-412f-8d03-84e16bffffa9/assets\n"
          ]
        },
        {
          "output_type": "stream",
          "name": "stdout",
          "text": [
            "INFO:tensorflow:Assets written to: ram://2cb2c6f6-045e-45e1-a94f-35c89cb83c61/assets\n"
          ]
        },
        {
          "output_type": "stream",
          "name": "stderr",
          "text": [
            "2022-06-30 03:39:42,515 : INFO : Assets written to: ram://2cb2c6f6-045e-45e1-a94f-35c89cb83c61/assets\n"
          ]
        },
        {
          "output_type": "stream",
          "name": "stdout",
          "text": [
            "INFO:tensorflow:Assets written to: ram://daa65e6e-53b4-4594-a64d-9284ad937d4f/assets\n"
          ]
        },
        {
          "output_type": "stream",
          "name": "stderr",
          "text": [
            "2022-06-30 03:39:46,676 : INFO : Assets written to: ram://daa65e6e-53b4-4594-a64d-9284ad937d4f/assets\n"
          ]
        },
        {
          "output_type": "stream",
          "name": "stdout",
          "text": [
            "INFO:tensorflow:Assets written to: ram://824ac6f9-ec15-478d-bab2-09d9fbcd9b80/assets\n"
          ]
        },
        {
          "output_type": "stream",
          "name": "stderr",
          "text": [
            "2022-06-30 03:39:50,832 : INFO : Assets written to: ram://824ac6f9-ec15-478d-bab2-09d9fbcd9b80/assets\n"
          ]
        },
        {
          "output_type": "stream",
          "name": "stdout",
          "text": [
            "INFO:tensorflow:Assets written to: ram://76f7b9cd-2a60-44ce-9e61-0eeccd133c21/assets\n"
          ]
        },
        {
          "output_type": "stream",
          "name": "stderr",
          "text": [
            "2022-06-30 03:39:55,747 : INFO : Assets written to: ram://76f7b9cd-2a60-44ce-9e61-0eeccd133c21/assets\n"
          ]
        },
        {
          "output_type": "stream",
          "name": "stdout",
          "text": [
            "INFO:tensorflow:Assets written to: ram://99c0ef55-bc88-4fad-b157-d13ca368fd27/assets\n"
          ]
        },
        {
          "output_type": "stream",
          "name": "stderr",
          "text": [
            "2022-06-30 03:39:59,941 : INFO : Assets written to: ram://99c0ef55-bc88-4fad-b157-d13ca368fd27/assets\n"
          ]
        },
        {
          "output_type": "stream",
          "name": "stdout",
          "text": [
            "INFO:tensorflow:Assets written to: ram://a22657ca-0c52-423f-95d0-ff57f8d3b2f6/assets\n"
          ]
        },
        {
          "output_type": "stream",
          "name": "stderr",
          "text": [
            "2022-06-30 03:40:04,060 : INFO : Assets written to: ram://a22657ca-0c52-423f-95d0-ff57f8d3b2f6/assets\n"
          ]
        },
        {
          "output_type": "stream",
          "name": "stdout",
          "text": [
            "INFO:tensorflow:Assets written to: ram://a1236306-51bc-4aaa-bb3b-576482fec582/assets\n"
          ]
        },
        {
          "output_type": "stream",
          "name": "stderr",
          "text": [
            "2022-06-30 03:40:08,266 : INFO : Assets written to: ram://a1236306-51bc-4aaa-bb3b-576482fec582/assets\n"
          ]
        },
        {
          "output_type": "stream",
          "name": "stdout",
          "text": [
            "INFO:tensorflow:Assets written to: ram://dedcac48-fb9d-4c59-a9e5-9659cb17ba13/assets\n"
          ]
        },
        {
          "output_type": "stream",
          "name": "stderr",
          "text": [
            "2022-06-30 03:40:12,950 : INFO : Assets written to: ram://dedcac48-fb9d-4c59-a9e5-9659cb17ba13/assets\n"
          ]
        },
        {
          "output_type": "stream",
          "name": "stdout",
          "text": [
            "INFO:tensorflow:Assets written to: ram://1ace6907-e110-43d8-b3c0-cf9417cb09cd/assets\n"
          ]
        },
        {
          "output_type": "stream",
          "name": "stderr",
          "text": [
            "2022-06-30 03:40:17,137 : INFO : Assets written to: ram://1ace6907-e110-43d8-b3c0-cf9417cb09cd/assets\n"
          ]
        },
        {
          "output_type": "stream",
          "name": "stdout",
          "text": [
            "INFO:tensorflow:Assets written to: ram://c5320292-ec91-48f7-ba19-c1932eab580b/assets\n"
          ]
        },
        {
          "output_type": "stream",
          "name": "stderr",
          "text": [
            "2022-06-30 03:40:21,324 : INFO : Assets written to: ram://c5320292-ec91-48f7-ba19-c1932eab580b/assets\n"
          ]
        },
        {
          "output_type": "stream",
          "name": "stdout",
          "text": [
            "INFO:tensorflow:Assets written to: ram://21c556d1-a056-4fec-8c31-d7f0116b9b88/assets\n"
          ]
        },
        {
          "output_type": "stream",
          "name": "stderr",
          "text": [
            "2022-06-30 03:40:25,398 : INFO : Assets written to: ram://21c556d1-a056-4fec-8c31-d7f0116b9b88/assets\n"
          ]
        },
        {
          "output_type": "stream",
          "name": "stdout",
          "text": [
            "INFO:tensorflow:Assets written to: ram://2769e6fb-02a5-448f-ac3f-c956c2cdc090/assets\n"
          ]
        },
        {
          "output_type": "stream",
          "name": "stderr",
          "text": [
            "2022-06-30 03:40:29,496 : INFO : Assets written to: ram://2769e6fb-02a5-448f-ac3f-c956c2cdc090/assets\n"
          ]
        },
        {
          "output_type": "stream",
          "name": "stdout",
          "text": [
            "INFO:tensorflow:Assets written to: ram://8c1968c9-1ec9-404b-a0fa-b094a9f857f9/assets\n"
          ]
        },
        {
          "output_type": "stream",
          "name": "stderr",
          "text": [
            "2022-06-30 03:40:34,219 : INFO : Assets written to: ram://8c1968c9-1ec9-404b-a0fa-b094a9f857f9/assets\n"
          ]
        },
        {
          "output_type": "stream",
          "name": "stdout",
          "text": [
            "INFO:tensorflow:Assets written to: ram://bc6f17b2-8710-48bf-b116-26dd0423f800/assets\n"
          ]
        },
        {
          "output_type": "stream",
          "name": "stderr",
          "text": [
            "2022-06-30 03:40:38,342 : INFO : Assets written to: ram://bc6f17b2-8710-48bf-b116-26dd0423f800/assets\n"
          ]
        },
        {
          "output_type": "stream",
          "name": "stdout",
          "text": [
            "INFO:tensorflow:Assets written to: ram://91d265d4-d06d-4217-93a7-ee816706261c/assets\n"
          ]
        },
        {
          "output_type": "stream",
          "name": "stderr",
          "text": [
            "2022-06-30 03:40:42,477 : INFO : Assets written to: ram://91d265d4-d06d-4217-93a7-ee816706261c/assets\n"
          ]
        },
        {
          "output_type": "stream",
          "name": "stdout",
          "text": [
            "INFO:tensorflow:Assets written to: ram://9e989a53-7677-4c41-aea7-43332fe08425/assets\n"
          ]
        },
        {
          "output_type": "stream",
          "name": "stderr",
          "text": [
            "2022-06-30 03:40:46,572 : INFO : Assets written to: ram://9e989a53-7677-4c41-aea7-43332fe08425/assets\n"
          ]
        },
        {
          "output_type": "stream",
          "name": "stdout",
          "text": [
            "INFO:tensorflow:Assets written to: ram://5f4b0b7f-f990-4dcb-ac0b-c39940c3d9af/assets\n"
          ]
        },
        {
          "output_type": "stream",
          "name": "stderr",
          "text": [
            "2022-06-30 03:40:51,392 : INFO : Assets written to: ram://5f4b0b7f-f990-4dcb-ac0b-c39940c3d9af/assets\n"
          ]
        },
        {
          "output_type": "stream",
          "name": "stdout",
          "text": [
            "INFO:tensorflow:Assets written to: ram://7fea0c44-f4f3-4205-9cd8-71a3a3deb303/assets\n"
          ]
        },
        {
          "output_type": "stream",
          "name": "stderr",
          "text": [
            "2022-06-30 03:40:56,315 : INFO : Assets written to: ram://7fea0c44-f4f3-4205-9cd8-71a3a3deb303/assets\n"
          ]
        },
        {
          "output_type": "stream",
          "name": "stdout",
          "text": [
            "INFO:tensorflow:Assets written to: ram://50d1a731-9949-4652-b040-811a20ab874e/assets\n"
          ]
        },
        {
          "output_type": "stream",
          "name": "stderr",
          "text": [
            "2022-06-30 03:41:01,147 : INFO : Assets written to: ram://50d1a731-9949-4652-b040-811a20ab874e/assets\n"
          ]
        },
        {
          "output_type": "stream",
          "name": "stdout",
          "text": [
            "INFO:tensorflow:Assets written to: ram://0013a231-dcdc-4980-8279-05b1e4726350/assets\n"
          ]
        },
        {
          "output_type": "stream",
          "name": "stderr",
          "text": [
            "2022-06-30 03:41:05,317 : INFO : Assets written to: ram://0013a231-dcdc-4980-8279-05b1e4726350/assets\n"
          ]
        },
        {
          "output_type": "stream",
          "name": "stdout",
          "text": [
            "INFO:tensorflow:Assets written to: ram://c4b50d37-5f1a-4168-8b9e-ca0794bb7a7b/assets\n"
          ]
        },
        {
          "output_type": "stream",
          "name": "stderr",
          "text": [
            "2022-06-30 03:41:10,068 : INFO : Assets written to: ram://c4b50d37-5f1a-4168-8b9e-ca0794bb7a7b/assets\n"
          ]
        },
        {
          "output_type": "stream",
          "name": "stdout",
          "text": [
            "INFO:tensorflow:Assets written to: ram://e9722e51-182f-4d95-9522-87cbffc62dc7/assets\n"
          ]
        },
        {
          "output_type": "stream",
          "name": "stderr",
          "text": [
            "2022-06-30 03:41:14,214 : INFO : Assets written to: ram://e9722e51-182f-4d95-9522-87cbffc62dc7/assets\n"
          ]
        },
        {
          "output_type": "stream",
          "name": "stdout",
          "text": [
            "INFO:tensorflow:Assets written to: ram://4e290038-dabe-454b-a2a7-b1e2cb508323/assets\n"
          ]
        },
        {
          "output_type": "stream",
          "name": "stderr",
          "text": [
            "2022-06-30 03:41:18,427 : INFO : Assets written to: ram://4e290038-dabe-454b-a2a7-b1e2cb508323/assets\n",
            "/usr/local/lib/python3.7/dist-packages/sklearn/model_selection/_validation.py:372: FitFailedWarning: \n",
            "30 fits failed out of a total of 30.\n",
            "The score on these train-test partitions for these parameters will be set to nan.\n",
            "If these failures are not expected, you can try to debug them by setting error_score='raise'.\n",
            "\n",
            "Below are more details about the failures:\n",
            "--------------------------------------------------------------------------------\n",
            "30 fits failed with the following error:\n",
            "Traceback (most recent call last):\n",
            "  File \"/usr/local/lib/python3.7/dist-packages/sklearn/model_selection/_validation.py\", line 680, in _fit_and_score\n",
            "    estimator.fit(X_train, y_train, **fit_params)\n",
            "  File \"/usr/local/lib/python3.7/dist-packages/keras/wrappers/scikit_learn.py\", line 236, in fit\n",
            "    return super(KerasClassifier, self).fit(x, y, **kwargs)\n",
            "  File \"/usr/local/lib/python3.7/dist-packages/keras/wrappers/scikit_learn.py\", line 153, in fit\n",
            "    **self.filter_sk_params(self.build_fn.__call__))\n",
            "  File \"/usr/local/lib/python3.7/dist-packages/keras/utils/traceback_utils.py\", line 67, in error_handler\n",
            "    raise e.with_traceback(filtered_tb) from None\n",
            "  File \"/usr/local/lib/python3.7/dist-packages/keras/engine/base_layer.py\", line 3095, in _split_out_first_arg\n",
            "    'The first argument to `Layer.call` must always be passed.')\n",
            "ValueError: The first argument to `Layer.call` must always be passed.\n",
            "\n",
            "  warnings.warn(some_fits_failed_message, FitFailedWarning)\n",
            "/usr/local/lib/python3.7/dist-packages/sklearn/model_selection/_search.py:972: UserWarning: One or more of the test scores are non-finite: [nan nan nan nan nan nan]\n",
            "  category=UserWarning,\n"
          ]
        },
        {
          "output_type": "stream",
          "name": "stdout",
          "text": [
            "INFO:tensorflow:Assets written to: ram://1db6062c-1610-4f6f-9891-af6d19b8ca71/assets\n"
          ]
        },
        {
          "output_type": "stream",
          "name": "stderr",
          "text": [
            "2022-06-30 03:41:22,682 : INFO : Assets written to: ram://1db6062c-1610-4f6f-9891-af6d19b8ca71/assets\n"
          ]
        },
        {
          "output_type": "stream",
          "name": "stdout",
          "text": [
            "INFO:tensorflow:Assets written to: ram://f25fa0ca-3ac8-4712-8d4f-726e3e07ad8f/assets\n"
          ]
        },
        {
          "output_type": "stream",
          "name": "stderr",
          "text": [
            "2022-06-30 03:41:27,475 : INFO : Assets written to: ram://f25fa0ca-3ac8-4712-8d4f-726e3e07ad8f/assets\n"
          ]
        },
        {
          "output_type": "error",
          "ename": "ValueError",
          "evalue": "ignored",
          "traceback": [
            "\u001b[0;31m---------------------------------------------------------------------------\u001b[0m",
            "\u001b[0;31mValueError\u001b[0m                                Traceback (most recent call last)",
            "\u001b[0;32m<ipython-input-35-e288d2bf6127>\u001b[0m in \u001b[0;36m<module>\u001b[0;34m()\u001b[0m\n\u001b[1;32m     15\u001b[0m                       scoring = 'accuracy')\n\u001b[1;32m     16\u001b[0m \u001b[0;34m\u001b[0m\u001b[0m\n\u001b[0;32m---> 17\u001b[0;31m \u001b[0mhyt_cnn\u001b[0m \u001b[0;34m=\u001b[0m \u001b[0mht_cnn\u001b[0m\u001b[0;34m.\u001b[0m\u001b[0mfit\u001b[0m\u001b[0;34m(\u001b[0m\u001b[0mX_train\u001b[0m\u001b[0;34m,\u001b[0m \u001b[0my_train\u001b[0m\u001b[0;34m,\u001b[0m \u001b[0mvalidation_data\u001b[0m\u001b[0;34m=\u001b[0m\u001b[0;34m(\u001b[0m\u001b[0mX_test\u001b[0m\u001b[0;34m,\u001b[0m \u001b[0my_test\u001b[0m\u001b[0;34m)\u001b[0m\u001b[0;34m)\u001b[0m\u001b[0;34m;\u001b[0m\u001b[0;34m\u001b[0m\u001b[0;34m\u001b[0m\u001b[0m\n\u001b[0m\u001b[1;32m     18\u001b[0m \u001b[0mprint\u001b[0m\u001b[0;34m(\u001b[0m\u001b[0;34m\"\\nThe best parameter is {}\"\u001b[0m\u001b[0;34m.\u001b[0m\u001b[0mformat\u001b[0m\u001b[0;34m(\u001b[0m\u001b[0mhyt_cnn\u001b[0m\u001b[0;34m.\u001b[0m\u001b[0mbest_params_\u001b[0m\u001b[0;34m)\u001b[0m\u001b[0;34m)\u001b[0m\u001b[0;34m\u001b[0m\u001b[0;34m\u001b[0m\u001b[0m\n\u001b[1;32m     19\u001b[0m \u001b[0mprint\u001b[0m\u001b[0;34m(\u001b[0m\u001b[0;34m\"\\nThe best_accuracy is {}\"\u001b[0m\u001b[0;34m.\u001b[0m\u001b[0mformat\u001b[0m\u001b[0;34m(\u001b[0m\u001b[0mhyt_cnn\u001b[0m\u001b[0;34m.\u001b[0m\u001b[0mbest_score_\u001b[0m\u001b[0;34m)\u001b[0m\u001b[0;34m)\u001b[0m\u001b[0;34m\u001b[0m\u001b[0;34m\u001b[0m\u001b[0m\n",
            "\u001b[0;32m/usr/local/lib/python3.7/dist-packages/sklearn/model_selection/_search.py\u001b[0m in \u001b[0;36mfit\u001b[0;34m(self, X, y, groups, **fit_params)\u001b[0m\n\u001b[1;32m    924\u001b[0m             \u001b[0mrefit_start_time\u001b[0m \u001b[0;34m=\u001b[0m \u001b[0mtime\u001b[0m\u001b[0;34m.\u001b[0m\u001b[0mtime\u001b[0m\u001b[0;34m(\u001b[0m\u001b[0;34m)\u001b[0m\u001b[0;34m\u001b[0m\u001b[0;34m\u001b[0m\u001b[0m\n\u001b[1;32m    925\u001b[0m             \u001b[0;32mif\u001b[0m \u001b[0my\u001b[0m \u001b[0;32mis\u001b[0m \u001b[0;32mnot\u001b[0m \u001b[0;32mNone\u001b[0m\u001b[0;34m:\u001b[0m\u001b[0;34m\u001b[0m\u001b[0;34m\u001b[0m\u001b[0m\n\u001b[0;32m--> 926\u001b[0;31m                 \u001b[0mself\u001b[0m\u001b[0;34m.\u001b[0m\u001b[0mbest_estimator_\u001b[0m\u001b[0;34m.\u001b[0m\u001b[0mfit\u001b[0m\u001b[0;34m(\u001b[0m\u001b[0mX\u001b[0m\u001b[0;34m,\u001b[0m \u001b[0my\u001b[0m\u001b[0;34m,\u001b[0m \u001b[0;34m**\u001b[0m\u001b[0mfit_params\u001b[0m\u001b[0;34m)\u001b[0m\u001b[0;34m\u001b[0m\u001b[0;34m\u001b[0m\u001b[0m\n\u001b[0m\u001b[1;32m    927\u001b[0m             \u001b[0;32melse\u001b[0m\u001b[0;34m:\u001b[0m\u001b[0;34m\u001b[0m\u001b[0;34m\u001b[0m\u001b[0m\n\u001b[1;32m    928\u001b[0m                 \u001b[0mself\u001b[0m\u001b[0;34m.\u001b[0m\u001b[0mbest_estimator_\u001b[0m\u001b[0;34m.\u001b[0m\u001b[0mfit\u001b[0m\u001b[0;34m(\u001b[0m\u001b[0mX\u001b[0m\u001b[0;34m,\u001b[0m \u001b[0;34m**\u001b[0m\u001b[0mfit_params\u001b[0m\u001b[0;34m)\u001b[0m\u001b[0;34m\u001b[0m\u001b[0;34m\u001b[0m\u001b[0m\n",
            "\u001b[0;32m/usr/local/lib/python3.7/dist-packages/keras/wrappers/scikit_learn.py\u001b[0m in \u001b[0;36mfit\u001b[0;34m(self, x, y, **kwargs)\u001b[0m\n\u001b[1;32m    234\u001b[0m       \u001b[0;32mraise\u001b[0m \u001b[0mValueError\u001b[0m\u001b[0;34m(\u001b[0m\u001b[0;34m'Invalid shape for y: '\u001b[0m \u001b[0;34m+\u001b[0m \u001b[0mstr\u001b[0m\u001b[0;34m(\u001b[0m\u001b[0my\u001b[0m\u001b[0;34m.\u001b[0m\u001b[0mshape\u001b[0m\u001b[0;34m)\u001b[0m\u001b[0;34m)\u001b[0m\u001b[0;34m\u001b[0m\u001b[0;34m\u001b[0m\u001b[0m\n\u001b[1;32m    235\u001b[0m     \u001b[0mself\u001b[0m\u001b[0;34m.\u001b[0m\u001b[0mn_classes_\u001b[0m \u001b[0;34m=\u001b[0m \u001b[0mlen\u001b[0m\u001b[0;34m(\u001b[0m\u001b[0mself\u001b[0m\u001b[0;34m.\u001b[0m\u001b[0mclasses_\u001b[0m\u001b[0;34m)\u001b[0m\u001b[0;34m\u001b[0m\u001b[0;34m\u001b[0m\u001b[0m\n\u001b[0;32m--> 236\u001b[0;31m     \u001b[0;32mreturn\u001b[0m \u001b[0msuper\u001b[0m\u001b[0;34m(\u001b[0m\u001b[0mKerasClassifier\u001b[0m\u001b[0;34m,\u001b[0m \u001b[0mself\u001b[0m\u001b[0;34m)\u001b[0m\u001b[0;34m.\u001b[0m\u001b[0mfit\u001b[0m\u001b[0;34m(\u001b[0m\u001b[0mx\u001b[0m\u001b[0;34m,\u001b[0m \u001b[0my\u001b[0m\u001b[0;34m,\u001b[0m \u001b[0;34m**\u001b[0m\u001b[0mkwargs\u001b[0m\u001b[0;34m)\u001b[0m\u001b[0;34m\u001b[0m\u001b[0;34m\u001b[0m\u001b[0m\n\u001b[0m\u001b[1;32m    237\u001b[0m \u001b[0;34m\u001b[0m\u001b[0m\n\u001b[1;32m    238\u001b[0m   \u001b[0;32mdef\u001b[0m \u001b[0mpredict\u001b[0m\u001b[0;34m(\u001b[0m\u001b[0mself\u001b[0m\u001b[0;34m,\u001b[0m \u001b[0mx\u001b[0m\u001b[0;34m,\u001b[0m \u001b[0;34m**\u001b[0m\u001b[0mkwargs\u001b[0m\u001b[0;34m)\u001b[0m\u001b[0;34m:\u001b[0m\u001b[0;34m\u001b[0m\u001b[0;34m\u001b[0m\u001b[0m\n",
            "\u001b[0;32m/usr/local/lib/python3.7/dist-packages/keras/wrappers/scikit_learn.py\u001b[0m in \u001b[0;36mfit\u001b[0;34m(self, x, y, **kwargs)\u001b[0m\n\u001b[1;32m    151\u001b[0m           not isinstance(self.build_fn, types.MethodType)):\n\u001b[1;32m    152\u001b[0m       self.model = self.build_fn(\n\u001b[0;32m--> 153\u001b[0;31m           **self.filter_sk_params(self.build_fn.__call__))\n\u001b[0m\u001b[1;32m    154\u001b[0m     \u001b[0;32melse\u001b[0m\u001b[0;34m:\u001b[0m\u001b[0;34m\u001b[0m\u001b[0;34m\u001b[0m\u001b[0m\n\u001b[1;32m    155\u001b[0m       \u001b[0mself\u001b[0m\u001b[0;34m.\u001b[0m\u001b[0mmodel\u001b[0m \u001b[0;34m=\u001b[0m \u001b[0mself\u001b[0m\u001b[0;34m.\u001b[0m\u001b[0mbuild_fn\u001b[0m\u001b[0;34m(\u001b[0m\u001b[0;34m**\u001b[0m\u001b[0mself\u001b[0m\u001b[0;34m.\u001b[0m\u001b[0mfilter_sk_params\u001b[0m\u001b[0;34m(\u001b[0m\u001b[0mself\u001b[0m\u001b[0;34m.\u001b[0m\u001b[0mbuild_fn\u001b[0m\u001b[0;34m)\u001b[0m\u001b[0;34m)\u001b[0m\u001b[0;34m\u001b[0m\u001b[0;34m\u001b[0m\u001b[0m\n",
            "\u001b[0;32m/usr/local/lib/python3.7/dist-packages/keras/utils/traceback_utils.py\u001b[0m in \u001b[0;36merror_handler\u001b[0;34m(*args, **kwargs)\u001b[0m\n\u001b[1;32m     65\u001b[0m     \u001b[0;32mexcept\u001b[0m \u001b[0mException\u001b[0m \u001b[0;32mas\u001b[0m \u001b[0me\u001b[0m\u001b[0;34m:\u001b[0m  \u001b[0;31m# pylint: disable=broad-except\u001b[0m\u001b[0;34m\u001b[0m\u001b[0;34m\u001b[0m\u001b[0m\n\u001b[1;32m     66\u001b[0m       \u001b[0mfiltered_tb\u001b[0m \u001b[0;34m=\u001b[0m \u001b[0m_process_traceback_frames\u001b[0m\u001b[0;34m(\u001b[0m\u001b[0me\u001b[0m\u001b[0;34m.\u001b[0m\u001b[0m__traceback__\u001b[0m\u001b[0;34m)\u001b[0m\u001b[0;34m\u001b[0m\u001b[0;34m\u001b[0m\u001b[0m\n\u001b[0;32m---> 67\u001b[0;31m       \u001b[0;32mraise\u001b[0m \u001b[0me\u001b[0m\u001b[0;34m.\u001b[0m\u001b[0mwith_traceback\u001b[0m\u001b[0;34m(\u001b[0m\u001b[0mfiltered_tb\u001b[0m\u001b[0;34m)\u001b[0m \u001b[0;32mfrom\u001b[0m \u001b[0;32mNone\u001b[0m\u001b[0;34m\u001b[0m\u001b[0;34m\u001b[0m\u001b[0m\n\u001b[0m\u001b[1;32m     68\u001b[0m     \u001b[0;32mfinally\u001b[0m\u001b[0;34m:\u001b[0m\u001b[0;34m\u001b[0m\u001b[0;34m\u001b[0m\u001b[0m\n\u001b[1;32m     69\u001b[0m       \u001b[0;32mdel\u001b[0m \u001b[0mfiltered_tb\u001b[0m\u001b[0;34m\u001b[0m\u001b[0;34m\u001b[0m\u001b[0m\n",
            "\u001b[0;32m/usr/local/lib/python3.7/dist-packages/keras/engine/base_layer.py\u001b[0m in \u001b[0;36m_split_out_first_arg\u001b[0;34m(self, args, kwargs)\u001b[0m\n\u001b[1;32m   3093\u001b[0m     \u001b[0;32melse\u001b[0m\u001b[0;34m:\u001b[0m\u001b[0;34m\u001b[0m\u001b[0;34m\u001b[0m\u001b[0m\n\u001b[1;32m   3094\u001b[0m       raise ValueError(\n\u001b[0;32m-> 3095\u001b[0;31m           'The first argument to `Layer.call` must always be passed.')\n\u001b[0m\u001b[1;32m   3096\u001b[0m     \u001b[0;32mreturn\u001b[0m \u001b[0minputs\u001b[0m\u001b[0;34m,\u001b[0m \u001b[0margs\u001b[0m\u001b[0;34m,\u001b[0m \u001b[0mkwargs\u001b[0m\u001b[0;34m\u001b[0m\u001b[0;34m\u001b[0m\u001b[0m\n\u001b[1;32m   3097\u001b[0m \u001b[0;34m\u001b[0m\u001b[0m\n",
            "\u001b[0;31mValueError\u001b[0m: The first argument to `Layer.call` must always be passed."
          ]
        }
      ]
    },
    {
      "cell_type": "markdown",
      "metadata": {
        "id": "PIc8pzzzPpKO"
      },
      "source": [
        "## Epochs & Batch size"
      ]
    },
    {
      "cell_type": "code",
      "execution_count": null,
      "metadata": {
        "colab": {
          "base_uri": "https://localhost:8080/"
        },
        "id": "NU-Tt4ctPttj",
        "outputId": "afeaf26b-199c-4acc-cbab-474558de68fc"
      },
      "outputs": [
        {
          "output_type": "stream",
          "name": "stdout",
          "text": [
            "Epoch 1/30\n",
            "175/175 [==============================] - 110s 609ms/step - loss: 3.9455 - accuracy: 0.8897 - val_loss: 2.6100 - val_accuracy: 0.7532\n",
            "Epoch 2/30\n",
            "175/175 [==============================] - 106s 603ms/step - loss: 1.1652 - accuracy: 0.9911 - val_loss: 1.0103 - val_accuracy: 0.8496\n",
            "Epoch 3/30\n",
            "175/175 [==============================] - 110s 628ms/step - loss: 0.3345 - accuracy: 0.9912 - val_loss: 0.6434 - val_accuracy: 0.9029\n",
            "Epoch 4/30\n",
            "175/175 [==============================] - 104s 595ms/step - loss: 0.2037 - accuracy: 0.9915 - val_loss: 0.5992 - val_accuracy: 0.9150\n",
            "Epoch 5/30\n",
            "175/175 [==============================] - 105s 599ms/step - loss: 0.1896 - accuracy: 0.9918 - val_loss: 0.5354 - val_accuracy: 0.9229\n",
            "Epoch 6/30\n",
            "175/175 [==============================] - 102s 585ms/step - loss: 0.1932 - accuracy: 0.9927 - val_loss: 0.5696 - val_accuracy: 0.9221\n",
            "Epoch 7/30\n",
            "175/175 [==============================] - 102s 585ms/step - loss: 0.2257 - accuracy: 0.9909 - val_loss: 0.6208 - val_accuracy: 0.9264\n",
            "Epoch 8/30\n",
            "175/175 [==============================] - 103s 589ms/step - loss: 0.2182 - accuracy: 0.9920 - val_loss: 0.6763 - val_accuracy: 0.9154\n",
            "Epoch 9/30\n",
            "175/175 [==============================] - 106s 607ms/step - loss: 0.1945 - accuracy: 0.9943 - val_loss: 0.5553 - val_accuracy: 0.9239\n",
            "Epoch 10/30\n",
            "175/175 [==============================] - 103s 591ms/step - loss: 0.2124 - accuracy: 0.9920 - val_loss: 0.6475 - val_accuracy: 0.9218\n",
            "Epoch 11/30\n",
            "175/175 [==============================] - 103s 587ms/step - loss: 0.2070 - accuracy: 0.9928 - val_loss: 0.5947 - val_accuracy: 0.9221\n",
            "Epoch 12/30\n",
            "175/175 [==============================] - 102s 586ms/step - loss: 0.2163 - accuracy: 0.9922 - val_loss: 0.6517 - val_accuracy: 0.9246\n",
            "Epoch 13/30\n",
            "175/175 [==============================] - 105s 599ms/step - loss: 0.1928 - accuracy: 0.9942 - val_loss: 0.5289 - val_accuracy: 0.9268\n",
            "Epoch 14/30\n",
            "175/175 [==============================] - 101s 579ms/step - loss: 0.1990 - accuracy: 0.9930 - val_loss: 0.6236 - val_accuracy: 0.9246\n",
            "Epoch 15/30\n",
            "175/175 [==============================] - 108s 619ms/step - loss: 0.1828 - accuracy: 0.9939 - val_loss: 0.5728 - val_accuracy: 0.9261\n",
            "Epoch 16/30\n",
            "175/175 [==============================] - 110s 630ms/step - loss: 0.2329 - accuracy: 0.9912 - val_loss: 0.5868 - val_accuracy: 0.9182\n",
            "Epoch 17/30\n",
            "175/175 [==============================] - 111s 637ms/step - loss: 0.1963 - accuracy: 0.9921 - val_loss: 0.5233 - val_accuracy: 0.9275\n",
            "Epoch 18/30\n",
            "175/175 [==============================] - 109s 623ms/step - loss: 0.1802 - accuracy: 0.9939 - val_loss: 0.6403 - val_accuracy: 0.9214\n",
            "Epoch 19/30\n",
            "175/175 [==============================] - 114s 653ms/step - loss: 0.1885 - accuracy: 0.9933 - val_loss: 0.5531 - val_accuracy: 0.9257\n",
            "Epoch 20/30\n",
            "175/175 [==============================] - 114s 649ms/step - loss: 0.1683 - accuracy: 0.9937 - val_loss: 0.6296 - val_accuracy: 0.9150\n",
            "Epoch 21/30\n",
            "175/175 [==============================] - 113s 644ms/step - loss: 0.1759 - accuracy: 0.9933 - val_loss: 0.5017 - val_accuracy: 0.9268\n",
            "Epoch 22/30\n",
            "175/175 [==============================] - 112s 643ms/step - loss: 0.1983 - accuracy: 0.9928 - val_loss: 0.5532 - val_accuracy: 0.9232\n",
            "Epoch 23/30\n",
            "175/175 [==============================] - 112s 639ms/step - loss: 0.1734 - accuracy: 0.9920 - val_loss: 0.5513 - val_accuracy: 0.9271\n",
            "Epoch 24/30\n",
            "175/175 [==============================] - 112s 638ms/step - loss: 0.1651 - accuracy: 0.9924 - val_loss: 0.5439 - val_accuracy: 0.9232\n",
            "Epoch 25/30\n",
            "175/175 [==============================] - 109s 625ms/step - loss: 0.1732 - accuracy: 0.9954 - val_loss: 0.4859 - val_accuracy: 0.9204\n",
            "Epoch 26/30\n",
            "175/175 [==============================] - 117s 667ms/step - loss: 0.2024 - accuracy: 0.9942 - val_loss: 0.5471 - val_accuracy: 0.9282\n",
            "Epoch 27/30\n",
            "175/175 [==============================] - 114s 651ms/step - loss: 0.1552 - accuracy: 0.9953 - val_loss: 0.5499 - val_accuracy: 0.9239\n",
            "Epoch 28/30\n",
            "175/175 [==============================] - 107s 613ms/step - loss: 0.1552 - accuracy: 0.9951 - val_loss: 0.5314 - val_accuracy: 0.9246\n",
            "Epoch 29/30\n",
            "175/175 [==============================] - 108s 617ms/step - loss: 0.1830 - accuracy: 0.9948 - val_loss: 0.5424 - val_accuracy: 0.9250\n",
            "Epoch 30/30\n",
            "175/175 [==============================] - 106s 608ms/step - loss: 0.1791 - accuracy: 0.9942 - val_loss: 0.5582 - val_accuracy: 0.9304\n"
          ]
        }
      ],
      "source": [
        "# Using EarlyStopping\n",
        "callback =  EarlyStopping(monitor='val_loss',  mode='min', patience=8),\n",
        "checkpoint = ModelCheckpoint(filepath='./',\n",
        "                                        save_weights_only=True,\n",
        "                                        monitor='val_loss',\n",
        "                                        mode='min',\n",
        "                                        save_best_only=True)\n",
        "#epochs 30, batch size 64\n",
        "history_epochs = model.fit(X_train, y_train, \n",
        "                           epochs=30, \n",
        "                           validation_split=0.2, \n",
        "                           batch_size=64,\n",
        "                           callbacks=[callback, checkpoint],\n",
        "                           validation_data=(X_test, y_test))"
      ]
    },
    {
      "cell_type": "code",
      "execution_count": null,
      "metadata": {
        "colab": {
          "base_uri": "https://localhost:8080/",
          "height": 295
        },
        "id": "IHwEWng0HUd2",
        "outputId": "609ed97f-08d5-47e0-a9d6-9d35e3131886"
      },
      "outputs": [
        {
          "output_type": "display_data",
          "data": {
            "text/plain": [
              "<Figure size 432x288 with 1 Axes>"
            ],
            "image/png": "[encoded data removed]"
          },
          "metadata": {
            "needs_background": "light"
          }
        }
      ],
      "source": [
        "plt.plot(history_epochs.history['accuracy'])\n",
        "plt.plot(history_epochs.history['val_accuracy'])\n",
        "plt.title('model accuracy')\n",
        "plt.ylabel('accuracy')\n",
        "plt.xlabel('epoch')\n",
        "plt.legend(['train', 'val'], loc='upper left')\n",
        "plt.show()"
      ]
    },
    {
      "cell_type": "code",
      "execution_count": null,
      "metadata": {
        "colab": {
          "base_uri": "https://localhost:8080/",
          "height": 295
        },
        "id": "-8V7gIGqHghD",
        "outputId": "cac87be8-9e6f-44d6-d211-89c632b6efac"
      },
      "outputs": [
        {
          "output_type": "display_data",
          "data": {
            "text/plain": [
              "<Figure size 432x288 with 1 Axes>"
            ],
            "image/png": "[encoded data removed]"
          },
          "metadata": {
            "needs_background": "light"
          }
        }
      ],
      "source": [
        "plt.plot(history_epochs.history['loss'])\n",
        "plt.plot(history_epochs.history['val_loss'])\n",
        "plt.title('model loss')\n",
        "plt.ylabel('accuracy')\n",
        "plt.xlabel('epoch')\n",
        "plt.legend(['train', 'val'], loc='upper left')\n",
        "plt.show()"
      ]
    },
    {
      "cell_type": "code",
      "execution_count": null,
      "metadata": {
        "colab": {
          "base_uri": "https://localhost:8080/"
        },
        "id": "nnMInxCEYVel",
        "outputId": "59677a65-7a5d-4127-9633-9426e5e41522"
      },
      "outputs": [
        {
          "output_type": "stream",
          "name": "stdout",
          "text": [
            "94/94 [==============================] - 3s 34ms/step - loss: 0.5731 - accuracy: 0.9252\n",
            "Model loss: 0.573114275932312\n",
            "Model acc: 0.925166666507721\n"
          ]
        }
      ],
      "source": [
        "loss, acc = model.evaluate(X_test, y_test, batch_size=64)\n",
        "print('Model loss: {}'.format(loss))\n",
        "print('Model acc: {}'.format(acc))"
      ]
    },
    {
      "cell_type": "code",
      "execution_count": null,
      "metadata": {
        "id": "SExTZoK046zd",
        "colab": {
          "base_uri": "https://localhost:8080/"
        },
        "outputId": "23086d4f-eda9-4253-a1d4-2da8dcd730d4"
      },
      "outputs": [
        {
          "output_type": "stream",
          "name": "stdout",
          "text": [
            "Epoch 1/30\n",
            "350/350 [==============================] - 192s 547ms/step - loss: 3.1452 - accuracy: 0.9389 - val_loss: 1.5763 - val_accuracy: 0.8571\n",
            "Epoch 2/30\n",
            "350/350 [==============================] - 194s 553ms/step - loss: 0.5517 - accuracy: 0.9919 - val_loss: 0.6394 - val_accuracy: 0.9232\n",
            "Epoch 3/30\n",
            "350/350 [==============================] - 186s 532ms/step - loss: 0.2713 - accuracy: 0.9905 - val_loss: 0.6661 - val_accuracy: 0.9250\n",
            "Epoch 4/30\n",
            "350/350 [==============================] - 182s 520ms/step - loss: 0.2523 - accuracy: 0.9923 - val_loss: 0.6513 - val_accuracy: 0.9250\n",
            "Epoch 5/30\n",
            "350/350 [==============================] - 186s 531ms/step - loss: 0.2553 - accuracy: 0.9906 - val_loss: 0.6665 - val_accuracy: 0.9250\n",
            "Epoch 6/30\n",
            "350/350 [==============================] - 184s 524ms/step - loss: 0.2729 - accuracy: 0.9895 - val_loss: 0.7075 - val_accuracy: 0.9286\n",
            "Epoch 7/30\n",
            "350/350 [==============================] - 182s 520ms/step - loss: 0.2833 - accuracy: 0.9891 - val_loss: 0.6656 - val_accuracy: 0.9250\n",
            "Epoch 8/30\n",
            "350/350 [==============================] - 183s 522ms/step - loss: 0.2745 - accuracy: 0.9903 - val_loss: 0.7211 - val_accuracy: 0.9293\n",
            "Epoch 9/30\n",
            "350/350 [==============================] - 186s 532ms/step - loss: 0.3046 - accuracy: 0.9887 - val_loss: 0.6524 - val_accuracy: 0.9200\n",
            "Epoch 10/30\n",
            "350/350 [==============================] - 185s 528ms/step - loss: 0.2431 - accuracy: 0.9909 - val_loss: 0.6111 - val_accuracy: 0.9204\n",
            "Epoch 11/30\n",
            "350/350 [==============================] - 191s 546ms/step - loss: 0.3177 - accuracy: 0.9886 - val_loss: 0.5862 - val_accuracy: 0.9264\n",
            "Epoch 12/30\n",
            "350/350 [==============================] - 184s 524ms/step - loss: 0.2760 - accuracy: 0.9902 - val_loss: 0.6362 - val_accuracy: 0.9196\n",
            "Epoch 13/30\n",
            "350/350 [==============================] - 185s 529ms/step - loss: 0.2793 - accuracy: 0.9909 - val_loss: 0.6106 - val_accuracy: 0.9268\n",
            "Epoch 14/30\n",
            "350/350 [==============================] - 197s 563ms/step - loss: 0.2399 - accuracy: 0.9898 - val_loss: 0.6142 - val_accuracy: 0.9211\n",
            "Epoch 15/30\n",
            "350/350 [==============================] - 186s 531ms/step - loss: 0.2449 - accuracy: 0.9914 - val_loss: 0.6141 - val_accuracy: 0.9275\n",
            "Epoch 16/30\n",
            "350/350 [==============================] - 197s 564ms/step - loss: 0.2455 - accuracy: 0.9911 - val_loss: 0.6037 - val_accuracy: 0.9275\n",
            "Epoch 17/30\n",
            "350/350 [==============================] - 202s 577ms/step - loss: 0.2214 - accuracy: 0.9928 - val_loss: 0.6720 - val_accuracy: 0.9204\n",
            "Epoch 18/30\n",
            "350/350 [==============================] - 183s 524ms/step - loss: 0.2637 - accuracy: 0.9903 - val_loss: 0.6507 - val_accuracy: 0.9254\n",
            "Epoch 19/30\n",
            "350/350 [==============================] - 186s 532ms/step - loss: 0.2656 - accuracy: 0.9919 - val_loss: 0.5663 - val_accuracy: 0.9261\n",
            "Epoch 20/30\n",
            "350/350 [==============================] - 184s 526ms/step - loss: 0.2593 - accuracy: 0.9922 - val_loss: 0.6286 - val_accuracy: 0.9239\n",
            "Epoch 21/30\n",
            "350/350 [==============================] - 186s 531ms/step - loss: 0.2387 - accuracy: 0.9912 - val_loss: 0.6820 - val_accuracy: 0.9239\n",
            "Epoch 22/30\n",
            "350/350 [==============================] - 186s 530ms/step - loss: 0.2396 - accuracy: 0.9935 - val_loss: 0.6274 - val_accuracy: 0.9261\n",
            "Epoch 23/30\n",
            "350/350 [==============================] - 186s 531ms/step - loss: 0.2863 - accuracy: 0.9903 - val_loss: 0.6170 - val_accuracy: 0.9075\n",
            "Epoch 24/30\n",
            "350/350 [==============================] - 190s 542ms/step - loss: 0.2150 - accuracy: 0.9926 - val_loss: 0.5953 - val_accuracy: 0.9221\n",
            "Epoch 25/30\n",
            "350/350 [==============================] - 207s 592ms/step - loss: 0.2229 - accuracy: 0.9931 - val_loss: 0.6425 - val_accuracy: 0.9193\n",
            "Epoch 26/30\n",
            "350/350 [==============================] - 192s 548ms/step - loss: 0.2307 - accuracy: 0.9921 - val_loss: 0.5555 - val_accuracy: 0.9246\n",
            "Epoch 27/30\n",
            "350/350 [==============================] - 188s 538ms/step - loss: 0.2216 - accuracy: 0.9926 - val_loss: 0.6318 - val_accuracy: 0.9125\n",
            "Epoch 28/30\n",
            "350/350 [==============================] - 192s 548ms/step - loss: 0.2187 - accuracy: 0.9925 - val_loss: 0.6223 - val_accuracy: 0.9236\n",
            "Epoch 29/30\n",
            "350/350 [==============================] - 202s 578ms/step - loss: 0.2313 - accuracy: 0.9919 - val_loss: 0.6705 - val_accuracy: 0.9168\n",
            "Epoch 30/30\n",
            "350/350 [==============================] - 204s 583ms/step - loss: 0.2340 - accuracy: 0.9919 - val_loss: 0.6975 - val_accuracy: 0.9164\n"
          ]
        }
      ],
      "source": [
        "# Batch size 32\n",
        "# Using EarlyStopping\n",
        "callback =  EarlyStopping(monitor='val_loss',  mode='min', patience=8),\n",
        "checkpoint = ModelCheckpoint(filepath='./',\n",
        "                                        save_weights_only=True,\n",
        "                                        monitor='val_loss',\n",
        "                                        mode='min',\n",
        "                                        save_best_only=True)\n",
        "\n",
        "history_b32 = model.fit(X_train, y_train, \n",
        "                           epochs=30, \n",
        "                           validation_split=0.2, \n",
        "                           batch_size=32,\n",
        "                           callbacks=[callback, checkpoint],\n",
        "                           validation_data=(X_test, y_test))"
      ]
    },
    {
      "cell_type": "code",
      "execution_count": null,
      "metadata": {
        "colab": {
          "base_uri": "https://localhost:8080/",
          "height": 295
        },
        "outputId": "56acc0f1-10cc-428d-bbef-8a73e3b257e0",
        "id": "raCEfjthDGJ-"
      },
      "outputs": [
        {
          "output_type": "display_data",
          "data": {
            "text/plain": [
              "<Figure size 432x288 with 1 Axes>"
            ],
            "image/png": "[encoded data removed]"
          },
          "metadata": {
            "needs_background": "light"
          }
        }
      ],
      "source": [
        "plt.plot(history_b32.history['accuracy'])\n",
        "plt.plot(history_b32.history['val_accuracy'])\n",
        "plt.title('model accuracy')\n",
        "plt.ylabel('accuracy')\n",
        "plt.xlabel('epoch')\n",
        "plt.legend(['train', 'val'], loc='upper left')\n",
        "plt.show()"
      ]
    },
    {
      "cell_type": "code",
      "execution_count": null,
      "metadata": {
        "colab": {
          "base_uri": "https://localhost:8080/",
          "height": 295
        },
        "outputId": "571cce23-310b-45b5-f1e2-5b4d33c15b2b",
        "id": "JBz44xlZDWRq"
      },
      "outputs": [
        {
          "output_type": "display_data",
          "data": {
            "text/plain": [
              "<Figure size 432x288 with 1 Axes>"
            ],
            "image/png": "[encoded data removed]"
          },
          "metadata": {
            "needs_background": "light"
          }
        }
      ],
      "source": [
        "plt.plot(history_b32.history['loss'])\n",
        "plt.plot(history_b32.history['val_loss'])\n",
        "plt.title('model loss')\n",
        "plt.ylabel('loss')\n",
        "plt.xlabel('epoch')\n",
        "plt.legend(['train', 'val'], loc='upper left')\n",
        "plt.show()"
      ]
    },
    {
      "cell_type": "code",
      "source": [
        "loss, acc = model.evaluate(X_test, y_test, batch_size=32)\n",
        "print('Model loss: {}'.format(loss))\n",
        "print('Model acc: {}'.format(acc))"
      ],
      "metadata": {
        "colab": {
          "base_uri": "https://localhost:8080/"
        },
        "id": "mEw93qVODgEr",
        "outputId": "87c2fb1e-31ec-45b0-9503-e0a9f751668c"
      },
      "execution_count": null,
      "outputs": [
        {
          "output_type": "stream",
          "name": "stdout",
          "text": [
            "188/188 [==============================] - 5s 29ms/step - loss: 0.7004 - accuracy: 0.9097\n",
            "Model loss: 0.7004321217536926\n",
            "Model acc: 0.9096666574478149\n"
          ]
        }
      ]
    },
    {
      "cell_type": "code",
      "execution_count": null,
      "metadata": {
        "id": "dIRBSiMTEfZm",
        "colab": {
          "base_uri": "https://localhost:8080/"
        },
        "outputId": "c168cf5e-f0e3-4120-ec1e-241c12a3f160"
      },
      "outputs": [
        {
          "output_type": "stream",
          "name": "stdout",
          "text": [
            "Epoch 1/30\n",
            "88/88 [==============================] - 66s 726ms/step - loss: 4.1760 - accuracy: 0.8788 - val_loss: 3.4513 - val_accuracy: 0.5889\n",
            "Epoch 2/30\n",
            "88/88 [==============================] - 62s 710ms/step - loss: 1.5348 - accuracy: 0.9966 - val_loss: 2.7739 - val_accuracy: 0.5111\n",
            "Epoch 3/30\n",
            "88/88 [==============================] - 63s 718ms/step - loss: 0.4423 - accuracy: 0.9980 - val_loss: 2.1165 - val_accuracy: 0.5154\n",
            "Epoch 4/30\n",
            "88/88 [==============================] - 67s 759ms/step - loss: 0.1306 - accuracy: 0.9984 - val_loss: 0.8769 - val_accuracy: 0.7218\n",
            "Epoch 5/30\n",
            "88/88 [==============================] - 64s 727ms/step - loss: 0.0767 - accuracy: 0.9980 - val_loss: 0.4834 - val_accuracy: 0.9168\n",
            "Epoch 6/30\n",
            "88/88 [==============================] - 63s 712ms/step - loss: 0.0690 - accuracy: 0.9978 - val_loss: 0.4697 - val_accuracy: 0.9250\n",
            "Epoch 7/30\n",
            "88/88 [==============================] - 64s 723ms/step - loss: 0.0585 - accuracy: 0.9983 - val_loss: 0.4776 - val_accuracy: 0.9193\n",
            "Epoch 8/30\n",
            "88/88 [==============================] - 64s 729ms/step - loss: 0.0806 - accuracy: 0.9977 - val_loss: 0.5084 - val_accuracy: 0.9243\n",
            "Epoch 9/30\n",
            "88/88 [==============================] - 63s 719ms/step - loss: 0.0857 - accuracy: 0.9979 - val_loss: 0.5693 - val_accuracy: 0.9250\n",
            "Epoch 10/30\n",
            "88/88 [==============================] - 64s 729ms/step - loss: 0.0947 - accuracy: 0.9973 - val_loss: 0.5770 - val_accuracy: 0.9246\n",
            "Epoch 11/30\n",
            "88/88 [==============================] - 64s 727ms/step - loss: 0.1379 - accuracy: 0.9968 - val_loss: 0.7455 - val_accuracy: 0.9239\n",
            "Epoch 12/30\n",
            "88/88 [==============================] - 64s 731ms/step - loss: 0.1165 - accuracy: 0.9979 - val_loss: 0.5619 - val_accuracy: 0.9211\n",
            "Epoch 13/30\n",
            "88/88 [==============================] - 63s 714ms/step - loss: 0.1247 - accuracy: 0.9965 - val_loss: 0.6867 - val_accuracy: 0.9207\n",
            "Epoch 14/30\n",
            "88/88 [==============================] - 64s 730ms/step - loss: 0.1183 - accuracy: 0.9975 - val_loss: 0.6238 - val_accuracy: 0.9243\n",
            "Epoch 15/30\n",
            "88/88 [==============================] - 64s 731ms/step - loss: 0.0937 - accuracy: 0.9976 - val_loss: 0.6168 - val_accuracy: 0.9236\n",
            "Epoch 16/30\n",
            "88/88 [==============================] - 66s 746ms/step - loss: 0.1131 - accuracy: 0.9978 - val_loss: 0.6378 - val_accuracy: 0.9125\n",
            "Epoch 17/30\n",
            "88/88 [==============================] - 65s 734ms/step - loss: 0.1107 - accuracy: 0.9978 - val_loss: 0.6174 - val_accuracy: 0.9189\n",
            "Epoch 18/30\n",
            "88/88 [==============================] - 65s 740ms/step - loss: 0.1500 - accuracy: 0.9968 - val_loss: 0.6904 - val_accuracy: 0.9036\n",
            "Epoch 19/30\n",
            "88/88 [==============================] - 66s 747ms/step - loss: 0.1117 - accuracy: 0.9971 - val_loss: 0.6942 - val_accuracy: 0.9186\n",
            "Epoch 20/30\n",
            "88/88 [==============================] - 65s 737ms/step - loss: 0.1148 - accuracy: 0.9974 - val_loss: 0.6368 - val_accuracy: 0.9179\n",
            "Epoch 21/30\n",
            "88/88 [==============================] - 66s 751ms/step - loss: 0.1091 - accuracy: 0.9979 - val_loss: 0.6101 - val_accuracy: 0.9146\n",
            "Epoch 22/30\n",
            "88/88 [==============================] - 65s 734ms/step - loss: 0.1343 - accuracy: 0.9971 - val_loss: 0.6120 - val_accuracy: 0.9168\n",
            "Epoch 23/30\n",
            "88/88 [==============================] - 66s 750ms/step - loss: 0.1176 - accuracy: 0.9972 - val_loss: 0.6239 - val_accuracy: 0.9246\n",
            "Epoch 24/30\n",
            "88/88 [==============================] - 65s 736ms/step - loss: 0.1073 - accuracy: 0.9979 - val_loss: 0.6489 - val_accuracy: 0.9254\n",
            "Epoch 25/30\n",
            "88/88 [==============================] - 66s 747ms/step - loss: 0.1230 - accuracy: 0.9976 - val_loss: 0.5861 - val_accuracy: 0.9229\n",
            "Epoch 26/30\n",
            "88/88 [==============================] - 65s 734ms/step - loss: 0.1091 - accuracy: 0.9972 - val_loss: 0.6895 - val_accuracy: 0.9250\n",
            "Epoch 27/30\n",
            "88/88 [==============================] - 66s 747ms/step - loss: 0.1291 - accuracy: 0.9971 - val_loss: 0.6526 - val_accuracy: 0.9246\n",
            "Epoch 28/30\n",
            "88/88 [==============================] - 65s 734ms/step - loss: 0.1199 - accuracy: 0.9971 - val_loss: 0.6428 - val_accuracy: 0.9136\n",
            "Epoch 29/30\n",
            "88/88 [==============================] - 64s 725ms/step - loss: 0.1405 - accuracy: 0.9973 - val_loss: 0.7462 - val_accuracy: 0.9161\n",
            "Epoch 30/30\n",
            "88/88 [==============================] - 64s 732ms/step - loss: 0.1446 - accuracy: 0.9968 - val_loss: 0.5551 - val_accuracy: 0.9243\n"
          ]
        }
      ],
      "source": [
        "# Batch size 128\n",
        "# Using EarlyStopping\n",
        "#callback =  EarlyStopping(monitor='val_loss',  mode='min', patience=8),\n",
        "#checkpoint = ModelCheckpoint(filepath='./',\n",
        "#                                        save_weights_only=True,\n",
        "#                                        monitor='val_loss',\n",
        "#                                        mode='min',\n",
        "#                                        save_best_only=True)\n",
        "\n",
        "history_b128 = model.fit(X_train, y_train, \n",
        "                           epochs=30, \n",
        "                           validation_split=0.2, \n",
        "                           batch_size=128,\n",
        " #                          callbacks=[callback, checkpoint],\n",
        "                           validation_data=(X_test, y_test))"
      ]
    },
    {
      "cell_type": "code",
      "execution_count": null,
      "metadata": {
        "id": "CTKUDIdzAO6q",
        "colab": {
          "base_uri": "https://localhost:8080/",
          "height": 295
        },
        "outputId": "e91402ec-265a-4b81-dfaa-bfcf25ca60a6"
      },
      "outputs": [
        {
          "output_type": "display_data",
          "data": {
            "text/plain": [
              "<Figure size 432x288 with 1 Axes>"
            ],
            "image/png": "[encoded data removed]"
          },
          "metadata": {
            "needs_background": "light"
          }
        }
      ],
      "source": [
        "plt.plot(history_b128.history['accuracy'])\n",
        "plt.plot(history_b128.history['val_accuracy'])\n",
        "plt.title('model accuracy')\n",
        "plt.ylabel('accuracy')\n",
        "plt.xlabel('epoch')\n",
        "plt.legend(['train', 'val'], loc='upper left')\n",
        "plt.show()"
      ]
    },
    {
      "cell_type": "code",
      "source": [
        "plt.plot(history_b128.history['loss'])\n",
        "plt.plot(history_b128.history['val_loss'])\n",
        "plt.title('model loss')\n",
        "plt.ylabel('loss')\n",
        "plt.xlabel('epoch')\n",
        "plt.legend(['train', 'val'], loc='upper left')\n",
        "plt.show()"
      ],
      "metadata": {
        "colab": {
          "base_uri": "https://localhost:8080/",
          "height": 295
        },
        "id": "6lIjFzi8sx8V",
        "outputId": "093665fa-66c6-4f3e-b178-f748f85f6b58"
      },
      "execution_count": null,
      "outputs": [
        {
          "output_type": "display_data",
          "data": {
            "text/plain": [
              "<Figure size 432x288 with 1 Axes>"
            ],
            "image/png": "[encoded data removed]"
          },
          "metadata": {
            "needs_background": "light"
          }
        }
      ]
    },
    {
      "cell_type": "code",
      "source": [
        "loss, acc = model.evaluate(X_test, y_test, batch_size=128)\n",
        "print('Model loss: {}'.format(loss))\n",
        "print('Model acc: {}'.format(acc))"
      ],
      "metadata": {
        "colab": {
          "base_uri": "https://localhost:8080/"
        },
        "id": "-Dv1356ID8II",
        "outputId": "d5dc9c7b-5232-4323-f89f-e9e64963c1f9"
      },
      "execution_count": null,
      "outputs": [
        {
          "output_type": "stream",
          "name": "stdout",
          "text": [
            "47/47 [==============================] - 2s 52ms/step - loss: 0.5727 - accuracy: 0.9200\n",
            "Model loss: 0.572729229927063\n",
            "Model acc: 0.9200000166893005\n"
          ]
        }
      ]
    },
    {
      "cell_type": "markdown",
      "metadata": {
        "id": "OWYFHOaJHpvr"
      },
      "source": [
        "Model word2vec memiliki akurasi tertinggi sekitar 0.93 atau 93%. Dengan batch size = 64 dan jumlah epochs 15-20."
      ]
    },
    {
      "cell_type": "markdown",
      "metadata": {
        "id": "UZYJG_lb3-HY"
      },
      "source": [
        "# Glove model"
      ]
    },
    {
      "cell_type": "code",
      "execution_count": null,
      "metadata": {
        "colab": {
          "base_uri": "https://localhost:8080/"
        },
        "id": "srmM1SuW4A-I",
        "outputId": "fd4952c4-d53d-4776-d7c1-12b4ea47f3e8"
      },
      "outputs": [
        {
          "output_type": "stream",
          "name": "stdout",
          "text": [
            "--2022-07-18 17:08:14--  http://nlp.stanford.edu/data/glove.6B.zip\n",
            "Resolving nlp.stanford.edu (nlp.stanford.edu)... 171.64.67.140\n",
            "Connecting to nlp.stanford.edu (nlp.stanford.edu)|171.64.67.140|:80... connected.\n",
            "HTTP request sent, awaiting response... 302 Found\n",
            "Location: https://nlp.stanford.edu/data/glove.6B.zip [following]\n",
            "--2022-07-18 17:08:15--  https://nlp.stanford.edu/data/glove.6B.zip\n",
            "Connecting to nlp.stanford.edu (nlp.stanford.edu)|171.64.67.140|:443... connected.\n",
            "HTTP request sent, awaiting response... 301 Moved Permanently\n",
            "Location: https://downloads.cs.stanford.edu/nlp/data/glove.6B.zip [following]\n",
            "--2022-07-18 17:08:15--  https://downloads.cs.stanford.edu/nlp/data/glove.6B.zip\n",
            "Resolving downloads.cs.stanford.edu (downloads.cs.stanford.edu)... 171.64.64.22\n",
            "Connecting to downloads.cs.stanford.edu (downloads.cs.stanford.edu)|171.64.64.22|:443... connected.\n",
            "HTTP request sent, awaiting response... 200 OK\n",
            "Length: 862182613 (822M) [application/zip]\n",
            "Saving to: ‘glove.6B.zip’\n",
            "\n",
            "glove.6B.zip        100%[===================>] 822.24M  5.13MB/s    in 2m 40s  \n",
            "\n",
            "2022-07-18 17:10:55 (5.14 MB/s) - ‘glove.6B.zip’ saved [862182613/862182613]\n",
            "\n"
          ]
        }
      ],
      "source": [
        "!wget http://nlp.stanford.edu/data/glove.6B.zip"
      ]
    },
    {
      "cell_type": "code",
      "execution_count": null,
      "metadata": {
        "id": "IVCNIbg_JoiO"
      },
      "outputs": [],
      "source": [
        "!unzip -q glove.6B.zip"
      ]
    },
    {
      "cell_type": "code",
      "execution_count": null,
      "metadata": {
        "id": "vJQ6luyaNHHn"
      },
      "outputs": [],
      "source": [
        "import os"
      ]
    },
    {
      "cell_type": "code",
      "execution_count": null,
      "metadata": {
        "colab": {
          "base_uri": "https://localhost:8080/"
        },
        "id": "NPN87e28N7AE",
        "outputId": "7ce9b16d-c2b6-4ec1-e709-4a9782315da8"
      },
      "outputs": [
        {
          "output_type": "stream",
          "name": "stdout",
          "text": [
            "checkpoint  glove.6B.100d.txt  glove.6B.300d.txt  glove.6B.zip\n",
            "\u001b[0m\u001b[01;34mdrive\u001b[0m/      glove.6B.200d.txt  glove.6B.50d.txt   \u001b[01;34msample_data\u001b[0m/\n"
          ]
        }
      ],
      "source": [
        "%ls"
      ]
    },
    {
      "cell_type": "code",
      "execution_count": null,
      "metadata": {
        "colab": {
          "base_uri": "https://localhost:8080/"
        },
        "id": "CoZMNK6iOHOj",
        "outputId": "f0d7a8c0-1f35-428e-d855-c906c7d43a2e"
      },
      "outputs": [
        {
          "output_type": "stream",
          "name": "stderr",
          "text": [
            "2022-07-18 17:12:11,596 : INFO : converting 400000 vectors from glove.6B.300d.txt to word2vec.txt\n"
          ]
        },
        {
          "output_type": "execute_result",
          "data": {
            "text/plain": [
              "(400000, 300)"
            ]
          },
          "metadata": {},
          "execution_count": 81
        }
      ],
      "source": [
        "from gensim.scripts.glove2word2vec import glove2word2vec\n",
        "glove_input_file = 'glove.6B.300d.txt'\n",
        "word2vec_output_file = 'word2vec.txt'\n",
        "# The first step is to convert the GloVe file format to the word2vec file format. \n",
        "# The only difference is the addition of a small header line. This can be done by calling the \n",
        "# glove2word2vec() function.\n",
        "glove2word2vec(glove_input_file, word2vec_output_file)"
      ]
    },
    {
      "cell_type": "code",
      "execution_count": null,
      "metadata": {
        "colab": {
          "base_uri": "https://localhost:8080/"
        },
        "id": "U3Ir6xwCOPA0",
        "outputId": "0a92f416-489e-4d60-f326-39ea70054bba"
      },
      "outputs": [
        {
          "output_type": "stream",
          "name": "stderr",
          "text": [
            "2022-07-18 17:12:23,247 : INFO : loading projection weights from word2vec.txt\n",
            "2022-07-18 17:12:47,222 : INFO : loaded (150000, 300) matrix from word2vec.txt\n"
          ]
        }
      ],
      "source": [
        "from gensim.models import KeyedVectors\n",
        "glove = KeyedVectors.load_word2vec_format(word2vec_output_file, binary=False, limit=150000)"
      ]
    },
    {
      "cell_type": "code",
      "execution_count": null,
      "metadata": {
        "colab": {
          "base_uri": "https://localhost:8080/"
        },
        "id": "ePt6kAHAPGcL",
        "outputId": "b2295190-8cd1-4eeb-9836-bab31b521d30"
      },
      "outputs": [
        {
          "name": "stderr",
          "output_type": "stream",
          "text": [
            "2022-06-08 12:17:56,312 : INFO : precomputing L2-norms of word weight vectors\n"
          ]
        },
        {
          "name": "stdout",
          "output_type": "stream",
          "text": [
            "[('queen', 0.6713277101516724)]\n"
          ]
        }
      ],
      "source": [
        "# calculate: (king - man) + woman = ?\n",
        "result = glove.most_similar(positive=['woman', 'king'], negative=['man'], topn=1)\n",
        "print(result)"
      ]
    },
    {
      "cell_type": "markdown",
      "metadata": {
        "id": "w98m0EW_PaSa"
      },
      "source": [
        "## CNN MODEL FOR GLOVE"
      ]
    },
    {
      "cell_type": "code",
      "execution_count": null,
      "metadata": {
        "colab": {
          "base_uri": "https://localhost:8080/",
          "height": 246
        },
        "id": "upfvhBDTPVOh",
        "outputId": "dc8ed758-8efd-4ec4-d33a-4bfe032ee961"
      },
      "outputs": [
        {
          "output_type": "error",
          "ename": "NameError",
          "evalue": "ignored",
          "traceback": [
            "\u001b[0;31m---------------------------------------------------------------------------\u001b[0m",
            "\u001b[0;31mNameError\u001b[0m                                 Traceback (most recent call last)",
            "\u001b[0;32m<ipython-input-27-bbe35f52f4c9>\u001b[0m in \u001b[0;36m<module>\u001b[0;34m()\u001b[0m\n\u001b[0;32m----> 1\u001b[0;31m embedding_layer = Embedding(input_dim=150000, output_dim=300, weights=[glove.vectors], \n\u001b[0m\u001b[1;32m      2\u001b[0m                             input_length=X.shape[1])\n\u001b[1;32m      3\u001b[0m \u001b[0mprint\u001b[0m\u001b[0;34m(\u001b[0m\u001b[0;34m'Embedding layer defined.'\u001b[0m\u001b[0;34m)\u001b[0m\u001b[0;34m\u001b[0m\u001b[0;34m\u001b[0m\u001b[0m\n\u001b[1;32m      4\u001b[0m \u001b[0mmodel\u001b[0m \u001b[0;34m=\u001b[0m \u001b[0mSequential\u001b[0m\u001b[0;34m(\u001b[0m\u001b[0;34m)\u001b[0m\u001b[0;34m\u001b[0m\u001b[0;34m\u001b[0m\u001b[0m\n\u001b[1;32m      5\u001b[0m \u001b[0mmodel\u001b[0m\u001b[0;34m.\u001b[0m\u001b[0madd\u001b[0m\u001b[0;34m(\u001b[0m\u001b[0membedding_layer\u001b[0m\u001b[0;34m)\u001b[0m\u001b[0;34m\u001b[0m\u001b[0;34m\u001b[0m\u001b[0m\n",
            "\u001b[0;31mNameError\u001b[0m: name 'glove' is not defined"
          ]
        }
      ],
      "source": [
        "embedding_layer = Embedding(input_dim=150000, output_dim=300, weights=[glove.vectors], \n",
        "                            input_length=X.shape[1])\n",
        "print('Embedding layer defined.')\n",
        "model = Sequential()\n",
        "model.add(embedding_layer)\n",
        "model.add(BatchNormalization())\n",
        "model.add(Dropout(0.4))\n",
        "model.add(Conv1D(filters=128, kernel_size=7, padding='same', activation='relu', kernel_regularizer=regularizers.l2(l=0.01),\n",
        "                 kernel_initializer='he_normal'))\n",
        "model.add(BatchNormalization())\n",
        "model.add(Dropout(0.4))\n",
        "model.add(Conv1D(filters=128, kernel_size=3, padding='same', activation='relu', kernel_regularizer=regularizers.l2(l=0.01),\n",
        "                 kernel_initializer='he_normal'))\n",
        "model.add(MaxPooling1D(pool_size=3))\n",
        "model.add(BatchNormalization())\n",
        "model.add(Dropout(0.4))\n",
        "model.add(Flatten())\n",
        "model.add(BatchNormalization())\n",
        "model.add(Dropout(0.4))\n",
        "model.add(Dense(32, activation='relu'))\n",
        "model.add(BatchNormalization())\n",
        "model.add(Dropout(0.4))\n",
        "model.add(Dense(32, activation = 'relu'))\n",
        "model.add(BatchNormalization())\n",
        "model.add(Dropout(0.5))\n",
        "model.add(Dense(1, activation='sigmoid'))\n",
        "\n",
        "adam = Adam(lr=0.0001, beta_1=0.9, beta_2=0.999, epsilon=1e-08, decay=0.0)\n",
        "model.compile(loss='binary_crossentropy', optimizer='adam', metrics=['accuracy'])\n",
        "model.summary()"
      ]
    },
    {
      "cell_type": "code",
      "source": [
        "# Using EarlyStopping\n",
        "callback =  EarlyStopping(monitor='val_loss',  mode='min', patience=8),\n",
        "checkpoint = ModelCheckpoint(filepath='./',\n",
        "                                        save_weights_only=True,\n",
        "                                        monitor='val_loss',\n",
        "                                        mode='min',\n",
        "                                        save_best_only=True)\n",
        "#epochs 30, batch size 64\n",
        "history_epochs = model.fit(X_train, y_train, \n",
        "                           epochs=30, \n",
        "                           validation_split=0.2, \n",
        "                           batch_size=64,\n",
        "                           callbacks=[callback, checkpoint],\n",
        "                           validation_data=(X_test, y_test))"
      ],
      "metadata": {
        "colab": {
          "base_uri": "https://localhost:8080/"
        },
        "id": "bdYRlw35TN_n",
        "outputId": "d72f83d8-e9ab-4479-9b65-3ef39ad1da21"
      },
      "execution_count": null,
      "outputs": [
        {
          "output_type": "stream",
          "name": "stdout",
          "text": [
            "Epoch 1/30\n",
            "175/175 [==============================] - 112s 625ms/step - loss: 4.9131 - accuracy: 0.5624 - val_loss: 4.4551 - val_accuracy: 0.4939\n",
            "Epoch 2/30\n",
            "175/175 [==============================] - 114s 650ms/step - loss: 2.7921 - accuracy: 0.7378 - val_loss: 3.6590 - val_accuracy: 0.4957\n",
            "Epoch 3/30\n",
            "175/175 [==============================] - 112s 639ms/step - loss: 1.4660 - accuracy: 0.8550 - val_loss: 1.4888 - val_accuracy: 0.6675\n",
            "Epoch 4/30\n",
            "175/175 [==============================] - 114s 653ms/step - loss: 0.8219 - accuracy: 0.8959 - val_loss: 0.8896 - val_accuracy: 0.7957\n",
            "Epoch 5/30\n",
            "175/175 [==============================] - 109s 624ms/step - loss: 0.5450 - accuracy: 0.9243 - val_loss: 0.5299 - val_accuracy: 0.9064\n",
            "Epoch 6/30\n",
            "175/175 [==============================] - 110s 631ms/step - loss: 0.4239 - accuracy: 0.9388 - val_loss: 0.4636 - val_accuracy: 0.9164\n",
            "Epoch 7/30\n",
            "175/175 [==============================] - 109s 621ms/step - loss: 0.3725 - accuracy: 0.9474 - val_loss: 0.4470 - val_accuracy: 0.9118\n",
            "Epoch 8/30\n",
            "175/175 [==============================] - 110s 630ms/step - loss: 0.3105 - accuracy: 0.9592 - val_loss: 0.4210 - val_accuracy: 0.9200\n",
            "Epoch 9/30\n",
            "175/175 [==============================] - 112s 639ms/step - loss: 0.3027 - accuracy: 0.9616 - val_loss: 0.4431 - val_accuracy: 0.9204\n",
            "Epoch 10/30\n",
            "175/175 [==============================] - 108s 617ms/step - loss: 0.2800 - accuracy: 0.9680 - val_loss: 0.4647 - val_accuracy: 0.9154\n",
            "Epoch 11/30\n",
            "175/175 [==============================] - 110s 631ms/step - loss: 0.2833 - accuracy: 0.9692 - val_loss: 0.4151 - val_accuracy: 0.9307\n",
            "Epoch 12/30\n",
            "175/175 [==============================] - 106s 605ms/step - loss: 0.2903 - accuracy: 0.9718 - val_loss: 0.4666 - val_accuracy: 0.9246\n",
            "Epoch 13/30\n",
            "175/175 [==============================] - 110s 629ms/step - loss: 0.2867 - accuracy: 0.9723 - val_loss: 0.4883 - val_accuracy: 0.9236\n",
            "Epoch 14/30\n",
            "175/175 [==============================] - 108s 618ms/step - loss: 0.2593 - accuracy: 0.9771 - val_loss: 0.4422 - val_accuracy: 0.9243\n",
            "Epoch 15/30\n",
            "175/175 [==============================] - 112s 643ms/step - loss: 0.2846 - accuracy: 0.9749 - val_loss: 0.5018 - val_accuracy: 0.9139\n",
            "Epoch 16/30\n",
            "175/175 [==============================] - 109s 621ms/step - loss: 0.2748 - accuracy: 0.9783 - val_loss: 0.4580 - val_accuracy: 0.9261\n",
            "Epoch 17/30\n",
            "175/175 [==============================] - 119s 680ms/step - loss: 0.2651 - accuracy: 0.9785 - val_loss: 0.4550 - val_accuracy: 0.9232\n",
            "Epoch 18/30\n",
            "175/175 [==============================] - 109s 622ms/step - loss: 0.2672 - accuracy: 0.9788 - val_loss: 0.5002 - val_accuracy: 0.9239\n",
            "Epoch 19/30\n",
            "175/175 [==============================] - 114s 652ms/step - loss: 0.2740 - accuracy: 0.9834 - val_loss: 0.4821 - val_accuracy: 0.9207\n"
          ]
        }
      ]
    },
    {
      "cell_type": "code",
      "source": [
        "plt.plot(history_epochs.history['accuracy'])\n",
        "plt.plot(history_epochs.history['val_accuracy'])\n",
        "plt.title('model accuracy')\n",
        "plt.ylabel('accuracy')\n",
        "plt.xlabel('epoch')\n",
        "plt.legend(['train', 'val'], loc='upper left')\n",
        "plt.show()"
      ],
      "metadata": {
        "colab": {
          "base_uri": "https://localhost:8080/",
          "height": 295
        },
        "id": "0ddg2z_nba9L",
        "outputId": "b15aa627-8756-4ba0-cbdd-8d4637db5288"
      },
      "execution_count": null,
      "outputs": [
        {
          "output_type": "display_data",
          "data": {
            "text/plain": [
              "<Figure size 432x288 with 1 Axes>"
            ],
            "image/png": "[encoded data removed]"
          },
          "metadata": {
            "needs_background": "light"
          }
        }
      ]
    },
    {
      "cell_type": "code",
      "source": [
        "plt.plot(history_epochs.history['loss'])\n",
        "plt.plot(history_epochs.history['val_loss'])\n",
        "plt.title('model loss')\n",
        "plt.ylabel('loss')\n",
        "plt.xlabel('epoch')\n",
        "plt.legend(['train', 'val'], loc='upper left')\n",
        "plt.show()"
      ],
      "metadata": {
        "colab": {
          "base_uri": "https://localhost:8080/",
          "height": 295
        },
        "id": "mKQgTM4bbiQJ",
        "outputId": "e9c530a4-38b6-4e07-a4dd-edd9b3eaf7d7"
      },
      "execution_count": null,
      "outputs": [
        {
          "output_type": "display_data",
          "data": {
            "text/plain": [
              "<Figure size 432x288 with 1 Axes>"
            ],
            "image/png": "[encoded data removed]"
          },
          "metadata": {
            "needs_background": "light"
          }
        }
      ]
    },
    {
      "cell_type": "code",
      "execution_count": null,
      "metadata": {
        "colab": {
          "base_uri": "https://localhost:8080/"
        },
        "id": "dbw9fUiBTAcK",
        "outputId": "dbde2513-42f9-4c46-8eb3-5d9e396d40a2"
      },
      "outputs": [
        {
          "output_type": "stream",
          "name": "stdout",
          "text": [
            "94/94 [==============================] - 4s 38ms/step - loss: 0.4908 - accuracy: 0.9207\n",
            "Model loss: 0.49075058102607727\n",
            "Model acc: 0.9206666946411133\n"
          ]
        }
      ],
      "source": [
        "loss, acc = model.evaluate(X_test, y_test, batch_size=64)\n",
        "print('Model loss: {}'.format(loss))\n",
        "print('Model acc: {}'.format(acc))"
      ]
    },
    {
      "cell_type": "code",
      "execution_count": null,
      "metadata": {
        "colab": {
          "base_uri": "https://localhost:8080/"
        },
        "id": "x89PTZyrTFDf",
        "outputId": "0591731d-c9f2-4d77-b571-41fc82fdc4ca"
      },
      "outputs": [
        {
          "name": "stdout",
          "output_type": "stream",
          "text": [
            "Prediction done.\n"
          ]
        }
      ],
      "source": [
        "y_pred = model.predict(X_test)\n",
        "print('Prediction done.')"
      ]
    },
    {
      "cell_type": "code",
      "execution_count": null,
      "metadata": {
        "id": "8X721PcVTJOV"
      },
      "outputs": [],
      "source": [
        "labels = [0,1]\n",
        "prediction_labels=[]\n",
        "for p in y_pred:\n",
        "    prediction_labels.append(labels[np.argmax(p)])"
      ]
    },
    {
      "cell_type": "code",
      "execution_count": null,
      "metadata": {
        "colab": {
          "base_uri": "https://localhost:8080/"
        },
        "id": "ekCaVjk5TSeH",
        "outputId": "018712d4-2fa1-4d54-ccc0-590a8b84f42b"
      },
      "outputs": [
        {
          "name": "stdout",
          "output_type": "stream",
          "text": [
            "[[2783  200]\n",
            " [ 597 2420]]\n"
          ]
        }
      ],
      "source": [
        "y_pred = prediction_labels\n",
        "cm = confusion_matrix(y_test, y_pred)\n",
        "print(cm)"
      ]
    },
    {
      "cell_type": "code",
      "execution_count": null,
      "metadata": {
        "colab": {
          "base_uri": "https://localhost:8080/"
        },
        "id": "LMoknb6ITVHJ",
        "outputId": "35f41e43-cafa-4c7d-f9a6-3f1857bcc4ce"
      },
      "outputs": [
        {
          "name": "stdout",
          "output_type": "stream",
          "text": [
            "              precision    recall  f1-score   support\n",
            "\n",
            "           0       0.82      0.93      0.87      2983\n",
            "           1       0.92      0.80      0.86      3017\n",
            "\n",
            "    accuracy                           0.87      6000\n",
            "   macro avg       0.87      0.87      0.87      6000\n",
            "weighted avg       0.87      0.87      0.87      6000\n",
            "\n"
          ]
        }
      ],
      "source": [
        "print(classification_report(y_test, y_pred))"
      ]
    },
    {
      "cell_type": "code",
      "execution_count": null,
      "metadata": {
        "colab": {
          "base_uri": "https://localhost:8080/",
          "height": 295
        },
        "id": "MOK9N1MWb8p8",
        "outputId": "3711d763-efd3-4add-d329-0d22e831435f"
      },
      "outputs": [
        {
          "data": {
            "image/png": "[encoded data removed]",
            "text/plain": [
              "<Figure size 432x288 with 1 Axes>"
            ]
          },
          "metadata": {},
          "output_type": "display_data"
        }
      ],
      "source": [
        "plt.plot(history_epochs.history['accuracy'])\n",
        "plt.plot(history_epochs.history['val_accuracy'])\n",
        "plt.title('model accuracy')\n",
        "plt.ylabel('accuracy')\n",
        "plt.xlabel('epoch')\n",
        "plt.legend(['train', 'val'], loc='upper left')\n",
        "plt.show()"
      ]
    },
    {
      "cell_type": "code",
      "execution_count": null,
      "metadata": {
        "colab": {
          "base_uri": "https://localhost:8080/",
          "height": 295
        },
        "id": "RPsWY240cISk",
        "outputId": "c9992f41-a59c-44d4-c303-0bd566468392"
      },
      "outputs": [
        {
          "data": {
            "image/png": "[encoded data removed]",
            "text/plain": [
              "<Figure size 432x288 with 1 Axes>"
            ]
          },
          "metadata": {},
          "output_type": "display_data"
        }
      ],
      "source": [
        "plt.plot(history_epochs.history['loss'])\n",
        "plt.plot(history_epochs.history['val_loss'])\n",
        "plt.title('model accuracy')\n",
        "plt.ylabel('accuracy')\n",
        "plt.xlabel('epoch')\n",
        "plt.legend(['train', 'val'], loc='upper left')\n",
        "plt.show()"
      ]
    },
    {
      "cell_type": "markdown",
      "metadata": {
        "id": "6SD5zYxfcOnv"
      },
      "source": [
        "Untuk glove batch size = 64 dan epochs 20-24 menghasilkan akurasi tertinggi 0.92 atau 92%. (dengan performa yang sama seperti word2vec)"
      ]
    },
    {
      "cell_type": "markdown",
      "metadata": {
        "id": "ZJSGpvBbce25"
      },
      "source": [
        "# FastText"
      ]
    },
    {
      "cell_type": "code",
      "execution_count": null,
      "metadata": {
        "colab": {
          "base_uri": "https://localhost:8080/"
        },
        "id": "Th_nn6AZdmfq",
        "outputId": "8c09cdc6-0b75-426f-a6e5-1ef95b63c169"
      },
      "outputs": [
        {
          "output_type": "stream",
          "name": "stdout",
          "text": [
            "--2022-07-19 03:08:06--  https://github.com/facebookresearch/fastText/archive/0.2.0.zip\n",
            "Resolving github.com (github.com)... 140.82.114.4\n",
            "Connecting to github.com (github.com)|140.82.114.4|:443... connected.\n",
            "HTTP request sent, awaiting response... 302 Found\n",
            "Location: https://codeload.github.com/facebookresearch/fastText/zip/refs/tags/0.2.0 [following]\n",
            "--2022-07-19 03:08:06--  https://codeload.github.com/facebookresearch/fastText/zip/refs/tags/0.2.0\n",
            "Resolving codeload.github.com (codeload.github.com)... 140.82.113.10\n",
            "Connecting to codeload.github.com (codeload.github.com)|140.82.113.10|:443... connected.\n",
            "HTTP request sent, awaiting response... 200 OK\n",
            "Length: unspecified [application/zip]\n",
            "Saving to: ‘0.2.0.zip’\n",
            "\n",
            "0.2.0.zip               [  <=>               ]   4.10M  16.1MB/s    in 0.3s    \n",
            "\n",
            "2022-07-19 03:08:06 (16.1 MB/s) - ‘0.2.0.zip’ saved [4304799]\n",
            "\n",
            "Archive:  0.2.0.zip\n",
            "7842495a4d64c7a3bb4339d45d6e64321d002ed8\n",
            "   creating: fastText-0.2.0/\n",
            "   creating: fastText-0.2.0/.circleci/\n",
            "  inflating: fastText-0.2.0/.circleci/cmake_test.sh  \n",
            "  inflating: fastText-0.2.0/.circleci/config.yml  \n",
            "  inflating: fastText-0.2.0/.circleci/gcc_test.sh  \n",
            "  inflating: fastText-0.2.0/.circleci/pip_test.sh  \n",
            "  inflating: fastText-0.2.0/.circleci/pull_data.sh  \n",
            "  inflating: fastText-0.2.0/.circleci/python_test.sh  \n",
            "  inflating: fastText-0.2.0/.circleci/run_locally.sh  \n",
            "  inflating: fastText-0.2.0/.circleci/setup_circleimg.sh  \n",
            "  inflating: fastText-0.2.0/.circleci/setup_debian.sh  \n",
            "  inflating: fastText-0.2.0/.gitignore  \n",
            "  inflating: fastText-0.2.0/CMakeLists.txt  \n",
            "  inflating: fastText-0.2.0/CONTRIBUTING.md  \n",
            "  inflating: fastText-0.2.0/LICENSE  \n",
            "  inflating: fastText-0.2.0/MANIFEST.in  \n",
            "  inflating: fastText-0.2.0/Makefile  \n",
            "  inflating: fastText-0.2.0/README.md  \n",
            "   creating: fastText-0.2.0/alignment/\n",
            "  inflating: fastText-0.2.0/alignment/README.md  \n",
            "  inflating: fastText-0.2.0/alignment/align.py  \n",
            "  inflating: fastText-0.2.0/alignment/eval.py  \n",
            "  inflating: fastText-0.2.0/alignment/example.sh  \n",
            "  inflating: fastText-0.2.0/alignment/utils.py  \n",
            "  inflating: fastText-0.2.0/classification-example.sh  \n",
            "  inflating: fastText-0.2.0/classification-results.sh  \n",
            "   creating: fastText-0.2.0/docs/\n",
            "  inflating: fastText-0.2.0/docs/aligned-vectors.md  \n",
            "  inflating: fastText-0.2.0/docs/api.md  \n",
            "  inflating: fastText-0.2.0/docs/cheatsheet.md  \n",
            "  inflating: fastText-0.2.0/docs/crawl-vectors.md  \n",
            "  inflating: fastText-0.2.0/docs/dataset.md  \n",
            "  inflating: fastText-0.2.0/docs/english-vectors.md  \n",
            "  inflating: fastText-0.2.0/docs/faqs.md  \n",
            "  inflating: fastText-0.2.0/docs/language-identification.md  \n",
            "  inflating: fastText-0.2.0/docs/options.md  \n",
            "  inflating: fastText-0.2.0/docs/pretrained-vectors.md  \n",
            "  inflating: fastText-0.2.0/docs/references.md  \n",
            "  inflating: fastText-0.2.0/docs/supervised-models.md  \n",
            "  inflating: fastText-0.2.0/docs/supervised-tutorial.md  \n",
            "  inflating: fastText-0.2.0/docs/support.md  \n",
            "  inflating: fastText-0.2.0/docs/unsupervised-tutorials.md  \n",
            "  inflating: fastText-0.2.0/eval.py  \n",
            "  inflating: fastText-0.2.0/get-wikimedia.sh  \n",
            "  inflating: fastText-0.2.0/pretrained-vectors.md  \n",
            "   creating: fastText-0.2.0/python/\n",
            "  inflating: fastText-0.2.0/python/README.md  \n",
            "  inflating: fastText-0.2.0/python/README.rst  \n",
            "   creating: fastText-0.2.0/python/benchmarks/\n",
            "  inflating: fastText-0.2.0/python/benchmarks/README.rst  \n",
            "  inflating: fastText-0.2.0/python/benchmarks/get_word_vector.py  \n",
            "   creating: fastText-0.2.0/python/doc/\n",
            "   creating: fastText-0.2.0/python/doc/examples/\n",
            "  inflating: fastText-0.2.0/python/doc/examples/FastTextEmbeddingBag.py  \n",
            "  inflating: fastText-0.2.0/python/doc/examples/bin_to_vec.py  \n",
            "  inflating: fastText-0.2.0/python/doc/examples/compute_accuracy.py  \n",
            "  inflating: fastText-0.2.0/python/doc/examples/get_vocab.py  \n",
            "  inflating: fastText-0.2.0/python/doc/examples/train_supervised.py  \n",
            "  inflating: fastText-0.2.0/python/doc/examples/train_unsupervised.py  \n",
            "   creating: fastText-0.2.0/python/fastText/\n",
            "  inflating: fastText-0.2.0/python/fastText/FastText.py  \n",
            "  inflating: fastText-0.2.0/python/fastText/__init__.py  \n",
            "   creating: fastText-0.2.0/python/fastText/pybind/\n",
            "  inflating: fastText-0.2.0/python/fastText/pybind/fasttext_pybind.cc  \n",
            "   creating: fastText-0.2.0/python/fastText/tests/\n",
            "  inflating: fastText-0.2.0/python/fastText/tests/__init__.py  \n",
            "  inflating: fastText-0.2.0/python/fastText/tests/test_configurations.py  \n",
            "  inflating: fastText-0.2.0/python/fastText/tests/test_script.py  \n",
            "   creating: fastText-0.2.0/python/fastText/util/\n",
            "  inflating: fastText-0.2.0/python/fastText/util/__init__.py  \n",
            "  inflating: fastText-0.2.0/python/fastText/util/util.py  \n",
            "  inflating: fastText-0.2.0/quantization-example.sh  \n",
            "  inflating: fastText-0.2.0/runtests.py  \n",
            "   creating: fastText-0.2.0/scripts/\n",
            "   creating: fastText-0.2.0/scripts/kbcompletion/\n",
            "  inflating: fastText-0.2.0/scripts/kbcompletion/README.md  \n",
            "  inflating: fastText-0.2.0/scripts/kbcompletion/data.sh  \n",
            "  inflating: fastText-0.2.0/scripts/kbcompletion/eval.cpp  \n",
            "  inflating: fastText-0.2.0/scripts/kbcompletion/fb15k.sh  \n",
            "  inflating: fastText-0.2.0/scripts/kbcompletion/fb15k237.sh  \n",
            "  inflating: fastText-0.2.0/scripts/kbcompletion/svo.sh  \n",
            "  inflating: fastText-0.2.0/scripts/kbcompletion/wn18.sh  \n",
            "   creating: fastText-0.2.0/scripts/quantization/\n",
            "  inflating: fastText-0.2.0/scripts/quantization/quantization-results.sh  \n",
            " extracting: fastText-0.2.0/setup.cfg  \n",
            "  inflating: fastText-0.2.0/setup.py  \n",
            "   creating: fastText-0.2.0/src/\n",
            "  inflating: fastText-0.2.0/src/args.cc  \n",
            "  inflating: fastText-0.2.0/src/args.h  \n",
            "  inflating: fastText-0.2.0/src/dictionary.cc  \n",
            "  inflating: fastText-0.2.0/src/dictionary.h  \n",
            "  inflating: fastText-0.2.0/src/fasttext.cc  \n",
            "  inflating: fastText-0.2.0/src/fasttext.h  \n",
            "  inflating: fastText-0.2.0/src/main.cc  \n",
            "  inflating: fastText-0.2.0/src/matrix.cc  \n",
            "  inflating: fastText-0.2.0/src/matrix.h  \n",
            "  inflating: fastText-0.2.0/src/meter.cc  \n",
            "  inflating: fastText-0.2.0/src/meter.h  \n",
            "  inflating: fastText-0.2.0/src/model.cc  \n",
            "  inflating: fastText-0.2.0/src/model.h  \n",
            "  inflating: fastText-0.2.0/src/productquantizer.cc  \n",
            "  inflating: fastText-0.2.0/src/productquantizer.h  \n",
            "  inflating: fastText-0.2.0/src/qmatrix.cc  \n",
            "  inflating: fastText-0.2.0/src/qmatrix.h  \n",
            "  inflating: fastText-0.2.0/src/real.h  \n",
            "  inflating: fastText-0.2.0/src/utils.cc  \n",
            "  inflating: fastText-0.2.0/src/utils.h  \n",
            "  inflating: fastText-0.2.0/src/vector.cc  \n",
            "  inflating: fastText-0.2.0/src/vector.h  \n",
            "   creating: fastText-0.2.0/tests/\n",
            "  inflating: fastText-0.2.0/tests/fetch_test_data.sh  \n",
            "   creating: fastText-0.2.0/website/\n",
            "  inflating: fastText-0.2.0/website/README.md  \n",
            "   creating: fastText-0.2.0/website/blog/\n",
            "  inflating: fastText-0.2.0/website/blog/2016-08-18-blog-post.md  \n",
            "  inflating: fastText-0.2.0/website/blog/2017-05-02-blog-post.md  \n",
            "  inflating: fastText-0.2.0/website/blog/2017-10-02-blog-post.md  \n",
            "   creating: fastText-0.2.0/website/core/\n",
            "  inflating: fastText-0.2.0/website/core/Footer.js  \n",
            "  inflating: fastText-0.2.0/website/package.json  \n",
            "   creating: fastText-0.2.0/website/pages/\n",
            "   creating: fastText-0.2.0/website/pages/en/\n",
            "  inflating: fastText-0.2.0/website/pages/en/index.js  \n",
            "  inflating: fastText-0.2.0/website/sidebars.json  \n",
            "  inflating: fastText-0.2.0/website/siteConfig.js  \n",
            "   creating: fastText-0.2.0/website/static/\n",
            "   creating: fastText-0.2.0/website/static/docs/\n",
            "   creating: fastText-0.2.0/website/static/docs/en/\n",
            "   creating: fastText-0.2.0/website/static/docs/en/html/\n",
            " extracting: fastText-0.2.0/website/static/docs/en/html/.classfasttext_1_1QMatrix-members.html.i4eKqy  \n",
            "  inflating: fastText-0.2.0/website/static/docs/en/html/annotated.html  \n",
            "  inflating: fastText-0.2.0/website/static/docs/en/html/annotated_dup.js  \n",
            "  inflating: fastText-0.2.0/website/static/docs/en/html/args_8cc.html  \n",
            "  inflating: fastText-0.2.0/website/static/docs/en/html/args_8h.html  \n",
            "  inflating: fastText-0.2.0/website/static/docs/en/html/args_8h.js  \n",
            "  inflating: fastText-0.2.0/website/static/docs/en/html/args_8h_source.html  \n",
            " extracting: fastText-0.2.0/website/static/docs/en/html/bc_s.png  \n",
            "  inflating: fastText-0.2.0/website/static/docs/en/html/bdwn.png  \n",
            "  inflating: fastText-0.2.0/website/static/docs/en/html/classes.html  \n",
            "  inflating: fastText-0.2.0/website/static/docs/en/html/classfasttext_1_1Args-members.html  \n",
            "  inflating: fastText-0.2.0/website/static/docs/en/html/classfasttext_1_1Args.html  \n",
            "  inflating: fastText-0.2.0/website/static/docs/en/html/classfasttext_1_1Args.js  \n",
            "  inflating: fastText-0.2.0/website/static/docs/en/html/classfasttext_1_1Dictionary-members.html  \n",
            "  inflating: fastText-0.2.0/website/static/docs/en/html/classfasttext_1_1Dictionary.html  \n",
            "  inflating: fastText-0.2.0/website/static/docs/en/html/classfasttext_1_1Dictionary.js  \n",
            "  inflating: fastText-0.2.0/website/static/docs/en/html/classfasttext_1_1FastText-members.html  \n",
            "  inflating: fastText-0.2.0/website/static/docs/en/html/classfasttext_1_1FastText.html  \n",
            "  inflating: fastText-0.2.0/website/static/docs/en/html/classfasttext_1_1FastText.js  \n",
            "  inflating: fastText-0.2.0/website/static/docs/en/html/classfasttext_1_1Matrix-members.html  \n",
            "  inflating: fastText-0.2.0/website/static/docs/en/html/classfasttext_1_1Matrix.html  \n",
            "  inflating: fastText-0.2.0/website/static/docs/en/html/classfasttext_1_1Matrix.js  \n",
            "  inflating: fastText-0.2.0/website/static/docs/en/html/classfasttext_1_1Model-members.html  \n",
            "  inflating: fastText-0.2.0/website/static/docs/en/html/classfasttext_1_1Model.html  \n",
            "  inflating: fastText-0.2.0/website/static/docs/en/html/classfasttext_1_1Model.js  \n",
            "  inflating: fastText-0.2.0/website/static/docs/en/html/classfasttext_1_1ProductQuantizer-members.html  \n",
            "  inflating: fastText-0.2.0/website/static/docs/en/html/classfasttext_1_1ProductQuantizer.html  \n",
            "  inflating: fastText-0.2.0/website/static/docs/en/html/classfasttext_1_1ProductQuantizer.js  \n",
            "  inflating: fastText-0.2.0/website/static/docs/en/html/classfasttext_1_1QMatrix-members.html  \n",
            "  inflating: fastText-0.2.0/website/static/docs/en/html/classfasttext_1_1QMatrix.html  \n",
            "  inflating: fastText-0.2.0/website/static/docs/en/html/classfasttext_1_1QMatrix.js  \n",
            "  inflating: fastText-0.2.0/website/static/docs/en/html/classfasttext_1_1Vector-members.html  \n",
            "  inflating: fastText-0.2.0/website/static/docs/en/html/classfasttext_1_1Vector.html  \n",
            "  inflating: fastText-0.2.0/website/static/docs/en/html/classfasttext_1_1Vector.js  \n",
            "  inflating: fastText-0.2.0/website/static/docs/en/html/closed.png  \n",
            "  inflating: fastText-0.2.0/website/static/docs/en/html/dictionary_8cc.html  \n",
            "  inflating: fastText-0.2.0/website/static/docs/en/html/dictionary_8h.html  \n",
            "  inflating: fastText-0.2.0/website/static/docs/en/html/dictionary_8h.js  \n",
            "  inflating: fastText-0.2.0/website/static/docs/en/html/dictionary_8h_source.html  \n",
            "  inflating: fastText-0.2.0/website/static/docs/en/html/dir_68267d1309a1af8e8297ef4c3efbcdba.html  \n",
            "  inflating: fastText-0.2.0/website/static/docs/en/html/dir_68267d1309a1af8e8297ef4c3efbcdba.js  \n",
            " extracting: fastText-0.2.0/website/static/docs/en/html/doc.png  \n",
            "  inflating: fastText-0.2.0/website/static/docs/en/html/doxygen.css  \n",
            " extracting: fastText-0.2.0/website/static/docs/en/html/doxygen.png  \n",
            "  inflating: fastText-0.2.0/website/static/docs/en/html/dynsections.js  \n",
            "  inflating: fastText-0.2.0/website/static/docs/en/html/fasttext_8cc.html  \n",
            "  inflating: fastText-0.2.0/website/static/docs/en/html/fasttext_8h.html  \n",
            "  inflating: fastText-0.2.0/website/static/docs/en/html/fasttext_8h.js  \n",
            "  inflating: fastText-0.2.0/website/static/docs/en/html/fasttext_8h_source.html  \n",
            "  inflating: fastText-0.2.0/website/static/docs/en/html/favicon.png  \n",
            "  inflating: fastText-0.2.0/website/static/docs/en/html/files.html  \n",
            "  inflating: fastText-0.2.0/website/static/docs/en/html/files.js  \n",
            " extracting: fastText-0.2.0/website/static/docs/en/html/folderclosed.png  \n",
            " extracting: fastText-0.2.0/website/static/docs/en/html/folderopen.png  \n",
            "  inflating: fastText-0.2.0/website/static/docs/en/html/functions.html  \n",
            "  inflating: fastText-0.2.0/website/static/docs/en/html/functions_0x7e.html  \n",
            "  inflating: fastText-0.2.0/website/static/docs/en/html/functions_b.html  \n",
            "  inflating: fastText-0.2.0/website/static/docs/en/html/functions_c.html  \n",
            "  inflating: fastText-0.2.0/website/static/docs/en/html/functions_d.html  \n",
            "  inflating: fastText-0.2.0/website/static/docs/en/html/functions_dup.js  \n",
            "  inflating: fastText-0.2.0/website/static/docs/en/html/functions_e.html  \n",
            "  inflating: fastText-0.2.0/website/static/docs/en/html/functions_f.html  \n",
            "  inflating: fastText-0.2.0/website/static/docs/en/html/functions_func.html  \n",
            "  inflating: fastText-0.2.0/website/static/docs/en/html/functions_g.html  \n",
            "  inflating: fastText-0.2.0/website/static/docs/en/html/functions_h.html  \n",
            "  inflating: fastText-0.2.0/website/static/docs/en/html/functions_i.html  \n",
            "  inflating: fastText-0.2.0/website/static/docs/en/html/functions_k.html  \n",
            "  inflating: fastText-0.2.0/website/static/docs/en/html/functions_l.html  \n",
            "  inflating: fastText-0.2.0/website/static/docs/en/html/functions_m.html  \n",
            "  inflating: fastText-0.2.0/website/static/docs/en/html/functions_n.html  \n",
            "  inflating: fastText-0.2.0/website/static/docs/en/html/functions_o.html  \n",
            "  inflating: fastText-0.2.0/website/static/docs/en/html/functions_p.html  \n",
            "  inflating: fastText-0.2.0/website/static/docs/en/html/functions_q.html  \n",
            "  inflating: fastText-0.2.0/website/static/docs/en/html/functions_r.html  \n",
            "  inflating: fastText-0.2.0/website/static/docs/en/html/functions_s.html  \n",
            "  inflating: fastText-0.2.0/website/static/docs/en/html/functions_t.html  \n",
            "  inflating: fastText-0.2.0/website/static/docs/en/html/functions_u.html  \n",
            "  inflating: fastText-0.2.0/website/static/docs/en/html/functions_v.html  \n",
            "  inflating: fastText-0.2.0/website/static/docs/en/html/functions_vars.html  \n",
            "  inflating: fastText-0.2.0/website/static/docs/en/html/functions_w.html  \n",
            "  inflating: fastText-0.2.0/website/static/docs/en/html/functions_z.html  \n",
            "  inflating: fastText-0.2.0/website/static/docs/en/html/globals.html  \n",
            "  inflating: fastText-0.2.0/website/static/docs/en/html/globals_defs.html  \n",
            "  inflating: fastText-0.2.0/website/static/docs/en/html/globals_func.html  \n",
            "  inflating: fastText-0.2.0/website/static/docs/en/html/index.html  \n",
            "  inflating: fastText-0.2.0/website/static/docs/en/html/jquery.js  \n",
            "  inflating: fastText-0.2.0/website/static/docs/en/html/main_8cc.html  \n",
            "  inflating: fastText-0.2.0/website/static/docs/en/html/main_8cc.js  \n",
            "  inflating: fastText-0.2.0/website/static/docs/en/html/matrix_8cc.html  \n",
            "  inflating: fastText-0.2.0/website/static/docs/en/html/matrix_8h.html  \n",
            "  inflating: fastText-0.2.0/website/static/docs/en/html/matrix_8h_source.html  \n",
            "  inflating: fastText-0.2.0/website/static/docs/en/html/menu.js  \n",
            "  inflating: fastText-0.2.0/website/static/docs/en/html/menudata.js  \n",
            "  inflating: fastText-0.2.0/website/static/docs/en/html/model_8cc.html  \n",
            "  inflating: fastText-0.2.0/website/static/docs/en/html/model_8h.html  \n",
            "  inflating: fastText-0.2.0/website/static/docs/en/html/model_8h.js  \n",
            "  inflating: fastText-0.2.0/website/static/docs/en/html/model_8h_source.html  \n",
            "  inflating: fastText-0.2.0/website/static/docs/en/html/namespacefasttext.html  \n",
            "  inflating: fastText-0.2.0/website/static/docs/en/html/namespacefasttext.js  \n",
            "  inflating: fastText-0.2.0/website/static/docs/en/html/namespacefasttext_1_1utils.html  \n",
            "  inflating: fastText-0.2.0/website/static/docs/en/html/namespacemembers.html  \n",
            "  inflating: fastText-0.2.0/website/static/docs/en/html/namespacemembers_enum.html  \n",
            "  inflating: fastText-0.2.0/website/static/docs/en/html/namespacemembers_func.html  \n",
            "  inflating: fastText-0.2.0/website/static/docs/en/html/namespacemembers_type.html  \n",
            "  inflating: fastText-0.2.0/website/static/docs/en/html/namespaces.html  \n",
            "  inflating: fastText-0.2.0/website/static/docs/en/html/namespaces.js  \n",
            " extracting: fastText-0.2.0/website/static/docs/en/html/nav_f.png  \n",
            "  inflating: fastText-0.2.0/website/static/docs/en/html/nav_g.png  \n",
            "  inflating: fastText-0.2.0/website/static/docs/en/html/nav_h.png  \n",
            "  inflating: fastText-0.2.0/website/static/docs/en/html/navtree.css  \n",
            "  inflating: fastText-0.2.0/website/static/docs/en/html/navtree.js  \n",
            "  inflating: fastText-0.2.0/website/static/docs/en/html/navtreedata.js  \n",
            "  inflating: fastText-0.2.0/website/static/docs/en/html/navtreeindex0.js  \n",
            "  inflating: fastText-0.2.0/website/static/docs/en/html/navtreeindex1.js  \n",
            "  inflating: fastText-0.2.0/website/static/docs/en/html/open.png  \n",
            "  inflating: fastText-0.2.0/website/static/docs/en/html/productquantizer_8cc.html  \n",
            "  inflating: fastText-0.2.0/website/static/docs/en/html/productquantizer_8cc.js  \n",
            "  inflating: fastText-0.2.0/website/static/docs/en/html/productquantizer_8h.html  \n",
            "  inflating: fastText-0.2.0/website/static/docs/en/html/productquantizer_8h_source.html  \n",
            "  inflating: fastText-0.2.0/website/static/docs/en/html/qmatrix_8cc.html  \n",
            "  inflating: fastText-0.2.0/website/static/docs/en/html/qmatrix_8h.html  \n",
            "  inflating: fastText-0.2.0/website/static/docs/en/html/qmatrix_8h_source.html  \n",
            "  inflating: fastText-0.2.0/website/static/docs/en/html/real_8h.html  \n",
            "  inflating: fastText-0.2.0/website/static/docs/en/html/real_8h.js  \n",
            "  inflating: fastText-0.2.0/website/static/docs/en/html/real_8h_source.html  \n",
            "  inflating: fastText-0.2.0/website/static/docs/en/html/resize.js  \n",
            "   creating: fastText-0.2.0/website/static/docs/en/html/search/\n",
            " extracting: fastText-0.2.0/website/static/docs/en/html/search/.files_7.html.StRRNc  \n",
            " extracting: fastText-0.2.0/website/static/docs/en/html/search/.variables_a.html.1MGQ27  \n",
            "  inflating: fastText-0.2.0/website/static/docs/en/html/search/all_0.html  \n",
            "  inflating: fastText-0.2.0/website/static/docs/en/html/search/all_0.js  \n",
            "  inflating: fastText-0.2.0/website/static/docs/en/html/search/all_1.html  \n",
            "  inflating: fastText-0.2.0/website/static/docs/en/html/search/all_1.js  \n",
            "  inflating: fastText-0.2.0/website/static/docs/en/html/search/all_10.html  \n",
            "  inflating: fastText-0.2.0/website/static/docs/en/html/search/all_10.js  \n",
            "  inflating: fastText-0.2.0/website/static/docs/en/html/search/all_11.html  \n",
            "  inflating: fastText-0.2.0/website/static/docs/en/html/search/all_11.js  \n",
            "  inflating: fastText-0.2.0/website/static/docs/en/html/search/all_12.html  \n",
            "  inflating: fastText-0.2.0/website/static/docs/en/html/search/all_12.js  \n",
            "  inflating: fastText-0.2.0/website/static/docs/en/html/search/all_13.html  \n",
            "  inflating: fastText-0.2.0/website/static/docs/en/html/search/all_13.js  \n",
            "  inflating: fastText-0.2.0/website/static/docs/en/html/search/all_14.html  \n",
            "  inflating: fastText-0.2.0/website/static/docs/en/html/search/all_14.js  \n",
            "  inflating: fastText-0.2.0/website/static/docs/en/html/search/all_15.html  \n",
            "  inflating: fastText-0.2.0/website/static/docs/en/html/search/all_15.js  \n",
            "  inflating: fastText-0.2.0/website/static/docs/en/html/search/all_16.html  \n",
            "  inflating: fastText-0.2.0/website/static/docs/en/html/search/all_16.js  \n",
            "  inflating: fastText-0.2.0/website/static/docs/en/html/search/all_17.html  \n",
            "  inflating: fastText-0.2.0/website/static/docs/en/html/search/all_17.js  \n",
            "  inflating: fastText-0.2.0/website/static/docs/en/html/search/all_2.html  \n",
            "  inflating: fastText-0.2.0/website/static/docs/en/html/search/all_2.js  \n",
            "  inflating: fastText-0.2.0/website/static/docs/en/html/search/all_3.html  \n",
            "  inflating: fastText-0.2.0/website/static/docs/en/html/search/all_3.js  \n",
            "  inflating: fastText-0.2.0/website/static/docs/en/html/search/all_4.html  \n",
            "  inflating: fastText-0.2.0/website/static/docs/en/html/search/all_4.js  \n",
            "  inflating: fastText-0.2.0/website/static/docs/en/html/search/all_5.html  \n",
            "  inflating: fastText-0.2.0/website/static/docs/en/html/search/all_5.js  \n",
            "  inflating: fastText-0.2.0/website/static/docs/en/html/search/all_6.html  \n",
            "  inflating: fastText-0.2.0/website/static/docs/en/html/search/all_6.js  \n",
            "  inflating: fastText-0.2.0/website/static/docs/en/html/search/all_7.html  \n",
            "  inflating: fastText-0.2.0/website/static/docs/en/html/search/all_7.js  \n",
            "  inflating: fastText-0.2.0/website/static/docs/en/html/search/all_8.html  \n",
            "  inflating: fastText-0.2.0/website/static/docs/en/html/search/all_8.js  \n",
            "  inflating: fastText-0.2.0/website/static/docs/en/html/search/all_9.html  \n",
            "  inflating: fastText-0.2.0/website/static/docs/en/html/search/all_9.js  \n",
            "  inflating: fastText-0.2.0/website/static/docs/en/html/search/all_a.html  \n",
            "  inflating: fastText-0.2.0/website/static/docs/en/html/search/all_a.js  \n",
            "  inflating: fastText-0.2.0/website/static/docs/en/html/search/all_b.html  \n",
            "  inflating: fastText-0.2.0/website/static/docs/en/html/search/all_b.js  \n",
            "  inflating: fastText-0.2.0/website/static/docs/en/html/search/all_c.html  \n",
            "  inflating: fastText-0.2.0/website/static/docs/en/html/search/all_c.js  \n",
            "  inflating: fastText-0.2.0/website/static/docs/en/html/search/all_d.html  \n",
            "  inflating: fastText-0.2.0/website/static/docs/en/html/search/all_d.js  \n",
            "  inflating: fastText-0.2.0/website/static/docs/en/html/search/all_e.html  \n",
            "  inflating: fastText-0.2.0/website/static/docs/en/html/search/all_e.js  \n",
            "  inflating: fastText-0.2.0/website/static/docs/en/html/search/all_f.html  \n",
            "  inflating: fastText-0.2.0/website/static/docs/en/html/search/all_f.js  \n",
            "  inflating: fastText-0.2.0/website/static/docs/en/html/search/classes_0.html  \n",
            "  inflating: fastText-0.2.0/website/static/docs/en/html/search/classes_0.js  \n",
            "  inflating: fastText-0.2.0/website/static/docs/en/html/search/classes_1.html  \n",
            "  inflating: fastText-0.2.0/website/static/docs/en/html/search/classes_1.js  \n",
            "  inflating: fastText-0.2.0/website/static/docs/en/html/search/classes_2.html  \n",
            "  inflating: fastText-0.2.0/website/static/docs/en/html/search/classes_2.js  \n",
            "  inflating: fastText-0.2.0/website/static/docs/en/html/search/classes_3.html  \n",
            "  inflating: fastText-0.2.0/website/static/docs/en/html/search/classes_3.js  \n",
            "  inflating: fastText-0.2.0/website/static/docs/en/html/search/classes_4.html  \n",
            "  inflating: fastText-0.2.0/website/static/docs/en/html/search/classes_4.js  \n",
            "  inflating: fastText-0.2.0/website/static/docs/en/html/search/classes_5.html  \n",
            "  inflating: fastText-0.2.0/website/static/docs/en/html/search/classes_5.js  \n",
            "  inflating: fastText-0.2.0/website/static/docs/en/html/search/classes_6.html  \n",
            "  inflating: fastText-0.2.0/website/static/docs/en/html/search/classes_6.js  \n",
            "  inflating: fastText-0.2.0/website/static/docs/en/html/search/classes_7.html  \n",
            "  inflating: fastText-0.2.0/website/static/docs/en/html/search/classes_7.js  \n",
            "  inflating: fastText-0.2.0/website/static/docs/en/html/search/classes_8.html  \n",
            "  inflating: fastText-0.2.0/website/static/docs/en/html/search/classes_8.js  \n",
            " extracting: fastText-0.2.0/website/static/docs/en/html/search/close.png  \n",
            "  inflating: fastText-0.2.0/website/static/docs/en/html/search/defines_0.html  \n",
            "  inflating: fastText-0.2.0/website/static/docs/en/html/search/defines_0.js  \n",
            "  inflating: fastText-0.2.0/website/static/docs/en/html/search/defines_1.html  \n",
            "  inflating: fastText-0.2.0/website/static/docs/en/html/search/defines_1.js  \n",
            "  inflating: fastText-0.2.0/website/static/docs/en/html/search/defines_2.html  \n",
            "  inflating: fastText-0.2.0/website/static/docs/en/html/search/defines_2.js  \n",
            "  inflating: fastText-0.2.0/website/static/docs/en/html/search/defines_3.html  \n",
            "  inflating: fastText-0.2.0/website/static/docs/en/html/search/defines_3.js  \n",
            "  inflating: fastText-0.2.0/website/static/docs/en/html/search/enums_0.html  \n",
            "  inflating: fastText-0.2.0/website/static/docs/en/html/search/enums_0.js  \n",
            "  inflating: fastText-0.2.0/website/static/docs/en/html/search/enums_1.html  \n",
            "  inflating: fastText-0.2.0/website/static/docs/en/html/search/enums_1.js  \n",
            "  inflating: fastText-0.2.0/website/static/docs/en/html/search/enums_2.html  \n",
            "  inflating: fastText-0.2.0/website/static/docs/en/html/search/enums_2.js  \n",
            "  inflating: fastText-0.2.0/website/static/docs/en/html/search/enumvalues_0.html  \n",
            "  inflating: fastText-0.2.0/website/static/docs/en/html/search/enumvalues_0.js  \n",
            "  inflating: fastText-0.2.0/website/static/docs/en/html/search/enumvalues_1.html  \n",
            "  inflating: fastText-0.2.0/website/static/docs/en/html/search/enumvalues_1.js  \n",
            "  inflating: fastText-0.2.0/website/static/docs/en/html/search/enumvalues_2.html  \n",
            "  inflating: fastText-0.2.0/website/static/docs/en/html/search/enumvalues_2.js  \n",
            "  inflating: fastText-0.2.0/website/static/docs/en/html/search/enumvalues_3.html  \n",
            "  inflating: fastText-0.2.0/website/static/docs/en/html/search/enumvalues_3.js  \n",
            "  inflating: fastText-0.2.0/website/static/docs/en/html/search/enumvalues_4.html  \n",
            "  inflating: fastText-0.2.0/website/static/docs/en/html/search/enumvalues_4.js  \n",
            "  inflating: fastText-0.2.0/website/static/docs/en/html/search/enumvalues_5.html  \n",
            "  inflating: fastText-0.2.0/website/static/docs/en/html/search/enumvalues_5.js  \n",
            "  inflating: fastText-0.2.0/website/static/docs/en/html/search/files_0.html  \n",
            "  inflating: fastText-0.2.0/website/static/docs/en/html/search/files_0.js  \n",
            "  inflating: fastText-0.2.0/website/static/docs/en/html/search/files_1.html  \n",
            "  inflating: fastText-0.2.0/website/static/docs/en/html/search/files_1.js  \n",
            "  inflating: fastText-0.2.0/website/static/docs/en/html/search/files_2.html  \n",
            "  inflating: fastText-0.2.0/website/static/docs/en/html/search/files_2.js  \n",
            "  inflating: fastText-0.2.0/website/static/docs/en/html/search/files_3.html  \n",
            "  inflating: fastText-0.2.0/website/static/docs/en/html/search/files_3.js  \n",
            "  inflating: fastText-0.2.0/website/static/docs/en/html/search/files_4.html  \n",
            "  inflating: fastText-0.2.0/website/static/docs/en/html/search/files_4.js  \n",
            "  inflating: fastText-0.2.0/website/static/docs/en/html/search/files_5.html  \n",
            "  inflating: fastText-0.2.0/website/static/docs/en/html/search/files_5.js  \n",
            "  inflating: fastText-0.2.0/website/static/docs/en/html/search/files_6.html  \n",
            "  inflating: fastText-0.2.0/website/static/docs/en/html/search/files_6.js  \n",
            "  inflating: fastText-0.2.0/website/static/docs/en/html/search/files_7.html  \n",
            "  inflating: fastText-0.2.0/website/static/docs/en/html/search/files_7.js  \n",
            "  inflating: fastText-0.2.0/website/static/docs/en/html/search/files_8.html  \n",
            "  inflating: fastText-0.2.0/website/static/docs/en/html/search/files_8.js  \n",
            "  inflating: fastText-0.2.0/website/static/docs/en/html/search/functions_0.html  \n",
            "  inflating: fastText-0.2.0/website/static/docs/en/html/search/functions_0.js  \n",
            "  inflating: fastText-0.2.0/website/static/docs/en/html/search/functions_1.html  \n",
            "  inflating: fastText-0.2.0/website/static/docs/en/html/search/functions_1.js  \n",
            "  inflating: fastText-0.2.0/website/static/docs/en/html/search/functions_10.html  \n",
            "  inflating: fastText-0.2.0/website/static/docs/en/html/search/functions_10.js  \n",
            "  inflating: fastText-0.2.0/website/static/docs/en/html/search/functions_11.html  \n",
            "  inflating: fastText-0.2.0/website/static/docs/en/html/search/functions_11.js  \n",
            "  inflating: fastText-0.2.0/website/static/docs/en/html/search/functions_12.html  \n",
            "  inflating: fastText-0.2.0/website/static/docs/en/html/search/functions_12.js  \n",
            "  inflating: fastText-0.2.0/website/static/docs/en/html/search/functions_13.html  \n",
            "  inflating: fastText-0.2.0/website/static/docs/en/html/search/functions_13.js  \n",
            "  inflating: fastText-0.2.0/website/static/docs/en/html/search/functions_14.html  \n",
            "  inflating: fastText-0.2.0/website/static/docs/en/html/search/functions_14.js  \n",
            "  inflating: fastText-0.2.0/website/static/docs/en/html/search/functions_15.html  \n",
            "  inflating: fastText-0.2.0/website/static/docs/en/html/search/functions_15.js  \n",
            "  inflating: fastText-0.2.0/website/static/docs/en/html/search/functions_16.html  \n",
            "  inflating: fastText-0.2.0/website/static/docs/en/html/search/functions_16.js  \n",
            "  inflating: fastText-0.2.0/website/static/docs/en/html/search/functions_17.html  \n",
            "  inflating: fastText-0.2.0/website/static/docs/en/html/search/functions_17.js  \n",
            "  inflating: fastText-0.2.0/website/static/docs/en/html/search/functions_2.html  \n",
            "  inflating: fastText-0.2.0/website/static/docs/en/html/search/functions_2.js  \n",
            "  inflating: fastText-0.2.0/website/static/docs/en/html/search/functions_3.html  \n",
            "  inflating: fastText-0.2.0/website/static/docs/en/html/search/functions_3.js  \n",
            "  inflating: fastText-0.2.0/website/static/docs/en/html/search/functions_4.html  \n",
            "  inflating: fastText-0.2.0/website/static/docs/en/html/search/functions_4.js  \n",
            "  inflating: fastText-0.2.0/website/static/docs/en/html/search/functions_5.html  \n",
            "  inflating: fastText-0.2.0/website/static/docs/en/html/search/functions_5.js  \n",
            "  inflating: fastText-0.2.0/website/static/docs/en/html/search/functions_6.html  \n",
            "  inflating: fastText-0.2.0/website/static/docs/en/html/search/functions_6.js  \n",
            "  inflating: fastText-0.2.0/website/static/docs/en/html/search/functions_7.html  \n",
            "  inflating: fastText-0.2.0/website/static/docs/en/html/search/functions_7.js  \n",
            "  inflating: fastText-0.2.0/website/static/docs/en/html/search/functions_8.html  \n",
            "  inflating: fastText-0.2.0/website/static/docs/en/html/search/functions_8.js  \n",
            "  inflating: fastText-0.2.0/website/static/docs/en/html/search/functions_9.html  \n",
            "  inflating: fastText-0.2.0/website/static/docs/en/html/search/functions_9.js  \n",
            "  inflating: fastText-0.2.0/website/static/docs/en/html/search/functions_a.html  \n",
            "  inflating: fastText-0.2.0/website/static/docs/en/html/search/functions_a.js  \n",
            "  inflating: fastText-0.2.0/website/static/docs/en/html/search/functions_b.html  \n",
            "  inflating: fastText-0.2.0/website/static/docs/en/html/search/functions_b.js  \n",
            "  inflating: fastText-0.2.0/website/static/docs/en/html/search/functions_c.html  \n",
            "  inflating: fastText-0.2.0/website/static/docs/en/html/search/functions_c.js  \n",
            "  inflating: fastText-0.2.0/website/static/docs/en/html/search/functions_d.html  \n",
            "  inflating: fastText-0.2.0/website/static/docs/en/html/search/functions_d.js  \n",
            "  inflating: fastText-0.2.0/website/static/docs/en/html/search/functions_e.html  \n",
            "  inflating: fastText-0.2.0/website/static/docs/en/html/search/functions_e.js  \n",
            "  inflating: fastText-0.2.0/website/static/docs/en/html/search/functions_f.html  \n",
            "  inflating: fastText-0.2.0/website/static/docs/en/html/search/functions_f.js  \n",
            " extracting: fastText-0.2.0/website/static/docs/en/html/search/mag_sel.png  \n",
            "  inflating: fastText-0.2.0/website/static/docs/en/html/search/namespaces_0.html  \n",
            "  inflating: fastText-0.2.0/website/static/docs/en/html/search/namespaces_0.js  \n",
            "  inflating: fastText-0.2.0/website/static/docs/en/html/search/nomatches.html  \n",
            "  inflating: fastText-0.2.0/website/static/docs/en/html/search/search.css  \n",
            "  inflating: fastText-0.2.0/website/static/docs/en/html/search/search.js  \n",
            " extracting: fastText-0.2.0/website/static/docs/en/html/search/search_l.png  \n",
            "  inflating: fastText-0.2.0/website/static/docs/en/html/search/search_m.png  \n",
            " extracting: fastText-0.2.0/website/static/docs/en/html/search/search_r.png  \n",
            "  inflating: fastText-0.2.0/website/static/docs/en/html/search/searchdata.js  \n",
            "  inflating: fastText-0.2.0/website/static/docs/en/html/search/typedefs_0.html  \n",
            "  inflating: fastText-0.2.0/website/static/docs/en/html/search/typedefs_0.js  \n",
            "  inflating: fastText-0.2.0/website/static/docs/en/html/search/typedefs_1.html  \n",
            "  inflating: fastText-0.2.0/website/static/docs/en/html/search/typedefs_1.js  \n",
            "  inflating: fastText-0.2.0/website/static/docs/en/html/search/variables_0.html  \n",
            "  inflating: fastText-0.2.0/website/static/docs/en/html/search/variables_0.js  \n",
            "  inflating: fastText-0.2.0/website/static/docs/en/html/search/variables_1.html  \n",
            "  inflating: fastText-0.2.0/website/static/docs/en/html/search/variables_1.js  \n",
            "  inflating: fastText-0.2.0/website/static/docs/en/html/search/variables_10.html  \n",
            "  inflating: fastText-0.2.0/website/static/docs/en/html/search/variables_10.js  \n",
            "  inflating: fastText-0.2.0/website/static/docs/en/html/search/variables_11.html  \n",
            "  inflating: fastText-0.2.0/website/static/docs/en/html/search/variables_11.js  \n",
            "  inflating: fastText-0.2.0/website/static/docs/en/html/search/variables_12.html  \n",
            "  inflating: fastText-0.2.0/website/static/docs/en/html/search/variables_12.js  \n",
            "  inflating: fastText-0.2.0/website/static/docs/en/html/search/variables_13.html  \n",
            "  inflating: fastText-0.2.0/website/static/docs/en/html/search/variables_13.js  \n",
            "  inflating: fastText-0.2.0/website/static/docs/en/html/search/variables_2.html  \n",
            "  inflating: fastText-0.2.0/website/static/docs/en/html/search/variables_2.js  \n",
            "  inflating: fastText-0.2.0/website/static/docs/en/html/search/variables_3.html  \n",
            "  inflating: fastText-0.2.0/website/static/docs/en/html/search/variables_3.js  \n",
            "  inflating: fastText-0.2.0/website/static/docs/en/html/search/variables_4.html  \n",
            "  inflating: fastText-0.2.0/website/static/docs/en/html/search/variables_4.js  \n",
            "  inflating: fastText-0.2.0/website/static/docs/en/html/search/variables_5.html  \n",
            "  inflating: fastText-0.2.0/website/static/docs/en/html/search/variables_5.js  \n",
            "  inflating: fastText-0.2.0/website/static/docs/en/html/search/variables_6.html  \n",
            "  inflating: fastText-0.2.0/website/static/docs/en/html/search/variables_6.js  \n",
            "  inflating: fastText-0.2.0/website/static/docs/en/html/search/variables_7.html  \n",
            "  inflating: fastText-0.2.0/website/static/docs/en/html/search/variables_7.js  \n",
            "  inflating: fastText-0.2.0/website/static/docs/en/html/search/variables_8.html  \n",
            "  inflating: fastText-0.2.0/website/static/docs/en/html/search/variables_8.js  \n",
            "  inflating: fastText-0.2.0/website/static/docs/en/html/search/variables_9.html  \n",
            "  inflating: fastText-0.2.0/website/static/docs/en/html/search/variables_9.js  \n",
            "  inflating: fastText-0.2.0/website/static/docs/en/html/search/variables_a.html  \n",
            "  inflating: fastText-0.2.0/website/static/docs/en/html/search/variables_a.js  \n",
            "  inflating: fastText-0.2.0/website/static/docs/en/html/search/variables_b.html  \n",
            "  inflating: fastText-0.2.0/website/static/docs/en/html/search/variables_b.js  \n",
            "  inflating: fastText-0.2.0/website/static/docs/en/html/search/variables_c.html  \n",
            "  inflating: fastText-0.2.0/website/static/docs/en/html/search/variables_c.js  \n",
            "  inflating: fastText-0.2.0/website/static/docs/en/html/search/variables_d.html  \n",
            "  inflating: fastText-0.2.0/website/static/docs/en/html/search/variables_d.js  \n",
            "  inflating: fastText-0.2.0/website/static/docs/en/html/search/variables_e.html  \n",
            "  inflating: fastText-0.2.0/website/static/docs/en/html/search/variables_e.js  \n",
            "  inflating: fastText-0.2.0/website/static/docs/en/html/search/variables_f.html  \n",
            "  inflating: fastText-0.2.0/website/static/docs/en/html/search/variables_f.js  \n",
            "  inflating: fastText-0.2.0/website/static/docs/en/html/splitbar.png  \n",
            "  inflating: fastText-0.2.0/website/static/docs/en/html/structfasttext_1_1Node-members.html  \n",
            "  inflating: fastText-0.2.0/website/static/docs/en/html/structfasttext_1_1Node.html  \n",
            "  inflating: fastText-0.2.0/website/static/docs/en/html/structfasttext_1_1Node.js  \n",
            "  inflating: fastText-0.2.0/website/static/docs/en/html/structfasttext_1_1entry-members.html  \n",
            "  inflating: fastText-0.2.0/website/static/docs/en/html/structfasttext_1_1entry.html  \n",
            "  inflating: fastText-0.2.0/website/static/docs/en/html/structfasttext_1_1entry.js  \n",
            " extracting: fastText-0.2.0/website/static/docs/en/html/sync_off.png  \n",
            " extracting: fastText-0.2.0/website/static/docs/en/html/sync_on.png  \n",
            " extracting: fastText-0.2.0/website/static/docs/en/html/tab_a.png  \n",
            " extracting: fastText-0.2.0/website/static/docs/en/html/tab_b.png  \n",
            " extracting: fastText-0.2.0/website/static/docs/en/html/tab_h.png  \n",
            " extracting: fastText-0.2.0/website/static/docs/en/html/tab_s.png  \n",
            "  inflating: fastText-0.2.0/website/static/docs/en/html/tabs.css  \n",
            "  inflating: fastText-0.2.0/website/static/docs/en/html/utils_8cc.html  \n",
            "  inflating: fastText-0.2.0/website/static/docs/en/html/utils_8cc.js  \n",
            "  inflating: fastText-0.2.0/website/static/docs/en/html/utils_8h.html  \n",
            "  inflating: fastText-0.2.0/website/static/docs/en/html/utils_8h.js  \n",
            "  inflating: fastText-0.2.0/website/static/docs/en/html/utils_8h_source.html  \n",
            "  inflating: fastText-0.2.0/website/static/docs/en/html/vector_8cc.html  \n",
            "  inflating: fastText-0.2.0/website/static/docs/en/html/vector_8cc.js  \n",
            "  inflating: fastText-0.2.0/website/static/docs/en/html/vector_8h.html  \n",
            "  inflating: fastText-0.2.0/website/static/docs/en/html/vector_8h.js  \n",
            "  inflating: fastText-0.2.0/website/static/docs/en/html/vector_8h_source.html  \n",
            "  inflating: fastText-0.2.0/website/static/fasttext.css  \n",
            "   creating: fastText-0.2.0/website/static/img/\n",
            "   creating: fastText-0.2.0/website/static/img/authors/\n",
            "  inflating: fastText-0.2.0/website/static/img/authors/armand_joulin.jpg  \n",
            "  inflating: fastText-0.2.0/website/static/img/authors/christian_puhrsch.png  \n",
            "  inflating: fastText-0.2.0/website/static/img/authors/edouard_grave.jpeg  \n",
            "  inflating: fastText-0.2.0/website/static/img/authors/piotr_bojanowski.jpg  \n",
            "  inflating: fastText-0.2.0/website/static/img/authors/tomas_mikolov.jpg  \n",
            "   creating: fastText-0.2.0/website/static/img/blog/\n",
            "  inflating: fastText-0.2.0/website/static/img/blog/2016-08-18-blog-post-img1.png  \n",
            "  inflating: fastText-0.2.0/website/static/img/blog/2016-08-18-blog-post-img2.png  \n",
            "  inflating: fastText-0.2.0/website/static/img/blog/2017-05-02-blog-post-img1.jpg  \n",
            "  inflating: fastText-0.2.0/website/static/img/blog/2017-05-02-blog-post-img2.jpg  \n",
            "  inflating: fastText-0.2.0/website/static/img/blog/2017-10-02-blog-post-img1.png  \n",
            "  inflating: fastText-0.2.0/website/static/img/cbo_vs_skipgram.png  \n",
            "  inflating: fastText-0.2.0/website/static/img/fasttext-icon-api.png  \n",
            "  inflating: fastText-0.2.0/website/static/img/fasttext-icon-bg-web.png  \n",
            "  inflating: fastText-0.2.0/website/static/img/fasttext-icon-color-square.png  \n",
            "  inflating: fastText-0.2.0/website/static/img/fasttext-icon-color-web.png  \n",
            "  inflating: fastText-0.2.0/website/static/img/fasttext-icon-faq.png  \n",
            "  inflating: fastText-0.2.0/website/static/img/fasttext-icon-tutorial.png  \n",
            "  inflating: fastText-0.2.0/website/static/img/fasttext-icon-white-web.png  \n",
            "  inflating: fastText-0.2.0/website/static/img/fasttext-logo-color-web.png  \n",
            "  inflating: fastText-0.2.0/website/static/img/fasttext-logo-white-web.png  \n",
            "  inflating: fastText-0.2.0/website/static/img/logo-color.png  \n",
            "  inflating: fastText-0.2.0/website/static/img/model-black.png  \n",
            "  inflating: fastText-0.2.0/website/static/img/model-blue.png  \n",
            "  inflating: fastText-0.2.0/website/static/img/model-red.png  \n",
            "  inflating: fastText-0.2.0/website/static/img/ogimage.png  \n",
            "  inflating: fastText-0.2.0/website/static/img/oss_logo.png  \n",
            "  inflating: fastText-0.2.0/wikifil.pl  \n",
            "  inflating: fastText-0.2.0/word-vector-example.sh  \n",
            "/content/fastText-0.2.0\n",
            "c++ -pthread -std=c++0x -march=native -O3 -funroll-loops -c src/args.cc\n",
            "c++ -pthread -std=c++0x -march=native -O3 -funroll-loops -c src/dictionary.cc\n",
            "c++ -pthread -std=c++0x -march=native -O3 -funroll-loops -c src/productquantizer.cc\n",
            "c++ -pthread -std=c++0x -march=native -O3 -funroll-loops -c src/matrix.cc\n",
            "c++ -pthread -std=c++0x -march=native -O3 -funroll-loops -c src/qmatrix.cc\n",
            "c++ -pthread -std=c++0x -march=native -O3 -funroll-loops -c src/vector.cc\n",
            "c++ -pthread -std=c++0x -march=native -O3 -funroll-loops -c src/model.cc\n",
            "c++ -pthread -std=c++0x -march=native -O3 -funroll-loops -c src/utils.cc\n",
            "c++ -pthread -std=c++0x -march=native -O3 -funroll-loops -c src/meter.cc\n",
            "c++ -pthread -std=c++0x -march=native -O3 -funroll-loops -c src/fasttext.cc\n",
            "\u001b[01m\u001b[Ksrc/fasttext.cc:\u001b[m\u001b[K In member function ‘\u001b[01m\u001b[Kvoid fasttext::FastText::quantize(const fasttext::Args&)\u001b[m\u001b[K’:\n",
            "\u001b[01m\u001b[Ksrc/fasttext.cc:302:45:\u001b[m\u001b[K \u001b[01;35m\u001b[Kwarning: \u001b[m\u001b[K‘\u001b[01m\u001b[Kstd::vector<int> fasttext::FastText::selectEmbeddings(int32_t) const\u001b[m\u001b[K’ is deprecated: selectEmbeddings is being deprecated. [\u001b[01;35m\u001b[K-Wdeprecated-declarations\u001b[m\u001b[K]\n",
            "     auto idx = selectEmbeddings(qargs.cutoff\u001b[01;35m\u001b[K)\u001b[m\u001b[K;\n",
            "                                             \u001b[01;35m\u001b[K^\u001b[m\u001b[K\n",
            "\u001b[01m\u001b[Ksrc/fasttext.cc:279:22:\u001b[m\u001b[K \u001b[01;36m\u001b[Knote: \u001b[m\u001b[Kdeclared here\n",
            " std::vector<int32_t> \u001b[01;36m\u001b[KFastText\u001b[m\u001b[K::selectEmbeddings(int32_t cutoff) const {\n",
            "                      \u001b[01;36m\u001b[K^~~~~~~~\u001b[m\u001b[K\n",
            "\u001b[01m\u001b[Ksrc/fasttext.cc:\u001b[m\u001b[K In member function ‘\u001b[01m\u001b[Kvoid fasttext::FastText::lazyComputeWordVectors()\u001b[m\u001b[K’:\n",
            "\u001b[01m\u001b[Ksrc/fasttext.cc:531:40:\u001b[m\u001b[K \u001b[01;35m\u001b[Kwarning: \u001b[m\u001b[K‘\u001b[01m\u001b[Kvoid fasttext::FastText::precomputeWordVectors(fasttext::Matrix&)\u001b[m\u001b[K’ is deprecated: precomputeWordVectors is being deprecated. [\u001b[01;35m\u001b[K-Wdeprecated-declarations\u001b[m\u001b[K]\n",
            "     precomputeWordVectors(*wordVectors_\u001b[01;35m\u001b[K)\u001b[m\u001b[K;\n",
            "                                        \u001b[01;35m\u001b[K^\u001b[m\u001b[K\n",
            "\u001b[01m\u001b[Ksrc/fasttext.cc:514:6:\u001b[m\u001b[K \u001b[01;36m\u001b[Knote: \u001b[m\u001b[Kdeclared here\n",
            " void \u001b[01;36m\u001b[KFastText\u001b[m\u001b[K::precomputeWordVectors(Matrix& wordVectors) {\n",
            "      \u001b[01;36m\u001b[K^~~~~~~~\u001b[m\u001b[K\n",
            "\u001b[01m\u001b[Ksrc/fasttext.cc:\u001b[m\u001b[K In member function ‘\u001b[01m\u001b[Kvoid fasttext::FastText::trainThread(int32_t)\u001b[m\u001b[K’:\n",
            "\u001b[01m\u001b[Ksrc/fasttext.cc:650:41:\u001b[m\u001b[K \u001b[01;35m\u001b[Kwarning: \u001b[m\u001b[K‘\u001b[01m\u001b[Kvoid fasttext::FastText::supervised(fasttext::Model&, fasttext::real, const std::vector<int>&, const std::vector<int>&)\u001b[m\u001b[K’ is deprecated: supervised is being deprecated. [\u001b[01;35m\u001b[K-Wdeprecated-declarations\u001b[m\u001b[K]\n",
            "       supervised(model, lr, line, labels\u001b[01;35m\u001b[K)\u001b[m\u001b[K;\n",
            "                                         \u001b[01;35m\u001b[K^\u001b[m\u001b[K\n",
            "\u001b[01m\u001b[Ksrc/fasttext.cc:338:6:\u001b[m\u001b[K \u001b[01;36m\u001b[Knote: \u001b[m\u001b[Kdeclared here\n",
            " void \u001b[01;36m\u001b[KFastText\u001b[m\u001b[K::supervised(\n",
            "      \u001b[01;36m\u001b[K^~~~~~~~\u001b[m\u001b[K\n",
            "\u001b[01m\u001b[Ksrc/fasttext.cc:653:27:\u001b[m\u001b[K \u001b[01;35m\u001b[Kwarning: \u001b[m\u001b[K‘\u001b[01m\u001b[Kvoid fasttext::FastText::cbow(fasttext::Model&, fasttext::real, const std::vector<int>&)\u001b[m\u001b[K’ is deprecated: cbow is being deprecated. [\u001b[01;35m\u001b[K-Wdeprecated-declarations\u001b[m\u001b[K]\n",
            "       cbow(model, lr, line\u001b[01;35m\u001b[K)\u001b[m\u001b[K;\n",
            "                           \u001b[01;35m\u001b[K^\u001b[m\u001b[K\n",
            "\u001b[01m\u001b[Ksrc/fasttext.cc:355:6:\u001b[m\u001b[K \u001b[01;36m\u001b[Knote: \u001b[m\u001b[Kdeclared here\n",
            " void \u001b[01;36m\u001b[KFastText\u001b[m\u001b[K::cbow(Model& model, real lr, const std::vector<int32_t>& line) {\n",
            "      \u001b[01;36m\u001b[K^~~~~~~~\u001b[m\u001b[K\n",
            "\u001b[01m\u001b[Ksrc/fasttext.cc:656:31:\u001b[m\u001b[K \u001b[01;35m\u001b[Kwarning: \u001b[m\u001b[K‘\u001b[01m\u001b[Kvoid fasttext::FastText::skipgram(fasttext::Model&, fasttext::real, const std::vector<int>&)\u001b[m\u001b[K’ is deprecated: skipgram is being deprecated. [\u001b[01;35m\u001b[K-Wdeprecated-declarations\u001b[m\u001b[K]\n",
            "       skipgram(model, lr, line\u001b[01;35m\u001b[K)\u001b[m\u001b[K;\n",
            "                               \u001b[01;35m\u001b[K^\u001b[m\u001b[K\n",
            "\u001b[01m\u001b[Ksrc/fasttext.cc:371:6:\u001b[m\u001b[K \u001b[01;36m\u001b[Knote: \u001b[m\u001b[Kdeclared here\n",
            " void \u001b[01;36m\u001b[KFastText\u001b[m\u001b[K::skipgram(\n",
            "      \u001b[01;36m\u001b[K^~~~~~~~\u001b[m\u001b[K\n",
            "c++ -pthread -std=c++0x -march=native -O3 -funroll-loops args.o dictionary.o productquantizer.o matrix.o qmatrix.o vector.o model.o utils.o meter.o fasttext.o src/main.cc -o fasttext\n"
          ]
        }
      ],
      "source": [
        "!wget https://github.com/facebookresearch/fastText/archive/0.2.0.zip\n",
        "!unzip 0.2.0.zip\n",
        "%cd fastText-0.2.0\n",
        "!make"
      ]
    },
    {
      "cell_type": "code",
      "execution_count": null,
      "metadata": {
        "id": "LSAP5OALchAA"
      },
      "outputs": [],
      "source": [
        "from gensim.models.wrappers import FastText\n",
        "\n",
        "#from gensim.models.wrappers import FastText\n",
        "#!pip install fasttext"
      ]
    },
    {
      "cell_type": "code",
      "execution_count": null,
      "metadata": {
        "colab": {
          "base_uri": "https://localhost:8080/"
        },
        "id": "9Yh1RNqBNJMX",
        "outputId": "50a2b80f-e7b6-40c1-d7e1-81bf82dfeb86"
      },
      "outputs": [
        {
          "output_type": "stream",
          "name": "stderr",
          "text": [
            "2022-07-19 03:08:45,373 : INFO : Creating /root/gensim-data\n"
          ]
        },
        {
          "output_type": "stream",
          "name": "stdout",
          "text": [
            "[==================================================] 100.0% 958.5/958.4MB downloaded\n"
          ]
        },
        {
          "output_type": "stream",
          "name": "stderr",
          "text": [
            "2022-07-19 03:12:45,916 : INFO : fasttext-wiki-news-subwords-300 downloaded\n",
            "2022-07-19 03:12:45,919 : INFO : loading projection weights from /root/gensim-data/fasttext-wiki-news-subwords-300/fasttext-wiki-news-subwords-300.gz\n",
            "2022-07-19 03:18:34,830 : INFO : loaded (999999, 300) matrix from /root/gensim-data/fasttext-wiki-news-subwords-300/fasttext-wiki-news-subwords-300.gz\n"
          ]
        }
      ],
      "source": [
        "import gensim.downloader as api\n",
        "\n",
        "# download the pretrained embeddings\n",
        "#glove_vectors = api.load(\"glove-wiki-gigaword-100\")\n",
        "#cn_vectors = api.load(\"conceptnet-numberbatch-17-06-300\")\n",
        "pre_ft_vectors = api.load('fasttext-wiki-news-subwords-300')"
      ]
    },
    {
      "cell_type": "code",
      "execution_count": null,
      "metadata": {
        "id": "OJz6-ILyHodZ"
      },
      "outputs": [],
      "source": [
        "from gensim.scripts.glove2word2vec import glove2word2vec"
      ]
    },
    {
      "cell_type": "code",
      "execution_count": null,
      "metadata": {
        "colab": {
          "base_uri": "https://localhost:8080/"
        },
        "id": "tbGgdvELI2su",
        "outputId": "f410f908-2ccf-4f0d-a854-e10bb7733ba9"
      },
      "outputs": [
        {
          "output_type": "stream",
          "name": "stderr",
          "text": [
            "2022-07-19 03:19:26,099 : INFO : precomputing L2-norms of word weight vectors\n"
          ]
        },
        {
          "output_type": "execute_result",
          "data": {
            "text/plain": [
              "[('queens', 0.844092607498169),\n",
              " ('king', 0.7704246044158936),\n",
              " ('queendom', 0.7570821642875671),\n",
              " ('queen-', 0.7529805898666382),\n",
              " ('queening', 0.7524275779724121),\n",
              " ('queen-mother', 0.7511252164840698),\n",
              " ('queeny', 0.737737774848938),\n",
              " ('princess', 0.7364445924758911),\n",
              " ('queenless', 0.7327888011932373),\n",
              " ('queen-consort', 0.724591851234436)]"
            ]
          },
          "metadata": {},
          "execution_count": 23
        }
      ],
      "source": [
        "pre_ft_vectors.most_similar(\"queen\")"
      ]
    },
    {
      "cell_type": "code",
      "execution_count": null,
      "metadata": {
        "colab": {
          "base_uri": "https://localhost:8080/"
        },
        "id": "xlCqbQYxgU43",
        "outputId": "5e445a1d-f554-47d5-a0ad-752bff56c459"
      },
      "outputs": [
        {
          "output_type": "stream",
          "name": "stderr",
          "text": [
            "2022-07-19 03:26:51,698 : INFO : loading projection weights from drive/MyDrive/dataset/fasttext_model.bin\n",
            "2022-07-19 03:26:55,627 : INFO : loaded (150000, 300) matrix from drive/MyDrive/dataset/fasttext_model.bin\n"
          ]
        },
        {
          "output_type": "stream",
          "name": "stdout",
          "text": [
            "Model fasttext loaded.\n"
          ]
        }
      ],
      "source": [
        "pretrainedpath = 'MyDrive/dataset/fasttext_model.bin'\n",
        "fasttext_model = KeyedVectors.load_word2vec_format('drive/MyDrive/dataset/fasttext_model.bin', binary=True)\n",
        "print('Model fasttext loaded.')\n",
        "\n",
        "#embedding_layer = Embedding(input_dim=150000, output_dim=300, weights=[w2vmodel.vectors], \n",
        "#                            input_length=X.shape[1])\n",
        "#print('Embedding layer defined.')"
      ]
    },
    {
      "cell_type": "code",
      "execution_count": null,
      "metadata": {
        "colab": {
          "base_uri": "https://localhost:8080/"
        },
        "id": "uOxW8FGMglR4",
        "outputId": "0ebcaf1a-9274-4f89-ff00-f9ffe4847609"
      },
      "outputs": [
        {
          "name": "stderr",
          "output_type": "stream",
          "text": [
            "2022-06-09 12:48:31,363 : INFO : precomputing L2-norms of word weight vectors\n"
          ]
        },
        {
          "data": {
            "text/plain": [
              "[('queens', 0.8439834117889404),\n",
              " ('king', 0.770530641078949),\n",
              " ('princess', 0.7364131808280945),\n",
              " ('Queen', 0.7063880562782288),\n",
              " ('monarch', 0.6960830688476562),\n",
              " ('regnant', 0.6684163808822632),\n",
              " ('prince', 0.6631122827529907),\n",
              " ('royal', 0.6427222490310669),\n",
              " ('kings', 0.6354987621307373),\n",
              " ('lady', 0.6342077255249023)]"
            ]
          },
          "execution_count": 16,
          "metadata": {},
          "output_type": "execute_result"
        }
      ],
      "source": [
        "fasttext_model.most_similar(\"queen\")"
      ]
    },
    {
      "cell_type": "code",
      "execution_count": null,
      "metadata": {
        "colab": {
          "base_uri": "https://localhost:8080/"
        },
        "id": "4j2kCVKygoo-",
        "outputId": "01603bfb-ed3c-4d54-de4a-babf910e5638"
      },
      "outputs": [
        {
          "output_type": "stream",
          "name": "stdout",
          "text": [
            "Embedding layer defined.\n"
          ]
        }
      ],
      "source": [
        "embedding_layer = Embedding(input_dim=150000, output_dim=300, weights=[fasttext_model.vectors], \n",
        "                            input_length=X.shape[1])\n",
        "print('Embedding layer defined.')"
      ]
    },
    {
      "cell_type": "code",
      "execution_count": null,
      "metadata": {
        "colab": {
          "base_uri": "https://localhost:8080/"
        },
        "id": "fDEI6JaPgzm-",
        "outputId": "2ed34365-1c6f-4a61-f800-146e3cef6d5b"
      },
      "outputs": [
        {
          "output_type": "stream",
          "name": "stdout",
          "text": [
            "Model: \"sequential_2\"\n",
            "_________________________________________________________________\n",
            " Layer (type)                Output Shape              Param #   \n",
            "=================================================================\n",
            " embedding (Embedding)       (None, 30, 300)           45000000  \n",
            "                                                                 \n",
            " batch_normalization_6 (Batc  (None, 30, 300)          1200      \n",
            " hNormalization)                                                 \n",
            "                                                                 \n",
            " dropout_6 (Dropout)         (None, 30, 300)           0         \n",
            "                                                                 \n",
            " conv1d_2 (Conv1D)           (None, 30, 128)           268928    \n",
            "                                                                 \n",
            " batch_normalization_7 (Batc  (None, 30, 128)          512       \n",
            " hNormalization)                                                 \n",
            "                                                                 \n",
            " dropout_7 (Dropout)         (None, 30, 128)           0         \n",
            "                                                                 \n",
            " conv1d_3 (Conv1D)           (None, 30, 128)           49280     \n",
            "                                                                 \n",
            " max_pooling1d_1 (MaxPooling  (None, 10, 128)          0         \n",
            " 1D)                                                             \n",
            "                                                                 \n",
            " batch_normalization_8 (Batc  (None, 10, 128)          512       \n",
            " hNormalization)                                                 \n",
            "                                                                 \n",
            " dropout_8 (Dropout)         (None, 10, 128)           0         \n",
            "                                                                 \n",
            " flatten_1 (Flatten)         (None, 1280)              0         \n",
            "                                                                 \n",
            " batch_normalization_9 (Batc  (None, 1280)             5120      \n",
            " hNormalization)                                                 \n",
            "                                                                 \n",
            " dropout_9 (Dropout)         (None, 1280)              0         \n",
            "                                                                 \n",
            " dense_3 (Dense)             (None, 64)                81984     \n",
            "                                                                 \n",
            " batch_normalization_10 (Bat  (None, 64)               256       \n",
            " chNormalization)                                                \n",
            "                                                                 \n",
            " dropout_10 (Dropout)        (None, 64)                0         \n",
            "                                                                 \n",
            " dense_4 (Dense)             (None, 32)                2080      \n",
            "                                                                 \n",
            " batch_normalization_11 (Bat  (None, 32)               128       \n",
            " chNormalization)                                                \n",
            "                                                                 \n",
            " dropout_11 (Dropout)        (None, 32)                0         \n",
            "                                                                 \n",
            " dense_5 (Dense)             (None, 1)                 33        \n",
            "                                                                 \n",
            "=================================================================\n",
            "Total params: 45,410,033\n",
            "Trainable params: 45,406,169\n",
            "Non-trainable params: 3,864\n",
            "_________________________________________________________________\n"
          ]
        },
        {
          "output_type": "stream",
          "name": "stderr",
          "text": [
            "/usr/local/lib/python3.7/dist-packages/keras/optimizer_v2/adam.py:105: UserWarning: The `lr` argument is deprecated, use `learning_rate` instead.\n",
            "  super(Adam, self).__init__(name, **kwargs)\n"
          ]
        }
      ],
      "source": [
        "model = Sequential()\n",
        "model.add(embedding_layer)\n",
        "model.add(BatchNormalization())\n",
        "model.add(Dropout(0.4))\n",
        "model.add(Conv1D(filters=128, kernel_size=7, padding='same', activation='relu', kernel_regularizer=regularizers.l2(l=0.01),\n",
        "                 kernel_initializer='he_normal'))\n",
        "model.add(BatchNormalization())\n",
        "model.add(Dropout(0.4))\n",
        "model.add(Conv1D(filters=128, kernel_size=3, padding='same', activation='relu', kernel_regularizer=regularizers.l2(l=0.01),\n",
        "                 kernel_initializer='he_normal'))\n",
        "model.add(MaxPooling1D(pool_size=3))\n",
        "model.add(BatchNormalization())\n",
        "model.add(Dropout(0.4))\n",
        "model.add(Flatten())\n",
        "model.add(BatchNormalization())\n",
        "model.add(Dropout(0.4))\n",
        "model.add(Dense(64, activation='relu'))\n",
        "model.add(BatchNormalization())\n",
        "model.add(Dropout(0.4))\n",
        "model.add(Dense(32, activation = 'relu'))\n",
        "model.add(BatchNormalization())\n",
        "model.add(Dropout(0.5))\n",
        "model.add(Dense(1, activation='sigmoid'))\n",
        "\n",
        "adam = Adam(lr=0.0001, beta_1=0.9, beta_2=0.999, epsilon=1e-08, decay=0.0)\n",
        "model.compile(loss='binary_crossentropy', optimizer='adam', metrics=['accuracy'])\n",
        "model.summary()"
      ]
    },
    {
      "cell_type": "code",
      "execution_count": null,
      "metadata": {
        "colab": {
          "base_uri": "https://localhost:8080/"
        },
        "id": "Go_Qx7Eug658",
        "outputId": "d206b967-4106-4227-e1bc-af1eafc9db22"
      },
      "outputs": [
        {
          "name": "stdout",
          "output_type": "stream",
          "text": [
            "Epoch 1/5\n",
            "175/175 [==============================] - 90s 499ms/step - loss: 0.6616 - accuracy: 0.6148 - val_loss: 0.6091 - val_accuracy: 0.8139\n",
            "Epoch 2/5\n",
            "175/175 [==============================] - 86s 490ms/step - loss: 0.5231 - accuracy: 0.8209 - val_loss: 0.4117 - val_accuracy: 0.8843\n",
            "Epoch 3/5\n",
            "175/175 [==============================] - 85s 485ms/step - loss: 0.3261 - accuracy: 0.8985 - val_loss: 0.2612 - val_accuracy: 0.9139\n",
            "Epoch 4/5\n",
            "175/175 [==============================] - 84s 480ms/step - loss: 0.2197 - accuracy: 0.9275 - val_loss: 0.2057 - val_accuracy: 0.9307\n",
            "Epoch 5/5\n",
            "175/175 [==============================] - 84s 480ms/step - loss: 0.1663 - accuracy: 0.9463 - val_loss: 0.1822 - val_accuracy: 0.9400\n"
          ]
        },
        {
          "data": {
            "text/plain": [
              "<keras.callbacks.History at 0x7fe5a19b0dd0>"
            ]
          },
          "execution_count": 21,
          "metadata": {},
          "output_type": "execute_result"
        }
      ],
      "source": [
        "batch_size = 64\n",
        "model.fit(X_train, y_train, epochs=5, validation_split=0.2, batch_size=batch_size)"
      ]
    },
    {
      "cell_type": "code",
      "execution_count": null,
      "metadata": {
        "colab": {
          "base_uri": "https://localhost:8080/",
          "height": 436
        },
        "id": "azQAYK-4hOxC",
        "outputId": "61a84bf5-4e92-4bb3-9065-6b9da6f4ec27"
      },
      "outputs": [
        {
          "output_type": "stream",
          "name": "stdout",
          "text": [
            "Epoch 1/30\n",
            "175/175 [==============================] - 124s 696ms/step - loss: 3.8340 - accuracy: 0.9001 - val_loss: 3.9648 - val_accuracy: 0.5061\n",
            "Epoch 2/30\n",
            "106/175 [=================>............] - ETA: 46s - loss: 1.3534 - accuracy: 0.9895"
          ]
        },
        {
          "output_type": "error",
          "ename": "KeyboardInterrupt",
          "evalue": "ignored",
          "traceback": [
            "\u001b[0;31m---------------------------------------------------------------------------\u001b[0m",
            "\u001b[0;31mKeyboardInterrupt\u001b[0m                         Traceback (most recent call last)",
            "\u001b[0;32m<ipython-input-29-6eedfb710695>\u001b[0m in \u001b[0;36m<module>\u001b[0;34m()\u001b[0m\n\u001b[1;32m     12\u001b[0m                            \u001b[0mbatch_size\u001b[0m\u001b[0;34m=\u001b[0m\u001b[0;36m64\u001b[0m\u001b[0;34m,\u001b[0m\u001b[0;34m\u001b[0m\u001b[0;34m\u001b[0m\u001b[0m\n\u001b[1;32m     13\u001b[0m \u001b[0;31m#                           callbacks=[callback, checkpoint],\u001b[0m\u001b[0;34m\u001b[0m\u001b[0;34m\u001b[0m\u001b[0;34m\u001b[0m\u001b[0m\n\u001b[0;32m---> 14\u001b[0;31m                            validation_data=(X_test, y_test))\n\u001b[0m",
            "\u001b[0;32m/usr/local/lib/python3.7/dist-packages/keras/utils/traceback_utils.py\u001b[0m in \u001b[0;36merror_handler\u001b[0;34m(*args, **kwargs)\u001b[0m\n\u001b[1;32m     62\u001b[0m     \u001b[0mfiltered_tb\u001b[0m \u001b[0;34m=\u001b[0m \u001b[0;32mNone\u001b[0m\u001b[0;34m\u001b[0m\u001b[0;34m\u001b[0m\u001b[0m\n\u001b[1;32m     63\u001b[0m     \u001b[0;32mtry\u001b[0m\u001b[0;34m:\u001b[0m\u001b[0;34m\u001b[0m\u001b[0;34m\u001b[0m\u001b[0m\n\u001b[0;32m---> 64\u001b[0;31m       \u001b[0;32mreturn\u001b[0m \u001b[0mfn\u001b[0m\u001b[0;34m(\u001b[0m\u001b[0;34m*\u001b[0m\u001b[0margs\u001b[0m\u001b[0;34m,\u001b[0m \u001b[0;34m**\u001b[0m\u001b[0mkwargs\u001b[0m\u001b[0;34m)\u001b[0m\u001b[0;34m\u001b[0m\u001b[0;34m\u001b[0m\u001b[0m\n\u001b[0m\u001b[1;32m     65\u001b[0m     \u001b[0;32mexcept\u001b[0m \u001b[0mException\u001b[0m \u001b[0;32mas\u001b[0m \u001b[0me\u001b[0m\u001b[0;34m:\u001b[0m  \u001b[0;31m# pylint: disable=broad-except\u001b[0m\u001b[0;34m\u001b[0m\u001b[0;34m\u001b[0m\u001b[0m\n\u001b[1;32m     66\u001b[0m       \u001b[0mfiltered_tb\u001b[0m \u001b[0;34m=\u001b[0m \u001b[0m_process_traceback_frames\u001b[0m\u001b[0;34m(\u001b[0m\u001b[0me\u001b[0m\u001b[0;34m.\u001b[0m\u001b[0m__traceback__\u001b[0m\u001b[0;34m)\u001b[0m\u001b[0;34m\u001b[0m\u001b[0;34m\u001b[0m\u001b[0m\n",
            "\u001b[0;32m/usr/local/lib/python3.7/dist-packages/keras/engine/training.py\u001b[0m in \u001b[0;36mfit\u001b[0;34m(self, x, y, batch_size, epochs, verbose, callbacks, validation_split, validation_data, shuffle, class_weight, sample_weight, initial_epoch, steps_per_epoch, validation_steps, validation_batch_size, validation_freq, max_queue_size, workers, use_multiprocessing)\u001b[0m\n\u001b[1;32m   1382\u001b[0m                 _r=1):\n\u001b[1;32m   1383\u001b[0m               \u001b[0mcallbacks\u001b[0m\u001b[0;34m.\u001b[0m\u001b[0mon_train_batch_begin\u001b[0m\u001b[0;34m(\u001b[0m\u001b[0mstep\u001b[0m\u001b[0;34m)\u001b[0m\u001b[0;34m\u001b[0m\u001b[0;34m\u001b[0m\u001b[0m\n\u001b[0;32m-> 1384\u001b[0;31m               \u001b[0mtmp_logs\u001b[0m \u001b[0;34m=\u001b[0m \u001b[0mself\u001b[0m\u001b[0;34m.\u001b[0m\u001b[0mtrain_function\u001b[0m\u001b[0;34m(\u001b[0m\u001b[0miterator\u001b[0m\u001b[0;34m)\u001b[0m\u001b[0;34m\u001b[0m\u001b[0;34m\u001b[0m\u001b[0m\n\u001b[0m\u001b[1;32m   1385\u001b[0m               \u001b[0;32mif\u001b[0m \u001b[0mdata_handler\u001b[0m\u001b[0;34m.\u001b[0m\u001b[0mshould_sync\u001b[0m\u001b[0;34m:\u001b[0m\u001b[0;34m\u001b[0m\u001b[0;34m\u001b[0m\u001b[0m\n\u001b[1;32m   1386\u001b[0m                 \u001b[0mcontext\u001b[0m\u001b[0;34m.\u001b[0m\u001b[0masync_wait\u001b[0m\u001b[0;34m(\u001b[0m\u001b[0;34m)\u001b[0m\u001b[0;34m\u001b[0m\u001b[0;34m\u001b[0m\u001b[0m\n",
            "\u001b[0;32m/usr/local/lib/python3.7/dist-packages/tensorflow/python/util/traceback_utils.py\u001b[0m in \u001b[0;36merror_handler\u001b[0;34m(*args, **kwargs)\u001b[0m\n\u001b[1;32m    148\u001b[0m     \u001b[0mfiltered_tb\u001b[0m \u001b[0;34m=\u001b[0m \u001b[0;32mNone\u001b[0m\u001b[0;34m\u001b[0m\u001b[0;34m\u001b[0m\u001b[0m\n\u001b[1;32m    149\u001b[0m     \u001b[0;32mtry\u001b[0m\u001b[0;34m:\u001b[0m\u001b[0;34m\u001b[0m\u001b[0;34m\u001b[0m\u001b[0m\n\u001b[0;32m--> 150\u001b[0;31m       \u001b[0;32mreturn\u001b[0m \u001b[0mfn\u001b[0m\u001b[0;34m(\u001b[0m\u001b[0;34m*\u001b[0m\u001b[0margs\u001b[0m\u001b[0;34m,\u001b[0m \u001b[0;34m**\u001b[0m\u001b[0mkwargs\u001b[0m\u001b[0;34m)\u001b[0m\u001b[0;34m\u001b[0m\u001b[0;34m\u001b[0m\u001b[0m\n\u001b[0m\u001b[1;32m    151\u001b[0m     \u001b[0;32mexcept\u001b[0m \u001b[0mException\u001b[0m \u001b[0;32mas\u001b[0m \u001b[0me\u001b[0m\u001b[0;34m:\u001b[0m\u001b[0;34m\u001b[0m\u001b[0;34m\u001b[0m\u001b[0m\n\u001b[1;32m    152\u001b[0m       \u001b[0mfiltered_tb\u001b[0m \u001b[0;34m=\u001b[0m \u001b[0m_process_traceback_frames\u001b[0m\u001b[0;34m(\u001b[0m\u001b[0me\u001b[0m\u001b[0;34m.\u001b[0m\u001b[0m__traceback__\u001b[0m\u001b[0;34m)\u001b[0m\u001b[0;34m\u001b[0m\u001b[0;34m\u001b[0m\u001b[0m\n",
            "\u001b[0;32m/usr/local/lib/python3.7/dist-packages/tensorflow/python/eager/def_function.py\u001b[0m in \u001b[0;36m__call__\u001b[0;34m(self, *args, **kwds)\u001b[0m\n\u001b[1;32m    913\u001b[0m \u001b[0;34m\u001b[0m\u001b[0m\n\u001b[1;32m    914\u001b[0m       \u001b[0;32mwith\u001b[0m \u001b[0mOptionalXlaContext\u001b[0m\u001b[0;34m(\u001b[0m\u001b[0mself\u001b[0m\u001b[0;34m.\u001b[0m\u001b[0m_jit_compile\u001b[0m\u001b[0;34m)\u001b[0m\u001b[0;34m:\u001b[0m\u001b[0;34m\u001b[0m\u001b[0;34m\u001b[0m\u001b[0m\n\u001b[0;32m--> 915\u001b[0;31m         \u001b[0mresult\u001b[0m \u001b[0;34m=\u001b[0m \u001b[0mself\u001b[0m\u001b[0;34m.\u001b[0m\u001b[0m_call\u001b[0m\u001b[0;34m(\u001b[0m\u001b[0;34m*\u001b[0m\u001b[0margs\u001b[0m\u001b[0;34m,\u001b[0m \u001b[0;34m**\u001b[0m\u001b[0mkwds\u001b[0m\u001b[0;34m)\u001b[0m\u001b[0;34m\u001b[0m\u001b[0;34m\u001b[0m\u001b[0m\n\u001b[0m\u001b[1;32m    916\u001b[0m \u001b[0;34m\u001b[0m\u001b[0m\n\u001b[1;32m    917\u001b[0m       \u001b[0mnew_tracing_count\u001b[0m \u001b[0;34m=\u001b[0m \u001b[0mself\u001b[0m\u001b[0;34m.\u001b[0m\u001b[0mexperimental_get_tracing_count\u001b[0m\u001b[0;34m(\u001b[0m\u001b[0;34m)\u001b[0m\u001b[0;34m\u001b[0m\u001b[0;34m\u001b[0m\u001b[0m\n",
            "\u001b[0;32m/usr/local/lib/python3.7/dist-packages/tensorflow/python/eager/def_function.py\u001b[0m in \u001b[0;36m_call\u001b[0;34m(self, *args, **kwds)\u001b[0m\n\u001b[1;32m    945\u001b[0m       \u001b[0;31m# In this case we have created variables on the first call, so we run the\u001b[0m\u001b[0;34m\u001b[0m\u001b[0;34m\u001b[0m\u001b[0;34m\u001b[0m\u001b[0m\n\u001b[1;32m    946\u001b[0m       \u001b[0;31m# defunned version which is guaranteed to never create variables.\u001b[0m\u001b[0;34m\u001b[0m\u001b[0;34m\u001b[0m\u001b[0;34m\u001b[0m\u001b[0m\n\u001b[0;32m--> 947\u001b[0;31m       \u001b[0;32mreturn\u001b[0m \u001b[0mself\u001b[0m\u001b[0;34m.\u001b[0m\u001b[0m_stateless_fn\u001b[0m\u001b[0;34m(\u001b[0m\u001b[0;34m*\u001b[0m\u001b[0margs\u001b[0m\u001b[0;34m,\u001b[0m \u001b[0;34m**\u001b[0m\u001b[0mkwds\u001b[0m\u001b[0;34m)\u001b[0m  \u001b[0;31m# pylint: disable=not-callable\u001b[0m\u001b[0;34m\u001b[0m\u001b[0;34m\u001b[0m\u001b[0m\n\u001b[0m\u001b[1;32m    948\u001b[0m     \u001b[0;32melif\u001b[0m \u001b[0mself\u001b[0m\u001b[0;34m.\u001b[0m\u001b[0m_stateful_fn\u001b[0m \u001b[0;32mis\u001b[0m \u001b[0;32mnot\u001b[0m \u001b[0;32mNone\u001b[0m\u001b[0;34m:\u001b[0m\u001b[0;34m\u001b[0m\u001b[0;34m\u001b[0m\u001b[0m\n\u001b[1;32m    949\u001b[0m       \u001b[0;31m# Release the lock early so that multiple threads can perform the call\u001b[0m\u001b[0;34m\u001b[0m\u001b[0;34m\u001b[0m\u001b[0;34m\u001b[0m\u001b[0m\n",
            "\u001b[0;32m/usr/local/lib/python3.7/dist-packages/tensorflow/python/eager/function.py\u001b[0m in \u001b[0;36m__call__\u001b[0;34m(self, *args, **kwargs)\u001b[0m\n\u001b[1;32m   2955\u001b[0m        filtered_flat_args) = self._maybe_define_function(args, kwargs)\n\u001b[1;32m   2956\u001b[0m     return graph_function._call_flat(\n\u001b[0;32m-> 2957\u001b[0;31m         filtered_flat_args, captured_inputs=graph_function.captured_inputs)  # pylint: disable=protected-access\n\u001b[0m\u001b[1;32m   2958\u001b[0m \u001b[0;34m\u001b[0m\u001b[0m\n\u001b[1;32m   2959\u001b[0m   \u001b[0;34m@\u001b[0m\u001b[0mproperty\u001b[0m\u001b[0;34m\u001b[0m\u001b[0;34m\u001b[0m\u001b[0m\n",
            "\u001b[0;32m/usr/local/lib/python3.7/dist-packages/tensorflow/python/eager/function.py\u001b[0m in \u001b[0;36m_call_flat\u001b[0;34m(self, args, captured_inputs, cancellation_manager)\u001b[0m\n\u001b[1;32m   1852\u001b[0m       \u001b[0;31m# No tape is watching; skip to running the function.\u001b[0m\u001b[0;34m\u001b[0m\u001b[0;34m\u001b[0m\u001b[0;34m\u001b[0m\u001b[0m\n\u001b[1;32m   1853\u001b[0m       return self._build_call_outputs(self._inference_function.call(\n\u001b[0;32m-> 1854\u001b[0;31m           ctx, args, cancellation_manager=cancellation_manager))\n\u001b[0m\u001b[1;32m   1855\u001b[0m     forward_backward = self._select_forward_and_backward_functions(\n\u001b[1;32m   1856\u001b[0m         \u001b[0margs\u001b[0m\u001b[0;34m,\u001b[0m\u001b[0;34m\u001b[0m\u001b[0;34m\u001b[0m\u001b[0m\n",
            "\u001b[0;32m/usr/local/lib/python3.7/dist-packages/tensorflow/python/eager/function.py\u001b[0m in \u001b[0;36mcall\u001b[0;34m(self, ctx, args, cancellation_manager)\u001b[0m\n\u001b[1;32m    502\u001b[0m               \u001b[0minputs\u001b[0m\u001b[0;34m=\u001b[0m\u001b[0margs\u001b[0m\u001b[0;34m,\u001b[0m\u001b[0;34m\u001b[0m\u001b[0;34m\u001b[0m\u001b[0m\n\u001b[1;32m    503\u001b[0m               \u001b[0mattrs\u001b[0m\u001b[0;34m=\u001b[0m\u001b[0mattrs\u001b[0m\u001b[0;34m,\u001b[0m\u001b[0;34m\u001b[0m\u001b[0;34m\u001b[0m\u001b[0m\n\u001b[0;32m--> 504\u001b[0;31m               ctx=ctx)\n\u001b[0m\u001b[1;32m    505\u001b[0m         \u001b[0;32melse\u001b[0m\u001b[0;34m:\u001b[0m\u001b[0;34m\u001b[0m\u001b[0;34m\u001b[0m\u001b[0m\n\u001b[1;32m    506\u001b[0m           outputs = execute.execute_with_cancellation(\n",
            "\u001b[0;32m/usr/local/lib/python3.7/dist-packages/tensorflow/python/eager/execute.py\u001b[0m in \u001b[0;36mquick_execute\u001b[0;34m(op_name, num_outputs, inputs, attrs, ctx, name)\u001b[0m\n\u001b[1;32m     53\u001b[0m     \u001b[0mctx\u001b[0m\u001b[0;34m.\u001b[0m\u001b[0mensure_initialized\u001b[0m\u001b[0;34m(\u001b[0m\u001b[0;34m)\u001b[0m\u001b[0;34m\u001b[0m\u001b[0;34m\u001b[0m\u001b[0m\n\u001b[1;32m     54\u001b[0m     tensors = pywrap_tfe.TFE_Py_Execute(ctx._handle, device_name, op_name,\n\u001b[0;32m---> 55\u001b[0;31m                                         inputs, attrs, num_outputs)\n\u001b[0m\u001b[1;32m     56\u001b[0m   \u001b[0;32mexcept\u001b[0m \u001b[0mcore\u001b[0m\u001b[0;34m.\u001b[0m\u001b[0m_NotOkStatusException\u001b[0m \u001b[0;32mas\u001b[0m \u001b[0me\u001b[0m\u001b[0;34m:\u001b[0m\u001b[0;34m\u001b[0m\u001b[0;34m\u001b[0m\u001b[0m\n\u001b[1;32m     57\u001b[0m     \u001b[0;32mif\u001b[0m \u001b[0mname\u001b[0m \u001b[0;32mis\u001b[0m \u001b[0;32mnot\u001b[0m \u001b[0;32mNone\u001b[0m\u001b[0;34m:\u001b[0m\u001b[0;34m\u001b[0m\u001b[0;34m\u001b[0m\u001b[0m\n",
            "\u001b[0;31mKeyboardInterrupt\u001b[0m: "
          ]
        }
      ],
      "source": [
        "# Using EarlyStopping\n",
        "#callback =  EarlyStopping(monitor='val_loss',  mode='min', patience=8),\n",
        "#checkpoint = ModelCheckpoint(filepath='./',\n",
        "#                                        save_weights_only=True,\n",
        "#                                        monitor='val_loss',\n",
        "#                                        mode='min',\n",
        "#                                        save_best_only=True)\n",
        "\n",
        "history_epochs = model.fit(X_train, y_train, \n",
        "                           epochs=30, \n",
        "                           validation_split=0.2, \n",
        "                           batch_size=64,\n",
        "#                           callbacks=[callback, checkpoint],\n",
        "                           validation_data=(X_test, y_test))"
      ]
    },
    {
      "cell_type": "markdown",
      "source": [
        "Hypertuning:\n",
        "\n",
        "Epochs 20, Batch size 32\n",
        "\n",
        "Epochs 20, Batch size 64\n",
        "\n",
        "Epochs 20, Batch size 128\n",
        "\n",
        "Epochs 30, Batch size 32\n",
        "\n",
        "Epochs 30, Batch size 64\n",
        "\n",
        "Epochs 30, Batch size 128\n",
        "\n",
        "Epochs 50, Batch size 32\n",
        "\n",
        "Epochs 50, Batch size 64\n",
        "\n",
        "Epochs 50, Batch size 128"
      ],
      "metadata": {
        "id": "yCPUzlHOm_Wp"
      }
    },
    {
      "cell_type": "code",
      "execution_count": null,
      "metadata": {
        "colab": {
          "base_uri": "https://localhost:8080/",
          "height": 295
        },
        "id": "IgqV4YixuUbU",
        "outputId": "bebb6629-a4df-4537-e55d-6ea0dd6756ea"
      },
      "outputs": [
        {
          "output_type": "display_data",
          "data": {
            "text/plain": [
              "<Figure size 432x288 with 1 Axes>"
            ],
            "image/png": "[encoded data removed]"
          },
          "metadata": {
            "needs_background": "light"
          }
        }
      ],
      "source": [
        "plt.plot(history_epochs.history['accuracy'])\n",
        "plt.plot(history_epochs.history['val_accuracy'])\n",
        "plt.title('model accuracy')\n",
        "plt.ylabel('accuracy')\n",
        "plt.xlabel('epoch')\n",
        "plt.legend(['train', 'val'], loc='upper left')\n",
        "plt.show()"
      ]
    },
    {
      "cell_type": "code",
      "execution_count": null,
      "metadata": {
        "colab": {
          "base_uri": "https://localhost:8080/",
          "height": 295
        },
        "id": "4C3kcW8EuU3Q",
        "outputId": "09b37427-b8b0-4da8-96a3-2158c4ef7927"
      },
      "outputs": [
        {
          "output_type": "display_data",
          "data": {
            "text/plain": [
              "<Figure size 432x288 with 1 Axes>"
            ],
            "image/png": "[encoded data removed]"
          },
          "metadata": {
            "needs_background": "light"
          }
        }
      ],
      "source": [
        "plt.plot(history_epochs.history['loss'])\n",
        "plt.plot(history_epochs.history['val_loss'])\n",
        "plt.title('model accuracy')\n",
        "plt.ylabel('accuracy')\n",
        "plt.xlabel('epoch')\n",
        "plt.legend(['train', 'val'], loc='upper left')\n",
        "plt.show()"
      ]
    }
  ],
  "metadata": {
    "colab": {
      "collapsed_sections": [],
      "name": "journal.ipynb",
      "toc_visible": true,
      "provenance": [],
      "authorship_tag": "ABX9TyNYizMwofKjNlPTzkev7aVd",
      "include_colab_link": true
    },
    "kernelspec": {
      "display_name": "Python 3",
      "name": "python3"
    },
    "language_info": {
      "name": "python"
    }
  },
  "nbformat": 4,
  "nbformat_minor": 0
}